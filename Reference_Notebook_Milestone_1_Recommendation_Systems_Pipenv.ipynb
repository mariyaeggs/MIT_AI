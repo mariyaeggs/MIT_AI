{
 "cells": [
  {
   "cell_type": "markdown",
   "metadata": {
    "id": "DyAjEw4OHmDb"
   },
   "source": [
    "# **Music Recommendation System**\n",
    "**REPO VERSION**"
   ]
  },
  {
   "cell_type": "markdown",
   "metadata": {
    "id": "Km5ozaHFh_cU"
   },
   "source": [
    "# **Milestone 1**"
   ]
  },
  {
   "cell_type": "code",
   "execution_count": null,
   "metadata": {},
   "outputs": [],
   "source": []
  },
  {
   "cell_type": "markdown",
   "metadata": {
    "id": "BVUiyhYTHS1t"
   },
   "source": [
    "## **Problem Definition**\n",
    "\n",
    "**The context** - Why is this problem important to solve?<br>\n",
    "**The objectives** - What is the intended goal?<br>\n",
    "**The key questions** - What are the key questions that need to be answered?<br>\n",
    "**The problem formulation** - What is it that we are trying to solve using data science?\n",
    "\n",
    "\n",
    "## **Data Dictionary**\n",
    "\n",
    "The core data is the Taste Profile Subset released by The Echo Nest as part of the Million Song Dataset. There are two files in this dataset. One contains the details about the song id, titles, release, artist name and the year of release. Second file contains the user id, song id and the play count of users.\n",
    "\n",
    "song_data\n",
    "\n",
    "song_id - A unique id given to every song\n",
    "\n",
    "title - Title of the song\n",
    "\n",
    "Release - Name of the released album\n",
    "\n",
    "Artist_name - Name of the artist \n",
    "\n",
    "year - Year of release\n",
    "\n",
    "count_data\n",
    "\n",
    "user _id - A unique id given to the user\n",
    "\n",
    "song_id - A unique id given to the song\n",
    "\n",
    "play_count - Number of times the song was played\n",
    "\n",
    "## **Data Source**\n",
    "http://millionsongdataset.com/"
   ]
  },
  {
   "cell_type": "markdown",
   "metadata": {
    "id": "entENKtxK-g-"
   },
   "source": [
    "## **Important Notes**\n",
    "\n",
    "- This notebook can be considered a guide to refer to while solving the problem. The evaluation will be as per the Rubric shared for each Milestone. Unlike previous courses, it does not follow the pattern of the graded questions in different sections. This notebook would give you a direction on what steps need to be taken in order to get a viable solution to the problem. Please note that this is just one way of doing this. There can be other 'creative' ways to solve the problem and we urge you to feel free and explore them as an 'optional' exercise. \n",
    "\n",
    "- In the notebook, there are markdown cells called - Observations and Insights. It is a good practice to provide observations and extract insights from the outputs.\n",
    "\n",
    "- The naming convention for different variables can vary. Please consider the code provided in this notebook as a sample code.\n",
    "\n",
    "- All the outputs in the notebook are just for reference and can be different if you follow a different approach.\n",
    "\n",
    "- There are sections called **Think About It** in the notebook that will help you get a better understanding of the reasoning behind a particular technique/step. Interested learners can take alternative approaches if they want to explore different techniques. "
   ]
  },
  {
   "cell_type": "markdown",
   "metadata": {
    "id": "NRJtXkTrHxMQ"
   },
   "source": [
    "### **Importing Libraries and the Dataset**"
   ]
  },
  {
   "cell_type": "code",
   "execution_count": 184,
   "metadata": {
    "id": "6SRzOPXI2Efn"
   },
   "outputs": [],
   "source": [
    "# mount the drive\n",
    "#from google.colab import drive\n",
    "#drive.mount('/content/drive')"
   ]
  },
  {
   "cell_type": "code",
   "execution_count": 185,
   "metadata": {
    "id": "R4YvKrpzId3K"
   },
   "outputs": [],
   "source": [
    "import warnings # ignore the warning given as output of the code\n",
    "warnings.filterwarnings('ignore')\n",
    "\n",
    "import numpy as np # libraries of python for numeric and dataframe computations\n",
    "import pandas as pd\n",
    "\n",
    "import matplotlib.pyplot as plt # library for data visualization\n",
    "\n",
    "import seaborn as sns # advanced library for data visualization\n",
    "\n",
    "from sklearn.metrics.pairwise import cosine_similarity # compute the cosine similarity between two vectors\n",
    "from collections import defaultdict # dictionary output that does not raise a key error\n",
    "\n",
    "from sklearn.metrics import mean_squared_error # performance metrics in sklearn\n",
    "\n",
    "from sklearn import preprocessing # for embedding encrypted data"
   ]
  },
  {
   "cell_type": "code",
   "execution_count": 186,
   "metadata": {
    "id": "si6ulhIYImck"
   },
   "outputs": [],
   "source": [
    "# import the datasets\n",
    "count_df = pd.read_csv('/Users/student/Downloads/count_data.csv')\n",
    "song_df = pd.read_csv('/Users/student/Downloads/song_data.csv')"
   ]
  },
  {
   "cell_type": "markdown",
   "metadata": {
    "id": "12TKB2M7XyC6"
   },
   "source": [
    "### **Understanding the data by viewing a few observations**"
   ]
  },
  {
   "cell_type": "code",
   "execution_count": 187,
   "metadata": {
    "id": "GCLzBuYiXlPM"
   },
   "outputs": [
    {
     "data": {
      "text/html": [
       "<div>\n",
       "<style scoped>\n",
       "    .dataframe tbody tr th:only-of-type {\n",
       "        vertical-align: middle;\n",
       "    }\n",
       "\n",
       "    .dataframe tbody tr th {\n",
       "        vertical-align: top;\n",
       "    }\n",
       "\n",
       "    .dataframe thead th {\n",
       "        text-align: right;\n",
       "    }\n",
       "</style>\n",
       "<table border=\"1\" class=\"dataframe\">\n",
       "  <thead>\n",
       "    <tr style=\"text-align: right;\">\n",
       "      <th></th>\n",
       "      <th>Unnamed: 0</th>\n",
       "      <th>user_id</th>\n",
       "      <th>song_id</th>\n",
       "      <th>play_count</th>\n",
       "    </tr>\n",
       "  </thead>\n",
       "  <tbody>\n",
       "    <tr>\n",
       "      <th>0</th>\n",
       "      <td>0</td>\n",
       "      <td>b80344d063b5ccb3212f76538f3d9e43d87dca9e</td>\n",
       "      <td>SOAKIMP12A8C130995</td>\n",
       "      <td>1</td>\n",
       "    </tr>\n",
       "    <tr>\n",
       "      <th>1</th>\n",
       "      <td>1</td>\n",
       "      <td>b80344d063b5ccb3212f76538f3d9e43d87dca9e</td>\n",
       "      <td>SOBBMDR12A8C13253B</td>\n",
       "      <td>2</td>\n",
       "    </tr>\n",
       "    <tr>\n",
       "      <th>2</th>\n",
       "      <td>2</td>\n",
       "      <td>b80344d063b5ccb3212f76538f3d9e43d87dca9e</td>\n",
       "      <td>SOBXHDL12A81C204C0</td>\n",
       "      <td>1</td>\n",
       "    </tr>\n",
       "    <tr>\n",
       "      <th>3</th>\n",
       "      <td>3</td>\n",
       "      <td>b80344d063b5ccb3212f76538f3d9e43d87dca9e</td>\n",
       "      <td>SOBYHAJ12A6701BF1D</td>\n",
       "      <td>1</td>\n",
       "    </tr>\n",
       "    <tr>\n",
       "      <th>4</th>\n",
       "      <td>4</td>\n",
       "      <td>b80344d063b5ccb3212f76538f3d9e43d87dca9e</td>\n",
       "      <td>SODACBL12A8C13C273</td>\n",
       "      <td>1</td>\n",
       "    </tr>\n",
       "    <tr>\n",
       "      <th>5</th>\n",
       "      <td>5</td>\n",
       "      <td>b80344d063b5ccb3212f76538f3d9e43d87dca9e</td>\n",
       "      <td>SODDNQT12A6D4F5F7E</td>\n",
       "      <td>5</td>\n",
       "    </tr>\n",
       "    <tr>\n",
       "      <th>6</th>\n",
       "      <td>6</td>\n",
       "      <td>b80344d063b5ccb3212f76538f3d9e43d87dca9e</td>\n",
       "      <td>SODXRTY12AB0180F3B</td>\n",
       "      <td>1</td>\n",
       "    </tr>\n",
       "    <tr>\n",
       "      <th>7</th>\n",
       "      <td>7</td>\n",
       "      <td>b80344d063b5ccb3212f76538f3d9e43d87dca9e</td>\n",
       "      <td>SOFGUAY12AB017B0A8</td>\n",
       "      <td>1</td>\n",
       "    </tr>\n",
       "    <tr>\n",
       "      <th>8</th>\n",
       "      <td>8</td>\n",
       "      <td>b80344d063b5ccb3212f76538f3d9e43d87dca9e</td>\n",
       "      <td>SOFRQTD12A81C233C0</td>\n",
       "      <td>1</td>\n",
       "    </tr>\n",
       "    <tr>\n",
       "      <th>9</th>\n",
       "      <td>9</td>\n",
       "      <td>b80344d063b5ccb3212f76538f3d9e43d87dca9e</td>\n",
       "      <td>SOHQWYZ12A6D4FA701</td>\n",
       "      <td>1</td>\n",
       "    </tr>\n",
       "  </tbody>\n",
       "</table>\n",
       "</div>"
      ],
      "text/plain": [
       "   Unnamed: 0                                   user_id             song_id  \\\n",
       "0           0  b80344d063b5ccb3212f76538f3d9e43d87dca9e  SOAKIMP12A8C130995   \n",
       "1           1  b80344d063b5ccb3212f76538f3d9e43d87dca9e  SOBBMDR12A8C13253B   \n",
       "2           2  b80344d063b5ccb3212f76538f3d9e43d87dca9e  SOBXHDL12A81C204C0   \n",
       "3           3  b80344d063b5ccb3212f76538f3d9e43d87dca9e  SOBYHAJ12A6701BF1D   \n",
       "4           4  b80344d063b5ccb3212f76538f3d9e43d87dca9e  SODACBL12A8C13C273   \n",
       "5           5  b80344d063b5ccb3212f76538f3d9e43d87dca9e  SODDNQT12A6D4F5F7E   \n",
       "6           6  b80344d063b5ccb3212f76538f3d9e43d87dca9e  SODXRTY12AB0180F3B   \n",
       "7           7  b80344d063b5ccb3212f76538f3d9e43d87dca9e  SOFGUAY12AB017B0A8   \n",
       "8           8  b80344d063b5ccb3212f76538f3d9e43d87dca9e  SOFRQTD12A81C233C0   \n",
       "9           9  b80344d063b5ccb3212f76538f3d9e43d87dca9e  SOHQWYZ12A6D4FA701   \n",
       "\n",
       "   play_count  \n",
       "0           1  \n",
       "1           2  \n",
       "2           1  \n",
       "3           1  \n",
       "4           1  \n",
       "5           5  \n",
       "6           1  \n",
       "7           1  \n",
       "8           1  \n",
       "9           1  "
      ]
     },
     "execution_count": 187,
     "metadata": {},
     "output_type": "execute_result"
    }
   ],
   "source": [
    "# top 10 records of count_df data\n",
    "count_df.head(10)"
   ]
  },
  {
   "cell_type": "markdown",
   "metadata": {},
   "source": [
    "**Observations**\n",
    "- The user_id and song_id are unique values. \n",
    "- Some users played a song more than once (i.e. 2x, 5x)."
   ]
  },
  {
   "cell_type": "code",
   "execution_count": 188,
   "metadata": {},
   "outputs": [
    {
     "data": {
      "text/plain": [
       "Unnamed: 0    2000000\n",
       "user_id         76353\n",
       "song_id         10000\n",
       "play_count        295\n",
       "dtype: int64"
      ]
     },
     "execution_count": 188,
     "metadata": {},
     "output_type": "execute_result"
    }
   ],
   "source": [
    "# check for unique values in count_df\n",
    "count_df.nunique()"
   ]
  },
  {
   "cell_type": "markdown",
   "metadata": {},
   "source": [
    "**Observations**\n",
    "- There are a lot of unique values in the cound_df dataset. \n",
    "- Look into the specifics of the values that are unique. "
   ]
  },
  {
   "cell_type": "code",
   "execution_count": 189,
   "metadata": {},
   "outputs": [
    {
     "data": {
      "text/plain": [
       "Unnamed: 0  user_id                                   song_id             play_count\n",
       "0           b80344d063b5ccb3212f76538f3d9e43d87dca9e  SOAKIMP12A8C130995  1             1\n",
       "1333343     e53b230b0c4e035fec86a2a47442fc3db4a98ca5  SOUOSVR12A8C137061  2             1\n",
       "1333341     e53b230b0c4e035fec86a2a47442fc3db4a98ca5  SOUFPNI12A8C142D19  5             1\n",
       "1333340     e53b230b0c4e035fec86a2a47442fc3db4a98ca5  SOUAWVS12A6D4F606C  14            1\n",
       "1333339     e53b230b0c4e035fec86a2a47442fc3db4a98ca5  SOTCLIO12AB0180F26  2             1\n",
       "                                                                                       ..\n",
       "666662      810bfc92d58786310e798c1229c701ecae84716e  SORJICW12A8C13640D  3             1\n",
       "666661      810bfc92d58786310e798c1229c701ecae84716e  SOQJHUW12AB0188A24  6             1\n",
       "666660      810bfc92d58786310e798c1229c701ecae84716e  SOQGVCS12AF72A078D  9             1\n",
       "666659      810bfc92d58786310e798c1229c701ecae84716e  SOQARNI12A8C141964  5             1\n",
       "1999999     d8bfd4ec88f0f3773a9e022e3c1a0f1d3b7b6a92  SOJYOLS12A8C13C06F  1             1\n",
       "Length: 2000000, dtype: int64"
      ]
     },
     "execution_count": 189,
     "metadata": {},
     "output_type": "execute_result"
    }
   ],
   "source": [
    "# value counts for dataframe count_df\n",
    "count_df.value_counts()"
   ]
  },
  {
   "cell_type": "code",
   "execution_count": 190,
   "metadata": {},
   "outputs": [
    {
     "data": {
      "text/plain": [
       "song_id        999056\n",
       "title          702428\n",
       "release        149288\n",
       "artist_name     72665\n",
       "year               90\n",
       "dtype: int64"
      ]
     },
     "execution_count": 190,
     "metadata": {},
     "output_type": "execute_result"
    }
   ],
   "source": [
    "# check for unique values in song_df\n",
    "song_df.nunique()"
   ]
  },
  {
   "cell_type": "markdown",
   "metadata": {},
   "source": [
    "**Observations**\n",
    "- There are too many unique values in the song_df. \n",
    "- Dropping duplicates will help remedy this. "
   ]
  },
  {
   "cell_type": "code",
   "execution_count": 191,
   "metadata": {},
   "outputs": [
    {
     "data": {
      "text/plain": [
       "song_id             title                                    release                           artist_name               year\n",
       "SOQNMCD12A8C1383D4  Come On Home                             Franz Ferdinand                   Franz Ferdinand           2004    3\n",
       "SOEGQML12AF7299C84  California Callin'                       7                                 Enrique Iglesias          2003    3\n",
       "SOXHYWX12A8C142CE8  Real World                               When The World Comes Down         The All-American Rejects  2008    3\n",
       "SOEHQBQ12A6D4F9EA9  Before Three                             The Cure                          The Cure                  2004    3\n",
       "SOZBJBH12A8151BD4E  Fade Together                            You Could Have It So Much Better  Franz Ferdinand           2005    3\n",
       "                                                                                                                                ..\n",
       "SOHXKYM12AF72AA2F4  3 Am                                     Deus Ex Machina                   Liv Kristine              1998    1\n",
       "SOHXKYR12AB017C5D3  Take Me To The Backseat (Album Version)  Spend The Night                   The Donnas                2002    1\n",
       "SOHXKYY12A8C137569  Underneath Your Clothes                  Underneath Your Clothes           Shakira                   2001    1\n",
       "SOHXKZZ12A8C13E441  Repetition Kills You                     Repetition Kills You              The Black Ghosts          2008    1\n",
       "SOZZZZM12AB018B095  Be Anything                              Jazz Café New York                Helen O'Connell           0       1\n",
       "Length: 999482, dtype: int64"
      ]
     },
     "execution_count": 191,
     "metadata": {},
     "output_type": "execute_result"
    }
   ],
   "source": [
    "# value counts for dataframe song_df\n",
    "song_df.value_counts()"
   ]
  },
  {
   "cell_type": "code",
   "execution_count": 192,
   "metadata": {
    "id": "tV1ed0ApXpu3"
   },
   "outputs": [
    {
     "data": {
      "text/html": [
       "<div>\n",
       "<style scoped>\n",
       "    .dataframe tbody tr th:only-of-type {\n",
       "        vertical-align: middle;\n",
       "    }\n",
       "\n",
       "    .dataframe tbody tr th {\n",
       "        vertical-align: top;\n",
       "    }\n",
       "\n",
       "    .dataframe thead th {\n",
       "        text-align: right;\n",
       "    }\n",
       "</style>\n",
       "<table border=\"1\" class=\"dataframe\">\n",
       "  <thead>\n",
       "    <tr style=\"text-align: right;\">\n",
       "      <th></th>\n",
       "      <th>song_id</th>\n",
       "      <th>title</th>\n",
       "      <th>release</th>\n",
       "      <th>artist_name</th>\n",
       "      <th>year</th>\n",
       "    </tr>\n",
       "  </thead>\n",
       "  <tbody>\n",
       "    <tr>\n",
       "      <th>0</th>\n",
       "      <td>SOQMMHC12AB0180CB8</td>\n",
       "      <td>Silent Night</td>\n",
       "      <td>Monster Ballads X-Mas</td>\n",
       "      <td>Faster Pussy cat</td>\n",
       "      <td>2003</td>\n",
       "    </tr>\n",
       "    <tr>\n",
       "      <th>1</th>\n",
       "      <td>SOVFVAK12A8C1350D9</td>\n",
       "      <td>Tanssi vaan</td>\n",
       "      <td>Karkuteillä</td>\n",
       "      <td>Karkkiautomaatti</td>\n",
       "      <td>1995</td>\n",
       "    </tr>\n",
       "    <tr>\n",
       "      <th>2</th>\n",
       "      <td>SOGTUKN12AB017F4F1</td>\n",
       "      <td>No One Could Ever</td>\n",
       "      <td>Butter</td>\n",
       "      <td>Hudson Mohawke</td>\n",
       "      <td>2006</td>\n",
       "    </tr>\n",
       "    <tr>\n",
       "      <th>3</th>\n",
       "      <td>SOBNYVR12A8C13558C</td>\n",
       "      <td>Si Vos Querés</td>\n",
       "      <td>De Culo</td>\n",
       "      <td>Yerba Brava</td>\n",
       "      <td>2003</td>\n",
       "    </tr>\n",
       "    <tr>\n",
       "      <th>4</th>\n",
       "      <td>SOHSBXH12A8C13B0DF</td>\n",
       "      <td>Tangle Of Aspens</td>\n",
       "      <td>Rene Ablaze Presents Winter Sessions</td>\n",
       "      <td>Der Mystic</td>\n",
       "      <td>0</td>\n",
       "    </tr>\n",
       "    <tr>\n",
       "      <th>5</th>\n",
       "      <td>SOZVAPQ12A8C13B63C</td>\n",
       "      <td>Symphony No. 1 G minor \"Sinfonie Serieuse\"/All...</td>\n",
       "      <td>Berwald: Symphonies Nos. 1/2/3/4</td>\n",
       "      <td>David Montgomery</td>\n",
       "      <td>0</td>\n",
       "    </tr>\n",
       "    <tr>\n",
       "      <th>6</th>\n",
       "      <td>SOQVRHI12A6D4FB2D7</td>\n",
       "      <td>We Have Got Love</td>\n",
       "      <td>Strictly The Best Vol. 34</td>\n",
       "      <td>Sasha / Turbulence</td>\n",
       "      <td>0</td>\n",
       "    </tr>\n",
       "    <tr>\n",
       "      <th>7</th>\n",
       "      <td>SOEYRFT12AB018936C</td>\n",
       "      <td>2 Da Beat Ch'yall</td>\n",
       "      <td>Da Bomb</td>\n",
       "      <td>Kris Kross</td>\n",
       "      <td>1993</td>\n",
       "    </tr>\n",
       "    <tr>\n",
       "      <th>8</th>\n",
       "      <td>SOPMIYT12A6D4F851E</td>\n",
       "      <td>Goodbye</td>\n",
       "      <td>Danny Boy</td>\n",
       "      <td>Joseph Locke</td>\n",
       "      <td>0</td>\n",
       "    </tr>\n",
       "    <tr>\n",
       "      <th>9</th>\n",
       "      <td>SOJCFMH12A8C13B0C2</td>\n",
       "      <td>Mama_ mama can't you see ?</td>\n",
       "      <td>March to cadence with the US marines</td>\n",
       "      <td>The Sun Harbor's Chorus-Documentary Recordings</td>\n",
       "      <td>0</td>\n",
       "    </tr>\n",
       "  </tbody>\n",
       "</table>\n",
       "</div>"
      ],
      "text/plain": [
       "              song_id                                              title  \\\n",
       "0  SOQMMHC12AB0180CB8                                       Silent Night   \n",
       "1  SOVFVAK12A8C1350D9                                        Tanssi vaan   \n",
       "2  SOGTUKN12AB017F4F1                                  No One Could Ever   \n",
       "3  SOBNYVR12A8C13558C                                      Si Vos Querés   \n",
       "4  SOHSBXH12A8C13B0DF                                   Tangle Of Aspens   \n",
       "5  SOZVAPQ12A8C13B63C  Symphony No. 1 G minor \"Sinfonie Serieuse\"/All...   \n",
       "6  SOQVRHI12A6D4FB2D7                                   We Have Got Love   \n",
       "7  SOEYRFT12AB018936C                                  2 Da Beat Ch'yall   \n",
       "8  SOPMIYT12A6D4F851E                                            Goodbye   \n",
       "9  SOJCFMH12A8C13B0C2                         Mama_ mama can't you see ?   \n",
       "\n",
       "                                release  \\\n",
       "0                 Monster Ballads X-Mas   \n",
       "1                           Karkuteillä   \n",
       "2                                Butter   \n",
       "3                               De Culo   \n",
       "4  Rene Ablaze Presents Winter Sessions   \n",
       "5      Berwald: Symphonies Nos. 1/2/3/4   \n",
       "6             Strictly The Best Vol. 34   \n",
       "7                               Da Bomb   \n",
       "8                             Danny Boy   \n",
       "9  March to cadence with the US marines   \n",
       "\n",
       "                                      artist_name  year  \n",
       "0                                Faster Pussy cat  2003  \n",
       "1                                Karkkiautomaatti  1995  \n",
       "2                                  Hudson Mohawke  2006  \n",
       "3                                     Yerba Brava  2003  \n",
       "4                                      Der Mystic     0  \n",
       "5                                David Montgomery     0  \n",
       "6                              Sasha / Turbulence     0  \n",
       "7                                      Kris Kross  1993  \n",
       "8                                    Joseph Locke     0  \n",
       "9  The Sun Harbor's Chorus-Documentary Recordings     0  "
      ]
     },
     "execution_count": 192,
     "metadata": {},
     "output_type": "execute_result"
    }
   ],
   "source": [
    "# top 10 records of song_df data\n",
    "song_df.head(10)"
   ]
  },
  {
   "cell_type": "markdown",
   "metadata": {},
   "source": [
    "**Observations**\n",
    "* There are missing values in the 'year' feature.\n",
    "* There may be missing values in the consecutive feature (s). "
   ]
  },
  {
   "cell_type": "markdown",
   "metadata": {
    "id": "bvKb5FHcXzcN"
   },
   "source": [
    "### **Let us check the data types and and missing values of each column**"
   ]
  },
  {
   "cell_type": "code",
   "execution_count": 193,
   "metadata": {
    "id": "yyoHc_cnX19J"
   },
   "outputs": [
    {
     "name": "stdout",
     "output_type": "stream",
     "text": [
      "<class 'pandas.core.frame.DataFrame'>\n",
      "RangeIndex: 2000000 entries, 0 to 1999999\n",
      "Data columns (total 4 columns):\n",
      " #   Column      Dtype \n",
      "---  ------      ----- \n",
      " 0   Unnamed: 0  int64 \n",
      " 1   user_id     object\n",
      " 2   song_id     object\n",
      " 3   play_count  int64 \n",
      "dtypes: int64(2), object(2)\n",
      "memory usage: 61.0+ MB\n"
     ]
    }
   ],
   "source": [
    "# the info of the count_df data\n",
    "count_df.info()"
   ]
  },
  {
   "cell_type": "markdown",
   "metadata": {},
   "source": [
    "**Observations**\n",
    "- There are 2000000 entries.\n",
    "- The data contains 4 columns.\n",
    "- The data types are int64(2), object(2). \n",
    "- The dataset count_df uses more memory ~61.0+ MB. "
   ]
  },
  {
   "cell_type": "code",
   "execution_count": 194,
   "metadata": {
    "id": "rz3zDx_LX42y"
   },
   "outputs": [
    {
     "name": "stdout",
     "output_type": "stream",
     "text": [
      "<class 'pandas.core.frame.DataFrame'>\n",
      "RangeIndex: 1000000 entries, 0 to 999999\n",
      "Data columns (total 5 columns):\n",
      " #   Column       Non-Null Count    Dtype \n",
      "---  ------       --------------    ----- \n",
      " 0   song_id      1000000 non-null  object\n",
      " 1   title        999985 non-null   object\n",
      " 2   release      999995 non-null   object\n",
      " 3   artist_name  1000000 non-null  object\n",
      " 4   year         1000000 non-null  int64 \n",
      "dtypes: int64(1), object(4)\n",
      "memory usage: 38.1+ MB\n"
     ]
    }
   ],
   "source": [
    "# the info of the song_df data\n",
    "song_df.info()"
   ]
  },
  {
   "cell_type": "markdown",
   "metadata": {
    "id": "Ze2TlWxpYadn"
   },
   "source": [
    "**Observations**\n",
    "- There are 1000000 entries. \n",
    "- The data contains 5 columns. \n",
    "- The data types are int64(1), object(4). \n",
    "- The dataset song_df uses less memory ~38.1 MB.\n"
   ]
  },
  {
   "cell_type": "code",
   "execution_count": 195,
   "metadata": {},
   "outputs": [
    {
     "data": {
      "text/plain": [
       "Unnamed: 0    0\n",
       "user_id       0\n",
       "song_id       0\n",
       "play_count    0\n",
       "dtype: int64"
      ]
     },
     "execution_count": 195,
     "metadata": {},
     "output_type": "execute_result"
    }
   ],
   "source": [
    "# check for nulls on count_df dataset \n",
    "count_df.isnull().sum()"
   ]
  },
  {
   "cell_type": "markdown",
   "metadata": {},
   "source": [
    "**Observations**\n",
    "- There are no nulls in count_df. "
   ]
  },
  {
   "cell_type": "code",
   "execution_count": 196,
   "metadata": {},
   "outputs": [
    {
     "data": {
      "text/plain": [
       "song_id         0\n",
       "title          15\n",
       "release         5\n",
       "artist_name     0\n",
       "year            0\n",
       "dtype: int64"
      ]
     },
     "execution_count": 196,
     "metadata": {},
     "output_type": "execute_result"
    }
   ],
   "source": [
    "# check for nulls on song_df dataset \n",
    "song_df.isnull().sum()"
   ]
  },
  {
   "cell_type": "markdown",
   "metadata": {},
   "source": [
    "**Observations**\n",
    "- There are 15 titles missing from the data. \n",
    "- There are 5 releases missing from the data. "
   ]
  },
  {
   "cell_type": "code",
   "execution_count": 197,
   "metadata": {},
   "outputs": [],
   "source": [
    "# fill null values in song_df with fillna()\n",
    "song_df['title'].fillna('No Title', inplace=True)\n",
    "song_df['release'].fillna('No Release', inplace=True)"
   ]
  },
  {
   "cell_type": "code",
   "execution_count": 198,
   "metadata": {
    "id": "oTeurvID2T9U"
   },
   "outputs": [],
   "source": [
    "# left merge the count_df and song_df data on \"song_id\". Drop duplicates from song_df data simultaneously.\n",
    "merged_df = count_df.merge(song_df, how='left', on = 'song_id').drop_duplicates(['song_id'])\n",
    "merged_df.head()\n",
    "\n",
    "# drop the column 'Unnamed: 0'  \n",
    "merged_df.drop(['Unnamed: 0'], axis = 1, inplace = True)\n"
   ]
  },
  {
   "cell_type": "code",
   "execution_count": 199,
   "metadata": {},
   "outputs": [
    {
     "data": {
      "text/html": [
       "<div>\n",
       "<style scoped>\n",
       "    .dataframe tbody tr th:only-of-type {\n",
       "        vertical-align: middle;\n",
       "    }\n",
       "\n",
       "    .dataframe tbody tr th {\n",
       "        vertical-align: top;\n",
       "    }\n",
       "\n",
       "    .dataframe thead th {\n",
       "        text-align: right;\n",
       "    }\n",
       "</style>\n",
       "<table border=\"1\" class=\"dataframe\">\n",
       "  <thead>\n",
       "    <tr style=\"text-align: right;\">\n",
       "      <th></th>\n",
       "      <th>user_id</th>\n",
       "      <th>song_id</th>\n",
       "      <th>play_count</th>\n",
       "      <th>title</th>\n",
       "      <th>release</th>\n",
       "      <th>artist_name</th>\n",
       "      <th>year</th>\n",
       "    </tr>\n",
       "  </thead>\n",
       "  <tbody>\n",
       "    <tr>\n",
       "      <th>0</th>\n",
       "      <td>1309</td>\n",
       "      <td>153</td>\n",
       "      <td>1</td>\n",
       "      <td>The Cove</td>\n",
       "      <td>Thicker Than Water</td>\n",
       "      <td>Jack Johnson</td>\n",
       "      <td>0</td>\n",
       "    </tr>\n",
       "    <tr>\n",
       "      <th>1</th>\n",
       "      <td>1309</td>\n",
       "      <td>413</td>\n",
       "      <td>2</td>\n",
       "      <td>Entre Dos Aguas</td>\n",
       "      <td>Flamenco Para Niños</td>\n",
       "      <td>Paco De Lucia</td>\n",
       "      <td>1976</td>\n",
       "    </tr>\n",
       "    <tr>\n",
       "      <th>2</th>\n",
       "      <td>1309</td>\n",
       "      <td>736</td>\n",
       "      <td>1</td>\n",
       "      <td>Stronger</td>\n",
       "      <td>Graduation</td>\n",
       "      <td>Kanye West</td>\n",
       "      <td>2007</td>\n",
       "    </tr>\n",
       "    <tr>\n",
       "      <th>4</th>\n",
       "      <td>1309</td>\n",
       "      <td>750</td>\n",
       "      <td>1</td>\n",
       "      <td>Constellations</td>\n",
       "      <td>In Between Dreams</td>\n",
       "      <td>Jack Johnson</td>\n",
       "      <td>2005</td>\n",
       "    </tr>\n",
       "    <tr>\n",
       "      <th>5</th>\n",
       "      <td>1309</td>\n",
       "      <td>1188</td>\n",
       "      <td>1</td>\n",
       "      <td>Learn To Fly</td>\n",
       "      <td>There Is Nothing Left To Lose</td>\n",
       "      <td>Foo Fighters</td>\n",
       "      <td>1999</td>\n",
       "    </tr>\n",
       "  </tbody>\n",
       "</table>\n",
       "</div>"
      ],
      "text/plain": [
       "   user_id  song_id  play_count            title  \\\n",
       "0     1309      153           1         The Cove   \n",
       "1     1309      413           2  Entre Dos Aguas   \n",
       "2     1309      736           1         Stronger   \n",
       "4     1309      750           1   Constellations   \n",
       "5     1309     1188           1     Learn To Fly   \n",
       "\n",
       "                         release    artist_name  year  \n",
       "0             Thicker Than Water   Jack Johnson     0  \n",
       "1            Flamenco Para Niños  Paco De Lucia  1976  \n",
       "2                     Graduation     Kanye West  2007  \n",
       "4              In Between Dreams   Jack Johnson  2005  \n",
       "5  There Is Nothing Left To Lose   Foo Fighters  1999  "
      ]
     },
     "execution_count": 199,
     "metadata": {},
     "output_type": "execute_result"
    }
   ],
   "source": [
    "# apply label encoding for \"song_id\"\n",
    "encoded_song_id =  preprocessing.LabelEncoder()\n",
    "encoded_song_id.fit(merged_df.song_id)\n",
    "merged_df.song_id = encoded_song_id.transform(merged_df.song_id)\n",
    "\n",
    "# apply label encoding for \"user_id\"\n",
    "encoded_user_id =  preprocessing.LabelEncoder()\n",
    "encoded_user_id.fit(merged_df.user_id)\n",
    "merged_df.user_id = encoded_user_id.transform(merged_df.user_id)\n",
    "\n",
    "merged_df.head()"
   ]
  },
  {
   "cell_type": "markdown",
   "metadata": {},
   "source": [
    "**Observations** \n",
    "- There are ~3498 songs that have been listened to ~4%-8% count. \n",
    "- There are ~9566 songs that do not have a significant listen count, at ~1% count. \n",
    "- The data contains users who have listened to very few songs and vice versa.\n",
    "- Might be necessary to filter the data so that it contains users who have listened to a sufficient count of songs. "
   ]
  },
  {
   "cell_type": "code",
   "execution_count": 200,
   "metadata": {
    "id": "7GGH9TW0_9uX"
   },
   "outputs": [
    {
     "name": "stdout",
     "output_type": "stream",
     "text": [
      "[1309, 938, 1350, 966, 1072, 533, 1583, 1126, 1110, 1292, 159, 1508, 645, 1428, 486, 1690, 1333, 147, 1198, 1352, 69, 912, 452, 1759, 1154, 454, 297, 1010, 1377, 118, 1187, 1057, 291, 435, 1033, 1697, 1747, 214, 510, 1819, 1509, 10, 585, 474, 1044, 817, 1439, 1271, 283, 790, 1638, 1097, 847, 1173, 1296, 1188, 902, 1099, 1694, 1814, 812, 74, 442, 178, 1174, 1730, 1546, 539, 993, 411, 1402, 11, 1141, 710, 182, 1281, 1737, 217, 886, 1656, 158, 1290, 852, 448, 1060, 50, 918, 637, 1284, 141, 729, 610, 1064, 350, 318, 1142, 1672, 616, 1666, 1251, 1062, 529, 153, 1015, 870, 580, 1274, 1351, 505, 960, 939, 672, 1630, 1403, 96, 1688, 414, 961, 1515, 958, 1109, 395, 1179, 1331, 875, 1625, 1008, 584, 677, 1622, 982, 169, 1782, 1391, 1661, 97, 239, 1584, 278, 936, 233, 1651, 1338, 837, 623, 44, 1648, 255, 161, 1601, 26, 1312, 1580, 1692, 877, 1749, 328, 598, 523, 496, 117, 1822, 754, 1279, 236, 368, 122, 1075, 992, 185, 1668, 1183, 1121, 1605, 1243, 173, 308, 1061, 548, 349, 1778, 1560, 704, 1021, 900, 1226, 515, 1095, 1412, 480, 1050, 1483, 1100, 1395, 447, 1640, 1457, 679, 1355, 1632]\n"
     ]
    }
   ],
   "source": [
    "# get the column containing the users\n",
    "users = merged_df.user_id\n",
    "# create a dictionary from users to their number of songs\n",
    "ratings_count = dict()\n",
    "\n",
    "# function to filter the data for users who have listened to a good count of songs\n",
    "def sufficient_count_of_songs(): \n",
    "    for user in users:\n",
    "    # if there already exists a user, just add 1 to the rating count\n",
    "        if user in ratings_count:\n",
    "            ratings_count[user] += 1\n",
    "    # otherwise, set the rating count to 1\n",
    "        else:\n",
    "            ratings_count[user] = 1 \n",
    "    some_ratings_count = list(ratings_count)[:200]\n",
    "    print(some_ratings_count)\n",
    "sufficient_count_of_songs()"
   ]
  },
  {
   "cell_type": "code",
   "execution_count": 201,
   "metadata": {},
   "outputs": [
    {
     "data": {
      "text/html": [
       "<div>\n",
       "<style scoped>\n",
       "    .dataframe tbody tr th:only-of-type {\n",
       "        vertical-align: middle;\n",
       "    }\n",
       "\n",
       "    .dataframe tbody tr th {\n",
       "        vertical-align: top;\n",
       "    }\n",
       "\n",
       "    .dataframe thead th {\n",
       "        text-align: right;\n",
       "    }\n",
       "</style>\n",
       "<table border=\"1\" class=\"dataframe\">\n",
       "  <thead>\n",
       "    <tr style=\"text-align: right;\">\n",
       "      <th></th>\n",
       "      <th>title</th>\n",
       "      <th>play_count</th>\n",
       "      <th>percentage</th>\n",
       "    </tr>\n",
       "  </thead>\n",
       "  <tbody>\n",
       "    <tr>\n",
       "      <th>1085</th>\n",
       "      <td>Breathe</td>\n",
       "      <td>8</td>\n",
       "      <td>0.08</td>\n",
       "    </tr>\n",
       "    <tr>\n",
       "      <th>739</th>\n",
       "      <td>Beautiful</td>\n",
       "      <td>6</td>\n",
       "      <td>0.06</td>\n",
       "    </tr>\n",
       "    <tr>\n",
       "      <th>3381</th>\n",
       "      <td>Hold On</td>\n",
       "      <td>5</td>\n",
       "      <td>0.05</td>\n",
       "    </tr>\n",
       "    <tr>\n",
       "      <th>3498</th>\n",
       "      <td>Human</td>\n",
       "      <td>5</td>\n",
       "      <td>0.05</td>\n",
       "    </tr>\n",
       "    <tr>\n",
       "      <th>437</th>\n",
       "      <td>Angel</td>\n",
       "      <td>4</td>\n",
       "      <td>0.04</td>\n",
       "    </tr>\n",
       "    <tr>\n",
       "      <th>...</th>\n",
       "      <td>...</td>\n",
       "      <td>...</td>\n",
       "      <td>...</td>\n",
       "    </tr>\n",
       "    <tr>\n",
       "      <th>9562</th>\n",
       "      <td>the Love Song</td>\n",
       "      <td>1</td>\n",
       "      <td>0.01</td>\n",
       "    </tr>\n",
       "    <tr>\n",
       "      <th>9563</th>\n",
       "      <td>you were there with me</td>\n",
       "      <td>1</td>\n",
       "      <td>0.01</td>\n",
       "    </tr>\n",
       "    <tr>\n",
       "      <th>9564</th>\n",
       "      <td>¡Viva La Gloria! (Album Version)</td>\n",
       "      <td>1</td>\n",
       "      <td>0.01</td>\n",
       "    </tr>\n",
       "    <tr>\n",
       "      <th>9565</th>\n",
       "      <td>¿Lo Ves? [Piano Y Voz]</td>\n",
       "      <td>1</td>\n",
       "      <td>0.01</td>\n",
       "    </tr>\n",
       "    <tr>\n",
       "      <th>9566</th>\n",
       "      <td>Época</td>\n",
       "      <td>1</td>\n",
       "      <td>0.01</td>\n",
       "    </tr>\n",
       "  </tbody>\n",
       "</table>\n",
       "<p>9567 rows × 3 columns</p>\n",
       "</div>"
      ],
      "text/plain": [
       "                                 title  play_count  percentage\n",
       "1085                           Breathe           8        0.08\n",
       "739                          Beautiful           6        0.06\n",
       "3381                           Hold On           5        0.05\n",
       "3498                             Human           5        0.05\n",
       "437                              Angel           4        0.04\n",
       "...                                ...         ...         ...\n",
       "9562                     the Love Song           1        0.01\n",
       "9563            you were there with me           1        0.01\n",
       "9564  ¡Viva La Gloria! (Album Version)           1        0.01\n",
       "9565            ¿Lo Ves? [Piano Y Voz]           1        0.01\n",
       "9566                             Época           1        0.01\n",
       "\n",
       "[9567 rows x 3 columns]"
      ]
     },
     "metadata": {},
     "output_type": "display_data"
    }
   ],
   "source": [
    "from IPython.display import display\n",
    "# function that groups songs by title and play_count with percentage of song counts listened\n",
    "def group_songs_by_play_count():\n",
    "    grouped_songs_df = merged_df.groupby(['title']).agg({'play_count': 'count'}).reset_index()\n",
    "    grouped_songs_sum = grouped_songs_df['play_count'].sum()\n",
    "    grouped_songs_df['percentage'] = grouped_songs_df['play_count'].div(grouped_songs_sum)*100\n",
    "    final_grouped_songs_df = grouped_songs_df.sort_values(['play_count', 'title'], ascending = [0,1])\n",
    "    display(final_grouped_songs_df)\n",
    "group_songs_by_play_count()"
   ]
  },
  {
   "cell_type": "code",
   "execution_count": 202,
   "metadata": {
    "id": "-cc6mOK7_9uX"
   },
   "outputs": [],
   "source": [
    "# set a threshold of users' listen counts to at least 90 songs. \n",
    "RATINGS_CUTOFF = 90\n",
    "remove_users = []\n",
    "def ratings_cutoff():\n",
    "    for user, num_ratings in ratings_count.items():\n",
    "        if num_ratings < RATINGS_CUTOFF:\n",
    "            remove_users.append(user)\n",
    "    df = merged_df.loc[~merged_df.user_id.isin(remove_users)]"
   ]
  },
  {
   "cell_type": "code",
   "execution_count": 203,
   "metadata": {
    "id": "B5BS-Wk5_9uY"
   },
   "outputs": [
    {
     "ename": "NameError",
     "evalue": "name 'df' is not defined",
     "output_type": "error",
     "traceback": [
      "\u001b[0;31m---------------------------------------------------------------------------\u001b[0m",
      "\u001b[0;31mNameError\u001b[0m                                 Traceback (most recent call last)",
      "\u001b[0;32m/var/folders/zb/6jslj21n4rl_r356rd2y6nn00000gn/T/ipykernel_7340/1988592062.py\u001b[0m in \u001b[0;36m<module>\u001b[0;34m\u001b[0m\n\u001b[1;32m      1\u001b[0m \u001b[0;31m# Get the column containing the users\u001b[0m\u001b[0;34m\u001b[0m\u001b[0;34m\u001b[0m\u001b[0m\n\u001b[0;32m----> 2\u001b[0;31m \u001b[0musers\u001b[0m \u001b[0;34m=\u001b[0m \u001b[0mdf\u001b[0m\u001b[0;34m.\u001b[0m\u001b[0msong_id\u001b[0m\u001b[0;34m\u001b[0m\u001b[0;34m\u001b[0m\u001b[0m\n\u001b[0m\u001b[1;32m      3\u001b[0m \u001b[0;31m# Create a dictionary from users to their number of songs\u001b[0m\u001b[0;34m\u001b[0m\u001b[0;34m\u001b[0m\u001b[0m\n\u001b[1;32m      4\u001b[0m \u001b[0mratings_count\u001b[0m \u001b[0;34m=\u001b[0m \u001b[0mdict\u001b[0m\u001b[0;34m(\u001b[0m\u001b[0;34m)\u001b[0m\u001b[0;34m\u001b[0m\u001b[0;34m\u001b[0m\u001b[0m\n\u001b[1;32m      5\u001b[0m \u001b[0;32mfor\u001b[0m \u001b[0muser\u001b[0m \u001b[0;32min\u001b[0m \u001b[0musers\u001b[0m\u001b[0;34m:\u001b[0m\u001b[0;34m\u001b[0m\u001b[0;34m\u001b[0m\u001b[0m\n",
      "\u001b[0;31mNameError\u001b[0m: name 'df' is not defined"
     ]
    }
   ],
   "source": [
    "# Get the column containing the users\n",
    "users = df.song_id\n",
    "# Create a dictionary from users to their number of songs\n",
    "ratings_count = dict()\n",
    "for user in users:\n",
    "    # If we already have the user, just add 1 to their rating count\n",
    "    if user in ratings_count:\n",
    "        ratings_count[user] += 1\n",
    "    # Otherwise, set their rating count to 1\n",
    "    else:\n",
    "        ratings_count[user] = 1    "
   ]
  },
  {
   "cell_type": "code",
   "execution_count": null,
   "metadata": {
    "id": "_nCtGwGO_9uY"
   },
   "outputs": [],
   "source": [
    "# We want our song to be listened by atleast 120 users to be considred\n",
    "RATINGS_CUTOFF = 120\n",
    "remove_users = []\n",
    "for user, num_ratings in ratings_count.items():\n",
    "    if num_ratings < RATINGS_CUTOFF:\n",
    "        remove_users.append(user)\n",
    "df_final= df.loc[~df.song_id.isin(remove_users)]"
   ]
  },
  {
   "cell_type": "code",
   "execution_count": null,
   "metadata": {
    "id": "8qaKeoMcGpad"
   },
   "outputs": [],
   "source": [
    "# Drop records with play_count more than(>) 5\n",
    "df_final=__________"
   ]
  },
  {
   "cell_type": "code",
   "execution_count": null,
   "metadata": {
    "id": "aL1JZ00o5JtQ"
   },
   "outputs": [],
   "source": [
    "# Check the shape of the data\n"
   ]
  },
  {
   "cell_type": "markdown",
   "metadata": {
    "id": "uZcr1Eke2T9W"
   },
   "source": [
    "## **Exploratory Data Analysis**"
   ]
  },
  {
   "cell_type": "markdown",
   "metadata": {
    "id": "ByuHmvWDeBJI"
   },
   "source": [
    "### **Let's check the total number of unique users, songs, artists in the data**"
   ]
  },
  {
   "cell_type": "markdown",
   "metadata": {
    "id": "DE_gukSJ2T9W"
   },
   "source": [
    "# Total number of unique user id"
   ]
  },
  {
   "cell_type": "code",
   "execution_count": null,
   "metadata": {
    "id": "n5E24_Ec2T9W"
   },
   "outputs": [],
   "source": [
    "# Display total number of unique user_id\n"
   ]
  },
  {
   "cell_type": "markdown",
   "metadata": {
    "id": "wV3BOTdJII-t"
   },
   "source": [
    "Total number of unique song id"
   ]
  },
  {
   "cell_type": "code",
   "execution_count": null,
   "metadata": {
    "id": "5SlpPkIE2T9W"
   },
   "outputs": [],
   "source": [
    "# Display total number of unique song_id\n"
   ]
  },
  {
   "cell_type": "markdown",
   "metadata": {
    "id": "eGXPsCjXVpUW"
   },
   "source": [
    "Total number of unique artists"
   ]
  },
  {
   "cell_type": "code",
   "execution_count": null,
   "metadata": {
    "id": "qSVUwb8h2T9X"
   },
   "outputs": [],
   "source": [
    "# Display total number of unique artists\n"
   ]
  },
  {
   "cell_type": "markdown",
   "metadata": {
    "id": "bvk-YAo-eGGW"
   },
   "source": [
    "#### **Observations and Insights:__________**\n"
   ]
  },
  {
   "cell_type": "markdown",
   "metadata": {
    "id": "rLdIfv22ISBK"
   },
   "source": [
    "### **Let's find out about the most interacted songs and interacted users**"
   ]
  },
  {
   "cell_type": "markdown",
   "metadata": {
    "id": "W3DyN_8atsCx"
   },
   "source": [
    "Most interacted songs"
   ]
  },
  {
   "cell_type": "code",
   "execution_count": null,
   "metadata": {
    "id": "qWDrvIFF2T9X"
   },
   "outputs": [],
   "source": []
  },
  {
   "cell_type": "markdown",
   "metadata": {
    "id": "nnoXCc9zIV45"
   },
   "source": [
    "Most interacted users"
   ]
  },
  {
   "cell_type": "code",
   "execution_count": null,
   "metadata": {
    "id": "971EiBdf2T9X"
   },
   "outputs": [],
   "source": []
  },
  {
   "cell_type": "markdown",
   "metadata": {
    "id": "tPZRc1e-eyyO"
   },
   "source": [
    "#### **Observations and Insights:_______**\n"
   ]
  },
  {
   "cell_type": "markdown",
   "metadata": {
    "id": "joFF5zndX1Dk"
   },
   "source": [
    "Songs played in a year"
   ]
  },
  {
   "cell_type": "code",
   "execution_count": null,
   "metadata": {
    "colab": {
     "base_uri": "https://localhost:8080/",
     "height": 238
    },
    "id": "bQp2iVMC2T9Y",
    "outputId": "673b31f5-b67d-4ba2-f253-ebec3a1162ff"
   },
   "outputs": [],
   "source": [
    "count_songs = df_final.groupby('year').count()['title']\n",
    "count = pd.DataFrame(count_songs)\n",
    "count.drop(count.index[0], inplace=True)\n",
    "count.tail()"
   ]
  },
  {
   "cell_type": "code",
   "execution_count": null,
   "metadata": {
    "colab": {
     "base_uri": "https://localhost:8080/",
     "height": 438
    },
    "id": "bZCkOiAB2T9Y",
    "outputId": "38f3e43c-1def-44e9-b174-e56fee56c48b"
   },
   "outputs": [],
   "source": [
    "plt.figure(figsize=(30,10))\n",
    "sns.barplot(x = count.index,\n",
    "            y = 'title',\n",
    "            data = count,\n",
    "            estimator = np.median)\n",
    "plt.ylabel('number of titles played') \n",
    "# Show the plot\n",
    "plt.show()"
   ]
  },
  {
   "cell_type": "markdown",
   "metadata": {
    "id": "VUcXc7ZYfaGl"
   },
   "source": [
    "**Observations**\n",
    "- There are 1000000 entries. \n",
    "- The data contains 5 columns. \n",
    "- The data types are int64(1), object(4). \n",
    "- The dataset song_df uses less memory ~38.1 MB."
   ]
  },
  {
   "cell_type": "markdown",
   "metadata": {
    "id": "RtAjyDMioHCp"
   },
   "source": [
    "**Think About It:** What other insights can be drawn using exploratory data analysis?"
   ]
  },
  {
   "cell_type": "markdown",
   "metadata": {
    "id": "uPq5Th7j5h9H"
   },
   "source": [
    "## **Proposed approach**\n",
    "**Potential techniques** - What different techniques should be explored?<br>\n",
    "**Overall solution design** - What is the potential solution design?<br>\n",
    "**Measures of success**- What are the key measures of success to compare different potential technqiues?<br>"
   ]
  }
 ],
 "metadata": {
  "colab": {
   "collapsed_sections": [],
   "name": "Reference_Notebook_Milestone_1_Recommendation_Systems.ipynb",
   "provenance": []
  },
  "kernelspec": {
   "display_name": "Python 3 (ipykernel)",
   "language": "python",
   "name": "python3"
  },
  "language_info": {
   "codemirror_mode": {
    "name": "ipython",
    "version": 3
   },
   "file_extension": ".py",
   "mimetype": "text/x-python",
   "name": "python",
   "nbconvert_exporter": "python",
   "pygments_lexer": "ipython3",
   "version": "3.9.9"
  }
 },
 "nbformat": 4,
 "nbformat_minor": 1
}
