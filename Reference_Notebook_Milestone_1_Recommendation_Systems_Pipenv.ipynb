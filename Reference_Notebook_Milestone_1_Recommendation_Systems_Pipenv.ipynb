{
 "cells": [
  {
   "cell_type": "markdown",
   "metadata": {
    "id": "DyAjEw4OHmDb"
   },
   "source": [
    "# **Music Recommendation System**\n",
    "**REPO VERSION**"
   ]
  },
  {
   "cell_type": "markdown",
   "metadata": {
    "id": "Km5ozaHFh_cU"
   },
   "source": [
    "# **Milestone 1**"
   ]
  },
  {
   "cell_type": "markdown",
   "metadata": {
    "id": "BVUiyhYTHS1t"
   },
   "source": [
    "## **Problem Definition**\n",
    "\n",
    "**The context** - Why is this problem important to solve?<br>\n",
    "**The objectives** - What is the intended goal?<br>\n",
    "**The key questions** - What are the key questions that need to be answered?<br>\n",
    "**The problem formulation** - What is it that we are trying to solve using data science?\n",
    "\n",
    "\n",
    "## **Data Dictionary**\n",
    "\n",
    "The core data is the Taste Profile Subset released by The Echo Nest as part of the Million Song Dataset. There are two files in this dataset. One contains the details about the song id, titles, release, artist name and the year of release. Second file contains the user id, song id and the play count of users.\n",
    "\n",
    "song_data\n",
    "\n",
    "song_id - A unique id given to every song\n",
    "\n",
    "title - Title of the song\n",
    "\n",
    "Release - Name of the released album\n",
    "\n",
    "Artist_name - Name of the artist \n",
    "\n",
    "year - Year of release\n",
    "\n",
    "count_data\n",
    "\n",
    "user _id - A unique id given to the user\n",
    "\n",
    "song_id - A unique id given to the song\n",
    "\n",
    "play_count - Number of times the song was played\n",
    "\n",
    "## **Data Source**\n",
    "http://millionsongdataset.com/"
   ]
  },
  {
   "cell_type": "markdown",
   "metadata": {
    "id": "entENKtxK-g-"
   },
   "source": [
    "## **Important Notes**\n",
    "\n",
    "- This notebook can be considered a guide to refer to while solving the problem. The evaluation will be as per the Rubric shared for each Milestone. Unlike previous courses, it does not follow the pattern of the graded questions in different sections. This notebook would give you a direction on what steps need to be taken in order to get a viable solution to the problem. Please note that this is just one way of doing this. There can be other 'creative' ways to solve the problem and we urge you to feel free and explore them as an 'optional' exercise. \n",
    "\n",
    "- In the notebook, there are markdown cells called - Observations and Insights. It is a good practice to provide observations and extract insights from the outputs.\n",
    "\n",
    "- The naming convention for different variables can vary. Please consider the code provided in this notebook as a sample code.\n",
    "\n",
    "- All the outputs in the notebook are just for reference and can be different if you follow a different approach.\n",
    "\n",
    "- There are sections called **Think About It** in the notebook that will help you get a better understanding of the reasoning behind a particular technique/step. Interested learners can take alternative approaches if they want to explore different techniques. "
   ]
  },
  {
   "cell_type": "markdown",
   "metadata": {
    "id": "NRJtXkTrHxMQ"
   },
   "source": [
    "##### **Importing Libraries**"
   ]
  },
  {
   "cell_type": "code",
   "execution_count": 5,
   "metadata": {
    "id": "6SRzOPXI2Efn"
   },
   "outputs": [],
   "source": [
    "# mount the drive\n",
    "#from google.colab import drive\n",
    "#drive.mount('/content/drive')"
   ]
  },
  {
   "cell_type": "code",
   "execution_count": 6,
   "metadata": {
    "id": "R4YvKrpzId3K"
   },
   "outputs": [],
   "source": [
    "import warnings # ignore the warning given as output of the code\n",
    "warnings.filterwarnings('ignore')\n",
    "%matplotlib inline\n",
    "\n",
    "import numpy as np # libraries of python for numeric and dataframe computations\n",
    "import pandas as pd\n",
    "import random \n",
    "\n",
    "import matplotlib.pyplot as plt # library for data visualization\n",
    "\n",
    "import seaborn as sns # advanced library for data visualization\n",
    "\n",
    "from sklearn.metrics.pairwise import cosine_similarity # compute the cosine similarity between two vectors\n",
    "from collections import defaultdict # dictionary output that does not raise a key error\n",
    "\n",
    "from sklearn.metrics import mean_squared_error # performance metrics in sklearn\n",
    "\n",
    "from sklearn import preprocessing # for embedding encrypted data\n",
    "\n",
    "# for word2vec recommendation\n",
    "from tqdm import tqdm\n",
    "from gensim.models import Word2Vec\n",
    "\n",
    "# for dimensional reduction\n",
    "import umap.umap_ as umap\n"
   ]
  },
  {
   "cell_type": "code",
   "execution_count": 7,
   "metadata": {},
   "outputs": [],
   "source": [
    "#!pip install gensim==3.8.3\n"
   ]
  },
  {
   "cell_type": "code",
   "execution_count": 8,
   "metadata": {},
   "outputs": [
    {
     "name": "stdout",
     "output_type": "stream",
     "text": [
      "3.8.3\n"
     ]
    }
   ],
   "source": [
    "import gensim\n",
    "print(gensim.__version__)"
   ]
  },
  {
   "cell_type": "code",
   "execution_count": 66,
   "metadata": {},
   "outputs": [
    {
     "name": "stdout",
     "output_type": "stream",
     "text": [
      "Python 3.9.9\n"
     ]
    }
   ],
   "source": [
    "!python --version"
   ]
  },
  {
   "cell_type": "markdown",
   "metadata": {},
   "source": [
    "##### **Loading Dataset**"
   ]
  },
  {
   "cell_type": "code",
   "execution_count": 9,
   "metadata": {
    "id": "si6ulhIYImck"
   },
   "outputs": [],
   "source": [
    "# import the datasets\n",
    "count_df = pd.read_csv('/Users/student/Downloads/count_data.csv')\n",
    "song_df = pd.read_csv('/Users/student/Downloads/song_data.csv')"
   ]
  },
  {
   "cell_type": "code",
   "execution_count": 10,
   "metadata": {},
   "outputs": [],
   "source": [
    "# copy data to another dataframe\n",
    "count_df_copy = count_df.copy(deep=True)\n",
    "song_df_copy = song_df.copy(deep=True)"
   ]
  },
  {
   "cell_type": "code",
   "execution_count": 11,
   "metadata": {},
   "outputs": [
    {
     "data": {
      "text/html": [
       "<div>\n",
       "<style scoped>\n",
       "    .dataframe tbody tr th:only-of-type {\n",
       "        vertical-align: middle;\n",
       "    }\n",
       "\n",
       "    .dataframe tbody tr th {\n",
       "        vertical-align: top;\n",
       "    }\n",
       "\n",
       "    .dataframe thead th {\n",
       "        text-align: right;\n",
       "    }\n",
       "</style>\n",
       "<table border=\"1\" class=\"dataframe\">\n",
       "  <thead>\n",
       "    <tr style=\"text-align: right;\">\n",
       "      <th></th>\n",
       "      <th>song_id</th>\n",
       "      <th>title</th>\n",
       "      <th>release</th>\n",
       "      <th>artist_name</th>\n",
       "      <th>year</th>\n",
       "    </tr>\n",
       "  </thead>\n",
       "  <tbody>\n",
       "    <tr>\n",
       "      <th>0</th>\n",
       "      <td>SOQMMHC12AB0180CB8</td>\n",
       "      <td>Silent Night</td>\n",
       "      <td>Monster Ballads X-Mas</td>\n",
       "      <td>Faster Pussy cat</td>\n",
       "      <td>2003</td>\n",
       "    </tr>\n",
       "    <tr>\n",
       "      <th>1</th>\n",
       "      <td>SOVFVAK12A8C1350D9</td>\n",
       "      <td>Tanssi vaan</td>\n",
       "      <td>Karkuteillä</td>\n",
       "      <td>Karkkiautomaatti</td>\n",
       "      <td>1995</td>\n",
       "    </tr>\n",
       "    <tr>\n",
       "      <th>2</th>\n",
       "      <td>SOGTUKN12AB017F4F1</td>\n",
       "      <td>No One Could Ever</td>\n",
       "      <td>Butter</td>\n",
       "      <td>Hudson Mohawke</td>\n",
       "      <td>2006</td>\n",
       "    </tr>\n",
       "    <tr>\n",
       "      <th>3</th>\n",
       "      <td>SOBNYVR12A8C13558C</td>\n",
       "      <td>Si Vos Querés</td>\n",
       "      <td>De Culo</td>\n",
       "      <td>Yerba Brava</td>\n",
       "      <td>2003</td>\n",
       "    </tr>\n",
       "    <tr>\n",
       "      <th>4</th>\n",
       "      <td>SOHSBXH12A8C13B0DF</td>\n",
       "      <td>Tangle Of Aspens</td>\n",
       "      <td>Rene Ablaze Presents Winter Sessions</td>\n",
       "      <td>Der Mystic</td>\n",
       "      <td>0</td>\n",
       "    </tr>\n",
       "  </tbody>\n",
       "</table>\n",
       "</div>"
      ],
      "text/plain": [
       "              song_id              title  \\\n",
       "0  SOQMMHC12AB0180CB8       Silent Night   \n",
       "1  SOVFVAK12A8C1350D9        Tanssi vaan   \n",
       "2  SOGTUKN12AB017F4F1  No One Could Ever   \n",
       "3  SOBNYVR12A8C13558C      Si Vos Querés   \n",
       "4  SOHSBXH12A8C13B0DF   Tangle Of Aspens   \n",
       "\n",
       "                                release       artist_name  year  \n",
       "0                 Monster Ballads X-Mas  Faster Pussy cat  2003  \n",
       "1                           Karkuteillä  Karkkiautomaatti  1995  \n",
       "2                                Butter    Hudson Mohawke  2006  \n",
       "3                               De Culo       Yerba Brava  2003  \n",
       "4  Rene Ablaze Presents Winter Sessions        Der Mystic     0  "
      ]
     },
     "execution_count": 11,
     "metadata": {},
     "output_type": "execute_result"
    }
   ],
   "source": [
    "song_df.head()"
   ]
  },
  {
   "cell_type": "markdown",
   "metadata": {},
   "source": [
    "**Observations**\n",
    "- The song_df needs data embedding.\n",
    "- There are features with missing values, which will need correction. "
   ]
  },
  {
   "cell_type": "code",
   "execution_count": 12,
   "metadata": {},
   "outputs": [
    {
     "data": {
      "text/html": [
       "<div>\n",
       "<style scoped>\n",
       "    .dataframe tbody tr th:only-of-type {\n",
       "        vertical-align: middle;\n",
       "    }\n",
       "\n",
       "    .dataframe tbody tr th {\n",
       "        vertical-align: top;\n",
       "    }\n",
       "\n",
       "    .dataframe thead th {\n",
       "        text-align: right;\n",
       "    }\n",
       "</style>\n",
       "<table border=\"1\" class=\"dataframe\">\n",
       "  <thead>\n",
       "    <tr style=\"text-align: right;\">\n",
       "      <th></th>\n",
       "      <th>Unnamed: 0</th>\n",
       "      <th>user_id</th>\n",
       "      <th>song_id</th>\n",
       "      <th>play_count</th>\n",
       "    </tr>\n",
       "  </thead>\n",
       "  <tbody>\n",
       "    <tr>\n",
       "      <th>0</th>\n",
       "      <td>0</td>\n",
       "      <td>b80344d063b5ccb3212f76538f3d9e43d87dca9e</td>\n",
       "      <td>SOAKIMP12A8C130995</td>\n",
       "      <td>1</td>\n",
       "    </tr>\n",
       "    <tr>\n",
       "      <th>1</th>\n",
       "      <td>1</td>\n",
       "      <td>b80344d063b5ccb3212f76538f3d9e43d87dca9e</td>\n",
       "      <td>SOBBMDR12A8C13253B</td>\n",
       "      <td>2</td>\n",
       "    </tr>\n",
       "    <tr>\n",
       "      <th>2</th>\n",
       "      <td>2</td>\n",
       "      <td>b80344d063b5ccb3212f76538f3d9e43d87dca9e</td>\n",
       "      <td>SOBXHDL12A81C204C0</td>\n",
       "      <td>1</td>\n",
       "    </tr>\n",
       "    <tr>\n",
       "      <th>3</th>\n",
       "      <td>3</td>\n",
       "      <td>b80344d063b5ccb3212f76538f3d9e43d87dca9e</td>\n",
       "      <td>SOBYHAJ12A6701BF1D</td>\n",
       "      <td>1</td>\n",
       "    </tr>\n",
       "    <tr>\n",
       "      <th>4</th>\n",
       "      <td>4</td>\n",
       "      <td>b80344d063b5ccb3212f76538f3d9e43d87dca9e</td>\n",
       "      <td>SODACBL12A8C13C273</td>\n",
       "      <td>1</td>\n",
       "    </tr>\n",
       "  </tbody>\n",
       "</table>\n",
       "</div>"
      ],
      "text/plain": [
       "   Unnamed: 0                                   user_id             song_id  \\\n",
       "0           0  b80344d063b5ccb3212f76538f3d9e43d87dca9e  SOAKIMP12A8C130995   \n",
       "1           1  b80344d063b5ccb3212f76538f3d9e43d87dca9e  SOBBMDR12A8C13253B   \n",
       "2           2  b80344d063b5ccb3212f76538f3d9e43d87dca9e  SOBXHDL12A81C204C0   \n",
       "3           3  b80344d063b5ccb3212f76538f3d9e43d87dca9e  SOBYHAJ12A6701BF1D   \n",
       "4           4  b80344d063b5ccb3212f76538f3d9e43d87dca9e  SODACBL12A8C13C273   \n",
       "\n",
       "   play_count  \n",
       "0           1  \n",
       "1           2  \n",
       "2           1  \n",
       "3           1  \n",
       "4           1  "
      ]
     },
     "execution_count": 12,
     "metadata": {},
     "output_type": "execute_result"
    }
   ],
   "source": [
    "count_df.head()"
   ]
  },
  {
   "cell_type": "code",
   "execution_count": 13,
   "metadata": {},
   "outputs": [],
   "source": [
    "# drop the column 'Unnamed: 0'  \n",
    "count_df.drop(['Unnamed: 0'], \n",
    "                axis = 1, \n",
    "                inplace = True)\n"
   ]
  },
  {
   "cell_type": "code",
   "execution_count": 14,
   "metadata": {},
   "outputs": [
    {
     "data": {
      "text/html": [
       "<div>\n",
       "<style scoped>\n",
       "    .dataframe tbody tr th:only-of-type {\n",
       "        vertical-align: middle;\n",
       "    }\n",
       "\n",
       "    .dataframe tbody tr th {\n",
       "        vertical-align: top;\n",
       "    }\n",
       "\n",
       "    .dataframe thead th {\n",
       "        text-align: right;\n",
       "    }\n",
       "</style>\n",
       "<table border=\"1\" class=\"dataframe\">\n",
       "  <thead>\n",
       "    <tr style=\"text-align: right;\">\n",
       "      <th></th>\n",
       "      <th>user_id</th>\n",
       "      <th>song_id</th>\n",
       "      <th>play_count</th>\n",
       "    </tr>\n",
       "  </thead>\n",
       "  <tbody>\n",
       "    <tr>\n",
       "      <th>0</th>\n",
       "      <td>b80344d063b5ccb3212f76538f3d9e43d87dca9e</td>\n",
       "      <td>SOAKIMP12A8C130995</td>\n",
       "      <td>1</td>\n",
       "    </tr>\n",
       "    <tr>\n",
       "      <th>1</th>\n",
       "      <td>b80344d063b5ccb3212f76538f3d9e43d87dca9e</td>\n",
       "      <td>SOBBMDR12A8C13253B</td>\n",
       "      <td>2</td>\n",
       "    </tr>\n",
       "    <tr>\n",
       "      <th>2</th>\n",
       "      <td>b80344d063b5ccb3212f76538f3d9e43d87dca9e</td>\n",
       "      <td>SOBXHDL12A81C204C0</td>\n",
       "      <td>1</td>\n",
       "    </tr>\n",
       "    <tr>\n",
       "      <th>3</th>\n",
       "      <td>b80344d063b5ccb3212f76538f3d9e43d87dca9e</td>\n",
       "      <td>SOBYHAJ12A6701BF1D</td>\n",
       "      <td>1</td>\n",
       "    </tr>\n",
       "    <tr>\n",
       "      <th>4</th>\n",
       "      <td>b80344d063b5ccb3212f76538f3d9e43d87dca9e</td>\n",
       "      <td>SODACBL12A8C13C273</td>\n",
       "      <td>1</td>\n",
       "    </tr>\n",
       "  </tbody>\n",
       "</table>\n",
       "</div>"
      ],
      "text/plain": [
       "                                    user_id             song_id  play_count\n",
       "0  b80344d063b5ccb3212f76538f3d9e43d87dca9e  SOAKIMP12A8C130995           1\n",
       "1  b80344d063b5ccb3212f76538f3d9e43d87dca9e  SOBBMDR12A8C13253B           2\n",
       "2  b80344d063b5ccb3212f76538f3d9e43d87dca9e  SOBXHDL12A81C204C0           1\n",
       "3  b80344d063b5ccb3212f76538f3d9e43d87dca9e  SOBYHAJ12A6701BF1D           1\n",
       "4  b80344d063b5ccb3212f76538f3d9e43d87dca9e  SODACBL12A8C13C273           1"
      ]
     },
     "execution_count": 14,
     "metadata": {},
     "output_type": "execute_result"
    }
   ],
   "source": [
    "count_df.head()"
   ]
  },
  {
   "cell_type": "code",
   "execution_count": 15,
   "metadata": {},
   "outputs": [],
   "source": [
    "# fill null values in song_df with fillna()\n",
    "song_df = song_df.fillna(value=0)"
   ]
  },
  {
   "cell_type": "code",
   "execution_count": 16,
   "metadata": {},
   "outputs": [],
   "source": [
    "# apply label encoding for \"song_id\"\n",
    "encoded_song_id =  preprocessing.LabelEncoder()\n",
    "encoded_song_id.fit(song_df.song_id)\n",
    "song_df.song_id = encoded_song_id.transform(song_df.song_id)\n",
    "count_df.song_id = encoded_song_id.transform(count_df.song_id)\n",
    "\n",
    "# apply label encoding for \"user_id\"\n",
    "encoded_user_id =  preprocessing.LabelEncoder()\n",
    "count_df.user_id = encoded_user_id.fit_transform(count_df.user_id)\n"
   ]
  },
  {
   "cell_type": "code",
   "execution_count": 17,
   "metadata": {},
   "outputs": [],
   "source": [
    "# left merge the count_df and song_df data on \"song_id\". Drop duplicates from song_df data simultaneously.\n",
    "\n",
    "merged_df = count_df.merge(song_df.drop_duplicates(['song_id']), \n",
    "                            how='left', \n",
    "                            on='song_id')"
   ]
  },
  {
   "cell_type": "code",
   "execution_count": 18,
   "metadata": {},
   "outputs": [
    {
     "data": {
      "text/html": [
       "<div>\n",
       "<style scoped>\n",
       "    .dataframe tbody tr th:only-of-type {\n",
       "        vertical-align: middle;\n",
       "    }\n",
       "\n",
       "    .dataframe tbody tr th {\n",
       "        vertical-align: top;\n",
       "    }\n",
       "\n",
       "    .dataframe thead th {\n",
       "        text-align: right;\n",
       "    }\n",
       "</style>\n",
       "<table border=\"1\" class=\"dataframe\">\n",
       "  <thead>\n",
       "    <tr style=\"text-align: right;\">\n",
       "      <th></th>\n",
       "      <th>user_id</th>\n",
       "      <th>song_id</th>\n",
       "      <th>play_count</th>\n",
       "      <th>title</th>\n",
       "      <th>release</th>\n",
       "      <th>artist_name</th>\n",
       "      <th>year</th>\n",
       "    </tr>\n",
       "  </thead>\n",
       "  <tbody>\n",
       "    <tr>\n",
       "      <th>0</th>\n",
       "      <td>54961</td>\n",
       "      <td>17370</td>\n",
       "      <td>1</td>\n",
       "      <td>The Cove</td>\n",
       "      <td>Thicker Than Water</td>\n",
       "      <td>Jack Johnson</td>\n",
       "      <td>0</td>\n",
       "    </tr>\n",
       "    <tr>\n",
       "      <th>1</th>\n",
       "      <td>54961</td>\n",
       "      <td>45995</td>\n",
       "      <td>2</td>\n",
       "      <td>Entre Dos Aguas</td>\n",
       "      <td>Flamenco Para Niños</td>\n",
       "      <td>Paco De Lucia</td>\n",
       "      <td>1976</td>\n",
       "    </tr>\n",
       "    <tr>\n",
       "      <th>2</th>\n",
       "      <td>54961</td>\n",
       "      <td>82002</td>\n",
       "      <td>1</td>\n",
       "      <td>Stronger</td>\n",
       "      <td>Graduation</td>\n",
       "      <td>Kanye West</td>\n",
       "      <td>2007</td>\n",
       "    </tr>\n",
       "    <tr>\n",
       "      <th>3</th>\n",
       "      <td>54961</td>\n",
       "      <td>83689</td>\n",
       "      <td>1</td>\n",
       "      <td>Constellations</td>\n",
       "      <td>In Between Dreams</td>\n",
       "      <td>Jack Johnson</td>\n",
       "      <td>2005</td>\n",
       "    </tr>\n",
       "    <tr>\n",
       "      <th>4</th>\n",
       "      <td>54961</td>\n",
       "      <td>129375</td>\n",
       "      <td>1</td>\n",
       "      <td>Learn To Fly</td>\n",
       "      <td>There Is Nothing Left To Lose</td>\n",
       "      <td>Foo Fighters</td>\n",
       "      <td>1999</td>\n",
       "    </tr>\n",
       "  </tbody>\n",
       "</table>\n",
       "</div>"
      ],
      "text/plain": [
       "   user_id  song_id  play_count            title  \\\n",
       "0    54961    17370           1         The Cove   \n",
       "1    54961    45995           2  Entre Dos Aguas   \n",
       "2    54961    82002           1         Stronger   \n",
       "3    54961    83689           1   Constellations   \n",
       "4    54961   129375           1     Learn To Fly   \n",
       "\n",
       "                         release    artist_name  year  \n",
       "0             Thicker Than Water   Jack Johnson     0  \n",
       "1            Flamenco Para Niños  Paco De Lucia  1976  \n",
       "2                     Graduation     Kanye West  2007  \n",
       "3              In Between Dreams   Jack Johnson  2005  \n",
       "4  There Is Nothing Left To Lose   Foo Fighters  1999  "
      ]
     },
     "execution_count": 18,
     "metadata": {},
     "output_type": "execute_result"
    }
   ],
   "source": [
    "merged_df.head()"
   ]
  },
  {
   "cell_type": "markdown",
   "metadata": {},
   "source": [
    "**Observations** \n",
    "- One users can have multiple song_id, but only a single user_id. \n",
    "- There may be many unique values in the dataset. "
   ]
  },
  {
   "cell_type": "code",
   "execution_count": 19,
   "metadata": {},
   "outputs": [
    {
     "data": {
      "text/html": [
       "<div>\n",
       "<style scoped>\n",
       "    .dataframe tbody tr th:only-of-type {\n",
       "        vertical-align: middle;\n",
       "    }\n",
       "\n",
       "    .dataframe tbody tr th {\n",
       "        vertical-align: top;\n",
       "    }\n",
       "\n",
       "    .dataframe thead th {\n",
       "        text-align: right;\n",
       "    }\n",
       "</style>\n",
       "<table border=\"1\" class=\"dataframe\">\n",
       "  <thead>\n",
       "    <tr style=\"text-align: right;\">\n",
       "      <th></th>\n",
       "      <th>user_id</th>\n",
       "      <th>song_id</th>\n",
       "      <th>play_count</th>\n",
       "      <th>title</th>\n",
       "      <th>release</th>\n",
       "      <th>artist_name</th>\n",
       "      <th>year</th>\n",
       "    </tr>\n",
       "  </thead>\n",
       "  <tbody>\n",
       "    <tr>\n",
       "      <th>count</th>\n",
       "      <td>2.000000e+06</td>\n",
       "      <td>2.000000e+06</td>\n",
       "      <td>2.000000e+06</td>\n",
       "      <td>2000000</td>\n",
       "      <td>2000000</td>\n",
       "      <td>2000000</td>\n",
       "      <td>2.000000e+06</td>\n",
       "    </tr>\n",
       "    <tr>\n",
       "      <th>unique</th>\n",
       "      <td>NaN</td>\n",
       "      <td>NaN</td>\n",
       "      <td>NaN</td>\n",
       "      <td>9567</td>\n",
       "      <td>5388</td>\n",
       "      <td>3375</td>\n",
       "      <td>NaN</td>\n",
       "    </tr>\n",
       "    <tr>\n",
       "      <th>top</th>\n",
       "      <td>NaN</td>\n",
       "      <td>NaN</td>\n",
       "      <td>NaN</td>\n",
       "      <td>Sehr kosmisch</td>\n",
       "      <td>Greatest Hits</td>\n",
       "      <td>Coldplay</td>\n",
       "      <td>NaN</td>\n",
       "    </tr>\n",
       "    <tr>\n",
       "      <th>freq</th>\n",
       "      <td>NaN</td>\n",
       "      <td>NaN</td>\n",
       "      <td>NaN</td>\n",
       "      <td>8277</td>\n",
       "      <td>15692</td>\n",
       "      <td>29422</td>\n",
       "      <td>NaN</td>\n",
       "    </tr>\n",
       "    <tr>\n",
       "      <th>mean</th>\n",
       "      <td>3.813599e+04</td>\n",
       "      <td>5.097695e+05</td>\n",
       "      <td>3.045485e+00</td>\n",
       "      <td>NaN</td>\n",
       "      <td>NaN</td>\n",
       "      <td>NaN</td>\n",
       "      <td>1.628645e+03</td>\n",
       "    </tr>\n",
       "    <tr>\n",
       "      <th>std</th>\n",
       "      <td>2.204443e+04</td>\n",
       "      <td>2.863777e+05</td>\n",
       "      <td>6.579720e+00</td>\n",
       "      <td>NaN</td>\n",
       "      <td>NaN</td>\n",
       "      <td>NaN</td>\n",
       "      <td>7.787283e+02</td>\n",
       "    </tr>\n",
       "    <tr>\n",
       "      <th>min</th>\n",
       "      <td>0.000000e+00</td>\n",
       "      <td>1.900000e+01</td>\n",
       "      <td>1.000000e+00</td>\n",
       "      <td>NaN</td>\n",
       "      <td>NaN</td>\n",
       "      <td>NaN</td>\n",
       "      <td>0.000000e+00</td>\n",
       "    </tr>\n",
       "    <tr>\n",
       "      <th>25%</th>\n",
       "      <td>1.911200e+04</td>\n",
       "      <td>2.622680e+05</td>\n",
       "      <td>1.000000e+00</td>\n",
       "      <td>NaN</td>\n",
       "      <td>NaN</td>\n",
       "      <td>NaN</td>\n",
       "      <td>1.984000e+03</td>\n",
       "    </tr>\n",
       "    <tr>\n",
       "      <th>50%</th>\n",
       "      <td>3.794900e+04</td>\n",
       "      <td>5.232100e+05</td>\n",
       "      <td>1.000000e+00</td>\n",
       "      <td>NaN</td>\n",
       "      <td>NaN</td>\n",
       "      <td>NaN</td>\n",
       "      <td>2.002000e+03</td>\n",
       "    </tr>\n",
       "    <tr>\n",
       "      <th>75%</th>\n",
       "      <td>5.713500e+04</td>\n",
       "      <td>7.603520e+05</td>\n",
       "      <td>3.000000e+00</td>\n",
       "      <td>NaN</td>\n",
       "      <td>NaN</td>\n",
       "      <td>NaN</td>\n",
       "      <td>2.007000e+03</td>\n",
       "    </tr>\n",
       "    <tr>\n",
       "      <th>max</th>\n",
       "      <td>7.635200e+04</td>\n",
       "      <td>9.990360e+05</td>\n",
       "      <td>2.213000e+03</td>\n",
       "      <td>NaN</td>\n",
       "      <td>NaN</td>\n",
       "      <td>NaN</td>\n",
       "      <td>2.010000e+03</td>\n",
       "    </tr>\n",
       "  </tbody>\n",
       "</table>\n",
       "</div>"
      ],
      "text/plain": [
       "             user_id       song_id    play_count          title  \\\n",
       "count   2.000000e+06  2.000000e+06  2.000000e+06        2000000   \n",
       "unique           NaN           NaN           NaN           9567   \n",
       "top              NaN           NaN           NaN  Sehr kosmisch   \n",
       "freq             NaN           NaN           NaN           8277   \n",
       "mean    3.813599e+04  5.097695e+05  3.045485e+00            NaN   \n",
       "std     2.204443e+04  2.863777e+05  6.579720e+00            NaN   \n",
       "min     0.000000e+00  1.900000e+01  1.000000e+00            NaN   \n",
       "25%     1.911200e+04  2.622680e+05  1.000000e+00            NaN   \n",
       "50%     3.794900e+04  5.232100e+05  1.000000e+00            NaN   \n",
       "75%     5.713500e+04  7.603520e+05  3.000000e+00            NaN   \n",
       "max     7.635200e+04  9.990360e+05  2.213000e+03            NaN   \n",
       "\n",
       "              release artist_name          year  \n",
       "count         2000000     2000000  2.000000e+06  \n",
       "unique           5388        3375           NaN  \n",
       "top     Greatest Hits    Coldplay           NaN  \n",
       "freq            15692       29422           NaN  \n",
       "mean              NaN         NaN  1.628645e+03  \n",
       "std               NaN         NaN  7.787283e+02  \n",
       "min               NaN         NaN  0.000000e+00  \n",
       "25%               NaN         NaN  1.984000e+03  \n",
       "50%               NaN         NaN  2.002000e+03  \n",
       "75%               NaN         NaN  2.007000e+03  \n",
       "max               NaN         NaN  2.010000e+03  "
      ]
     },
     "execution_count": 19,
     "metadata": {},
     "output_type": "execute_result"
    }
   ],
   "source": [
    "merged_df.describe(include = [np.int, np.object_])"
   ]
  },
  {
   "cell_type": "code",
   "execution_count": 20,
   "metadata": {},
   "outputs": [
    {
     "data": {
      "text/html": [
       "<div>\n",
       "<style scoped>\n",
       "    .dataframe tbody tr th:only-of-type {\n",
       "        vertical-align: middle;\n",
       "    }\n",
       "\n",
       "    .dataframe tbody tr th {\n",
       "        vertical-align: top;\n",
       "    }\n",
       "\n",
       "    .dataframe thead th {\n",
       "        text-align: right;\n",
       "    }\n",
       "</style>\n",
       "<table border=\"1\" class=\"dataframe\">\n",
       "  <thead>\n",
       "    <tr style=\"text-align: right;\">\n",
       "      <th></th>\n",
       "      <th>song_id</th>\n",
       "      <th>title</th>\n",
       "      <th>release</th>\n",
       "      <th>artist_name</th>\n",
       "      <th>year</th>\n",
       "    </tr>\n",
       "  </thead>\n",
       "  <tbody>\n",
       "    <tr>\n",
       "      <th>0</th>\n",
       "      <td>664054</td>\n",
       "      <td>Silent Night</td>\n",
       "      <td>Monster Ballads X-Mas</td>\n",
       "      <td>Faster Pussy cat</td>\n",
       "      <td>2003</td>\n",
       "    </tr>\n",
       "    <tr>\n",
       "      <th>1</th>\n",
       "      <td>834264</td>\n",
       "      <td>Tanssi vaan</td>\n",
       "      <td>Karkuteillä</td>\n",
       "      <td>Karkkiautomaatti</td>\n",
       "      <td>1995</td>\n",
       "    </tr>\n",
       "    <tr>\n",
       "      <th>2</th>\n",
       "      <td>286654</td>\n",
       "      <td>No One Could Ever</td>\n",
       "      <td>Butter</td>\n",
       "      <td>Hudson Mohawke</td>\n",
       "      <td>2006</td>\n",
       "    </tr>\n",
       "    <tr>\n",
       "      <th>3</th>\n",
       "      <td>66717</td>\n",
       "      <td>Si Vos Querés</td>\n",
       "      <td>De Culo</td>\n",
       "      <td>Yerba Brava</td>\n",
       "      <td>2003</td>\n",
       "    </tr>\n",
       "    <tr>\n",
       "      <th>4</th>\n",
       "      <td>324820</td>\n",
       "      <td>Tangle Of Aspens</td>\n",
       "      <td>Rene Ablaze Presents Winter Sessions</td>\n",
       "      <td>Der Mystic</td>\n",
       "      <td>0</td>\n",
       "    </tr>\n",
       "    <tr>\n",
       "      <th>...</th>\n",
       "      <td>...</td>\n",
       "      <td>...</td>\n",
       "      <td>...</td>\n",
       "      <td>...</td>\n",
       "      <td>...</td>\n",
       "    </tr>\n",
       "    <tr>\n",
       "      <th>999995</th>\n",
       "      <td>787007</td>\n",
       "      <td>O Samba Da Vida</td>\n",
       "      <td>Pacha V.I.P.</td>\n",
       "      <td>Kiko Navarro</td>\n",
       "      <td>0</td>\n",
       "    </tr>\n",
       "    <tr>\n",
       "      <th>999996</th>\n",
       "      <td>919087</td>\n",
       "      <td>Jago Chhadeo</td>\n",
       "      <td>Naale Baba Lassi Pee Gya</td>\n",
       "      <td>Kuldeep Manak</td>\n",
       "      <td>0</td>\n",
       "    </tr>\n",
       "    <tr>\n",
       "      <th>999997</th>\n",
       "      <td>318719</td>\n",
       "      <td>Novemba</td>\n",
       "      <td>Dub_Connected: electronic music</td>\n",
       "      <td>Gabriel Le Mar</td>\n",
       "      <td>0</td>\n",
       "    </tr>\n",
       "    <tr>\n",
       "      <th>999998</th>\n",
       "      <td>491369</td>\n",
       "      <td>Faraday</td>\n",
       "      <td>The Trance Collection Vol. 2</td>\n",
       "      <td>Elude</td>\n",
       "      <td>0</td>\n",
       "    </tr>\n",
       "    <tr>\n",
       "      <th>999999</th>\n",
       "      <td>893047</td>\n",
       "      <td>Fernweh feat. Sektion Kuchikäschtli</td>\n",
       "      <td>So Oder So</td>\n",
       "      <td>Texta</td>\n",
       "      <td>2004</td>\n",
       "    </tr>\n",
       "  </tbody>\n",
       "</table>\n",
       "<p>1000000 rows × 5 columns</p>\n",
       "</div>"
      ],
      "text/plain": [
       "        song_id                                title  \\\n",
       "0        664054                         Silent Night   \n",
       "1        834264                          Tanssi vaan   \n",
       "2        286654                    No One Could Ever   \n",
       "3         66717                        Si Vos Querés   \n",
       "4        324820                     Tangle Of Aspens   \n",
       "...         ...                                  ...   \n",
       "999995   787007                      O Samba Da Vida   \n",
       "999996   919087                         Jago Chhadeo   \n",
       "999997   318719                              Novemba   \n",
       "999998   491369                              Faraday   \n",
       "999999   893047  Fernweh feat. Sektion Kuchikäschtli   \n",
       "\n",
       "                                     release       artist_name  year  \n",
       "0                      Monster Ballads X-Mas  Faster Pussy cat  2003  \n",
       "1                                Karkuteillä  Karkkiautomaatti  1995  \n",
       "2                                     Butter    Hudson Mohawke  2006  \n",
       "3                                    De Culo       Yerba Brava  2003  \n",
       "4       Rene Ablaze Presents Winter Sessions        Der Mystic     0  \n",
       "...                                      ...               ...   ...  \n",
       "999995                          Pacha V.I.P.      Kiko Navarro     0  \n",
       "999996              Naale Baba Lassi Pee Gya     Kuldeep Manak     0  \n",
       "999997       Dub_Connected: electronic music    Gabriel Le Mar     0  \n",
       "999998          The Trance Collection Vol. 2             Elude     0  \n",
       "999999                            So Oder So             Texta  2004  \n",
       "\n",
       "[1000000 rows x 5 columns]"
      ]
     },
     "execution_count": 20,
     "metadata": {},
     "output_type": "execute_result"
    }
   ],
   "source": [
    "song_df.fillna(value=0)"
   ]
  },
  {
   "cell_type": "code",
   "execution_count": 21,
   "metadata": {},
   "outputs": [
    {
     "name": "stdout",
     "output_type": "stream",
     "text": [
      "<class 'pandas.core.frame.DataFrame'>\n",
      "Int64Index: 2000000 entries, 0 to 1999999\n",
      "Data columns (total 7 columns):\n",
      " #   Column       Dtype \n",
      "---  ------       ----- \n",
      " 0   user_id      int64 \n",
      " 1   song_id      int64 \n",
      " 2   play_count   int64 \n",
      " 3   title        object\n",
      " 4   release      object\n",
      " 5   artist_name  object\n",
      " 6   year         int64 \n",
      "dtypes: int64(4), object(3)\n",
      "memory usage: 122.1+ MB\n"
     ]
    }
   ],
   "source": [
    "merged_df.info()"
   ]
  },
  {
   "cell_type": "markdown",
   "metadata": {},
   "source": [
    "**As this dataset is very large and has 2,000,000 observations, it is not computationally possible to build a model using this. Moreover, there are many users who had a single interaction with a single song and users who had multiple interactions with a single song. It is necessary to reduce the dataset by considering certain logical assumptions.**"
   ]
  },
  {
   "cell_type": "code",
   "execution_count": 22,
   "metadata": {},
   "outputs": [],
   "source": [
    "# get the column containing the users \n",
    "users = merged_df.user_id \n",
    "# create dictionary from users to their number of ratings\n",
    "user_ratings_count = dict()\n",
    "for user in users:\n",
    "    # if there is alreay a user, just add 1 to the rating\n",
    "    if user in user_ratings_count:\n",
    "        user_ratings_count[user] +=1\n",
    "        # otherwise set the rating count to 1\n",
    "    else:\n",
    "        user_ratings_count[user] = 1\n"
   ]
  },
  {
   "cell_type": "code",
   "execution_count": 23,
   "metadata": {},
   "outputs": [],
   "source": [
    "# set a threshold of users' listen counts to at least 90 songs \n",
    "RATINGS_CUTOFF = 90\n",
    "remove_users = []\n",
    "def ratings_cutoff():\n",
    "    for user, num_ratings in user_ratings_count.items():\n",
    "        if num_ratings < RATINGS_CUTOFF:\n",
    "            remove_users.append(user)\n",
    "    df_final = merged_df.loc[~merged_df.user_id.isin(remove_users)]"
   ]
  },
  {
   "cell_type": "code",
   "execution_count": 24,
   "metadata": {},
   "outputs": [],
   "source": [
    "# get the column containing the users\n",
    "users = merged_df.song_id\n",
    "# create a dictionary from users to their number of songs\n",
    "song_ratings_count = dict()\n",
    "for user in users:\n",
    "    # if we already have the user, just add 1 to their rating count\n",
    "    if user in song_ratings_count:\n",
    "        song_ratings_count[user] += 1\n",
    "    # otherwise, set their rating count to 1\n",
    "    else:\n",
    "        song_ratings_count[user] = 1    "
   ]
  },
  {
   "cell_type": "code",
   "execution_count": 25,
   "metadata": {},
   "outputs": [],
   "source": [
    "# set a threshold of users' listen counts to at least 120 songs \n",
    "RATINGS_CUTOFF = 120\n",
    "remove_users = []\n",
    "for user, num_ratings in song_ratings_count.items():\n",
    "    if num_ratings < RATINGS_CUTOFF:\n",
    "        remove_users.append(user)\n",
    "df_final= merged_df.loc[~merged_df.song_id.isin(remove_users)]\n"
   ]
  },
  {
   "cell_type": "code",
   "execution_count": 26,
   "metadata": {},
   "outputs": [
    {
     "data": {
      "text/html": [
       "<div>\n",
       "<style scoped>\n",
       "    .dataframe tbody tr th:only-of-type {\n",
       "        vertical-align: middle;\n",
       "    }\n",
       "\n",
       "    .dataframe tbody tr th {\n",
       "        vertical-align: top;\n",
       "    }\n",
       "\n",
       "    .dataframe thead th {\n",
       "        text-align: right;\n",
       "    }\n",
       "</style>\n",
       "<table border=\"1\" class=\"dataframe\">\n",
       "  <thead>\n",
       "    <tr style=\"text-align: right;\">\n",
       "      <th></th>\n",
       "      <th>user_id</th>\n",
       "      <th>song_id</th>\n",
       "      <th>play_count</th>\n",
       "      <th>title</th>\n",
       "      <th>release</th>\n",
       "      <th>artist_name</th>\n",
       "      <th>year</th>\n",
       "    </tr>\n",
       "  </thead>\n",
       "  <tbody>\n",
       "    <tr>\n",
       "      <th>0</th>\n",
       "      <td>54961</td>\n",
       "      <td>17370</td>\n",
       "      <td>1</td>\n",
       "      <td>The Cove</td>\n",
       "      <td>Thicker Than Water</td>\n",
       "      <td>Jack Johnson</td>\n",
       "      <td>0</td>\n",
       "    </tr>\n",
       "    <tr>\n",
       "      <th>1</th>\n",
       "      <td>54961</td>\n",
       "      <td>45995</td>\n",
       "      <td>2</td>\n",
       "      <td>Entre Dos Aguas</td>\n",
       "      <td>Flamenco Para Niños</td>\n",
       "      <td>Paco De Lucia</td>\n",
       "      <td>1976</td>\n",
       "    </tr>\n",
       "    <tr>\n",
       "      <th>2</th>\n",
       "      <td>54961</td>\n",
       "      <td>82002</td>\n",
       "      <td>1</td>\n",
       "      <td>Stronger</td>\n",
       "      <td>Graduation</td>\n",
       "      <td>Kanye West</td>\n",
       "      <td>2007</td>\n",
       "    </tr>\n",
       "    <tr>\n",
       "      <th>3</th>\n",
       "      <td>54961</td>\n",
       "      <td>83689</td>\n",
       "      <td>1</td>\n",
       "      <td>Constellations</td>\n",
       "      <td>In Between Dreams</td>\n",
       "      <td>Jack Johnson</td>\n",
       "      <td>2005</td>\n",
       "    </tr>\n",
       "    <tr>\n",
       "      <th>4</th>\n",
       "      <td>54961</td>\n",
       "      <td>129375</td>\n",
       "      <td>1</td>\n",
       "      <td>Learn To Fly</td>\n",
       "      <td>There Is Nothing Left To Lose</td>\n",
       "      <td>Foo Fighters</td>\n",
       "      <td>1999</td>\n",
       "    </tr>\n",
       "    <tr>\n",
       "      <th>...</th>\n",
       "      <td>...</td>\n",
       "      <td>...</td>\n",
       "      <td>...</td>\n",
       "      <td>...</td>\n",
       "      <td>...</td>\n",
       "      <td>...</td>\n",
       "      <td>...</td>\n",
       "    </tr>\n",
       "    <tr>\n",
       "      <th>114</th>\n",
       "      <td>47087</td>\n",
       "      <td>105685</td>\n",
       "      <td>2</td>\n",
       "      <td>Life In Technicolor</td>\n",
       "      <td>Viva La Vida Or Death And All His Friends</td>\n",
       "      <td>Coldplay</td>\n",
       "      <td>2008</td>\n",
       "    </tr>\n",
       "    <tr>\n",
       "      <th>115</th>\n",
       "      <td>47087</td>\n",
       "      <td>122206</td>\n",
       "      <td>2</td>\n",
       "      <td>Clocks</td>\n",
       "      <td>A Rush Of Blood To The Head</td>\n",
       "      <td>Coldplay</td>\n",
       "      <td>2002</td>\n",
       "    </tr>\n",
       "    <tr>\n",
       "      <th>116</th>\n",
       "      <td>47087</td>\n",
       "      <td>208426</td>\n",
       "      <td>2</td>\n",
       "      <td>Strawberry Swing</td>\n",
       "      <td>Viva La Vida - Prospekt's March Edition</td>\n",
       "      <td>Coldplay</td>\n",
       "      <td>2008</td>\n",
       "    </tr>\n",
       "    <tr>\n",
       "      <th>117</th>\n",
       "      <td>47087</td>\n",
       "      <td>341214</td>\n",
       "      <td>4</td>\n",
       "      <td>Life In Technicolor ii</td>\n",
       "      <td>Viva La Vida - Prospekt's March Edition</td>\n",
       "      <td>Coldplay</td>\n",
       "      <td>2008</td>\n",
       "    </tr>\n",
       "    <tr>\n",
       "      <th>118</th>\n",
       "      <td>47087</td>\n",
       "      <td>434903</td>\n",
       "      <td>2</td>\n",
       "      <td>The Scientist</td>\n",
       "      <td>The Scientist</td>\n",
       "      <td>Coldplay</td>\n",
       "      <td>2002</td>\n",
       "    </tr>\n",
       "  </tbody>\n",
       "</table>\n",
       "<p>100 rows × 7 columns</p>\n",
       "</div>"
      ],
      "text/plain": [
       "     user_id  song_id  play_count                   title  \\\n",
       "0      54961    17370           1                The Cove   \n",
       "1      54961    45995           2         Entre Dos Aguas   \n",
       "2      54961    82002           1                Stronger   \n",
       "3      54961    83689           1          Constellations   \n",
       "4      54961   129375           1            Learn To Fly   \n",
       "..       ...      ...         ...                     ...   \n",
       "114    47087   105685           2     Life In Technicolor   \n",
       "115    47087   122206           2                  Clocks   \n",
       "116    47087   208426           2        Strawberry Swing   \n",
       "117    47087   341214           4  Life In Technicolor ii   \n",
       "118    47087   434903           2           The Scientist   \n",
       "\n",
       "                                       release    artist_name  year  \n",
       "0                           Thicker Than Water   Jack Johnson     0  \n",
       "1                          Flamenco Para Niños  Paco De Lucia  1976  \n",
       "2                                   Graduation     Kanye West  2007  \n",
       "3                            In Between Dreams   Jack Johnson  2005  \n",
       "4                There Is Nothing Left To Lose   Foo Fighters  1999  \n",
       "..                                         ...            ...   ...  \n",
       "114  Viva La Vida Or Death And All His Friends       Coldplay  2008  \n",
       "115                A Rush Of Blood To The Head       Coldplay  2002  \n",
       "116    Viva La Vida - Prospekt's March Edition       Coldplay  2008  \n",
       "117    Viva La Vida - Prospekt's March Edition       Coldplay  2008  \n",
       "118                              The Scientist       Coldplay  2002  \n",
       "\n",
       "[100 rows x 7 columns]"
      ]
     },
     "execution_count": 26,
     "metadata": {},
     "output_type": "execute_result"
    }
   ],
   "source": [
    "df_final.head(100)"
   ]
  },
  {
   "cell_type": "markdown",
   "metadata": {},
   "source": [
    "**Observations**\n",
    "- There are seven columns in the new merged and organized dataset. \n",
    "- There may be many users who have played a song only one time. \n",
    "- Some users played a song multiple times. "
   ]
  },
  {
   "cell_type": "code",
   "execution_count": 27,
   "metadata": {},
   "outputs": [
    {
     "data": {
      "text/html": [
       "<div>\n",
       "<style scoped>\n",
       "    .dataframe tbody tr th:only-of-type {\n",
       "        vertical-align: middle;\n",
       "    }\n",
       "\n",
       "    .dataframe tbody tr th {\n",
       "        vertical-align: top;\n",
       "    }\n",
       "\n",
       "    .dataframe thead th {\n",
       "        text-align: right;\n",
       "    }\n",
       "</style>\n",
       "<table border=\"1\" class=\"dataframe\">\n",
       "  <thead>\n",
       "    <tr style=\"text-align: right;\">\n",
       "      <th></th>\n",
       "      <th>user_id</th>\n",
       "      <th>song_id</th>\n",
       "      <th>play_count</th>\n",
       "      <th>title</th>\n",
       "      <th>release</th>\n",
       "      <th>artist_name</th>\n",
       "      <th>year</th>\n",
       "    </tr>\n",
       "  </thead>\n",
       "  <tbody>\n",
       "    <tr>\n",
       "      <th>0</th>\n",
       "      <td>54961</td>\n",
       "      <td>17370</td>\n",
       "      <td>1</td>\n",
       "      <td>The Cove</td>\n",
       "      <td>Thicker Than Water</td>\n",
       "      <td>Jack Johnson</td>\n",
       "      <td>0</td>\n",
       "    </tr>\n",
       "    <tr>\n",
       "      <th>1</th>\n",
       "      <td>54961</td>\n",
       "      <td>45995</td>\n",
       "      <td>2</td>\n",
       "      <td>Entre Dos Aguas</td>\n",
       "      <td>Flamenco Para Niños</td>\n",
       "      <td>Paco De Lucia</td>\n",
       "      <td>1976</td>\n",
       "    </tr>\n",
       "    <tr>\n",
       "      <th>2</th>\n",
       "      <td>54961</td>\n",
       "      <td>82002</td>\n",
       "      <td>1</td>\n",
       "      <td>Stronger</td>\n",
       "      <td>Graduation</td>\n",
       "      <td>Kanye West</td>\n",
       "      <td>2007</td>\n",
       "    </tr>\n",
       "    <tr>\n",
       "      <th>3</th>\n",
       "      <td>54961</td>\n",
       "      <td>83689</td>\n",
       "      <td>1</td>\n",
       "      <td>Constellations</td>\n",
       "      <td>In Between Dreams</td>\n",
       "      <td>Jack Johnson</td>\n",
       "      <td>2005</td>\n",
       "    </tr>\n",
       "    <tr>\n",
       "      <th>4</th>\n",
       "      <td>54961</td>\n",
       "      <td>129375</td>\n",
       "      <td>1</td>\n",
       "      <td>Learn To Fly</td>\n",
       "      <td>There Is Nothing Left To Lose</td>\n",
       "      <td>Foo Fighters</td>\n",
       "      <td>1999</td>\n",
       "    </tr>\n",
       "    <tr>\n",
       "      <th>...</th>\n",
       "      <td>...</td>\n",
       "      <td>...</td>\n",
       "      <td>...</td>\n",
       "      <td>...</td>\n",
       "      <td>...</td>\n",
       "      <td>...</td>\n",
       "      <td>...</td>\n",
       "    </tr>\n",
       "    <tr>\n",
       "      <th>1999994</th>\n",
       "      <td>64590</td>\n",
       "      <td>359346</td>\n",
       "      <td>4</td>\n",
       "      <td>Unwell (Album Version)</td>\n",
       "      <td>More Than You Think You Are</td>\n",
       "      <td>matchbox twenty</td>\n",
       "      <td>2003</td>\n",
       "    </tr>\n",
       "    <tr>\n",
       "      <th>1999995</th>\n",
       "      <td>64590</td>\n",
       "      <td>385009</td>\n",
       "      <td>2</td>\n",
       "      <td>Ignorance (Album Version)</td>\n",
       "      <td>Ignorance</td>\n",
       "      <td>Paramore</td>\n",
       "      <td>0</td>\n",
       "    </tr>\n",
       "    <tr>\n",
       "      <th>1999996</th>\n",
       "      <td>64590</td>\n",
       "      <td>392598</td>\n",
       "      <td>4</td>\n",
       "      <td>Two Is Better Than One</td>\n",
       "      <td>Love Drunk</td>\n",
       "      <td>Boys Like Girls featuring Taylor Swift</td>\n",
       "      <td>2009</td>\n",
       "    </tr>\n",
       "    <tr>\n",
       "      <th>1999997</th>\n",
       "      <td>64590</td>\n",
       "      <td>393702</td>\n",
       "      <td>3</td>\n",
       "      <td>What I've Done (Album Version)</td>\n",
       "      <td>What I've Done</td>\n",
       "      <td>Linkin Park</td>\n",
       "      <td>2007</td>\n",
       "    </tr>\n",
       "    <tr>\n",
       "      <th>1999998</th>\n",
       "      <td>64590</td>\n",
       "      <td>409426</td>\n",
       "      <td>1</td>\n",
       "      <td>Up</td>\n",
       "      <td>My Worlds</td>\n",
       "      <td>Justin Bieber</td>\n",
       "      <td>2010</td>\n",
       "    </tr>\n",
       "  </tbody>\n",
       "</table>\n",
       "<p>1575883 rows × 7 columns</p>\n",
       "</div>"
      ],
      "text/plain": [
       "         user_id  song_id  play_count                           title  \\\n",
       "0          54961    17370           1                        The Cove   \n",
       "1          54961    45995           2                 Entre Dos Aguas   \n",
       "2          54961    82002           1                        Stronger   \n",
       "3          54961    83689           1                  Constellations   \n",
       "4          54961   129375           1                    Learn To Fly   \n",
       "...          ...      ...         ...                             ...   \n",
       "1999994    64590   359346           4          Unwell (Album Version)   \n",
       "1999995    64590   385009           2       Ignorance (Album Version)   \n",
       "1999996    64590   392598           4          Two Is Better Than One   \n",
       "1999997    64590   393702           3  What I've Done (Album Version)   \n",
       "1999998    64590   409426           1                              Up   \n",
       "\n",
       "                               release  \\\n",
       "0                   Thicker Than Water   \n",
       "1                  Flamenco Para Niños   \n",
       "2                           Graduation   \n",
       "3                    In Between Dreams   \n",
       "4        There Is Nothing Left To Lose   \n",
       "...                                ...   \n",
       "1999994    More Than You Think You Are   \n",
       "1999995                      Ignorance   \n",
       "1999996                     Love Drunk   \n",
       "1999997                 What I've Done   \n",
       "1999998                      My Worlds   \n",
       "\n",
       "                                    artist_name  year  \n",
       "0                                  Jack Johnson     0  \n",
       "1                                 Paco De Lucia  1976  \n",
       "2                                    Kanye West  2007  \n",
       "3                                  Jack Johnson  2005  \n",
       "4                                  Foo Fighters  1999  \n",
       "...                                         ...   ...  \n",
       "1999994                         matchbox twenty  2003  \n",
       "1999995                                Paramore     0  \n",
       "1999996  Boys Like Girls featuring Taylor Swift  2009  \n",
       "1999997                             Linkin Park  2007  \n",
       "1999998                           Justin Bieber  2010  \n",
       "\n",
       "[1575883 rows x 7 columns]"
      ]
     },
     "execution_count": 27,
     "metadata": {},
     "output_type": "execute_result"
    }
   ],
   "source": [
    "# fill null values \n",
    "df_final.fillna(value=0)"
   ]
  },
  {
   "cell_type": "code",
   "execution_count": 28,
   "metadata": {},
   "outputs": [
    {
     "name": "stdout",
     "output_type": "stream",
     "text": [
      "<class 'pandas.core.frame.DataFrame'>\n",
      "Int64Index: 1575883 entries, 0 to 1999998\n",
      "Data columns (total 7 columns):\n",
      " #   Column       Non-Null Count    Dtype \n",
      "---  ------       --------------    ----- \n",
      " 0   user_id      1575883 non-null  int64 \n",
      " 1   song_id      1575883 non-null  int64 \n",
      " 2   play_count   1575883 non-null  int64 \n",
      " 3   title        1575883 non-null  object\n",
      " 4   release      1575883 non-null  object\n",
      " 5   artist_name  1575883 non-null  object\n",
      " 6   year         1575883 non-null  int64 \n",
      "dtypes: int64(4), object(3)\n",
      "memory usage: 96.2+ MB\n"
     ]
    }
   ],
   "source": [
    "df_final.info()"
   ]
  },
  {
   "cell_type": "markdown",
   "metadata": {},
   "source": [
    "- The df_final dataset is very large and has 1,575,883 observations.\n",
    "- It is difficult computationally build a model using this dataset at that size.\n",
    "- The dataset should be somewhat reduced and normalized. "
   ]
  },
  {
   "cell_type": "code",
   "execution_count": 29,
   "metadata": {},
   "outputs": [
    {
     "data": {
      "image/png": "[encoded data removed]",
      "text/plain": [
       "<Figure size 432x288 with 1 Axes>"
      ]
     },
     "metadata": {
      "needs_background": "light"
     },
     "output_type": "display_data"
    }
   ],
   "source": [
    "# histogram for play_count in log scale\n",
    "df_final.fillna(value=0)\n",
    "play_count_histogram = sns.distplot(df_final.play_count, kde=False, rug=False, bins=20)\n",
    "play_count_histogram.set_yscale('log')"
   ]
  },
  {
   "cell_type": "markdown",
   "metadata": {},
   "source": [
    "**Observations**\n",
    "- There are lots of single users who have only played a song once. \n",
    "- The data also has some users who have played a song over 2000 times, and this seems odd. \n",
    "- The data is right skewed, suggesting that some values are driving the mean up. "
   ]
  },
  {
   "cell_type": "markdown",
   "metadata": {},
   "source": [
    "##### **Exploratory Data Analysis**"
   ]
  },
  {
   "cell_type": "markdown",
   "metadata": {},
   "source": [
    "**Shape of the Data**"
   ]
  },
  {
   "cell_type": "code",
   "execution_count": 30,
   "metadata": {},
   "outputs": [
    {
     "data": {
      "text/plain": [
       "user_id         int64\n",
       "song_id         int64\n",
       "play_count      int64\n",
       "title          object\n",
       "release        object\n",
       "artist_name    object\n",
       "year            int64\n",
       "dtype: object"
      ]
     },
     "execution_count": 30,
     "metadata": {},
     "output_type": "execute_result"
    }
   ],
   "source": [
    "# check the data types \n",
    "df_final.dtypes"
   ]
  },
  {
   "cell_type": "code",
   "execution_count": 31,
   "metadata": {},
   "outputs": [
    {
     "data": {
      "text/plain": [
       "user_id        75579\n",
       "song_id         5229\n",
       "play_count       282\n",
       "title           5082\n",
       "release         3044\n",
       "artist_name     1970\n",
       "year              57\n",
       "dtype: int64"
      ]
     },
     "execution_count": 31,
     "metadata": {},
     "output_type": "execute_result"
    }
   ],
   "source": [
    "# number of unique values in the df_final\n",
    "df_final.nunique()"
   ]
  },
  {
   "cell_type": "markdown",
   "metadata": {},
   "source": [
    "**Observations**\n",
    "- There are a lot of unique values in the df_final dataset. \n",
    "- Look into the specifics of the values that are unique."
   ]
  },
  {
   "cell_type": "markdown",
   "metadata": {},
   "source": [
    "**Is there a song that has been interacted with more than once by the same user?**"
   ]
  },
  {
   "cell_type": "code",
   "execution_count": 32,
   "metadata": {},
   "outputs": [
    {
     "data": {
      "text/html": [
       "<div>\n",
       "<style scoped>\n",
       "    .dataframe tbody tr th:only-of-type {\n",
       "        vertical-align: middle;\n",
       "    }\n",
       "\n",
       "    .dataframe tbody tr th {\n",
       "        vertical-align: top;\n",
       "    }\n",
       "\n",
       "    .dataframe thead th {\n",
       "        text-align: right;\n",
       "    }\n",
       "</style>\n",
       "<table border=\"1\" class=\"dataframe\">\n",
       "  <thead>\n",
       "    <tr style=\"text-align: right;\">\n",
       "      <th></th>\n",
       "      <th></th>\n",
       "      <th>play_count</th>\n",
       "      <th>year</th>\n",
       "    </tr>\n",
       "    <tr>\n",
       "      <th>user_id</th>\n",
       "      <th>song_id</th>\n",
       "      <th></th>\n",
       "      <th></th>\n",
       "    </tr>\n",
       "  </thead>\n",
       "  <tbody>\n",
       "    <tr>\n",
       "      <th rowspan=\"4\" valign=\"top\">0</th>\n",
       "      <th>392231</th>\n",
       "      <td>1</td>\n",
       "      <td>2003</td>\n",
       "    </tr>\n",
       "    <tr>\n",
       "      <th>541321</th>\n",
       "      <td>3</td>\n",
       "      <td>0</td>\n",
       "    </tr>\n",
       "    <tr>\n",
       "      <th>843090</th>\n",
       "      <td>1</td>\n",
       "      <td>2003</td>\n",
       "    </tr>\n",
       "    <tr>\n",
       "      <th>889862</th>\n",
       "      <td>3</td>\n",
       "      <td>0</td>\n",
       "    </tr>\n",
       "    <tr>\n",
       "      <th>1</th>\n",
       "      <th>275060</th>\n",
       "      <td>1</td>\n",
       "      <td>1984</td>\n",
       "    </tr>\n",
       "    <tr>\n",
       "      <th>...</th>\n",
       "      <th>...</th>\n",
       "      <td>...</td>\n",
       "      <td>...</td>\n",
       "    </tr>\n",
       "    <tr>\n",
       "      <th rowspan=\"5\" valign=\"top\">76352</th>\n",
       "      <th>792989</th>\n",
       "      <td>1</td>\n",
       "      <td>2005</td>\n",
       "    </tr>\n",
       "    <tr>\n",
       "      <th>846781</th>\n",
       "      <td>1</td>\n",
       "      <td>2005</td>\n",
       "    </tr>\n",
       "    <tr>\n",
       "      <th>850320</th>\n",
       "      <td>1</td>\n",
       "      <td>2005</td>\n",
       "    </tr>\n",
       "    <tr>\n",
       "      <th>866899</th>\n",
       "      <td>1</td>\n",
       "      <td>2005</td>\n",
       "    </tr>\n",
       "    <tr>\n",
       "      <th>981573</th>\n",
       "      <td>1</td>\n",
       "      <td>2001</td>\n",
       "    </tr>\n",
       "  </tbody>\n",
       "</table>\n",
       "<p>1575883 rows × 2 columns</p>\n",
       "</div>"
      ],
      "text/plain": [
       "                 play_count  year\n",
       "user_id song_id                  \n",
       "0       392231            1  2003\n",
       "        541321            3     0\n",
       "        843090            1  2003\n",
       "        889862            3     0\n",
       "1       275060            1  1984\n",
       "...                     ...   ...\n",
       "76352   792989            1  2005\n",
       "        846781            1  2005\n",
       "        850320            1  2005\n",
       "        866899            1  2005\n",
       "        981573            1  2001\n",
       "\n",
       "[1575883 rows x 2 columns]"
      ]
     },
     "execution_count": 32,
     "metadata": {},
     "output_type": "execute_result"
    }
   ],
   "source": [
    "df_final.groupby(['user_id', 'song_id']).sum()"
   ]
  },
  {
   "cell_type": "code",
   "execution_count": 33,
   "metadata": {},
   "outputs": [
    {
     "data": {
      "text/plain": [
       "1575883"
      ]
     },
     "execution_count": 33,
     "metadata": {},
     "output_type": "execute_result"
    }
   ],
   "source": [
    "df_final.groupby(['user_id', 'song_id']).count()['play_count'].sum()"
   ]
  },
  {
   "cell_type": "markdown",
   "metadata": {},
   "source": [
    "**Oberservations**\n",
    "- The sum of songs associated with a user_id is equal to the total number of observations. \n",
    "- This implies that there are only interactions between a pair of songs and a single user. "
   ]
  },
  {
   "cell_type": "code",
   "execution_count": 34,
   "metadata": {},
   "outputs": [
    {
     "data": {
      "text/plain": [
       "241964    8277\n",
       "35140     7032\n",
       "38957     6949\n",
       "67669     6412\n",
       "751776    6145\n",
       "          ... \n",
       "851645     120\n",
       "63568      120\n",
       "925413     120\n",
       "294490     120\n",
       "153817     120\n",
       "Name: song_id, Length: 5229, dtype: int64"
      ]
     },
     "execution_count": 34,
     "metadata": {},
     "output_type": "execute_result"
    }
   ],
   "source": [
    "# the most listened to song\n",
    "df_final['song_id'].value_counts()"
   ]
  },
  {
   "cell_type": "markdown",
   "metadata": {},
   "source": [
    "**Observations** \n",
    "- User with the id = 241964 has the highest count of song at ~8277. "
   ]
  },
  {
   "cell_type": "code",
   "execution_count": 35,
   "metadata": {},
   "outputs": [
    {
     "data": {
      "text/plain": [
       "75579"
      ]
     },
     "execution_count": 35,
     "metadata": {},
     "output_type": "execute_result"
    }
   ],
   "source": [
    "df_final['user_id'].nunique()"
   ]
  },
  {
   "cell_type": "code",
   "execution_count": 36,
   "metadata": {},
   "outputs": [
    {
     "data": {
      "text/plain": [
       "5229"
      ]
     },
     "execution_count": 36,
     "metadata": {},
     "output_type": "execute_result"
    }
   ],
   "source": [
    "df_final['song_id'].nunique()"
   ]
  },
  {
   "cell_type": "markdown",
   "metadata": {},
   "source": [
    "**Observations**\n",
    "- The song with song_id 241964 has been interacted with the most at 8277 times.\n",
    "- There is a possibility that 75579 * 5229 = 395202591 interactions in the dataset. \n",
    "- Yet, we only have 1575883 entries, which might suggest that there are different users who interacted with a single song.\n",
    "- It is noteworthy that multiple interactions for one song from various users is not a succinct indicator of popularity. \n",
    "- Just because a song received multiple interactions, does not mean that it is the song that should be recommended to users: there are many factors to consider. \n",
    "- A recommendation system that "
   ]
  },
  {
   "cell_type": "markdown",
   "metadata": {},
   "source": [
    "**Check for missing values**"
   ]
  },
  {
   "cell_type": "code",
   "execution_count": 37,
   "metadata": {},
   "outputs": [
    {
     "data": {
      "text/plain": [
       "user_id        0\n",
       "song_id        0\n",
       "play_count     0\n",
       "title          0\n",
       "release        0\n",
       "artist_name    0\n",
       "year           0\n",
       "dtype: int64"
      ]
     },
     "execution_count": 37,
     "metadata": {},
     "output_type": "execute_result"
    }
   ],
   "source": [
    "df_final.isnull().sum()"
   ]
  },
  {
   "cell_type": "markdown",
   "metadata": {},
   "source": [
    "**Summary Statistics**"
   ]
  },
  {
   "cell_type": "code",
   "execution_count": 38,
   "metadata": {},
   "outputs": [
    {
     "data": {
      "text/plain": [
       "count    1.575883e+06\n",
       "mean     3.109813e+00\n",
       "std      6.770442e+00\n",
       "min      1.000000e+00\n",
       "25%      1.000000e+00\n",
       "50%      1.000000e+00\n",
       "75%      3.000000e+00\n",
       "max      2.213000e+03\n",
       "Name: play_count, dtype: float64"
      ]
     },
     "execution_count": 38,
     "metadata": {},
     "output_type": "execute_result"
    }
   ],
   "source": [
    "# summary statistics of 'play_count' variable \n",
    "df_final['play_count'].describe()"
   ]
  },
  {
   "cell_type": "code",
   "execution_count": 39,
   "metadata": {},
   "outputs": [
    {
     "data": {
      "image/png": "[encoded data removed]",
      "text/plain": [
       "<Figure size 1440x1440 with 1 Axes>"
      ]
     },
     "metadata": {
      "needs_background": "light"
     },
     "output_type": "display_data"
    }
   ],
   "source": [
    "# create the bar plot and provide observations\n",
    "# given a most liked or most disliked product\n",
    "\n",
    "plt.figure(figsize = (20,20))\n",
    "df_final[df_final['song_id'] == 241964]['play_count'].value_counts().plot(kind='bar')\n",
    "plt.xlabel('play_count')\n",
    "plt.ylabel('users')\n",
    "plt.show()"
   ]
  },
  {
   "cell_type": "markdown",
   "metadata": {},
   "source": [
    "**Observations** \n",
    "- There are ~3400 users who have listened to a song only 1 time. \n",
    "- There are ~ 1500 users who listened to a song 2 times. \n",
    "- The data is significantly right skewed, suggesting that there are a few data points that are driving up the mean. \n",
    "- From the daata graph, users' listen counts can go up to 161 times. "
   ]
  },
  {
   "cell_type": "code",
   "execution_count": 40,
   "metadata": {},
   "outputs": [
    {
     "data": {
      "text/plain": [
       "Text(0.5, 1.0, 'Percent of songs played a given year')"
      ]
     },
     "execution_count": 40,
     "metadata": {},
     "output_type": "execute_result"
    },
    {
     "data": {
      "image/png": "[encoded data removed]",
      "text/plain": [
       "<Figure size 936x504 with 1 Axes>"
      ]
     },
     "metadata": {
      "needs_background": "light"
     },
     "output_type": "display_data"
    }
   ],
   "source": [
    "# line graph displaying play_count given each year by mean \n",
    "mean_df = df_final.groupby(['year']).mean()\n",
    "\n",
    "listen_count_trend = mean_df[['play_count']].plot.line(figsize=(13,7))\n",
    "listen_count_trend.set_ylabel('Mean of play count')\n",
    "listen_count_trend.set_title('Percent of songs played a given year')"
   ]
  },
  {
   "cell_type": "markdown",
   "metadata": {},
   "source": [
    "**Observatinos**\n",
    "- The graph suggests that many users interacted with song listens during ~1995-2010 years. \n",
    "- There is a vast number of users listening to music around the 1995 mark and another similarly vast amount of users listening to music around the 2010 mark. "
   ]
  },
  {
   "cell_type": "code",
   "execution_count": 41,
   "metadata": {},
   "outputs": [
    {
     "data": {
      "text/plain": [
       "2010    56084\n",
       "Name: year, dtype: int64"
      ]
     },
     "execution_count": 41,
     "metadata": {},
     "output_type": "execute_result"
    }
   ],
   "source": [
    "# filter data to show the most recent releases\n",
    "this_year = df_final.loc[(df_final['year']==2010)]\n",
    "\n",
    "# check if there are songs from the year 2010\n",
    "this_year['year'].value_counts()"
   ]
  },
  {
   "cell_type": "markdown",
   "metadata": {},
   "source": [
    "**Observations** \n",
    "- Explicitly, there were ~56084 users listening to songs in our dataset during the 2010 years. "
   ]
  },
  {
   "cell_type": "markdown",
   "metadata": {},
   "source": [
    "**Checking the number of unqiue users in the dataset**"
   ]
  },
  {
   "cell_type": "code",
   "execution_count": 42,
   "metadata": {},
   "outputs": [
    {
     "name": "stdout",
     "output_type": "stream",
     "text": [
      "Number of unique USERS in the Raw data =  75579\n",
      "Number of unique SONGS in Raw data =  5229\n"
     ]
    }
   ],
   "source": [
    "# number of unique users in the dataset \n",
    "print('Number of unique USERS in the Raw data = ', df_final['user_id'].nunique())\n",
    "print('Number of unique SONGS in Raw data = ', df_final['song_id'].nunique())"
   ]
  },
  {
   "cell_type": "markdown",
   "metadata": {},
   "source": [
    "**Observations**\n",
    "- There are a lot of unique values in our dataset. "
   ]
  },
  {
   "cell_type": "markdown",
   "metadata": {},
   "source": [
    "**Users with an appropriate number of song listen counts**\n"
   ]
  },
  {
   "cell_type": "code",
   "execution_count": 43,
   "metadata": {},
   "outputs": [
    {
     "data": {
      "text/plain": [
       "user_id\n",
       "75144    537\n",
       "32542    518\n",
       "61472    446\n",
       "10807    435\n",
       "31704    427\n",
       "23297    424\n",
       "23790    406\n",
       "48273    401\n",
       "6480     391\n",
       "49507    389\n",
       "dtype: int64"
      ]
     },
     "execution_count": 43,
     "metadata": {},
     "output_type": "execute_result"
    }
   ],
   "source": [
    "# top 10 users based on listen count of song(s)\n",
    "most_listened = df_final.groupby('user_id').size().sort_values(ascending=False)[:10]\n",
    "most_listened"
   ]
  },
  {
   "cell_type": "markdown",
   "metadata": {},
   "source": [
    "**Observations**\n",
    "- The top ten users with the highest counts listened to a song are: [75144, 32542, 61472, 10807, 31704, 23297, 23790, 48273,  6480, 49507]"
   ]
  },
  {
   "cell_type": "markdown",
   "metadata": {},
   "source": [
    "##### **Data preparation**"
   ]
  },
  {
   "cell_type": "code",
   "execution_count": 44,
   "metadata": {},
   "outputs": [
    {
     "name": "stdout",
     "output_type": "stream",
     "text": [
      "The number of observations in the final data = 1575883\n",
      "Number of unique USERS in the final data =  75579\n",
      "Number of unique SONGS in the final data =  5229\n",
      "Number of COUNTS LISTENED in the final data =  <bound method NDFrame._add_numeric_operations.<locals>.sum of 0          1\n",
      "1          2\n",
      "2          1\n",
      "3          1\n",
      "4          1\n",
      "          ..\n",
      "1999994    4\n",
      "1999995    2\n",
      "1999996    4\n",
      "1999997    3\n",
      "1999998    1\n",
      "Name: play_count, Length: 1575883, dtype: int64>\n"
     ]
    }
   ],
   "source": [
    "# check the number of unique USERS and SONGS in the final data and provide observations\n",
    "\n",
    "print('The number of observations in the final data =', len(df_final))\n",
    "print('Number of unique USERS in the final data = ', df_final['user_id'].nunique())\n",
    "print('Number of unique SONGS in the final data = ', df_final['song_id'].nunique())\n",
    "print('Number of COUNTS LISTENED in the final data = ', df_final['play_count'].sum)"
   ]
  },
  {
   "cell_type": "markdown",
   "metadata": {},
   "source": [
    "**Observations**\n",
    "- The number of observations in the final data = 1575883\n",
    "- Number of unique USERS in the final data =  75579\n",
    "- Number of unique SONGS in the final data =  5229"
   ]
  },
  {
   "cell_type": "markdown",
   "metadata": {},
   "source": [
    "##### **Data Normalization**"
   ]
  },
  {
   "cell_type": "code",
   "execution_count": 45,
   "metadata": {},
   "outputs": [
    {
     "data": {
      "text/html": [
       "<div>\n",
       "<style scoped>\n",
       "    .dataframe tbody tr th:only-of-type {\n",
       "        vertical-align: middle;\n",
       "    }\n",
       "\n",
       "    .dataframe tbody tr th {\n",
       "        vertical-align: top;\n",
       "    }\n",
       "\n",
       "    .dataframe thead th {\n",
       "        text-align: right;\n",
       "    }\n",
       "</style>\n",
       "<table border=\"1\" class=\"dataframe\">\n",
       "  <thead>\n",
       "    <tr style=\"text-align: right;\">\n",
       "      <th></th>\n",
       "      <th>user_id</th>\n",
       "      <th>song_id</th>\n",
       "      <th>play_count</th>\n",
       "      <th>title</th>\n",
       "      <th>release</th>\n",
       "      <th>artist_name</th>\n",
       "      <th>year</th>\n",
       "    </tr>\n",
       "  </thead>\n",
       "  <tbody>\n",
       "    <tr>\n",
       "      <th>0</th>\n",
       "      <td>54961</td>\n",
       "      <td>17370</td>\n",
       "      <td>-0.360085</td>\n",
       "      <td>The Cove</td>\n",
       "      <td>Thicker Than Water</td>\n",
       "      <td>Jack Johnson</td>\n",
       "      <td>0</td>\n",
       "    </tr>\n",
       "    <tr>\n",
       "      <th>1</th>\n",
       "      <td>54961</td>\n",
       "      <td>45995</td>\n",
       "      <td>0.240056</td>\n",
       "      <td>Entre Dos Aguas</td>\n",
       "      <td>Flamenco Para Niños</td>\n",
       "      <td>Paco De Lucia</td>\n",
       "      <td>1976</td>\n",
       "    </tr>\n",
       "    <tr>\n",
       "      <th>2</th>\n",
       "      <td>54961</td>\n",
       "      <td>82002</td>\n",
       "      <td>-0.360085</td>\n",
       "      <td>Stronger</td>\n",
       "      <td>Graduation</td>\n",
       "      <td>Kanye West</td>\n",
       "      <td>2007</td>\n",
       "    </tr>\n",
       "    <tr>\n",
       "      <th>3</th>\n",
       "      <td>54961</td>\n",
       "      <td>83689</td>\n",
       "      <td>-0.360085</td>\n",
       "      <td>Constellations</td>\n",
       "      <td>In Between Dreams</td>\n",
       "      <td>Jack Johnson</td>\n",
       "      <td>2005</td>\n",
       "    </tr>\n",
       "    <tr>\n",
       "      <th>4</th>\n",
       "      <td>54961</td>\n",
       "      <td>129375</td>\n",
       "      <td>-0.360085</td>\n",
       "      <td>Learn To Fly</td>\n",
       "      <td>There Is Nothing Left To Lose</td>\n",
       "      <td>Foo Fighters</td>\n",
       "      <td>1999</td>\n",
       "    </tr>\n",
       "  </tbody>\n",
       "</table>\n",
       "</div>"
      ],
      "text/plain": [
       "   user_id  song_id  play_count            title  \\\n",
       "0    54961    17370   -0.360085         The Cove   \n",
       "1    54961    45995    0.240056  Entre Dos Aguas   \n",
       "2    54961    82002   -0.360085         Stronger   \n",
       "3    54961    83689   -0.360085   Constellations   \n",
       "4    54961   129375   -0.360085     Learn To Fly   \n",
       "\n",
       "                         release    artist_name  year  \n",
       "0             Thicker Than Water   Jack Johnson     0  \n",
       "1            Flamenco Para Niños  Paco De Lucia  1976  \n",
       "2                     Graduation     Kanye West  2007  \n",
       "3              In Between Dreams   Jack Johnson  2005  \n",
       "4  There Is Nothing Left To Lose   Foo Fighters  1999  "
      ]
     },
     "execution_count": 45,
     "metadata": {},
     "output_type": "execute_result"
    }
   ],
   "source": [
    "zscore = lambda x: (x-x.mean())/x.std()\n",
    "the_norm_zscore = df_final.groupby('user_id').transform(zscore)\n",
    "df_final.play_count = the_norm_zscore.play_count\n",
    "\n",
    "df_final.head()"
   ]
  },
  {
   "cell_type": "code",
   "execution_count": 46,
   "metadata": {},
   "outputs": [
    {
     "data": {
      "text/html": [
       "<div>\n",
       "<style scoped>\n",
       "    .dataframe tbody tr th:only-of-type {\n",
       "        vertical-align: middle;\n",
       "    }\n",
       "\n",
       "    .dataframe tbody tr th {\n",
       "        vertical-align: top;\n",
       "    }\n",
       "\n",
       "    .dataframe thead th {\n",
       "        text-align: right;\n",
       "    }\n",
       "</style>\n",
       "<table border=\"1\" class=\"dataframe\">\n",
       "  <thead>\n",
       "    <tr style=\"text-align: right;\">\n",
       "      <th></th>\n",
       "      <th>user_id</th>\n",
       "      <th>song_id</th>\n",
       "      <th>play_count</th>\n",
       "      <th>title</th>\n",
       "      <th>release</th>\n",
       "      <th>artist_name</th>\n",
       "      <th>year</th>\n",
       "    </tr>\n",
       "  </thead>\n",
       "  <tbody>\n",
       "    <tr>\n",
       "      <th>0</th>\n",
       "      <td>54961</td>\n",
       "      <td>17370</td>\n",
       "      <td>0.000000</td>\n",
       "      <td>The Cove</td>\n",
       "      <td>Thicker Than Water</td>\n",
       "      <td>Jack Johnson</td>\n",
       "      <td>0</td>\n",
       "    </tr>\n",
       "    <tr>\n",
       "      <th>1</th>\n",
       "      <td>54961</td>\n",
       "      <td>45995</td>\n",
       "      <td>0.142857</td>\n",
       "      <td>Entre Dos Aguas</td>\n",
       "      <td>Flamenco Para Niños</td>\n",
       "      <td>Paco De Lucia</td>\n",
       "      <td>1976</td>\n",
       "    </tr>\n",
       "    <tr>\n",
       "      <th>2</th>\n",
       "      <td>54961</td>\n",
       "      <td>82002</td>\n",
       "      <td>0.000000</td>\n",
       "      <td>Stronger</td>\n",
       "      <td>Graduation</td>\n",
       "      <td>Kanye West</td>\n",
       "      <td>2007</td>\n",
       "    </tr>\n",
       "    <tr>\n",
       "      <th>3</th>\n",
       "      <td>54961</td>\n",
       "      <td>83689</td>\n",
       "      <td>0.000000</td>\n",
       "      <td>Constellations</td>\n",
       "      <td>In Between Dreams</td>\n",
       "      <td>Jack Johnson</td>\n",
       "      <td>2005</td>\n",
       "    </tr>\n",
       "    <tr>\n",
       "      <th>4</th>\n",
       "      <td>54961</td>\n",
       "      <td>129375</td>\n",
       "      <td>0.000000</td>\n",
       "      <td>Learn To Fly</td>\n",
       "      <td>There Is Nothing Left To Lose</td>\n",
       "      <td>Foo Fighters</td>\n",
       "      <td>1999</td>\n",
       "    </tr>\n",
       "  </tbody>\n",
       "</table>\n",
       "</div>"
      ],
      "text/plain": [
       "   user_id  song_id  play_count            title  \\\n",
       "0    54961    17370    0.000000         The Cove   \n",
       "1    54961    45995    0.142857  Entre Dos Aguas   \n",
       "2    54961    82002    0.000000         Stronger   \n",
       "3    54961    83689    0.000000   Constellations   \n",
       "4    54961   129375    0.000000     Learn To Fly   \n",
       "\n",
       "                         release    artist_name  year  \n",
       "0             Thicker Than Water   Jack Johnson     0  \n",
       "1            Flamenco Para Niños  Paco De Lucia  1976  \n",
       "2                     Graduation     Kanye West  2007  \n",
       "3              In Between Dreams   Jack Johnson  2005  \n",
       "4  There Is Nothing Left To Lose   Foo Fighters  1999  "
      ]
     },
     "execution_count": 46,
     "metadata": {},
     "output_type": "execute_result"
    }
   ],
   "source": [
    "min_max = lambda x: (x - x.min()) / (x.max() - x.min())\n",
    "the_norm_min_max = df_final.groupby('user_id').transform(min_max)\n",
    "df_final.play_count = the_norm_min_max.play_count \n",
    "\n",
    "df_final.head()"
   ]
  },
  {
   "cell_type": "code",
   "execution_count": 47,
   "metadata": {},
   "outputs": [
    {
     "data": {
      "text/html": [
       "<div>\n",
       "<style scoped>\n",
       "    .dataframe tbody tr th:only-of-type {\n",
       "        vertical-align: middle;\n",
       "    }\n",
       "\n",
       "    .dataframe tbody tr th {\n",
       "        vertical-align: top;\n",
       "    }\n",
       "\n",
       "    .dataframe thead th {\n",
       "        text-align: right;\n",
       "    }\n",
       "</style>\n",
       "<table border=\"1\" class=\"dataframe\">\n",
       "  <thead>\n",
       "    <tr style=\"text-align: right;\">\n",
       "      <th></th>\n",
       "      <th>user_id</th>\n",
       "      <th>song_id</th>\n",
       "      <th>play_count</th>\n",
       "      <th>title</th>\n",
       "      <th>release</th>\n",
       "      <th>artist_name</th>\n",
       "      <th>year</th>\n",
       "    </tr>\n",
       "  </thead>\n",
       "  <tbody>\n",
       "    <tr>\n",
       "      <th>0</th>\n",
       "      <td>54961</td>\n",
       "      <td>17370</td>\n",
       "      <td>0.000000</td>\n",
       "      <td>The Cove</td>\n",
       "      <td>Thicker Than Water</td>\n",
       "      <td>Jack Johnson</td>\n",
       "      <td>0</td>\n",
       "    </tr>\n",
       "    <tr>\n",
       "      <th>1</th>\n",
       "      <td>54961</td>\n",
       "      <td>45995</td>\n",
       "      <td>0.142857</td>\n",
       "      <td>Entre Dos Aguas</td>\n",
       "      <td>Flamenco Para Niños</td>\n",
       "      <td>Paco De Lucia</td>\n",
       "      <td>1976</td>\n",
       "    </tr>\n",
       "    <tr>\n",
       "      <th>2</th>\n",
       "      <td>54961</td>\n",
       "      <td>82002</td>\n",
       "      <td>0.000000</td>\n",
       "      <td>Stronger</td>\n",
       "      <td>Graduation</td>\n",
       "      <td>Kanye West</td>\n",
       "      <td>2007</td>\n",
       "    </tr>\n",
       "    <tr>\n",
       "      <th>3</th>\n",
       "      <td>54961</td>\n",
       "      <td>83689</td>\n",
       "      <td>0.000000</td>\n",
       "      <td>Constellations</td>\n",
       "      <td>In Between Dreams</td>\n",
       "      <td>Jack Johnson</td>\n",
       "      <td>2005</td>\n",
       "    </tr>\n",
       "    <tr>\n",
       "      <th>4</th>\n",
       "      <td>54961</td>\n",
       "      <td>129375</td>\n",
       "      <td>0.000000</td>\n",
       "      <td>Learn To Fly</td>\n",
       "      <td>There Is Nothing Left To Lose</td>\n",
       "      <td>Foo Fighters</td>\n",
       "      <td>1999</td>\n",
       "    </tr>\n",
       "    <tr>\n",
       "      <th>...</th>\n",
       "      <td>...</td>\n",
       "      <td>...</td>\n",
       "      <td>...</td>\n",
       "      <td>...</td>\n",
       "      <td>...</td>\n",
       "      <td>...</td>\n",
       "      <td>...</td>\n",
       "    </tr>\n",
       "    <tr>\n",
       "      <th>1999994</th>\n",
       "      <td>64590</td>\n",
       "      <td>359346</td>\n",
       "      <td>0.375000</td>\n",
       "      <td>Unwell (Album Version)</td>\n",
       "      <td>More Than You Think You Are</td>\n",
       "      <td>matchbox twenty</td>\n",
       "      <td>2003</td>\n",
       "    </tr>\n",
       "    <tr>\n",
       "      <th>1999995</th>\n",
       "      <td>64590</td>\n",
       "      <td>385009</td>\n",
       "      <td>0.125000</td>\n",
       "      <td>Ignorance (Album Version)</td>\n",
       "      <td>Ignorance</td>\n",
       "      <td>Paramore</td>\n",
       "      <td>0</td>\n",
       "    </tr>\n",
       "    <tr>\n",
       "      <th>1999996</th>\n",
       "      <td>64590</td>\n",
       "      <td>392598</td>\n",
       "      <td>0.375000</td>\n",
       "      <td>Two Is Better Than One</td>\n",
       "      <td>Love Drunk</td>\n",
       "      <td>Boys Like Girls featuring Taylor Swift</td>\n",
       "      <td>2009</td>\n",
       "    </tr>\n",
       "    <tr>\n",
       "      <th>1999997</th>\n",
       "      <td>64590</td>\n",
       "      <td>393702</td>\n",
       "      <td>0.250000</td>\n",
       "      <td>What I've Done (Album Version)</td>\n",
       "      <td>What I've Done</td>\n",
       "      <td>Linkin Park</td>\n",
       "      <td>2007</td>\n",
       "    </tr>\n",
       "    <tr>\n",
       "      <th>1999998</th>\n",
       "      <td>64590</td>\n",
       "      <td>409426</td>\n",
       "      <td>0.000000</td>\n",
       "      <td>Up</td>\n",
       "      <td>My Worlds</td>\n",
       "      <td>Justin Bieber</td>\n",
       "      <td>2010</td>\n",
       "    </tr>\n",
       "  </tbody>\n",
       "</table>\n",
       "<p>1575883 rows × 7 columns</p>\n",
       "</div>"
      ],
      "text/plain": [
       "         user_id  song_id  play_count                           title  \\\n",
       "0          54961    17370    0.000000                        The Cove   \n",
       "1          54961    45995    0.142857                 Entre Dos Aguas   \n",
       "2          54961    82002    0.000000                        Stronger   \n",
       "3          54961    83689    0.000000                  Constellations   \n",
       "4          54961   129375    0.000000                    Learn To Fly   \n",
       "...          ...      ...         ...                             ...   \n",
       "1999994    64590   359346    0.375000          Unwell (Album Version)   \n",
       "1999995    64590   385009    0.125000       Ignorance (Album Version)   \n",
       "1999996    64590   392598    0.375000          Two Is Better Than One   \n",
       "1999997    64590   393702    0.250000  What I've Done (Album Version)   \n",
       "1999998    64590   409426    0.000000                              Up   \n",
       "\n",
       "                               release  \\\n",
       "0                   Thicker Than Water   \n",
       "1                  Flamenco Para Niños   \n",
       "2                           Graduation   \n",
       "3                    In Between Dreams   \n",
       "4        There Is Nothing Left To Lose   \n",
       "...                                ...   \n",
       "1999994    More Than You Think You Are   \n",
       "1999995                      Ignorance   \n",
       "1999996                     Love Drunk   \n",
       "1999997                 What I've Done   \n",
       "1999998                      My Worlds   \n",
       "\n",
       "                                    artist_name  year  \n",
       "0                                  Jack Johnson     0  \n",
       "1                                 Paco De Lucia  1976  \n",
       "2                                    Kanye West  2007  \n",
       "3                                  Jack Johnson  2005  \n",
       "4                                  Foo Fighters  1999  \n",
       "...                                         ...   ...  \n",
       "1999994                         matchbox twenty  2003  \n",
       "1999995                                Paramore     0  \n",
       "1999996  Boys Like Girls featuring Taylor Swift  2009  \n",
       "1999997                             Linkin Park  2007  \n",
       "1999998                           Justin Bieber  2010  \n",
       "\n",
       "[1575883 rows x 7 columns]"
      ]
     },
     "execution_count": 47,
     "metadata": {},
     "output_type": "execute_result"
    }
   ],
   "source": [
    "df_final.fillna(value=0)"
   ]
  },
  {
   "cell_type": "markdown",
   "metadata": {},
   "source": [
    "##### **Word2vec Recommendation System**\n"
   ]
  },
  {
   "cell_type": "markdown",
   "metadata": {},
   "source": [
    "**Data Preparation**"
   ]
  },
  {
   "cell_type": "code",
   "execution_count": 71,
   "metadata": {},
   "outputs": [],
   "source": [
    "# transfrom song_id to string types\n",
    "df_final['song_id']= df_final['song_id'].astype(str)"
   ]
  },
  {
   "cell_type": "code",
   "execution_count": 72,
   "metadata": {},
   "outputs": [
    {
     "data": {
      "text/plain": [
       "75579"
      ]
     },
     "execution_count": 72,
     "metadata": {},
     "output_type": "execute_result"
    }
   ],
   "source": [
    "# check the number of unique song listeners in the dataset\n",
    "users = df_final['user_id'].unique().tolist()\n",
    "len(users)"
   ]
  },
  {
   "cell_type": "code",
   "execution_count": 73,
   "metadata": {},
   "outputs": [],
   "source": [
    "# set 90% of the users as a sample of the dataset for validation\n",
    "\n",
    "# shuffle user_id\n",
    "random.shuffle(users)\n",
    "\n",
    "# set aside 90% of the user_id\n",
    "user_train = [users[i] for i in range(round(0.9*len(users)))]\n",
    "\n",
    "# split df_final into train and test sets \n",
    "train_df_final = df_final[df_final['user_id'].isin(user_train)]\n",
    "test_df_final = df_final[~df_final['user_id'].isin(user_train)]"
   ]
  },
  {
   "cell_type": "code",
   "execution_count": 74,
   "metadata": {},
   "outputs": [
    {
     "name": "stderr",
     "output_type": "stream",
     "text": [
      "100%|██████████| 68021/68021 [02:34<00:00, 440.20it/s]\n"
     ]
    }
   ],
   "source": [
    "# create sequence of play_count made by user_id in the dataset for both train and test sets\n",
    "\n",
    "# list for song play_count training set\n",
    "play_count_train = []\n",
    "\n",
    "# populate the list with song_id\n",
    "for i in tqdm(user_train): \n",
    "    temporary = train_df_final[train_df_final['user_id'] == i]['song_id'].tolist()\n",
    "    play_count_train.append(temporary)"
   ]
  },
  {
   "cell_type": "code",
   "execution_count": 75,
   "metadata": {},
   "outputs": [
    {
     "name": "stderr",
     "output_type": "stream",
     "text": [
      "100%|██████████| 7558/7558 [00:05<00:00, 1371.03it/s]\n"
     ]
    }
   ],
   "source": [
    "# list for song play_count testing set\n",
    "play_count_test = []\n",
    "\n",
    "# populate the list with song_id\n",
    "for i in tqdm(test_df_final['user_id'].unique()):\n",
    "    temporary = test_df_final[test_df_final[\"user_id\"] == i][\"song_id\"].tolist()\n",
    "    play_count_test.append(temporary)"
   ]
  },
  {
   "cell_type": "code",
   "execution_count": 77,
   "metadata": {},
   "outputs": [
    {
     "data": {
      "text/plain": [
       "68021"
      ]
     },
     "execution_count": 77,
     "metadata": {},
     "output_type": "execute_result"
    }
   ],
   "source": [
    "len(play_count_train)"
   ]
  },
  {
   "cell_type": "code",
   "execution_count": 81,
   "metadata": {},
   "outputs": [
    {
     "data": {
      "text/plain": [
       "(14078819, 14201700)"
      ]
     },
     "execution_count": 81,
     "metadata": {},
     "output_type": "execute_result"
    }
   ],
   "source": [
    "# train word2vec model\n",
    "\n",
    "train_word2vec_model = Word2Vec(window=10, \n",
    "                                sg=1, \n",
    "                                hs=0,\n",
    "                                negative=10, \n",
    "                                alpha=0.03, \n",
    "                                min_alpha=0.0007,\n",
    "                                seed=14) \n",
    "\n",
    "train_word2vec_model.build_vocab(play_count_train,progress_per=200)\n",
    "\n",
    "train_word2vec_model.train(play_count_train, \n",
    "                            total_examples=train_word2vec_model.corpus_count, \n",
    "                            epochs=10,\n",
    "                            report_delay=10)\n"
   ]
  },
  {
   "cell_type": "code",
   "execution_count": 82,
   "metadata": {},
   "outputs": [],
   "source": [
    "# use init_sims() to make the model memory efficient\n",
    "train_word2vec_model.init_sims(replace=True)"
   ]
  },
  {
   "cell_type": "code",
   "execution_count": 83,
   "metadata": {},
   "outputs": [
    {
     "name": "stdout",
     "output_type": "stream",
     "text": [
      "Word2Vec(vocab=5229, size=100, alpha=0.03)\n"
     ]
    }
   ],
   "source": [
    "# summarize the model \n",
    "print(train_word2vec_model)"
   ]
  },
  {
   "cell_type": "markdown",
   "metadata": {},
   "source": [
    "**Observations** \n",
    "- The model has 5229 unique words with a vector size of 100. \n",
    "- The words need to be extracted and stored. "
   ]
  },
  {
   "cell_type": "code",
   "execution_count": 86,
   "metadata": {},
   "outputs": [
    {
     "data": {
      "text/plain": [
       "(5229, 100)"
      ]
     },
     "execution_count": 86,
     "metadata": {},
     "output_type": "execute_result"
    }
   ],
   "source": [
    "# take the vectors and store them\n",
    "words = train_word2vec_model[train_word2vec_model.wv.vocab]\n",
    "words\n",
    "\n",
    "words.shape"
   ]
  },
  {
   "cell_type": "code",
   "execution_count": 87,
   "metadata": {},
   "outputs": [
    {
     "data": {
      "text/plain": [
       "PCA(n_components=2)"
      ]
     },
     "execution_count": 87,
     "metadata": {},
     "output_type": "execute_result"
    }
   ],
   "source": [
    "# fit a 2d PCA model to the vectors\n",
    "from sklearn.decomposition import PCA\n",
    "pca = PCA(n_components=2)\n",
    "pca"
   ]
  },
  {
   "cell_type": "code",
   "execution_count": 88,
   "metadata": {},
   "outputs": [],
   "source": [
    "results = pca.fit_transform(words)"
   ]
  },
  {
   "cell_type": "markdown",
   "metadata": {},
   "source": [
    "##### **Map the Embeddings**"
   ]
  },
  {
   "cell_type": "markdown",
   "metadata": {},
   "source": [
    "**Dimensional reduction: reduce the dimensions of the song_id embeddings\""
   ]
  },
  {
   "cell_type": "code",
   "execution_count": 89,
   "metadata": {},
   "outputs": [
    {
     "data": {
      "text/plain": [
       "<matplotlib.collections.PathCollection at 0x1437e0c40>"
      ]
     },
     "execution_count": 89,
     "metadata": {},
     "output_type": "execute_result"
    },
    {
     "data": {
      "image/png": "[encoded data removed]",
      "text/plain": [
       "<Figure size 576x504 with 1 Axes>"
      ]
     },
     "metadata": {
      "needs_background": "light"
     },
     "output_type": "display_data"
    }
   ],
   "source": [
    "# reduce the dimensions of the song embeddings from 100 to 2\n",
    "embedded_cluster = umap.UMAP(n_neighbors=30, \n",
    "                            min_dist=0.0,\n",
    "                            n_components=2, \n",
    "                            random_state=42).fit_transform(words)\n",
    "\n",
    "plt.figure(figsize=(8,7))\n",
    "plt.scatter(embedded_cluster[:, 0], embedded_cluster[:, 1], s=3, cmap='Spectral')"
   ]
  },
  {
   "cell_type": "markdown",
   "metadata": {},
   "source": [
    "**Observations**\n",
    "- The points on the graph are a single song. \n",
    "- The embedding clusters on the graph are groups of similar songs. "
   ]
  },
  {
   "cell_type": "code",
   "execution_count": 111,
   "metadata": {},
   "outputs": [
    {
     "data": {
      "image/png": "[encoded data removed]",
      "text/plain": [
       "<Figure size 3600x3600 with 1 Axes>"
      ]
     },
     "metadata": {
      "needs_background": "light"
     },
     "output_type": "display_data"
    }
   ],
   "source": [
    "# graph songs on a scatter plot \n",
    "from matplotlib import pyplot\n",
    "from random import sample\n",
    "\n",
    "pyplot.figure(figsize=(50,50))\n",
    "pyplot.scatter(results[:, 0], results[:, 1])\n",
    "words = list(train_word2vec_model.wv.vocab)\n",
    "sample_words = sample(words, 40)\n",
    "for i, word in enumerate(sample_words):\n",
    "\tpyplot.annotate(word, xy=(results[i, 0], results[i, 1]))\n",
    "pyplot.show()"
   ]
  },
  {
   "cell_type": "markdown",
   "metadata": {},
   "source": [
    "##### Recommending songs\n"
   ]
  },
  {
   "cell_type": "code",
   "execution_count": 118,
   "metadata": {},
   "outputs": [],
   "source": [
    "# create a song id to map the songs' titles \n",
    "songs = train_df_final[['song_id', 'title']]"
   ]
  },
  {
   "cell_type": "code",
   "execution_count": 124,
   "metadata": {},
   "outputs": [],
   "source": [
    "# drop duplicates on song_id\n",
    "songs.drop_duplicates(inplace=True, subset='song_id', keep=\"last\")"
   ]
  },
  {
   "cell_type": "code",
   "execution_count": 129,
   "metadata": {},
   "outputs": [
    {
     "data": {
      "text/plain": [
       "{'100149': ['My Night With the Prostitute From Marseille'],\n",
       " '100196': ['Where You From?'],\n",
       " '100511': ['Whoomp! There It Is'],\n",
       " '100544': ['Nutshell'],\n",
       " '100986': ['Falling'],\n",
       " '101496': ['One Minute To Midnight'],\n",
       " '101854': ['The Diary Of Jane (Acoustic)'],\n",
       " '102757': ['Because You Loved Me'],\n",
       " '102891': ['Hallelujah'],\n",
       " '103044': ['Black Wave/Bad Vibrations'],\n",
       " '103417': ['So Payaso (Version 2004)'],\n",
       " '103437': ['Wicked Garden (LP Version)'],\n",
       " '103578': ['Straight Outta Compton (Extended Mix) (Edit) (Explicit)'],\n",
       " '103680': ['Epic'],\n",
       " '104133': ['A Little Something'],\n",
       " '104170': ['Bleed It Out [Live At Milton Keynes]'],\n",
       " '104532': ['Suspicious Minds'],\n",
       " '104536': ['Hippie Priest Bum-out (Edit)'],\n",
       " '104610': ['Neighborhood #1 (Tunnels)'],\n",
       " '104678': ['Love In 2 Parts'],\n",
       " '105426': ['Tim McGraw'],\n",
       " '10548': ['Keep It Clean'],\n",
       " '105525': ['Love (original)'],\n",
       " '105685': ['Life In Technicolor'],\n",
       " '105747': ['MMMBop'],\n",
       " '106014': ['Keep Our Ring'],\n",
       " '10625': ['Empire Ants (Feat. Little Dragon)'],\n",
       " '106517': ['Dreamlover'],\n",
       " '106539': ['Duerme Conmigo'],\n",
       " '106699': ['Na Vi'],\n",
       " '106705': ['Heard Them Stirring'],\n",
       " '106788': ['Risingson'],\n",
       " '107082': ['Coldest Winter'],\n",
       " '10724': ['Run Me Down'],\n",
       " '107331': ['Rhinestone Eyes'],\n",
       " '107902': ['Creil City'],\n",
       " '107993': ['Lovefool'],\n",
       " '108366': ['Ona Kasuita'],\n",
       " '10849': [\"I'll Be There For You\"],\n",
       " '108512': ['Kept It Too Real (Amended Album Version)'],\n",
       " '108529': [\"All Tomorrow's Parties\"],\n",
       " '108844': [\"I'm On Fire\"],\n",
       " '109220': [\"Let's Dance To Joy Division (Full Length Version)\"],\n",
       " '109422': ['Conspiracy (Album Version)'],\n",
       " '110009': ['Mr Sandman'],\n",
       " '110136': ['Y Nos Dieron Las Diez'],\n",
       " '110732': ['Lost In Stereo'],\n",
       " '11090': [\"It's Been Awhile (Clean Edit)\"],\n",
       " '111675': ['Ridiculous Thoughts'],\n",
       " '111914': ['The Man Who Sold The World'],\n",
       " '111993': ['Porno Graphique'],\n",
       " '112249': ['Together Again (Jimmy Jam Deep Remix)'],\n",
       " '112392': ['More Than Words'],\n",
       " '112436': ['Sonrisa'],\n",
       " '112616': ['Creator [vs. Switch and FreQ Nasty]'],\n",
       " '112869': ['Black Is My Color'],\n",
       " '113400': ['Headstrong (Album Version)'],\n",
       " '113642': ['Jane Says ( LP Version )'],\n",
       " '113708': ['Latin America'],\n",
       " '113739': ['Big Jet Plane'],\n",
       " '113761': ['Keep Quiet'],\n",
       " '113815': ['Next Girl'],\n",
       " '113906': ['Me & My B*tch (Album Version)'],\n",
       " '113970': ['Campus (Album)'],\n",
       " '114180': ['On The Other Hand (Album Version)'],\n",
       " '11423': ['Heartbreaker/\"If You Should Ever Be Lonely'],\n",
       " '114248': [\"Gimme All Your Lovin' (LP Version)\"],\n",
       " '114533': ['Your Woman'],\n",
       " '114586': ['Rainbow In The Dark'],\n",
       " '114652': ['Wet Blanket'],\n",
       " '114711': ['Yawns'],\n",
       " '114815': ['El Scorcho'],\n",
       " '114970': ['You Dont Know Me'],\n",
       " '115114': ['Guyamas Sonora'],\n",
       " '115402': ['Run'],\n",
       " '115612': ['The Time Is Now (2006 Digital Remaster)'],\n",
       " '115687': ['Feeling This'],\n",
       " '116137': ['Show Me Love'],\n",
       " '116211': ['I Thought I Saw Your Face Today'],\n",
       " '116428': ['Give It Up (LP Version)'],\n",
       " '116432': ['Crying At The Aquarium'],\n",
       " '11692': ['Time Bomb'],\n",
       " '116957': ['Born Slippy'],\n",
       " '117095': ['Lost In The Plot'],\n",
       " '117301': ['The Rain'],\n",
       " '117475': ['Sweet Home Chicago'],\n",
       " '117573': ['Human After All (SebastiAn Remix )'],\n",
       " '118174': ['Music Is My Hot_ Hot Sex (Album)'],\n",
       " '118402': ['Acende O Candieiro (2003 Digital Remaster)'],\n",
       " '118551': ['Electric Bloom'],\n",
       " '118878': ['Someone To Save You'],\n",
       " '119256': ['Something In The Way'],\n",
       " '119287': ['Witch'],\n",
       " '119517': ['Bad Day (Album Version)'],\n",
       " '119808': ['Rebels of the Sacred Heart'],\n",
       " '120294': ['Cannonball'],\n",
       " '120450': ['Have A Nice Day'],\n",
       " '120805': ['3'],\n",
       " '120872': ['Kennedy Rag'],\n",
       " '120988': [\"It's Me I'm Worried About\"],\n",
       " '121000': [\"Don't Speak\"],\n",
       " '121120': [\"Let's Take A Ride\"],\n",
       " '121337': ['Bard Dance'],\n",
       " '121644': ['Daughter'],\n",
       " '121746': ['One And Only'],\n",
       " '122206': ['Clocks'],\n",
       " '122677': ['Make Yourself'],\n",
       " '123217': ['Never Gonna Give You Up'],\n",
       " '123416': ['Start All Over'],\n",
       " '123749': ['You Know My Name'],\n",
       " '124460': ['Shadow Stabbing'],\n",
       " '124527': ['Basic Space'],\n",
       " '124623': ['Stripped'],\n",
       " '124702': ['Heavy metal drummer'],\n",
       " '124771': ['Luxurious'],\n",
       " '124772': ['a joy'],\n",
       " '124777': ['Long Way 2 Go (Album Version)'],\n",
       " '124874': ['Pieces Of Me'],\n",
       " '125124': ['Baptism'],\n",
       " '126058': ['Only Time (Original Version)'],\n",
       " '126182': ['Blue Collar Man (Long Nights)'],\n",
       " '12662': [\"Adam's Song\"],\n",
       " '126879': ['My Happy Ending'],\n",
       " '126905': ['The Memory Of Trees (Instrumental)'],\n",
       " '127480': ['The Fog or China'],\n",
       " '127630': ['Leslie Anne Levine'],\n",
       " '127649': ['Walk Away'],\n",
       " '127694': ['All About The Benjamins (Album Version)'],\n",
       " '127839': ['Psycho Killer (Acoustic)'],\n",
       " '128088': ['Bigger Boys and Stolen Sweethearts'],\n",
       " '128127': [\"It Don't Matter\"],\n",
       " '128226': ['Walk Of Life'],\n",
       " '128334': ['Walking In The Air'],\n",
       " '128574': ['Black Mirror'],\n",
       " '128866': ['Belle'],\n",
       " '128896': ['Monkey Gone To Heaven'],\n",
       " '128987': ['Monday Morning Cold (band)'],\n",
       " '129188': ['The Approaching Curve'],\n",
       " '129334': ['Down On The Corner'],\n",
       " '129348': ['A Million Miles Away'],\n",
       " '129373': ['I Come In Please'],\n",
       " '129375': ['Learn To Fly'],\n",
       " '129410': ['My Glorious'],\n",
       " '129430': ['ROSENROT'],\n",
       " '129491': ['Karibien'],\n",
       " '129763': ['Everything'],\n",
       " '129856': ['Sunburn'],\n",
       " '130386': ['The Invisible Man'],\n",
       " '130866': ['Cockney Thug'],\n",
       " '130903': ['Sombra De Ti'],\n",
       " '131078': [\"Don't Let Me Be Misunderstood\"],\n",
       " '1314': ['Juke Box Hero (Remastered LP Version )'],\n",
       " '131655': ['Angel'],\n",
       " '131659': ['Melt!'],\n",
       " '131903': ['Boombox'],\n",
       " '132046': ['Red Dirt Road'],\n",
       " '132116': ['Misguided Ghosts (Album Version)'],\n",
       " '132412': ['Get Money'],\n",
       " '132484': ['Whataya Want From Me'],\n",
       " '13275': ['A Thousand Miles'],\n",
       " '132811': ['Dental Care'],\n",
       " '132953': ['Axel F (Radio Edit)'],\n",
       " '133168': ['The Way I Are'],\n",
       " '133274': ['Sorrow (1997 Digital Remaster)'],\n",
       " '133294': ['Jamaica Roots II(Agora E Sempre)'],\n",
       " '133637': ['Easier To Run (Album Version)'],\n",
       " '133939': ['Horizon Variations'],\n",
       " '134511': ['Walk Away (Album Version)'],\n",
       " '134956': ['Coleccionista De Canciones'],\n",
       " '13542': ['Bad Moon Rising'],\n",
       " '135478': ['Step Into My Office_ Baby'],\n",
       " '135603': [\"I'm Broken  (LP Version)\"],\n",
       " '135744': ['O Samba E O Tango'],\n",
       " '135779': ['American Idiot [feat. Green Day & The Cast Of American Idiot] (Album Version)'],\n",
       " '136110': ['Sweet And Wild'],\n",
       " '136208': ['Banana Ghost'],\n",
       " '136239': ['Paradise Circus (Gui Boratto Remix)'],\n",
       " '136438': ['Would?'],\n",
       " '136586': ['Photobooth (Rolling Stone Original)'],\n",
       " '136632': ['Come As You Are'],\n",
       " '136841': ['Re-Hash'],\n",
       " '137092': ['Diamonds From Sierra Leone'],\n",
       " '137218': ['Lights & Music'],\n",
       " '137339': ['Help Yourself'],\n",
       " '13747': ['Amor Prohibido'],\n",
       " '137526': ['Ella Me Levanto'],\n",
       " '137544': ['Beer'],\n",
       " '138155': ['Siechen'],\n",
       " '138586': ['Moondance (Album Version)'],\n",
       " '138945': ['Waking The Demon'],\n",
       " '139111': ['Pon De Floor'],\n",
       " '139355': [\"I'll Be\"],\n",
       " '139539': [\"Day 'N' Nite\"],\n",
       " '140174': ['I Melt With You'],\n",
       " '140239': ['In den Gärten Pharaos'],\n",
       " '140314': ['Somebody To Love'],\n",
       " '14098': ['Phantom Part 1.5 (Album Version)'],\n",
       " '141280': ['Cold Desert'],\n",
       " '141350': [\"I'm Not Waiting In Line\"],\n",
       " '142043': ['Driving Home For Christmas'],\n",
       " '142156': ['Falling Slowly (Album version)'],\n",
       " '142234': ['Bonkers'],\n",
       " '142308': ['Cover Me'],\n",
       " '142331': ['Rise'],\n",
       " '142980': ['Same Girl'],\n",
       " '143230': ['Soul Survivor'],\n",
       " '143235': ['Whistle For The Choir'],\n",
       " '143279': ['Pedro Navaja (Live LP Version)'],\n",
       " '14337': ['Hannibal'],\n",
       " '143538': [\"Theme From Harry's Game\"],\n",
       " '143781': ['Si Te Vas'],\n",
       " '144029': ['Jazz Street'],\n",
       " '144138': ['Knights'],\n",
       " '144170': ['Nada De Ti'],\n",
       " '144196': ['Waking Up In Vegas (Calvin Harris Remix Edit)'],\n",
       " '144375': ['Entre Dos Tierras (2000 Digital Remaster)'],\n",
       " '14441': ['Bad Girlfriend [Explicit]'],\n",
       " '144602': ['What You Thought You Need'],\n",
       " '144768': ['Ode to LRC (Album)'],\n",
       " '144972': ['With A Little Help From My Friends'],\n",
       " '145115': ['The Best of Times'],\n",
       " '145209': ['Para Hacerme Perdonar (En Vivo Teatro Metropolitan)'],\n",
       " '145245': ['Ice Ice Baby (Radio Edit)'],\n",
       " '145294': ['Hey_ Soul Sister'],\n",
       " '1453': [\"Love Don't Live Here Anymore\"],\n",
       " '14563': ['Corazon Espinado'],\n",
       " '145840': [\"That Ain't The Way To Behave (2006 Digital Remaster)\"],\n",
       " '146011': ['Damelo'],\n",
       " '146131': ['From The Ritz To The Rubble'],\n",
       " '146174': [\"It Just Don't Stop\"],\n",
       " '146708': ['Heartache Tonight  (LP Version)'],\n",
       " '146919': ['Sour Cherry'],\n",
       " '147079': ['Disease (Album Version)'],\n",
       " '147167': ['Mia'],\n",
       " '147290': ['Fear And Love'],\n",
       " '147763': ['Costumbres Argentinas'],\n",
       " '147847': ['Breakeven'],\n",
       " '147945': ['Long Nights'],\n",
       " '148017': ['Jailbreak'],\n",
       " '148341': ['Brooklyn King'],\n",
       " '148502': ['Pet Monster Shotglass'],\n",
       " '148612': ['Deseret'],\n",
       " '148671': ['My Name Is Jonas'],\n",
       " '148796': ['Face To Face'],\n",
       " '148843': ['You Know Your Boy Did That'],\n",
       " '148976': ['Three Cheers For Five Years'],\n",
       " '14910': ['The Outsider'],\n",
       " '149157': ['Giocoso gioioso'],\n",
       " '149465': ['The Sound of Goodbye'],\n",
       " '149901': ['Reckless'],\n",
       " '150117': ['L.A.'],\n",
       " '150161': ['Dub On My Mind Dub'],\n",
       " '150265': ['Listen To Her Heart'],\n",
       " '150602': ['The Voiceless'],\n",
       " '150792': ['Flugufrelsarinn'],\n",
       " '151154': ['She Said_ She Said'],\n",
       " '151318': ['Run Through The Jungle'],\n",
       " '1514': ['My Shepherd (Psalms 23) (featuring Kurt Carr & Avalon)'],\n",
       " '15169': ['My Moon My Man'],\n",
       " '151743': ['Ruled By Secrecy'],\n",
       " '151817': ['Bombtrack'],\n",
       " '151826': ['September'],\n",
       " '152731': ['Touch My Body'],\n",
       " '153031': [\"C'mon C'mon\"],\n",
       " '153055': ['Put It On Me'],\n",
       " '153085': ['Timeless'],\n",
       " '153119': ['Someday'],\n",
       " '153431': ['Hustler'],\n",
       " '153442': ['One Time'],\n",
       " '153645': ['Empty Skies'],\n",
       " '153817': ['Tonight'],\n",
       " '154327': ['Glitter In The Air'],\n",
       " '154611': ['Closer'],\n",
       " '154619': ['Friends_ Lovers Or Nothing'],\n",
       " '154847': ['Reclaimer'],\n",
       " '15505': ['O My God'],\n",
       " '155365': ['Blank Expression'],\n",
       " '155897': ['Desenredo (G.R.E.S.Unidos Do Pau Brasil)'],\n",
       " '155966': ['Super Inuit (Studio) [Bonus Track]'],\n",
       " '156017': ['Jasey Rae'],\n",
       " '15614': ['Bachelorette (Family Tree Version)'],\n",
       " '15631': ['Sexual Eruption'],\n",
       " '156319': ['Valio La Pena'],\n",
       " '156402': ['Universally Speaking (Album Version)'],\n",
       " '156832': ['El Cuatrero'],\n",
       " '157189': ['Underground'],\n",
       " '157242': ['Airplanes'],\n",
       " '15725': ['I Got Mine'],\n",
       " '157527': ['Angel / Better Together'],\n",
       " '157528': ['One Of Those Days'],\n",
       " '157589': ['Saturdays'],\n",
       " '157604': ['Big Big World'],\n",
       " '157928': ['Love Stinks'],\n",
       " '158154': ['Always Remember'],\n",
       " '158236': ['Grow Up and Blow Away'],\n",
       " '158836': ['Arcade Robot'],\n",
       " '158840': ['Another Saturday Night'],\n",
       " '158887': ['Funny Little Frog'],\n",
       " '159427': ['No Said Date'],\n",
       " '16008': ['Keep It Loose_ Keep It Tight'],\n",
       " '160412': ['My Doorbell (Album Version)'],\n",
       " '160602': ['Watching The Detectives'],\n",
       " '160620': ['Runaway Love'],\n",
       " '160743': ['Neon Knights'],\n",
       " '161264': ['Planet Caravan (Remastered LP Version)'],\n",
       " '161559': ['Dance with a Devil'],\n",
       " '161838': ['Fast As I Can'],\n",
       " '162197': [\"Don't Look Back\"],\n",
       " '1622': ['STARSTRUKK [FEATURINGKATYPERRY] (Explicit Bonus Version)'],\n",
       " '162200': ['Mi Primer Dia Sin Ti'],\n",
       " '162210': ['(You Drive Me) Crazy (The Stop Remix!)'],\n",
       " '162631': ['Eyeless (Live version) (Album Version)'],\n",
       " '162746': ['Screenager'],\n",
       " '162808': ['So Long'],\n",
       " '163879': ['Sorrow'],\n",
       " '1640': ['Hallelujah (Album Version)'],\n",
       " '164524': ['This Charming Man'],\n",
       " '164751': ['Bolinha De Papel'],\n",
       " '164818': ['Settle For A Slowdown'],\n",
       " '164927': ['Faith Works'],\n",
       " '165364': ['Song 4 Mutya (Out Of Control)'],\n",
       " '16539': ['Condemn Me Society (Katadikase me koinonia)'],\n",
       " '165888': [\"I'm Still A Guy\"],\n",
       " '16600': ['When It Rains (Album Version)'],\n",
       " '166231': ['Some Unholy War'],\n",
       " '166233': ['Sexx Laws'],\n",
       " '166342': ['Deny Selected'],\n",
       " '166443': ['Hochmah (Interlude)'],\n",
       " '16689': ['Fader'],\n",
       " '166953': ['Sympathy For The Devil'],\n",
       " '167250': ['Animals [Live In Atlanta]'],\n",
       " '167430': ['Wide Eyes'],\n",
       " '167623': ['The Kiss'],\n",
       " '167711': ['Getaway'],\n",
       " '167744': ['Paper Gangsta'],\n",
       " '168348': ['Prelude And Yodel (2008 Digital Remaster)'],\n",
       " '168484': [\"She's Good For You\"],\n",
       " '168571': ['Never Gonna Give You Up'],\n",
       " '168614': ['The Water'],\n",
       " '168814': ['Invocation: Attica Blues'],\n",
       " '169092': ['Desert Song'],\n",
       " '169190': ['M1 A1'],\n",
       " '169304': [\"She's Got You High\"],\n",
       " '169630': ['Pearl Vision'],\n",
       " '169669': ['My Own Worst Enemy'],\n",
       " '16967': ['See You Soon'],\n",
       " '169763': ['All I Need'],\n",
       " '170110': ['Creep (LP Version)'],\n",
       " '170394': ['Wagon Wheel'],\n",
       " '17047': ['Face To Face (Cosmo VItelli Remix)'],\n",
       " '170475': ['Summer Wind (Duet With Frank Sinatra)'],\n",
       " '170643': ['Hold The Ladder'],\n",
       " '171252': ['What They Call Him (Skit)'],\n",
       " '171393': ['Why You Wanna (Amended Album Version)'],\n",
       " '171445': [\"Breakin'\"],\n",
       " '171791': ['So Nice So Smart'],\n",
       " '172086': ['Stuck Between'],\n",
       " '172155': ['Nine Million Bicycles'],\n",
       " '172391': [\"Fire Coming Out Of The Monkey's Head\"],\n",
       " '172394': ['Different Kind Of Fine (Album)'],\n",
       " '172520': ['Ditto (Album Version)'],\n",
       " '172829': ['Year of the Suckerpunch'],\n",
       " '172961': ['GO!'],\n",
       " '173017': ['Inevitable'],\n",
       " '17312': ['Poor Jackie'],\n",
       " '173516': ['The Glory'],\n",
       " '173696': ['Maundy Thursday'],\n",
       " '17370': ['The Cove'],\n",
       " '173737': ['How Do You Like Me Now?!'],\n",
       " '173799': ['New Morning'],\n",
       " '173861': ['Future Reflections'],\n",
       " '174': ['Cearc Agus Coileach / The Hen And Cock'],\n",
       " '174007': ['Hotel California'],\n",
       " '174057': ['Just The Way You Are'],\n",
       " '174324': ['Peg'],\n",
       " '174499': ['Baby Let Me Take You Home'],\n",
       " '174549': ['Afroman'],\n",
       " '174642': ['Estoy Aquí'],\n",
       " '174876': ['DONTTRUSTME (Explicit Album Version)'],\n",
       " '174880': ['Radar Detector'],\n",
       " '174932': ['Everything Is Alright (Album Version)'],\n",
       " '175237': ['I Am Trying to Break Your Heart'],\n",
       " '175339': ['Roxanne'],\n",
       " '175416': [\"St. Patrick's Day\"],\n",
       " '175446': ['Til Sommer'],\n",
       " '175565': ['Three Pope (feat. Monty Alexander)'],\n",
       " '17583': ['Such Great Heights'],\n",
       " '175983': ['SexSlaveShip'],\n",
       " '176261': ['Reek Of Putrefaction'],\n",
       " '176986': ['Curtains Close'],\n",
       " '177028': ['Cassius (album version)'],\n",
       " '177509': ['Phoenix (Basement Jaxx Remix)'],\n",
       " '177753': ['Goodbye My Lover'],\n",
       " '17796': ['High School Musical'],\n",
       " '177994': ['SuperStar'],\n",
       " '17802': ['Lo  Que Tengo Yo Adentro'],\n",
       " '178106': ['The Good Old Days'],\n",
       " '178471': ['Splitting The Atom'],\n",
       " '178482': ['Missed The Boat'],\n",
       " '178634': ['Black Betty'],\n",
       " '178761': [\"Finnegan's Wake (Album Version)\"],\n",
       " '179432': ['Comfort Eagle'],\n",
       " '179638': ['My World'],\n",
       " '180354': ['Big Munny'],\n",
       " '180688': ['Crazy In Love'],\n",
       " '181193': ['Carpates'],\n",
       " '181357': ['Above You'],\n",
       " '181501': ['Wind Farm'],\n",
       " '181663': ['Horn Concerto No. 4 in E flat K495: II. Romance (Andante cantabile)'],\n",
       " '181982': ['Never There'],\n",
       " '182481': ['The Sun On His Back'],\n",
       " '182603': ['Whatsername [feat. Green Day & The Cast Of American Idiot] (Album Version)'],\n",
       " '182729': ['Sleeping In (Album)'],\n",
       " '183007': ['I Need A Dollar'],\n",
       " '183137': ['Song For Guy'],\n",
       " '183239': ['Lex'],\n",
       " '183255': ['Jenny Was A Friend Of Mine'],\n",
       " '183457': ['Run Run Run'],\n",
       " '183498': ['Mirror Song'],\n",
       " '183534': ['Tuxedo Hat'],\n",
       " '18359': ['Song For You'],\n",
       " '183795': ['Nostrand'],\n",
       " '183986': ['One I Love'],\n",
       " '184105': ['Face To Face / Short Circuit'],\n",
       " '184139': [\"Hips Don't Lie (featuring Wyclef Jean)\"],\n",
       " '184272': ['Riot In Cell Block Number Nine'],\n",
       " '184323': ['Move'],\n",
       " '184336': ['What Do You Go Home To?'],\n",
       " '184360': ['Tribulations'],\n",
       " '184372': ['May It Be (Album version)'],\n",
       " '184448': ['Army of Me'],\n",
       " '184537': ['How Do You Know You?'],\n",
       " '184675': [\"Things I'll Never Say\"],\n",
       " '184684': [\"Money Ain't A Thang\"],\n",
       " '184972': ['Mamma'],\n",
       " '185066': ['Have Faith In Me'],\n",
       " '185382': [\"Always (7'' Mix)\"],\n",
       " '185414': ['Eriatarka'],\n",
       " '185579': ['Heaven Beside You'],\n",
       " '185795': ['Zero'],\n",
       " '185830': ['Kaili'],\n",
       " '186269': ['Speechless'],\n",
       " '186640': ['The Trapeze Swinger (Album)'],\n",
       " '186761': ['LDN (Switch Remix)'],\n",
       " '186814': ['A Dios Le Pido'],\n",
       " '18687': ['Loverboy'],\n",
       " '187341': ['Wasted'],\n",
       " '18755': ['Jumping Jack Flash'],\n",
       " '18760': ['Been A Son'],\n",
       " '187708': ['Big Idea'],\n",
       " '187904': ['Push (Remastered Version)'],\n",
       " '188096': ['Silvia'],\n",
       " '188250': ['All For Love'],\n",
       " '188448': ['Check Yes Juliet'],\n",
       " '188763': ['Crawling (Album Version)'],\n",
       " '188774': ['Home Is Where The Heart Is'],\n",
       " '188952': ['Elevator'],\n",
       " '18908': ['Hey (Album Version)'],\n",
       " '189211': ['No Government'],\n",
       " '18936': ['James'],\n",
       " '19005': ['Killa'],\n",
       " '19007': ['Just'],\n",
       " '190129': ['Do You Know Me'],\n",
       " '190169': ['Gimme Sympathy'],\n",
       " '190180': ['Throw Me A Rope'],\n",
       " '19032': ['Move Along'],\n",
       " '190368': ['Get Ready To Bounce Recall 08'],\n",
       " '190369': ['Cherry Blossom Girl (Fanny Demo Version)'],\n",
       " '19041': [\"I'm Only Me When I'm With You\"],\n",
       " '190897': [\"You Mustn't Kick It Around\"],\n",
       " '19097': ['Sail To The Moon'],\n",
       " '19121': ['Be My Baby'],\n",
       " '191241': ['Say Yes'],\n",
       " '191446': [\"Ruby_ Don't Take Your Love To Town\"],\n",
       " '192065': ['Jigsaw Falling Into Place'],\n",
       " '192309': ['Rehab'],\n",
       " '192505': ['Waterfall (Spirit Of The Rainforest Album Version)'],\n",
       " '192968': ['The Sword & the Pen (Non-Album Track)'],\n",
       " '193342': ['Volare (Nel blu di pinto Di blu)'],\n",
       " '193738': ['Situations'],\n",
       " '193798': ['Airwar'],\n",
       " '194472': ['No Dejes Que...'],\n",
       " '194481': ['The Way You Do The Things You Do (2009 Digital Remaster)'],\n",
       " '19461': ['Put Your Head On My Shoulder (Album Version)'],\n",
       " '194814': ['At The Back Of The Shell'],\n",
       " '194910': [\"Help I'm Alive\"],\n",
       " '195032': ['Eternal Flame (Single Version)'],\n",
       " '195301': ['Epiphany (LP Version)'],\n",
       " '195673': ['Have Mercy On Me'],\n",
       " '195711': ['Siguiendo La Luna'],\n",
       " '19599': ['Soldier On'],\n",
       " '196242': ['Dam That River'],\n",
       " '196440': ['Breaking The Habit (Album Version)'],\n",
       " '196492': ['Love Will Keep Us Together'],\n",
       " '196585': ['Weak And Powerless'],\n",
       " '196609': [\"I'm With You\"],\n",
       " '197063': ['DONTTRUSTME [BENNYBLANCOREMIX] FEATURINGKIDCUDI (Explicit Bonus Version)'],\n",
       " '197119': ['Back from hell'],\n",
       " '197258': ['Show Me The Meaning Of Being Lonely'],\n",
       " '197382': ['Cudi Zone'],\n",
       " '197555': [\"Ghosts 'n' Stuff (Original Instrumental Mix)\"],\n",
       " '197580': ['Mi primer millon'],\n",
       " '197706': ['22'],\n",
       " '197902': ['I Wanna Be Your Dog'],\n",
       " '198144': ['The Funeral (Album Version)'],\n",
       " '198288': ['Teenager'],\n",
       " '200133': ['Scissors (Album Version)'],\n",
       " '200289': ['You & Me Song'],\n",
       " '200363': ['Big Brother'],\n",
       " '200465': ['Human Of The Year (Album Version)'],\n",
       " '200513': ['Besame Mucho'],\n",
       " '200670': ['Times Like These'],\n",
       " '200903': ['Kung Fu Fighting'],\n",
       " '201145': [\"I Mera Tis Giortis Sou (T' Asteria Hathikan Noris)\"],\n",
       " '201150': ['Danse Pour Moi'],\n",
       " '201422': ['Last Night Featuring Keyshia Cole (Amended Album Version)'],\n",
       " '201976': ['Throw It In The Bag'],\n",
       " '201998': ['Tenuousness'],\n",
       " '202027': ['Hurt'],\n",
       " '202106': ['Words So Leisured'],\n",
       " '202175': ['Big Green Tractor'],\n",
       " '202395': ['Kiss (LP Version)'],\n",
       " '202771': ['Free Style (feat. Kevo_ Mussilini & Lyrical 187)'],\n",
       " '202866': ['Moonshadow'],\n",
       " '202877': ['Volcano'],\n",
       " '202884': ['So Glad To See You'],\n",
       " '202893': ['Short Skirt/Long Jacket'],\n",
       " '203075': ['Apologize'],\n",
       " '203181': ['Bubbles'],\n",
       " '203257': ['House By the Sea (Album)'],\n",
       " '203430': ['Not Big'],\n",
       " '203572': ['Silent Shout'],\n",
       " '203699': ['I Might Be Wrong'],\n",
       " '204050': ['Girls'],\n",
       " '20419': ['Pogo'],\n",
       " '204208': ['I Am Not a Robot'],\n",
       " '204335': ['Gatekeeper'],\n",
       " '20479': ['Lonely'],\n",
       " '204872': ['Imagine'],\n",
       " '204904': ['Breathe'],\n",
       " '20497': ['Cannonball'],\n",
       " '205248': ['Suena tu guitarra'],\n",
       " '205896': ['The Choice Is Yours'],\n",
       " '206000': ['Fountain Of Youth'],\n",
       " '206009': ['Be With You'],\n",
       " '20635': ['Wake Up'],\n",
       " '206500': ['Got Money'],\n",
       " '206617': ['Loud Pipes'],\n",
       " '206752': ['Pretty Girls Make Graves'],\n",
       " '207106': ['Stormtrooper (LP Version)'],\n",
       " '20720': [\"Don't Cry (Original)\"],\n",
       " '207233': ['Holiday'],\n",
       " '207257': ['Boy From School (Hot Chip Re-Work)'],\n",
       " '207313': ['The Food'],\n",
       " '207495': ['No Envy No Fear'],\n",
       " '208046': ['Give It To Me'],\n",
       " '208163': ['Say What You Say'],\n",
       " '208213': ['Rooftops'],\n",
       " '208426': ['Strawberry Swing'],\n",
       " '20849': ['Nokian Takana'],\n",
       " '208643': ['Hearts On Fire'],\n",
       " '208770': ['Digital Love'],\n",
       " '209285': ['Pick Up'],\n",
       " '209315': ['You Are So Beautiful'],\n",
       " '209640': ['Ten Years Gone  (Album Version)'],\n",
       " '209924': ['Milton At Midnight'],\n",
       " '210332': ['Fortunate Son'],\n",
       " '210349': [\"You Can't Break A Broken Heart\"],\n",
       " '210415': [\"It's A Sin (2001 Digital Remaster)\"],\n",
       " '210527': ['Wrecking Ball'],\n",
       " '210729': ['Feel The Love'],\n",
       " '210788': ['Before You Accuse Me (Album Version)'],\n",
       " '211071': ['Calling You'],\n",
       " '211356': ['Troublemaker'],\n",
       " '21157': ['Rorol'],\n",
       " '211813': ['Monster'],\n",
       " '211913': ['Makes Me Wonder'],\n",
       " '211971': ['Give It Up'],\n",
       " '212024': ['Melodies & Desires'],\n",
       " '212263': ['Sugar Candy Kisses'],\n",
       " '212424': ['Dysentery Gary'],\n",
       " '212837': ['We Ride'],\n",
       " '212871': ['All My Life'],\n",
       " '213011': ['Sexy Chick (Featuring Akon)'],\n",
       " '213780': ['Cemetary Gates (LP Version)'],\n",
       " '214039': ['Society'],\n",
       " '214499': ['The Ballad Of Butter Beans'],\n",
       " '215404': ['Feel That Fire'],\n",
       " '215424': ['Rooster'],\n",
       " '215526': ['Country Road'],\n",
       " '215694': ['Trouble (Album Version)'],\n",
       " '215815': ['The Trickster'],\n",
       " '216297': ['God Put A Smile Upon Your Face'],\n",
       " '216583': ['Wait'],\n",
       " '217352': ['Starshine'],\n",
       " '217894': ['Latin Static'],\n",
       " '217923': ['Nothing Better (Album)'],\n",
       " '218053': ['Lodi'],\n",
       " '218083': ['Again'],\n",
       " '218119': ['Plasticities (Remix)'],\n",
       " '218285': [\"Superman (It's Not Easy)\"],\n",
       " '218410': ['Le Fotografie'],\n",
       " '218650': ['En Algun Lugar'],\n",
       " '218872': ['Lump'],\n",
       " '218902': ['Everybody Be Somebody'],\n",
       " '219170': ['Alejate De Mi'],\n",
       " '219213': ['Dashboard'],\n",
       " '219244': ['Foxtrot Uniform Charlie Kilo'],\n",
       " '219497': ['Jade'],\n",
       " '220590': ['Oxford Comma (Album)'],\n",
       " '220759': ['Fools'],\n",
       " '220834': ['Thank U (Album Version)'],\n",
       " '221071': [\"It's Not My Time\"],\n",
       " '221222': ['Obsesion'],\n",
       " '221279': ['Miss Your Touch (Album Version)'],\n",
       " '221341': ['Ember Drive'],\n",
       " '221471': ['Are You Hurting The One You Love?'],\n",
       " '222730': ['La Camisa Negra'],\n",
       " '223097': ['Dusty'],\n",
       " '223118': ['You And I Both (LP Version)'],\n",
       " '223354': ['Myriad Harbour'],\n",
       " '223525': ['One'],\n",
       " '223578': ['Ojalá'],\n",
       " '223903': ['Six Days At The Bottom Of The Ocean'],\n",
       " '223916': ['The Memory Remains'],\n",
       " '223938': ['Already Gone'],\n",
       " '223994': ['Beautiful'],\n",
       " '224415': ['Total Eclipse (1998 Digital Remaster)'],\n",
       " '224542': ['Tear You Apart'],\n",
       " '224559': ['Dosed (Album Version)'],\n",
       " '224583': ['Illuminati'],\n",
       " '224610': ['Esa noche'],\n",
       " '224643': ['Stacked Actors'],\n",
       " '225534': ['Lullabye'],\n",
       " '225670': [\"I Don't Know What I Can Save You From\"],\n",
       " '22673': [\"Mal D'Africa (2004 Digital Remaster)\"],\n",
       " '227427': ['Peace Of Mind'],\n",
       " '227464': ['If I Were A Carpenter'],\n",
       " '227522': ['I Got 5 On It'],\n",
       " '228192': ['Soft Shock'],\n",
       " '228297': ['Faith'],\n",
       " '228681': ['Sunshine (Feat. Anthony Hamilton) (Edited Album Version)'],\n",
       " '228724': ['The Reeling'],\n",
       " '229032': ['Flagpole Sitta'],\n",
       " '22906': ['Uprising'],\n",
       " '229436': ['Burnout (Album Version)'],\n",
       " '229762': ['Just Dance'],\n",
       " '229851': ['The End Of The Line'],\n",
       " '22988': ['No One Else'],\n",
       " '230021': ['You (featuring Tank) (Amended Album Version)'],\n",
       " '230029': ['Pills'],\n",
       " '230050': ['Making Love (Into The Night)'],\n",
       " '230124': ['Down To Earth'],\n",
       " '230192': ['Add It Up'],\n",
       " '23046': ['Piggy'],\n",
       " '230607': ['Money (featuring Gary \"Nesta\" Pine & Dollarman)'],\n",
       " '230786': ['Spirit In The Sky'],\n",
       " '230961': ['Hold On'],\n",
       " '231235': ['Stadium Love'],\n",
       " '231341': ['Imanol'],\n",
       " '231382': ['Fight For This Love'],\n",
       " '23171': ['Step Through The Door'],\n",
       " '231786': ['Holding Out For A Hero'],\n",
       " '231976': ['Tive Sim'],\n",
       " '232086': ['Old Soul Song'],\n",
       " '232152': [\"It Won't Be Like This For Long\"],\n",
       " '232156': ['Meet Virginia'],\n",
       " '232286': ['Cotton Fields (The Cotton Song) (Digitally Remastered 01)'],\n",
       " '232309': ['Deseo'],\n",
       " '232791': ['Gonna Find You'],\n",
       " '234157': ['Last Child'],\n",
       " '23568': ['Knocking On Forbidden Doors'],\n",
       " '235928': ['Pure Morning (Album Version)'],\n",
       " '23617': [\"It's Just A Thought\"],\n",
       " '236470': ['By Your Side'],\n",
       " '236778': ['January Wedding'],\n",
       " '23684': ['In'],\n",
       " '236936': ['Old Flame'],\n",
       " '236988': ['Con sólo una mirada'],\n",
       " '236993': ['From Blown Speakers'],\n",
       " '237293': ['The Last Song'],\n",
       " '237639': ['Time Flies'],\n",
       " '23767': ['False Pretense'],\n",
       " '237710': [\"Surfin' Bird\"],\n",
       " '237718': ['Top Of The World'],\n",
       " '237770': ['The Meaning Of Love (Single Version)'],\n",
       " '237910': ['Interstate 8'],\n",
       " '238014': ['California Über Alles'],\n",
       " '238248': ['Lights Out'],\n",
       " '238319': [\"When You're Gone\"],\n",
       " '238578': ['This Old House w/ When The Saints Medley'],\n",
       " '238906': ['New Soul'],\n",
       " '239039': ['Strays'],\n",
       " '239159': ['All Star'],\n",
       " '239172': ['Nasty Girl (Featuring Diddy_ Nelly_ Jagged Edge and Avery Storm) (Explicit Album Version)'],\n",
       " '239263': ['Brothers & Sisters'],\n",
       " '239281': ['You Got Me'],\n",
       " '239326': ['18 And Life (LP Version)'],\n",
       " '239451': [\"I'll Meet You There\"],\n",
       " '239668': [\"Heartbreakin' Wreck\"],\n",
       " '23977': ['Would You Please'],\n",
       " '239788': ['Excuses'],\n",
       " '240082': ['Red Right Hand'],\n",
       " '240524': ['Werewolves Of London (LP Version)'],\n",
       " '240710': ['The KKK Took My Baby Away (LP Version )'],\n",
       " '240981': ['Kids Of The Future'],\n",
       " '241050': ['Precious'],\n",
       " '241083': ['Hey There Delilah'],\n",
       " '241280': ['Trouble Sleeping'],\n",
       " '241364': ['Sing_ Sing_ Sing (Key-E-Premiere Performance Plus w/o Background Vocals)'],\n",
       " '241431': ['North Of the Yukon'],\n",
       " '241466': ['Like You'],\n",
       " '241770': ['Kicking And Screaming'],\n",
       " '241811': ['One Of The Boys'],\n",
       " '241832': ['The Authority Song'],\n",
       " '241911': ['Yes'],\n",
       " '241964': ['Sehr kosmisch'],\n",
       " '242056': ['Y solo se me ocurre amarte (Unplugged)'],\n",
       " '242295': [\"We Don't Care\"],\n",
       " '242349': ['Hard Row'],\n",
       " '242505': ['North Sea Storm (Live)'],\n",
       " '242810': ['Show Me How To Live'],\n",
       " '242883': ['Get Me Bodied'],\n",
       " '242902': [\"Can't Take My Eyes Off Of You\"],\n",
       " '243018': ['Fuck Me Pumps'],\n",
       " '243208': ['Black Betty'],\n",
       " '243443': ['Your Touch'],\n",
       " '243479': [\"Baby Now That I've Found You\"],\n",
       " '243601': [\"Ain't Talkin'  'Bout Love (Remastered Version)\"],\n",
       " '243682': ['A Better Son/Daughter'],\n",
       " '243990': ['Selling The Drama'],\n",
       " '244094': [\"Don't Give Up\"],\n",
       " '24443': [\"What Was I Thinkin'\"],\n",
       " '244556': ['Sacred Flame'],\n",
       " '24513': ['Bullet Tells The Truth'],\n",
       " '245256': ['Such A Rush'],\n",
       " '24531': ['Everything In Its Right Place'],\n",
       " '245320': ['Marble House'],\n",
       " '245555': ['Not Fair (Clean Radio Edit)'],\n",
       " '245747': ['High Noon'],\n",
       " '245999': ['Get Over It'],\n",
       " '24601': ['Overload'],\n",
       " '24619': ['Medicating'],\n",
       " '246678': ['Silver Bath'],\n",
       " '246697': ['Found Out'],\n",
       " '246987': ['Audience Of One'],\n",
       " '247060': ['I Get Money'],\n",
       " '2473': ['Shadow Of The Day (Album Version)'],\n",
       " '24730': ['Corrido de Boxeo'],\n",
       " '247500': ['Beds Are Burning'],\n",
       " '24754': ['With Arms Outstretched (Album Version)'],\n",
       " '247712': ['Up From Below'],\n",
       " '247715': ['Strawberry Wine'],\n",
       " '247782': ['Midnight Special'],\n",
       " '248003': ['Love All The Pain Away'],\n",
       " '248114': ['Goodbye'],\n",
       " '248220': ['The Boy With The Thorn In His Side'],\n",
       " '248556': ['Hanging High'],\n",
       " '248578': [\"Lover's Spit (Redux)\"],\n",
       " '248896': ['Far Away (Album Version)'],\n",
       " '248907': ['When The Sun Comes Down'],\n",
       " '249190': ['Someone Else Calling You Baby'],\n",
       " '249495': ['Bros Sto Rimagmeno Spiti (2003 Digital Remaster)'],\n",
       " '249572': ['K.K.K.'],\n",
       " '249584': ['Satellite Mind'],\n",
       " '249624': ['Blindsided'],\n",
       " '249656': ['Hitched'],\n",
       " '24980': ['Bittersweet'],\n",
       " '250068': ['Too Little_ Too Late'],\n",
       " '250134': ['Idealistic'],\n",
       " '250540': ['I Give You To His Heart'],\n",
       " '250652': ['Take A Minute'],\n",
       " '250956': [\"Daddy's Eyes\"],\n",
       " '251031': ['Bow Down'],\n",
       " '251068': ['Abrazame'],\n",
       " '251140': ['Prisoner Of Love'],\n",
       " '251246': ['Storm In A Teacup (Album Version)'],\n",
       " '251702': ['Sorry (Album Version)'],\n",
       " '251746': ['Jesus Just Left Chicago'],\n",
       " '251762': ['Your Ex-Lover Is Dead (Album Version)'],\n",
       " '25186': ['Barely Breathing (LP Version)'],\n",
       " '251866': ['There_ There'],\n",
       " '251948': [\"Groovin'  (LP Version)\"],\n",
       " '252145': ['I Wanna Make You Close Your Eyes'],\n",
       " '252300': ['I Can Dance'],\n",
       " '252881': ['(I Got That) Boom Boom'],\n",
       " '253135': ['Sao Paulo'],\n",
       " '25328': ['Raise Up'],\n",
       " '254396': ['Love And Only Love (1991 Live LP Version)'],\n",
       " '254717': ['Alaska'],\n",
       " '254726': ['Youth Against Fascism'],\n",
       " '254887': ['Waiting For Tonight'],\n",
       " '254943': ['Skin And Bones'],\n",
       " '255027': ['In The Summertime'],\n",
       " '255099': ['This Is Halloween'],\n",
       " '255182': ['Dreaming Of You'],\n",
       " '255354': ['Helpless'],\n",
       " '255405': ['Signos'],\n",
       " '255406': ['Swing Life Away (Acoustic)'],\n",
       " '255454': ['Skeletons'],\n",
       " '2556': ['Back Against The Wall'],\n",
       " '255618': ['Che Sara'],\n",
       " '255633': ['La Llorona'],\n",
       " '256046': ['Prove Yourself'],\n",
       " '256068': ['Last Of The American Girls (Album Version)'],\n",
       " '256096': ['Medley: Let Me Talk To You/ My Love'],\n",
       " '256435': ['Between Us And Them'],\n",
       " '256502': ['Hit The Lights'],\n",
       " '256503': [\"The Fear You Won't Fall\"],\n",
       " '256516': ['Esperame'],\n",
       " '256704': ['One Summer Night'],\n",
       " '256738': ['Tu Y Yo Somos Uno Mismo'],\n",
       " '256780': ['mOBSCENE'],\n",
       " '25685': ['Get Innocuous! (Soulwax Remix)'],\n",
       " '257197': ['Adrenalin'],\n",
       " '257235': ['Warning Sign'],\n",
       " '257499': ['Human'],\n",
       " '257577': ['Infatuation'],\n",
       " '257583': ['Fitter Happier'],\n",
       " '257707': ['To Go Beyond (II)'],\n",
       " '257781': ['Automotywacja'],\n",
       " '25779': ['Auto-Dub'],\n",
       " '258312': ['Houstatlantavegas'],\n",
       " '258592': [\"New York_ I Love You But You're Bringing Me Down\"],\n",
       " '258623': ['You Are Mine'],\n",
       " '258738': ['You And Your Heart'],\n",
       " '259468': ['Push It'],\n",
       " '2595': ['Halo'],\n",
       " '259559': ['Mrs. Officer'],\n",
       " '259658': ['So Ambitious [Jay-Z + Pharrell] (Explicit Album Version)'],\n",
       " '259760': ['Pull A U'],\n",
       " '259823': ['U Smile'],\n",
       " '259838': ['Take A Chance On Me'],\n",
       " '260014': ['Zebra'],\n",
       " '26011': ['This Joint'],\n",
       " '260183': ['Dig This Well Deep'],\n",
       " '260273': [\"My Dad's Gone Crazy\"],\n",
       " '260391': ['The Sun In The Stream'],\n",
       " '260395': ['L.E.S. Artistes'],\n",
       " '260446': ['Just A Little Heat'],\n",
       " '260563': ['Taking Over Me (Live in Europe)'],\n",
       " '260673': ['Higher'],\n",
       " '260972': ['Beautiful Liar'],\n",
       " '261069': ['Uncle Jonny'],\n",
       " '26123': ['Lemme Get That'],\n",
       " '261590': ['Resonate'],\n",
       " '261606': ['Señorita'],\n",
       " '261783': ['These Days'],\n",
       " '261984': ['A Sunday Smile'],\n",
       " '262268': ['Missing You'],\n",
       " '262380': [\"La Valse D'Amélie (Version Orchestre)\"],\n",
       " '262754': [\"Now My Feet Won't Touch The Ground\"],\n",
       " '262821': [\"Beggin'\"],\n",
       " '263119': ['Turn Around'],\n",
       " '263185': ['Run To The Hills (1998 Digital Remaster)'],\n",
       " '263193': ['Ecstasy (2003 Digital Remaster)'],\n",
       " '263259': [\"Cuando Me Enamoro (Quando M'Innamoro)\"],\n",
       " '263548': [\"Molly's Chambers\"],\n",
       " '263600': ['Royksopp Forever'],\n",
       " '263816': [\"Heart Of The City (Ain't No Love)\"],\n",
       " '263876': ['Sun It Rises'],\n",
       " '263952': ['Never Had A Dream Come True'],\n",
       " '264214': ['Beginners Falafel'],\n",
       " '264408': ['Shanty for the Arethusa'],\n",
       " '264577': ['Wind Of Change'],\n",
       " '265566': ['Mysterious Ways'],\n",
       " '265631': ['Goodnight And Goodbye'],\n",
       " '265650': ['Into The Night'],\n",
       " '265882': ['Mr.Curiosity  (Album Version)'],\n",
       " '265917': ['Winding Wind'],\n",
       " '266041': ['Drum Song'],\n",
       " '266279': ['Never Ending Math Equation'],\n",
       " '266650': ['AMERIKA'],\n",
       " '266658': ['Mossing Around'],\n",
       " '266720': ['Kid Charlemagne'],\n",
       " '266764': ['Entertainment'],\n",
       " '266789': ['Do You Want It All\\xa0?'],\n",
       " '266874': ['Games'],\n",
       " '266947': ['We Fight For Diamonds'],\n",
       " '267008': ['Dirt Road Anthem (feat. Brantley Gilbert)'],\n",
       " '267058': [\"I'm Goin In\"],\n",
       " '26719': ['Common Pleasure [Eagles Ballroom Live Version]'],\n",
       " '267217': ['No Leaf Clover'],\n",
       " '267252': ['Dinosaur'],\n",
       " '267387': ['No One'],\n",
       " '267456': ['If I Only Had The Heart'],\n",
       " '267502': ['Skyway Avenue'],\n",
       " '267521': ['Dig'],\n",
       " '267823': ['Does He Love You? (Album Version)'],\n",
       " '268139': ['Never Gonna Be Alone (Album Version)'],\n",
       " '268164': ['Camaro'],\n",
       " '268218': ['Human Behaviour'],\n",
       " '268252': ['Reel Around The Fountain'],\n",
       " '268495': ['Only'],\n",
       " '268768': ['The Sign'],\n",
       " '268893': ['Photograph'],\n",
       " '26899': ['The Bitter End'],\n",
       " '269116': ['A Ribbon'],\n",
       " '269136': ['Big Time Sensuality'],\n",
       " '269146': ['Big Big Love (Fig .2)'],\n",
       " '269291': ['Nlogax'],\n",
       " '269296': ['Down By The Water'],\n",
       " '269329': [\"Why Don't We Just Dance\"],\n",
       " '269783': ['The Universal'],\n",
       " '269922': ['Until We Bleed (Feat. Lykke Li)'],\n",
       " '270151': ['Why Do I Keep Counting?'],\n",
       " '270262': ['El Capitalismo Foráneo'],\n",
       " '270332': ['Closer'],\n",
       " '270349': ['How To Disappear Completely'],\n",
       " '270487': ['Shelter'],\n",
       " '270511': ['Unforgettable Season'],\n",
       " '270548': ['3AM (LP Version)'],\n",
       " '270877': ['Never Enough'],\n",
       " '270895': ['A Certain Romance'],\n",
       " '271197': ['Good Life'],\n",
       " '271402': ['I Want You Back'],\n",
       " '271432': [\"When I Get Home You're So Dead (New Version) (Album)\"],\n",
       " '271523': ['One More Sad Song'],\n",
       " '271543': ['Drunk and Hot Girls'],\n",
       " '271588': ['Behave'],\n",
       " '271648': ['The Lighthouse'],\n",
       " '271968': ['Beach Baby'],\n",
       " '272212': ['Under The Knife'],\n",
       " '272358': ['So Haunted'],\n",
       " '272433': [\"Brandy (You're A Fine Girl)\"],\n",
       " '272438': ['When I Grow Up'],\n",
       " '272499': ['Overjoyed'],\n",
       " '272716': ['Stop Coming To My House'],\n",
       " '272833': ['Too Much Love'],\n",
       " '27284': ['Cassie'],\n",
       " '272917': ['Know Your Enemy (Album Version)'],\n",
       " '273033': ['All The Old Showstoppers'],\n",
       " '273375': ['Sing'],\n",
       " '273469': [\"Can't Get Enough Of Your Love_ Babe\"],\n",
       " '273561': ['June 9th'],\n",
       " '273746': ['Introducing Tobacco To Civilization (LP Version)'],\n",
       " '273756': ['Well Did You Evah!'],\n",
       " '274084': ['The Want Ad'],\n",
       " '275060': ['What Difference Does It Make?'],\n",
       " '275294': [\"Jumpin'_ Jumpin'\"],\n",
       " '275302': ['Injection'],\n",
       " '27540': ['Celestica'],\n",
       " '27628': [\"I'd Hate To Be You When People Find Out What This Song Is About (Album)\"],\n",
       " '276431': [\"Let's Get Loud\"],\n",
       " '276538': [\"It's Working\"],\n",
       " '276541': ['Época'],\n",
       " '27675': ['You And Me (Wedding Version)'],\n",
       " '276804': ['Vagabond'],\n",
       " '276844': ['Medias Negras'],\n",
       " '277319': ['Destination Calabria'],\n",
       " '27748': ['Runaway'],\n",
       " '277502': [\"It's Like That\"],\n",
       " '277512': ['Freedom'],\n",
       " '277665': ['Lethal Industry'],\n",
       " '278035': ['Je Veux Te Voir (Radio Edit)'],\n",
       " '278209': ['Angel Echoes'],\n",
       " '278217': ['The Well And The Lighthouse'],\n",
       " '278449': ['Todo se transforma (Cara B)'],\n",
       " '278604': ['Crack A Bottle'],\n",
       " '278888': ['Near To You'],\n",
       " '279160': [\"Livin' On A Prayer\"],\n",
       " '279168': [\"Who'll Stop The Rain\"],\n",
       " '279441': ['South Side'],\n",
       " '279830': [\"She's Good For Business\"],\n",
       " '279866': ['Gives You Hell'],\n",
       " '280692': ['I Want Your Love'],\n",
       " '28092': ['Playground'],\n",
       " '280968': ['Excuse Me Mr.'],\n",
       " '281040': ['Represent'],\n",
       " '281259': [\"Won't Go Home Without You\"],\n",
       " '28126': ['That Was Just A Dream'],\n",
       " '28133': [\"Fallin' Out\"],\n",
       " '281618': [\"Tuesday's Gone\"],\n",
       " '281690': ['Dirt Off Your Shoulder'],\n",
       " '282065': ['Rock Steady'],\n",
       " '282079': [\"Free Fallin'\"],\n",
       " '282142': ['Miles Away (Album Version)'],\n",
       " '282294': ['Gunn Clapp'],\n",
       " '282534': [\"It Don't Have To Change\"],\n",
       " '282665': ['Taxi  (LP Version)'],\n",
       " '282827': ['Eruption (Album Version)'],\n",
       " '283203': ['Unwritten'],\n",
       " '2833': ['Mass Appeal (Explicit)'],\n",
       " '283377': ['Entertainment Value (2006 Digital Remaster)'],\n",
       " '283431': [\"(Sittin' On) The Dock Of The Bay\"],\n",
       " '283675': ['Spanish Caravan  [New Stereo Mix] (Advanced Resolution)'],\n",
       " '283697': ['The Way You Make Me Feel'],\n",
       " '283918': ['Eenie Meenie'],\n",
       " '284055': ['Working With Homesick'],\n",
       " '284308': ['Noctuary'],\n",
       " '284330': ['Sex Out South'],\n",
       " '284491': ['Time Is Running Out'],\n",
       " '2846': ['The Canals Of Our City'],\n",
       " '284633': ['Safe and Sound'],\n",
       " '284861': ['Happiness Is Overrated'],\n",
       " '284930': ['Ripping Flesh'],\n",
       " '285630': ['A-Punk (Album)'],\n",
       " '285772': [\"What's Been Going On\"],\n",
       " '285810': [\"Who's Kissing You Tonight\"],\n",
       " '285817': ['Firecracker'],\n",
       " ...}"
      ]
     },
     "execution_count": 129,
     "metadata": {},
     "output_type": "execute_result"
    }
   ],
   "source": [
    "# group songs by their id and title and store into a dictionary \n",
    "song_dictionary = songs.groupby('song_id')['title'].apply(list).to_dict()\n",
    "song_dictionary"
   ]
  },
  {
   "cell_type": "code",
   "execution_count": 130,
   "metadata": {},
   "outputs": [
    {
     "data": {
      "text/plain": [
       "['Whoomp! There It Is']"
      ]
     },
     "execution_count": 130,
     "metadata": {},
     "output_type": "execute_result"
    }
   ],
   "source": [
    "song_dictionary['100511']"
   ]
  },
  {
   "cell_type": "code",
   "execution_count": 139,
   "metadata": {},
   "outputs": [],
   "source": [
    "# function that inputs song vectors and returns 10 similar songs\n",
    "def similar_songs(vctr, n = 10): \n",
    "    most_similar = train_word2vec_model.similar_by_vector(vctr, topn=n+1)[1:]\n",
    "    updated_most_similar = []\n",
    "    for similar in most_similar: \n",
    "        song_pairs = (song_dictionary[similar[0]][0], similar[1])\n",
    "        updated_most_similar.append(song_pairs)\n",
    "    return updated_most_similar"
   ]
  },
  {
   "cell_type": "code",
   "execution_count": 140,
   "metadata": {},
   "outputs": [
    {
     "data": {
      "text/plain": [
       "[('Ice Ice Baby (Radio Edit)', 0.7648397088050842),\n",
       " (\"Breakfast At Tiffany's\", 0.7244070172309875),\n",
       " ('Blue (Da Ba Dee)', 0.7192554473876953),\n",
       " ('Para Hacerme Perdonar (En Vivo Teatro Metropolitan)', 0.7175484895706177),\n",
       " ('Lovefool', 0.7157837152481079),\n",
       " (\"My Lovin' (You're Never Gonna Get It) (LP Version)\", 0.706565260887146),\n",
       " ('Your Woman', 0.7055498361587524),\n",
       " ('Decades Of Despair', 0.6998589038848877),\n",
       " ('Killing Me Softly With His Song', 0.6861705183982849),\n",
       " ('MMMBop', 0.6831271648406982)]"
      ]
     },
     "execution_count": 140,
     "metadata": {},
     "output_type": "execute_result"
    }
   ],
   "source": [
    "similar_songs(train_word2vec_model['100511'])"
   ]
  },
  {
   "cell_type": "code",
   "execution_count": 142,
   "metadata": {},
   "outputs": [],
   "source": [
    "# function that takes the average of all song vectors and returns similar songs\n",
    "def average_of_vectors(songs): \n",
    "    song_vector = []\n",
    "    for song_item in songs: \n",
    "        try:\n",
    "            song_vector.append(train_word2vec_model[song_item])\n",
    "        except KeyError: \n",
    "            continue\n",
    "    return np.mean(song_vector, axis=0)"
   ]
  },
  {
   "cell_type": "markdown",
   "metadata": {},
   "source": [
    "##### **POSSIBLE ALGORITHM TO COMPARE WITH**\n",
    "**Rank-Based Recommendation System**\n",
    "**To build the rank-based recommendation system, take the average of all the listen counts provided to each user and then rank them based on their average listen count**\n",
    "\n"
   ]
  },
  {
   "cell_type": "code",
   "execution_count": null,
   "metadata": {},
   "outputs": [],
   "source": [
    "# calculate average listen counts\n",
    "average_listen_counts = df_final.groupby('user_id').mean()['play_count']\n",
    "\n",
    "# calculate the count of listens \n",
    "count_of_listen = df_final.groupby('user_id').count()['play_count']\n",
    "\n",
    "# make a dataframe with the count and average of listens for a user\n",
    "final_listen_df = pd.DataFrame({'avg_listen_counts':average_listen_counts, 'listen_count': count_of_listen})\n",
    "\n",
    "#df_final['user_id'].drop_duplicates().sort_values()"
   ]
  },
  {
   "cell_type": "code",
   "execution_count": null,
   "metadata": {},
   "outputs": [
    {
     "data": {
      "text/html": [
       "<div>\n",
       "<style scoped>\n",
       "    .dataframe tbody tr th:only-of-type {\n",
       "        vertical-align: middle;\n",
       "    }\n",
       "\n",
       "    .dataframe tbody tr th {\n",
       "        vertical-align: top;\n",
       "    }\n",
       "\n",
       "    .dataframe thead th {\n",
       "        text-align: right;\n",
       "    }\n",
       "</style>\n",
       "<table border=\"1\" class=\"dataframe\">\n",
       "  <thead>\n",
       "    <tr style=\"text-align: right;\">\n",
       "      <th></th>\n",
       "      <th>avg_listen_counts</th>\n",
       "      <th>listen_count</th>\n",
       "    </tr>\n",
       "    <tr>\n",
       "      <th>user_id</th>\n",
       "      <th></th>\n",
       "      <th></th>\n",
       "    </tr>\n",
       "  </thead>\n",
       "  <tbody>\n",
       "    <tr>\n",
       "      <th>0</th>\n",
       "      <td>0.500000</td>\n",
       "      <td>4</td>\n",
       "    </tr>\n",
       "    <tr>\n",
       "      <th>1</th>\n",
       "      <td>NaN</td>\n",
       "      <td>0</td>\n",
       "    </tr>\n",
       "    <tr>\n",
       "      <th>2</th>\n",
       "      <td>0.312500</td>\n",
       "      <td>8</td>\n",
       "    </tr>\n",
       "    <tr>\n",
       "      <th>3</th>\n",
       "      <td>0.450000</td>\n",
       "      <td>8</td>\n",
       "    </tr>\n",
       "    <tr>\n",
       "      <th>4</th>\n",
       "      <td>NaN</td>\n",
       "      <td>0</td>\n",
       "    </tr>\n",
       "    <tr>\n",
       "      <th>...</th>\n",
       "      <td>...</td>\n",
       "      <td>...</td>\n",
       "    </tr>\n",
       "    <tr>\n",
       "      <th>95</th>\n",
       "      <td>0.166667</td>\n",
       "      <td>6</td>\n",
       "    </tr>\n",
       "    <tr>\n",
       "      <th>96</th>\n",
       "      <td>0.172932</td>\n",
       "      <td>19</td>\n",
       "    </tr>\n",
       "    <tr>\n",
       "      <th>97</th>\n",
       "      <td>0.140523</td>\n",
       "      <td>34</td>\n",
       "    </tr>\n",
       "    <tr>\n",
       "      <th>98</th>\n",
       "      <td>NaN</td>\n",
       "      <td>0</td>\n",
       "    </tr>\n",
       "    <tr>\n",
       "      <th>99</th>\n",
       "      <td>0.177083</td>\n",
       "      <td>12</td>\n",
       "    </tr>\n",
       "  </tbody>\n",
       "</table>\n",
       "<p>100 rows × 2 columns</p>\n",
       "</div>"
      ],
      "text/plain": [
       "         avg_listen_counts  listen_count\n",
       "user_id                                 \n",
       "0                 0.500000             4\n",
       "1                      NaN             0\n",
       "2                 0.312500             8\n",
       "3                 0.450000             8\n",
       "4                      NaN             0\n",
       "...                    ...           ...\n",
       "95                0.166667             6\n",
       "96                0.172932            19\n",
       "97                0.140523            34\n",
       "98                     NaN             0\n",
       "99                0.177083            12\n",
       "\n",
       "[100 rows x 2 columns]"
      ]
     },
     "execution_count": 126,
     "metadata": {},
     "output_type": "execute_result"
    }
   ],
   "source": [
    "final_listen_df.head(100)"
   ]
  },
  {
   "cell_type": "code",
   "execution_count": null,
   "metadata": {},
   "outputs": [],
   "source": [
    "# function for top n users for a recommendation based on average ratings of restaurant\n",
    "def top_n_user(df_final, n, min_interaction=50): \n",
    "    \n",
    "    # find users with minimum number of interactions\n",
    "    recommendations = df_final[df_final['listen_count'] > min_interaction]\n",
    "    \n",
    "    # sort values w.r.t average listen counts \n",
    "    recommendations = recommendations.sort_values(by='avg_listen_counts', ascending=False)\n",
    "    \n",
    "    return recommendations.index[:n]"
   ]
  },
  {
   "cell_type": "markdown",
   "metadata": {},
   "source": [
    "**Recommending top 5 songs with 50 minimum interacitons based on play count(s)**"
   ]
  },
  {
   "cell_type": "code",
   "execution_count": null,
   "metadata": {},
   "outputs": [
    {
     "data": {
      "text/plain": [
       "[74442, 64859, 22737, 72504, 49639]"
      ]
     },
     "execution_count": 128,
     "metadata": {},
     "output_type": "execute_result"
    }
   ],
   "source": [
    "list(top_n_user(final_listen_df, 5, 50))"
   ]
  },
  {
   "cell_type": "markdown",
   "metadata": {},
   "source": [
    "**Observations**\n",
    "- For the top n users with a minimum interaction of 50 listens the songs that were recommended: [74442, 64859, 22737, 72504, 49639]"
   ]
  },
  {
   "cell_type": "markdown",
   "metadata": {},
   "source": [
    "**Recommending top 5 songs with 100 minimum interacitons based on play count(s)**"
   ]
  },
  {
   "cell_type": "code",
   "execution_count": null,
   "metadata": {},
   "outputs": [
    {
     "data": {
      "text/plain": [
       "[36992, 8092, 70362, 30502, 33493]"
      ]
     },
     "execution_count": 129,
     "metadata": {},
     "output_type": "execute_result"
    }
   ],
   "source": [
    "list(top_n_user(final_listen_df, 5, 100))"
   ]
  },
  {
   "cell_type": "markdown",
   "metadata": {},
   "source": [
    "**Observations**\n",
    "- For the top n users with a minimum interaction of 100 listens the songs that were recommended: [[36992, 8092, 70362, 30502, 33493]\n",
    "- The song_id have declined. "
   ]
  },
  {
   "cell_type": "markdown",
   "metadata": {
    "id": "bvKb5FHcXzcN"
   },
   "source": [
    "### **ADDITIONAL THOUGHTS**"
   ]
  },
  {
   "cell_type": "markdown",
   "metadata": {},
   "source": [
    "##### **Data Reduction**"
   ]
  },
  {
   "cell_type": "code",
   "execution_count": null,
   "metadata": {
    "id": "7GGH9TW0_9uX"
   },
   "outputs": [
    {
     "name": "stdout",
     "output_type": "stream",
     "text": [
      "[54961, 39877, 56522, 40874, 45012, 22570, 66678, 47087, 46575, 54498, 6958, 63855, 27018, 59353, 20639, 70730, 55837, 6647, 50286, 56576, 3204, 38632, 19147, 74048, 48241, 19194, 13178, 42347, 57055, 5416, 49549, 44537, 12898, 58003, 18808, 43278, 70892, 73298, 9415, 21487, 76143, 63872, 359, 24533, 20082, 43942, 34420, 60317, 53867, 12635, 33130, 68660, 45949, 35629, 49202, 54615, 49608, 38327, 45988, 70816, 75935, 34234, 3540, 18971, 7798, 49235, 72300, 65206, 22784, 41940, 17679, 58071, 384, 47801, 29430, 7952, 54091, 72841, 9670, 37560, 69683, 6937, 54439, 35957, 19076, 44618, 2282, 38800, 26436, 54164, 6285, 30346, 25492, 44689, 15550, 14046, 47803, 70178, 25651, 70000, 52925, 44648, 22447, 6872, 42650, 37000, 24267, 53923, 56544, 21274, 40553, 39887, 27881, 68345, 58076, 19568, 6888, 4351, 70647, 17831, 40583, 64176, 40543, 46525, 17192, 49395, 55758, 37086, 68099, 42302, 24524, 28077, 68048, 41638, 7320, 75095, 57655, 69800, 4383, 10723, 66723, 12383, 39814, 10374, 69499, 56100, 35178, 25875, 1957, 69331, 11205, 6962, 67308, 1106, 54985, 66587, 70769, 37218, 73336, 14733, 24905, 21914, 21022, 5364, 76260, 31007, 31739, 54038, 10626, 16375, 5480, 45100, 41920, 8074, 70127, 49462, 46974, 67544, 52602, 7580, 13742, 44630, 23039, 15529, 74957, 65917, 29269, 42736, 38260, 51929, 21723, 45910, 58637, 20336, 44165, 62889, 46036, 57842, 19069, 68752]\n"
     ]
    }
   ],
   "source": [
    "# get the column containing the users\n",
    "users = merged_df.user_id\n",
    "# create a dictionary from users to their number of songs\n",
    "ratings_count = dict()\n",
    "\n",
    "# function to filter the data for users who have listened to a good count of songs\n",
    "def sufficient_count_of_songs(): \n",
    "    for user in users:\n",
    "    # if there already exists a user, just add 1 to the rating count\n",
    "        if user in ratings_count:\n",
    "            ratings_count[user] += 1\n",
    "    # otherwise, set the rating count to 1\n",
    "        else:\n",
    "            ratings_count[user] = 1 \n",
    "    some_ratings_count = list(ratings_count)[:200]\n",
    "    print(some_ratings_count)\n",
    "sufficient_count_of_songs()"
   ]
  },
  {
   "cell_type": "code",
   "execution_count": null,
   "metadata": {},
   "outputs": [
    {
     "data": {
      "text/html": [
       "<div>\n",
       "<style scoped>\n",
       "    .dataframe tbody tr th:only-of-type {\n",
       "        vertical-align: middle;\n",
       "    }\n",
       "\n",
       "    .dataframe tbody tr th {\n",
       "        vertical-align: top;\n",
       "    }\n",
       "\n",
       "    .dataframe thead th {\n",
       "        text-align: right;\n",
       "    }\n",
       "</style>\n",
       "<table border=\"1\" class=\"dataframe\">\n",
       "  <thead>\n",
       "    <tr style=\"text-align: right;\">\n",
       "      <th></th>\n",
       "      <th>title</th>\n",
       "      <th>play_count</th>\n",
       "      <th>percentage</th>\n",
       "    </tr>\n",
       "  </thead>\n",
       "  <tbody>\n",
       "    <tr>\n",
       "      <th>6836</th>\n",
       "      <td>Sehr kosmisch</td>\n",
       "      <td>8277</td>\n",
       "      <td>0.41385</td>\n",
       "    </tr>\n",
       "    <tr>\n",
       "      <th>8725</th>\n",
       "      <td>Undo</td>\n",
       "      <td>7032</td>\n",
       "      <td>0.35160</td>\n",
       "    </tr>\n",
       "    <tr>\n",
       "      <th>1964</th>\n",
       "      <td>Dog Days Are Over (Radio Edit)</td>\n",
       "      <td>6949</td>\n",
       "      <td>0.34745</td>\n",
       "    </tr>\n",
       "    <tr>\n",
       "      <th>9496</th>\n",
       "      <td>You're The One</td>\n",
       "      <td>6729</td>\n",
       "      <td>0.33645</td>\n",
       "    </tr>\n",
       "    <tr>\n",
       "      <th>6498</th>\n",
       "      <td>Revelry</td>\n",
       "      <td>6145</td>\n",
       "      <td>0.30725</td>\n",
       "    </tr>\n",
       "    <tr>\n",
       "      <th>...</th>\n",
       "      <td>...</td>\n",
       "      <td>...</td>\n",
       "      <td>...</td>\n",
       "    </tr>\n",
       "    <tr>\n",
       "      <th>3363</th>\n",
       "      <td>Historia Del Portero</td>\n",
       "      <td>51</td>\n",
       "      <td>0.00255</td>\n",
       "    </tr>\n",
       "    <tr>\n",
       "      <th>6782</th>\n",
       "      <td>Scared</td>\n",
       "      <td>51</td>\n",
       "      <td>0.00255</td>\n",
       "    </tr>\n",
       "    <tr>\n",
       "      <th>2041</th>\n",
       "      <td>Don´t Leave Me Now</td>\n",
       "      <td>50</td>\n",
       "      <td>0.00250</td>\n",
       "    </tr>\n",
       "    <tr>\n",
       "      <th>2860</th>\n",
       "      <td>Ghosts (Toxic Avenger Mix)</td>\n",
       "      <td>48</td>\n",
       "      <td>0.00240</td>\n",
       "    </tr>\n",
       "    <tr>\n",
       "      <th>5567</th>\n",
       "      <td>No Creo En El Jamas</td>\n",
       "      <td>48</td>\n",
       "      <td>0.00240</td>\n",
       "    </tr>\n",
       "  </tbody>\n",
       "</table>\n",
       "<p>9567 rows × 3 columns</p>\n",
       "</div>"
      ],
      "text/plain": [
       "                               title  play_count  percentage\n",
       "6836                   Sehr kosmisch        8277     0.41385\n",
       "8725                            Undo        7032     0.35160\n",
       "1964  Dog Days Are Over (Radio Edit)        6949     0.34745\n",
       "9496                  You're The One        6729     0.33645\n",
       "6498                         Revelry        6145     0.30725\n",
       "...                              ...         ...         ...\n",
       "3363            Historia Del Portero          51     0.00255\n",
       "6782                          Scared          51     0.00255\n",
       "2041              Don´t Leave Me Now          50     0.00250\n",
       "2860      Ghosts (Toxic Avenger Mix)          48     0.00240\n",
       "5567             No Creo En El Jamas          48     0.00240\n",
       "\n",
       "[9567 rows x 3 columns]"
      ]
     },
     "metadata": {},
     "output_type": "display_data"
    }
   ],
   "source": [
    "from IPython.display import display\n",
    "# function that groups songs by title and play_count with percentage of song counts listened\n",
    "def group_songs_by_play_count():\n",
    "    grouped_songs_df = merged_df.groupby(['title']).agg({'play_count': 'count'}).reset_index()\n",
    "    grouped_songs_sum = grouped_songs_df['play_count'].sum()\n",
    "    grouped_songs_df['percentage'] = grouped_songs_df['play_count'].div(grouped_songs_sum)*100\n",
    "    final_grouped_songs_df = grouped_songs_df.sort_values(['play_count', 'title'], ascending = [0,1])\n",
    "    display(final_grouped_songs_df)\n",
    "group_songs_by_play_count()"
   ]
  },
  {
   "cell_type": "markdown",
   "metadata": {},
   "source": [
    "**Observations** \n",
    "- The top 5 songs that had a high percentage of play counts: Sehr kosmisch, Undo, Dog Days Are Over (Radio Edit), You're The One, Revelry\n",
    "- It will be interesting to see if these songs are recommended again using a different recommender system. "
   ]
  },
  {
   "cell_type": "markdown",
   "metadata": {
    "id": "joFF5zndX1Dk"
   },
   "source": [
    "Songs played in a year"
   ]
  },
  {
   "cell_type": "code",
   "execution_count": null,
   "metadata": {
    "colab": {
     "base_uri": "https://localhost:8080/",
     "height": 238
    },
    "id": "bQp2iVMC2T9Y",
    "outputId": "673b31f5-b67d-4ba2-f253-ebec3a1162ff"
   },
   "outputs": [
    {
     "data": {
      "text/html": [
       "<div>\n",
       "<style scoped>\n",
       "    .dataframe tbody tr th:only-of-type {\n",
       "        vertical-align: middle;\n",
       "    }\n",
       "\n",
       "    .dataframe tbody tr th {\n",
       "        vertical-align: top;\n",
       "    }\n",
       "\n",
       "    .dataframe thead th {\n",
       "        text-align: right;\n",
       "    }\n",
       "</style>\n",
       "<table border=\"1\" class=\"dataframe\">\n",
       "  <thead>\n",
       "    <tr style=\"text-align: right;\">\n",
       "      <th></th>\n",
       "      <th>play_count</th>\n",
       "    </tr>\n",
       "    <tr>\n",
       "      <th>year</th>\n",
       "      <th></th>\n",
       "    </tr>\n",
       "  </thead>\n",
       "  <tbody>\n",
       "    <tr>\n",
       "      <th>2006</th>\n",
       "      <td>90637</td>\n",
       "    </tr>\n",
       "    <tr>\n",
       "      <th>2007</th>\n",
       "      <td>125238</td>\n",
       "    </tr>\n",
       "    <tr>\n",
       "      <th>2008</th>\n",
       "      <td>135803</td>\n",
       "    </tr>\n",
       "    <tr>\n",
       "      <th>2009</th>\n",
       "      <td>146513</td>\n",
       "    </tr>\n",
       "    <tr>\n",
       "      <th>2010</th>\n",
       "      <td>54693</td>\n",
       "    </tr>\n",
       "  </tbody>\n",
       "</table>\n",
       "</div>"
      ],
      "text/plain": [
       "      play_count\n",
       "year            \n",
       "2006       90637\n",
       "2007      125238\n",
       "2008      135803\n",
       "2009      146513\n",
       "2010       54693"
      ]
     },
     "execution_count": 95,
     "metadata": {},
     "output_type": "execute_result"
    }
   ],
   "source": [
    "count_songs = df_final.groupby('year').count()['play_count']\n",
    "count = pd.DataFrame(count_songs)\n",
    "count.drop(count.index[0], inplace=True)\n",
    "count.tail()"
   ]
  },
  {
   "cell_type": "markdown",
   "metadata": {},
   "source": [
    "**Observations**\n",
    "- The year 2009\thad a vast ~146513 play counts. \n",
    "- This is followed by the year 2008 with ~135803 play counts. "
   ]
  },
  {
   "cell_type": "code",
   "execution_count": null,
   "metadata": {
    "colab": {
     "base_uri": "https://localhost:8080/",
     "height": 438
    },
    "id": "bZCkOiAB2T9Y",
    "outputId": "38f3e43c-1def-44e9-b174-e56fee56c48b"
   },
   "outputs": [
    {
     "data": {
      "image/png": "[encoded data removed]",
      "text/plain": [
       "<Figure size 2160x720 with 1 Axes>"
      ]
     },
     "metadata": {
      "needs_background": "light"
     },
     "output_type": "display_data"
    }
   ],
   "source": [
    "plt.figure(figsize=(30,10))\n",
    "sns.barplot(x = count.index,\n",
    "            y = 'play_count',\n",
    "            data = count,\n",
    "            estimator = np.median)\n",
    "plt.ylabel('number of titles played') \n",
    "# Show the plot\n",
    "plt.show()"
   ]
  },
  {
   "cell_type": "markdown",
   "metadata": {},
   "source": [
    "**Observations**\n",
    "- Interestingly,initial assumption of 2010 being the highest play count of song is incorrect. "
   ]
  },
  {
   "cell_type": "markdown",
   "metadata": {
    "id": "uPq5Th7j5h9H"
   },
   "source": [
    "## **Proposed approach**\n",
    "**Potential techniques** - What different techniques should be explored?<br>\n",
    "**Overall solution design** - What is the potential solution design?<br>\n",
    "**Measures of success**- What are the key measures of success to compare different potential technqiues?<br>\n",
    "\n",
    "### ** Please see document attached for details **"
   ]
  }
 ],
 "metadata": {
  "colab": {
   "collapsed_sections": [],
   "name": "Reference_Notebook_Milestone_1_Recommendation_Systems.ipynb",
   "provenance": []
  },
  "kernelspec": {
   "display_name": "Python 3",
   "language": "python",
   "name": "python3"
  },
  "language_info": {
   "codemirror_mode": {
    "name": "ipython",
    "version": 3
   },
   "file_extension": ".py",
   "mimetype": "text/x-python",
   "name": "python",
   "nbconvert_exporter": "python",
   "pygments_lexer": "ipython3",
   "version": "3.9.9"
  }
 },
 "nbformat": 4,
 "nbformat_minor": 1
}
