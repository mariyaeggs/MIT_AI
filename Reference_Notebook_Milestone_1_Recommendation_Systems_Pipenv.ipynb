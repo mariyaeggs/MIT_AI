{
 "cells": [
  {
   "cell_type": "markdown",
   "metadata": {
    "id": "DyAjEw4OHmDb"
   },
   "source": [
    "# **Music Recommendation System**\n",
    "**REPO VERSION**"
   ]
  },
  {
   "cell_type": "markdown",
   "metadata": {},
   "source": [
    "## **MILESTONE I**"
   ]
  },
  {
   "cell_type": "markdown",
   "metadata": {
    "id": "BVUiyhYTHS1t"
   },
   "source": [
    "### **Problem Definition**\n",
    "\n",
    "**The context** - Why is this problem important to solve?<br>\n",
    "**The objectives** - What is the intended goal?<br>\n",
    "**The key questions** - What are the key questions that need to be answered?<br>\n",
    "**The problem formulation** - What is it that we are trying to solve using data science?\n",
    "\n",
    "\n",
    "### **Data Dictionary**\n",
    "\n",
    "The core data is the Taste Profile Subset released by The Echo Nest as part of the Million Song Dataset. There are two files in this dataset. One contains the details about the song id, titles, release, artist name and the year of release. Second file contains the user id, song id and the play count of users.\n",
    "\n",
    "song_data\n",
    "\n",
    "song_id - A unique id given to every song\n",
    "\n",
    "title - Title of the song\n",
    "\n",
    "Release - Name of the released album\n",
    "\n",
    "Artist_name - Name of the artist \n",
    "\n",
    "year - Year of release\n",
    "\n",
    "count_data\n",
    "\n",
    "user _id - A unique id given to the user\n",
    "\n",
    "song_id - A unique id given to the song\n",
    "\n",
    "play_count - Number of times the song was played\n",
    "\n",
    "### **Data Source**\n",
    "http://millionsongdataset.com/"
   ]
  },
  {
   "cell_type": "markdown",
   "metadata": {
    "id": "NRJtXkTrHxMQ"
   },
   "source": [
    "##### **Importing Libraries**"
   ]
  },
  {
   "cell_type": "code",
   "execution_count": 96,
   "metadata": {
    "id": "R4YvKrpzId3K"
   },
   "outputs": [],
   "source": [
    "import warnings # ignore the warning given as output of the code\n",
    "warnings.filterwarnings('ignore')\n",
    "%matplotlib inline\n",
    "\n",
    "import numpy as np # libraries of python for numeric and dataframe computations\n",
    "import pandas as pd\n",
    "import random \n",
    "\n",
    "import matplotlib.pyplot as plt # library for data visualization\n",
    "\n",
    "import seaborn as sns # advanced library for data visualization\n",
    "\n",
    "from sklearn.metrics.pairwise import cosine_similarity # compute the cosine similarity between two vectors\n",
    "from collections import defaultdict # dictionary output that does not raise a key error\n",
    "\n",
    "from sklearn.metrics import mean_squared_error # performance metrics in sklearn\n",
    "\n",
    "from sklearn import preprocessing # for embedding encrypted data\n",
    "\n",
    "# for word2vec recommendation\n",
    "from tqdm import tqdm\n",
    "from gensim.models import Word2Vec\n",
    "\n",
    "# for dimensional reduction\n",
    "import umap.umap_ as umap\n"
   ]
  },
  {
   "cell_type": "code",
   "execution_count": 98,
   "metadata": {},
   "outputs": [
    {
     "name": "stdout",
     "output_type": "stream",
     "text": [
      "3.8.3\n"
     ]
    }
   ],
   "source": [
    "import gensim\n",
    "print(gensim.__version__)"
   ]
  },
  {
   "cell_type": "code",
   "execution_count": 99,
   "metadata": {},
   "outputs": [
    {
     "name": "stdout",
     "output_type": "stream",
     "text": [
      "1.22.1\n"
     ]
    }
   ],
   "source": [
    "print(np.__version__)"
   ]
  },
  {
   "cell_type": "code",
   "execution_count": 101,
   "metadata": {},
   "outputs": [
    {
     "name": "stdout",
     "output_type": "stream",
     "text": [
      "Python 3.9.9\n"
     ]
    }
   ],
   "source": [
    "!python --version"
   ]
  },
  {
   "cell_type": "markdown",
   "metadata": {},
   "source": [
    "##### **Loading Dataset**"
   ]
  },
  {
   "cell_type": "code",
   "execution_count": 102,
   "metadata": {
    "id": "si6ulhIYImck"
   },
   "outputs": [],
   "source": [
    "# import the datasets\n",
    "count_df = pd.read_csv('/Users/student/Downloads/count_data.csv')\n",
    "song_df = pd.read_csv('/Users/student/Downloads/song_data.csv')"
   ]
  },
  {
   "cell_type": "code",
   "execution_count": 103,
   "metadata": {},
   "outputs": [],
   "source": [
    "# copy data to another dataframe\n",
    "count_df_copy = count_df.copy(deep=True)\n",
    "song_df_copy = song_df.copy(deep=True)"
   ]
  },
  {
   "cell_type": "code",
   "execution_count": 104,
   "metadata": {},
   "outputs": [
    {
     "data": {
      "text/html": [
       "<div>\n",
       "<style scoped>\n",
       "    .dataframe tbody tr th:only-of-type {\n",
       "        vertical-align: middle;\n",
       "    }\n",
       "\n",
       "    .dataframe tbody tr th {\n",
       "        vertical-align: top;\n",
       "    }\n",
       "\n",
       "    .dataframe thead th {\n",
       "        text-align: right;\n",
       "    }\n",
       "</style>\n",
       "<table border=\"1\" class=\"dataframe\">\n",
       "  <thead>\n",
       "    <tr style=\"text-align: right;\">\n",
       "      <th></th>\n",
       "      <th>song_id</th>\n",
       "      <th>title</th>\n",
       "      <th>release</th>\n",
       "      <th>artist_name</th>\n",
       "      <th>year</th>\n",
       "    </tr>\n",
       "  </thead>\n",
       "  <tbody>\n",
       "    <tr>\n",
       "      <th>0</th>\n",
       "      <td>SOQMMHC12AB0180CB8</td>\n",
       "      <td>Silent Night</td>\n",
       "      <td>Monster Ballads X-Mas</td>\n",
       "      <td>Faster Pussy cat</td>\n",
       "      <td>2003</td>\n",
       "    </tr>\n",
       "    <tr>\n",
       "      <th>1</th>\n",
       "      <td>SOVFVAK12A8C1350D9</td>\n",
       "      <td>Tanssi vaan</td>\n",
       "      <td>Karkuteillä</td>\n",
       "      <td>Karkkiautomaatti</td>\n",
       "      <td>1995</td>\n",
       "    </tr>\n",
       "    <tr>\n",
       "      <th>2</th>\n",
       "      <td>SOGTUKN12AB017F4F1</td>\n",
       "      <td>No One Could Ever</td>\n",
       "      <td>Butter</td>\n",
       "      <td>Hudson Mohawke</td>\n",
       "      <td>2006</td>\n",
       "    </tr>\n",
       "    <tr>\n",
       "      <th>3</th>\n",
       "      <td>SOBNYVR12A8C13558C</td>\n",
       "      <td>Si Vos Querés</td>\n",
       "      <td>De Culo</td>\n",
       "      <td>Yerba Brava</td>\n",
       "      <td>2003</td>\n",
       "    </tr>\n",
       "    <tr>\n",
       "      <th>4</th>\n",
       "      <td>SOHSBXH12A8C13B0DF</td>\n",
       "      <td>Tangle Of Aspens</td>\n",
       "      <td>Rene Ablaze Presents Winter Sessions</td>\n",
       "      <td>Der Mystic</td>\n",
       "      <td>0</td>\n",
       "    </tr>\n",
       "  </tbody>\n",
       "</table>\n",
       "</div>"
      ],
      "text/plain": [
       "              song_id              title  \\\n",
       "0  SOQMMHC12AB0180CB8       Silent Night   \n",
       "1  SOVFVAK12A8C1350D9        Tanssi vaan   \n",
       "2  SOGTUKN12AB017F4F1  No One Could Ever   \n",
       "3  SOBNYVR12A8C13558C      Si Vos Querés   \n",
       "4  SOHSBXH12A8C13B0DF   Tangle Of Aspens   \n",
       "\n",
       "                                release       artist_name  year  \n",
       "0                 Monster Ballads X-Mas  Faster Pussy cat  2003  \n",
       "1                           Karkuteillä  Karkkiautomaatti  1995  \n",
       "2                                Butter    Hudson Mohawke  2006  \n",
       "3                               De Culo       Yerba Brava  2003  \n",
       "4  Rene Ablaze Presents Winter Sessions        Der Mystic     0  "
      ]
     },
     "execution_count": 104,
     "metadata": {},
     "output_type": "execute_result"
    }
   ],
   "source": [
    "song_df.head()"
   ]
  },
  {
   "cell_type": "markdown",
   "metadata": {},
   "source": [
    "**Observations**\n",
    "- The song_df needs data embedding.\n",
    "- There are features with missing values, which will need correction. "
   ]
  },
  {
   "cell_type": "code",
   "execution_count": 105,
   "metadata": {},
   "outputs": [
    {
     "data": {
      "text/html": [
       "<div>\n",
       "<style scoped>\n",
       "    .dataframe tbody tr th:only-of-type {\n",
       "        vertical-align: middle;\n",
       "    }\n",
       "\n",
       "    .dataframe tbody tr th {\n",
       "        vertical-align: top;\n",
       "    }\n",
       "\n",
       "    .dataframe thead th {\n",
       "        text-align: right;\n",
       "    }\n",
       "</style>\n",
       "<table border=\"1\" class=\"dataframe\">\n",
       "  <thead>\n",
       "    <tr style=\"text-align: right;\">\n",
       "      <th></th>\n",
       "      <th>Unnamed: 0</th>\n",
       "      <th>user_id</th>\n",
       "      <th>song_id</th>\n",
       "      <th>play_count</th>\n",
       "    </tr>\n",
       "  </thead>\n",
       "  <tbody>\n",
       "    <tr>\n",
       "      <th>0</th>\n",
       "      <td>0</td>\n",
       "      <td>b80344d063b5ccb3212f76538f3d9e43d87dca9e</td>\n",
       "      <td>SOAKIMP12A8C130995</td>\n",
       "      <td>1</td>\n",
       "    </tr>\n",
       "    <tr>\n",
       "      <th>1</th>\n",
       "      <td>1</td>\n",
       "      <td>b80344d063b5ccb3212f76538f3d9e43d87dca9e</td>\n",
       "      <td>SOBBMDR12A8C13253B</td>\n",
       "      <td>2</td>\n",
       "    </tr>\n",
       "    <tr>\n",
       "      <th>2</th>\n",
       "      <td>2</td>\n",
       "      <td>b80344d063b5ccb3212f76538f3d9e43d87dca9e</td>\n",
       "      <td>SOBXHDL12A81C204C0</td>\n",
       "      <td>1</td>\n",
       "    </tr>\n",
       "    <tr>\n",
       "      <th>3</th>\n",
       "      <td>3</td>\n",
       "      <td>b80344d063b5ccb3212f76538f3d9e43d87dca9e</td>\n",
       "      <td>SOBYHAJ12A6701BF1D</td>\n",
       "      <td>1</td>\n",
       "    </tr>\n",
       "    <tr>\n",
       "      <th>4</th>\n",
       "      <td>4</td>\n",
       "      <td>b80344d063b5ccb3212f76538f3d9e43d87dca9e</td>\n",
       "      <td>SODACBL12A8C13C273</td>\n",
       "      <td>1</td>\n",
       "    </tr>\n",
       "  </tbody>\n",
       "</table>\n",
       "</div>"
      ],
      "text/plain": [
       "   Unnamed: 0                                   user_id             song_id  \\\n",
       "0           0  b80344d063b5ccb3212f76538f3d9e43d87dca9e  SOAKIMP12A8C130995   \n",
       "1           1  b80344d063b5ccb3212f76538f3d9e43d87dca9e  SOBBMDR12A8C13253B   \n",
       "2           2  b80344d063b5ccb3212f76538f3d9e43d87dca9e  SOBXHDL12A81C204C0   \n",
       "3           3  b80344d063b5ccb3212f76538f3d9e43d87dca9e  SOBYHAJ12A6701BF1D   \n",
       "4           4  b80344d063b5ccb3212f76538f3d9e43d87dca9e  SODACBL12A8C13C273   \n",
       "\n",
       "   play_count  \n",
       "0           1  \n",
       "1           2  \n",
       "2           1  \n",
       "3           1  \n",
       "4           1  "
      ]
     },
     "execution_count": 105,
     "metadata": {},
     "output_type": "execute_result"
    }
   ],
   "source": [
    "count_df.head()"
   ]
  },
  {
   "cell_type": "code",
   "execution_count": 106,
   "metadata": {},
   "outputs": [],
   "source": [
    "# drop the column 'Unnamed: 0'  \n",
    "count_df.drop(['Unnamed: 0'], \n",
    "                axis = 1, \n",
    "                inplace = True)\n"
   ]
  },
  {
   "cell_type": "code",
   "execution_count": 107,
   "metadata": {},
   "outputs": [
    {
     "data": {
      "text/html": [
       "<div>\n",
       "<style scoped>\n",
       "    .dataframe tbody tr th:only-of-type {\n",
       "        vertical-align: middle;\n",
       "    }\n",
       "\n",
       "    .dataframe tbody tr th {\n",
       "        vertical-align: top;\n",
       "    }\n",
       "\n",
       "    .dataframe thead th {\n",
       "        text-align: right;\n",
       "    }\n",
       "</style>\n",
       "<table border=\"1\" class=\"dataframe\">\n",
       "  <thead>\n",
       "    <tr style=\"text-align: right;\">\n",
       "      <th></th>\n",
       "      <th>user_id</th>\n",
       "      <th>song_id</th>\n",
       "      <th>play_count</th>\n",
       "    </tr>\n",
       "  </thead>\n",
       "  <tbody>\n",
       "    <tr>\n",
       "      <th>0</th>\n",
       "      <td>b80344d063b5ccb3212f76538f3d9e43d87dca9e</td>\n",
       "      <td>SOAKIMP12A8C130995</td>\n",
       "      <td>1</td>\n",
       "    </tr>\n",
       "    <tr>\n",
       "      <th>1</th>\n",
       "      <td>b80344d063b5ccb3212f76538f3d9e43d87dca9e</td>\n",
       "      <td>SOBBMDR12A8C13253B</td>\n",
       "      <td>2</td>\n",
       "    </tr>\n",
       "    <tr>\n",
       "      <th>2</th>\n",
       "      <td>b80344d063b5ccb3212f76538f3d9e43d87dca9e</td>\n",
       "      <td>SOBXHDL12A81C204C0</td>\n",
       "      <td>1</td>\n",
       "    </tr>\n",
       "    <tr>\n",
       "      <th>3</th>\n",
       "      <td>b80344d063b5ccb3212f76538f3d9e43d87dca9e</td>\n",
       "      <td>SOBYHAJ12A6701BF1D</td>\n",
       "      <td>1</td>\n",
       "    </tr>\n",
       "    <tr>\n",
       "      <th>4</th>\n",
       "      <td>b80344d063b5ccb3212f76538f3d9e43d87dca9e</td>\n",
       "      <td>SODACBL12A8C13C273</td>\n",
       "      <td>1</td>\n",
       "    </tr>\n",
       "  </tbody>\n",
       "</table>\n",
       "</div>"
      ],
      "text/plain": [
       "                                    user_id             song_id  play_count\n",
       "0  b80344d063b5ccb3212f76538f3d9e43d87dca9e  SOAKIMP12A8C130995           1\n",
       "1  b80344d063b5ccb3212f76538f3d9e43d87dca9e  SOBBMDR12A8C13253B           2\n",
       "2  b80344d063b5ccb3212f76538f3d9e43d87dca9e  SOBXHDL12A81C204C0           1\n",
       "3  b80344d063b5ccb3212f76538f3d9e43d87dca9e  SOBYHAJ12A6701BF1D           1\n",
       "4  b80344d063b5ccb3212f76538f3d9e43d87dca9e  SODACBL12A8C13C273           1"
      ]
     },
     "execution_count": 107,
     "metadata": {},
     "output_type": "execute_result"
    }
   ],
   "source": [
    "count_df.head()"
   ]
  },
  {
   "cell_type": "code",
   "execution_count": 108,
   "metadata": {},
   "outputs": [],
   "source": [
    "# fill null values in song_df with fillna()\n",
    "song_df = song_df.fillna(value=0)"
   ]
  },
  {
   "cell_type": "code",
   "execution_count": 109,
   "metadata": {},
   "outputs": [],
   "source": [
    "# apply label encoding for \"song_id\"\n",
    "encoded_song_id =  preprocessing.LabelEncoder()\n",
    "encoded_song_id.fit(song_df.song_id)\n",
    "song_df.song_id = encoded_song_id.transform(song_df.song_id)\n",
    "count_df.song_id = encoded_song_id.transform(count_df.song_id)\n",
    "\n",
    "# apply label encoding for \"user_id\"\n",
    "encoded_user_id =  preprocessing.LabelEncoder()\n",
    "count_df.user_id = encoded_user_id.fit_transform(count_df.user_id)\n"
   ]
  },
  {
   "cell_type": "code",
   "execution_count": 110,
   "metadata": {},
   "outputs": [],
   "source": [
    "# left merge the count_df and song_df data on \"song_id\". Drop duplicates from song_df data simultaneously.\n",
    "merged_df = count_df.merge(song_df.drop_duplicates(['song_id']), \n",
    "                            how='left', \n",
    "                            on='song_id')"
   ]
  },
  {
   "cell_type": "code",
   "execution_count": 111,
   "metadata": {},
   "outputs": [
    {
     "data": {
      "text/html": [
       "<div>\n",
       "<style scoped>\n",
       "    .dataframe tbody tr th:only-of-type {\n",
       "        vertical-align: middle;\n",
       "    }\n",
       "\n",
       "    .dataframe tbody tr th {\n",
       "        vertical-align: top;\n",
       "    }\n",
       "\n",
       "    .dataframe thead th {\n",
       "        text-align: right;\n",
       "    }\n",
       "</style>\n",
       "<table border=\"1\" class=\"dataframe\">\n",
       "  <thead>\n",
       "    <tr style=\"text-align: right;\">\n",
       "      <th></th>\n",
       "      <th>user_id</th>\n",
       "      <th>song_id</th>\n",
       "      <th>play_count</th>\n",
       "      <th>title</th>\n",
       "      <th>release</th>\n",
       "      <th>artist_name</th>\n",
       "      <th>year</th>\n",
       "    </tr>\n",
       "  </thead>\n",
       "  <tbody>\n",
       "    <tr>\n",
       "      <th>0</th>\n",
       "      <td>54961</td>\n",
       "      <td>17370</td>\n",
       "      <td>1</td>\n",
       "      <td>The Cove</td>\n",
       "      <td>Thicker Than Water</td>\n",
       "      <td>Jack Johnson</td>\n",
       "      <td>0</td>\n",
       "    </tr>\n",
       "    <tr>\n",
       "      <th>1</th>\n",
       "      <td>54961</td>\n",
       "      <td>45995</td>\n",
       "      <td>2</td>\n",
       "      <td>Entre Dos Aguas</td>\n",
       "      <td>Flamenco Para Niños</td>\n",
       "      <td>Paco De Lucia</td>\n",
       "      <td>1976</td>\n",
       "    </tr>\n",
       "    <tr>\n",
       "      <th>2</th>\n",
       "      <td>54961</td>\n",
       "      <td>82002</td>\n",
       "      <td>1</td>\n",
       "      <td>Stronger</td>\n",
       "      <td>Graduation</td>\n",
       "      <td>Kanye West</td>\n",
       "      <td>2007</td>\n",
       "    </tr>\n",
       "    <tr>\n",
       "      <th>3</th>\n",
       "      <td>54961</td>\n",
       "      <td>83689</td>\n",
       "      <td>1</td>\n",
       "      <td>Constellations</td>\n",
       "      <td>In Between Dreams</td>\n",
       "      <td>Jack Johnson</td>\n",
       "      <td>2005</td>\n",
       "    </tr>\n",
       "    <tr>\n",
       "      <th>4</th>\n",
       "      <td>54961</td>\n",
       "      <td>129375</td>\n",
       "      <td>1</td>\n",
       "      <td>Learn To Fly</td>\n",
       "      <td>There Is Nothing Left To Lose</td>\n",
       "      <td>Foo Fighters</td>\n",
       "      <td>1999</td>\n",
       "    </tr>\n",
       "  </tbody>\n",
       "</table>\n",
       "</div>"
      ],
      "text/plain": [
       "   user_id  song_id  play_count            title  \\\n",
       "0    54961    17370           1         The Cove   \n",
       "1    54961    45995           2  Entre Dos Aguas   \n",
       "2    54961    82002           1         Stronger   \n",
       "3    54961    83689           1   Constellations   \n",
       "4    54961   129375           1     Learn To Fly   \n",
       "\n",
       "                         release    artist_name  year  \n",
       "0             Thicker Than Water   Jack Johnson     0  \n",
       "1            Flamenco Para Niños  Paco De Lucia  1976  \n",
       "2                     Graduation     Kanye West  2007  \n",
       "3              In Between Dreams   Jack Johnson  2005  \n",
       "4  There Is Nothing Left To Lose   Foo Fighters  1999  "
      ]
     },
     "execution_count": 111,
     "metadata": {},
     "output_type": "execute_result"
    }
   ],
   "source": [
    "merged_df.head()"
   ]
  },
  {
   "cell_type": "markdown",
   "metadata": {},
   "source": [
    "**Observations** \n",
    "- One users can have multiple song_id, but only a single user_id. \n",
    "- There may be many unique values in the dataset. "
   ]
  },
  {
   "cell_type": "code",
   "execution_count": 112,
   "metadata": {},
   "outputs": [
    {
     "data": {
      "text/html": [
       "<div>\n",
       "<style scoped>\n",
       "    .dataframe tbody tr th:only-of-type {\n",
       "        vertical-align: middle;\n",
       "    }\n",
       "\n",
       "    .dataframe tbody tr th {\n",
       "        vertical-align: top;\n",
       "    }\n",
       "\n",
       "    .dataframe thead th {\n",
       "        text-align: right;\n",
       "    }\n",
       "</style>\n",
       "<table border=\"1\" class=\"dataframe\">\n",
       "  <thead>\n",
       "    <tr style=\"text-align: right;\">\n",
       "      <th></th>\n",
       "      <th>user_id</th>\n",
       "      <th>song_id</th>\n",
       "      <th>play_count</th>\n",
       "      <th>title</th>\n",
       "      <th>release</th>\n",
       "      <th>artist_name</th>\n",
       "      <th>year</th>\n",
       "    </tr>\n",
       "  </thead>\n",
       "  <tbody>\n",
       "    <tr>\n",
       "      <th>count</th>\n",
       "      <td>2.000000e+06</td>\n",
       "      <td>2.000000e+06</td>\n",
       "      <td>2.000000e+06</td>\n",
       "      <td>2000000</td>\n",
       "      <td>2000000</td>\n",
       "      <td>2000000</td>\n",
       "      <td>2.000000e+06</td>\n",
       "    </tr>\n",
       "    <tr>\n",
       "      <th>unique</th>\n",
       "      <td>NaN</td>\n",
       "      <td>NaN</td>\n",
       "      <td>NaN</td>\n",
       "      <td>9567</td>\n",
       "      <td>5388</td>\n",
       "      <td>3375</td>\n",
       "      <td>NaN</td>\n",
       "    </tr>\n",
       "    <tr>\n",
       "      <th>top</th>\n",
       "      <td>NaN</td>\n",
       "      <td>NaN</td>\n",
       "      <td>NaN</td>\n",
       "      <td>Sehr kosmisch</td>\n",
       "      <td>Greatest Hits</td>\n",
       "      <td>Coldplay</td>\n",
       "      <td>NaN</td>\n",
       "    </tr>\n",
       "    <tr>\n",
       "      <th>freq</th>\n",
       "      <td>NaN</td>\n",
       "      <td>NaN</td>\n",
       "      <td>NaN</td>\n",
       "      <td>8277</td>\n",
       "      <td>15692</td>\n",
       "      <td>29422</td>\n",
       "      <td>NaN</td>\n",
       "    </tr>\n",
       "    <tr>\n",
       "      <th>mean</th>\n",
       "      <td>3.813599e+04</td>\n",
       "      <td>5.097695e+05</td>\n",
       "      <td>3.045485e+00</td>\n",
       "      <td>NaN</td>\n",
       "      <td>NaN</td>\n",
       "      <td>NaN</td>\n",
       "      <td>1.628645e+03</td>\n",
       "    </tr>\n",
       "    <tr>\n",
       "      <th>std</th>\n",
       "      <td>2.204443e+04</td>\n",
       "      <td>2.863777e+05</td>\n",
       "      <td>6.579720e+00</td>\n",
       "      <td>NaN</td>\n",
       "      <td>NaN</td>\n",
       "      <td>NaN</td>\n",
       "      <td>7.787283e+02</td>\n",
       "    </tr>\n",
       "    <tr>\n",
       "      <th>min</th>\n",
       "      <td>0.000000e+00</td>\n",
       "      <td>1.900000e+01</td>\n",
       "      <td>1.000000e+00</td>\n",
       "      <td>NaN</td>\n",
       "      <td>NaN</td>\n",
       "      <td>NaN</td>\n",
       "      <td>0.000000e+00</td>\n",
       "    </tr>\n",
       "    <tr>\n",
       "      <th>25%</th>\n",
       "      <td>1.911200e+04</td>\n",
       "      <td>2.622680e+05</td>\n",
       "      <td>1.000000e+00</td>\n",
       "      <td>NaN</td>\n",
       "      <td>NaN</td>\n",
       "      <td>NaN</td>\n",
       "      <td>1.984000e+03</td>\n",
       "    </tr>\n",
       "    <tr>\n",
       "      <th>50%</th>\n",
       "      <td>3.794900e+04</td>\n",
       "      <td>5.232100e+05</td>\n",
       "      <td>1.000000e+00</td>\n",
       "      <td>NaN</td>\n",
       "      <td>NaN</td>\n",
       "      <td>NaN</td>\n",
       "      <td>2.002000e+03</td>\n",
       "    </tr>\n",
       "    <tr>\n",
       "      <th>75%</th>\n",
       "      <td>5.713500e+04</td>\n",
       "      <td>7.603520e+05</td>\n",
       "      <td>3.000000e+00</td>\n",
       "      <td>NaN</td>\n",
       "      <td>NaN</td>\n",
       "      <td>NaN</td>\n",
       "      <td>2.007000e+03</td>\n",
       "    </tr>\n",
       "    <tr>\n",
       "      <th>max</th>\n",
       "      <td>7.635200e+04</td>\n",
       "      <td>9.990360e+05</td>\n",
       "      <td>2.213000e+03</td>\n",
       "      <td>NaN</td>\n",
       "      <td>NaN</td>\n",
       "      <td>NaN</td>\n",
       "      <td>2.010000e+03</td>\n",
       "    </tr>\n",
       "  </tbody>\n",
       "</table>\n",
       "</div>"
      ],
      "text/plain": [
       "             user_id       song_id    play_count          title  \\\n",
       "count   2.000000e+06  2.000000e+06  2.000000e+06        2000000   \n",
       "unique           NaN           NaN           NaN           9567   \n",
       "top              NaN           NaN           NaN  Sehr kosmisch   \n",
       "freq             NaN           NaN           NaN           8277   \n",
       "mean    3.813599e+04  5.097695e+05  3.045485e+00            NaN   \n",
       "std     2.204443e+04  2.863777e+05  6.579720e+00            NaN   \n",
       "min     0.000000e+00  1.900000e+01  1.000000e+00            NaN   \n",
       "25%     1.911200e+04  2.622680e+05  1.000000e+00            NaN   \n",
       "50%     3.794900e+04  5.232100e+05  1.000000e+00            NaN   \n",
       "75%     5.713500e+04  7.603520e+05  3.000000e+00            NaN   \n",
       "max     7.635200e+04  9.990360e+05  2.213000e+03            NaN   \n",
       "\n",
       "              release artist_name          year  \n",
       "count         2000000     2000000  2.000000e+06  \n",
       "unique           5388        3375           NaN  \n",
       "top     Greatest Hits    Coldplay           NaN  \n",
       "freq            15692       29422           NaN  \n",
       "mean              NaN         NaN  1.628645e+03  \n",
       "std               NaN         NaN  7.787283e+02  \n",
       "min               NaN         NaN  0.000000e+00  \n",
       "25%               NaN         NaN  1.984000e+03  \n",
       "50%               NaN         NaN  2.002000e+03  \n",
       "75%               NaN         NaN  2.007000e+03  \n",
       "max               NaN         NaN  2.010000e+03  "
      ]
     },
     "execution_count": 112,
     "metadata": {},
     "output_type": "execute_result"
    }
   ],
   "source": [
    "merged_df.describe(include = [np.int, np.object_])"
   ]
  },
  {
   "cell_type": "code",
   "execution_count": 113,
   "metadata": {},
   "outputs": [
    {
     "data": {
      "text/html": [
       "<div>\n",
       "<style scoped>\n",
       "    .dataframe tbody tr th:only-of-type {\n",
       "        vertical-align: middle;\n",
       "    }\n",
       "\n",
       "    .dataframe tbody tr th {\n",
       "        vertical-align: top;\n",
       "    }\n",
       "\n",
       "    .dataframe thead th {\n",
       "        text-align: right;\n",
       "    }\n",
       "</style>\n",
       "<table border=\"1\" class=\"dataframe\">\n",
       "  <thead>\n",
       "    <tr style=\"text-align: right;\">\n",
       "      <th></th>\n",
       "      <th>song_id</th>\n",
       "      <th>title</th>\n",
       "      <th>release</th>\n",
       "      <th>artist_name</th>\n",
       "      <th>year</th>\n",
       "    </tr>\n",
       "  </thead>\n",
       "  <tbody>\n",
       "    <tr>\n",
       "      <th>0</th>\n",
       "      <td>664054</td>\n",
       "      <td>Silent Night</td>\n",
       "      <td>Monster Ballads X-Mas</td>\n",
       "      <td>Faster Pussy cat</td>\n",
       "      <td>2003</td>\n",
       "    </tr>\n",
       "    <tr>\n",
       "      <th>1</th>\n",
       "      <td>834264</td>\n",
       "      <td>Tanssi vaan</td>\n",
       "      <td>Karkuteillä</td>\n",
       "      <td>Karkkiautomaatti</td>\n",
       "      <td>1995</td>\n",
       "    </tr>\n",
       "    <tr>\n",
       "      <th>2</th>\n",
       "      <td>286654</td>\n",
       "      <td>No One Could Ever</td>\n",
       "      <td>Butter</td>\n",
       "      <td>Hudson Mohawke</td>\n",
       "      <td>2006</td>\n",
       "    </tr>\n",
       "    <tr>\n",
       "      <th>3</th>\n",
       "      <td>66717</td>\n",
       "      <td>Si Vos Querés</td>\n",
       "      <td>De Culo</td>\n",
       "      <td>Yerba Brava</td>\n",
       "      <td>2003</td>\n",
       "    </tr>\n",
       "    <tr>\n",
       "      <th>4</th>\n",
       "      <td>324820</td>\n",
       "      <td>Tangle Of Aspens</td>\n",
       "      <td>Rene Ablaze Presents Winter Sessions</td>\n",
       "      <td>Der Mystic</td>\n",
       "      <td>0</td>\n",
       "    </tr>\n",
       "    <tr>\n",
       "      <th>...</th>\n",
       "      <td>...</td>\n",
       "      <td>...</td>\n",
       "      <td>...</td>\n",
       "      <td>...</td>\n",
       "      <td>...</td>\n",
       "    </tr>\n",
       "    <tr>\n",
       "      <th>999995</th>\n",
       "      <td>787007</td>\n",
       "      <td>O Samba Da Vida</td>\n",
       "      <td>Pacha V.I.P.</td>\n",
       "      <td>Kiko Navarro</td>\n",
       "      <td>0</td>\n",
       "    </tr>\n",
       "    <tr>\n",
       "      <th>999996</th>\n",
       "      <td>919087</td>\n",
       "      <td>Jago Chhadeo</td>\n",
       "      <td>Naale Baba Lassi Pee Gya</td>\n",
       "      <td>Kuldeep Manak</td>\n",
       "      <td>0</td>\n",
       "    </tr>\n",
       "    <tr>\n",
       "      <th>999997</th>\n",
       "      <td>318719</td>\n",
       "      <td>Novemba</td>\n",
       "      <td>Dub_Connected: electronic music</td>\n",
       "      <td>Gabriel Le Mar</td>\n",
       "      <td>0</td>\n",
       "    </tr>\n",
       "    <tr>\n",
       "      <th>999998</th>\n",
       "      <td>491369</td>\n",
       "      <td>Faraday</td>\n",
       "      <td>The Trance Collection Vol. 2</td>\n",
       "      <td>Elude</td>\n",
       "      <td>0</td>\n",
       "    </tr>\n",
       "    <tr>\n",
       "      <th>999999</th>\n",
       "      <td>893047</td>\n",
       "      <td>Fernweh feat. Sektion Kuchikäschtli</td>\n",
       "      <td>So Oder So</td>\n",
       "      <td>Texta</td>\n",
       "      <td>2004</td>\n",
       "    </tr>\n",
       "  </tbody>\n",
       "</table>\n",
       "<p>1000000 rows × 5 columns</p>\n",
       "</div>"
      ],
      "text/plain": [
       "        song_id                                title  \\\n",
       "0        664054                         Silent Night   \n",
       "1        834264                          Tanssi vaan   \n",
       "2        286654                    No One Could Ever   \n",
       "3         66717                        Si Vos Querés   \n",
       "4        324820                     Tangle Of Aspens   \n",
       "...         ...                                  ...   \n",
       "999995   787007                      O Samba Da Vida   \n",
       "999996   919087                         Jago Chhadeo   \n",
       "999997   318719                              Novemba   \n",
       "999998   491369                              Faraday   \n",
       "999999   893047  Fernweh feat. Sektion Kuchikäschtli   \n",
       "\n",
       "                                     release       artist_name  year  \n",
       "0                      Monster Ballads X-Mas  Faster Pussy cat  2003  \n",
       "1                                Karkuteillä  Karkkiautomaatti  1995  \n",
       "2                                     Butter    Hudson Mohawke  2006  \n",
       "3                                    De Culo       Yerba Brava  2003  \n",
       "4       Rene Ablaze Presents Winter Sessions        Der Mystic     0  \n",
       "...                                      ...               ...   ...  \n",
       "999995                          Pacha V.I.P.      Kiko Navarro     0  \n",
       "999996              Naale Baba Lassi Pee Gya     Kuldeep Manak     0  \n",
       "999997       Dub_Connected: electronic music    Gabriel Le Mar     0  \n",
       "999998          The Trance Collection Vol. 2             Elude     0  \n",
       "999999                            So Oder So             Texta  2004  \n",
       "\n",
       "[1000000 rows x 5 columns]"
      ]
     },
     "execution_count": 113,
     "metadata": {},
     "output_type": "execute_result"
    }
   ],
   "source": [
    "song_df.fillna(value=0)"
   ]
  },
  {
   "cell_type": "code",
   "execution_count": 114,
   "metadata": {},
   "outputs": [
    {
     "name": "stdout",
     "output_type": "stream",
     "text": [
      "<class 'pandas.core.frame.DataFrame'>\n",
      "Int64Index: 2000000 entries, 0 to 1999999\n",
      "Data columns (total 7 columns):\n",
      " #   Column       Dtype \n",
      "---  ------       ----- \n",
      " 0   user_id      int64 \n",
      " 1   song_id      int64 \n",
      " 2   play_count   int64 \n",
      " 3   title        object\n",
      " 4   release      object\n",
      " 5   artist_name  object\n",
      " 6   year         int64 \n",
      "dtypes: int64(4), object(3)\n",
      "memory usage: 122.1+ MB\n"
     ]
    }
   ],
   "source": [
    "merged_df.info()"
   ]
  },
  {
   "cell_type": "markdown",
   "metadata": {},
   "source": [
    "**As this dataset is very large and has 2,000,000 observations, it is not computationally possible to build a model using this. Moreover, there are many users who had a single interaction with a single song and users who had multiple interactions with a single song. It is necessary to reduce the dataset by considering certain logical assumptions.**"
   ]
  },
  {
   "cell_type": "code",
   "execution_count": 115,
   "metadata": {},
   "outputs": [],
   "source": [
    "# get the column containing the users \n",
    "users = merged_df.user_id \n",
    "# create dictionary from users to their number of ratings\n",
    "user_ratings_count = dict()\n",
    "for user in users:\n",
    "    # if there is alreay a user, just add 1 to the rating\n",
    "    if user in user_ratings_count:\n",
    "        user_ratings_count[user] +=1\n",
    "        # otherwise set the rating count to 1\n",
    "    else:\n",
    "        user_ratings_count[user] = 1\n"
   ]
  },
  {
   "cell_type": "code",
   "execution_count": 116,
   "metadata": {},
   "outputs": [],
   "source": [
    "# set a threshold of users' listen counts to at least 90 songs \n",
    "RATINGS_CUTOFF = 90\n",
    "remove_users = []\n",
    "def ratings_cutoff():\n",
    "    for user, num_ratings in user_ratings_count.items():\n",
    "        if num_ratings < RATINGS_CUTOFF:\n",
    "            remove_users.append(user)\n",
    "    df_final = merged_df.loc[~merged_df.user_id.isin(remove_users)]"
   ]
  },
  {
   "cell_type": "code",
   "execution_count": 117,
   "metadata": {},
   "outputs": [],
   "source": [
    "# get the column containing the users\n",
    "users = merged_df.song_id\n",
    "# create a dictionary from users to their number of songs\n",
    "song_ratings_count = dict()\n",
    "for user in users:\n",
    "    # if we already have the user, just add 1 to their rating count\n",
    "    if user in song_ratings_count:\n",
    "        song_ratings_count[user] += 1\n",
    "    # otherwise, set their rating count to 1\n",
    "    else:\n",
    "        song_ratings_count[user] = 1    "
   ]
  },
  {
   "cell_type": "code",
   "execution_count": 118,
   "metadata": {},
   "outputs": [],
   "source": [
    "# set a threshold of users' listen counts to at least 120 songs \n",
    "RATINGS_CUTOFF = 120\n",
    "remove_users = []\n",
    "for user, num_ratings in song_ratings_count.items():\n",
    "    if num_ratings < RATINGS_CUTOFF:\n",
    "        remove_users.append(user)\n",
    "df_final= merged_df.loc[~merged_df.song_id.isin(remove_users)]\n"
   ]
  },
  {
   "cell_type": "code",
   "execution_count": 119,
   "metadata": {},
   "outputs": [
    {
     "data": {
      "text/html": [
       "<div>\n",
       "<style scoped>\n",
       "    .dataframe tbody tr th:only-of-type {\n",
       "        vertical-align: middle;\n",
       "    }\n",
       "\n",
       "    .dataframe tbody tr th {\n",
       "        vertical-align: top;\n",
       "    }\n",
       "\n",
       "    .dataframe thead th {\n",
       "        text-align: right;\n",
       "    }\n",
       "</style>\n",
       "<table border=\"1\" class=\"dataframe\">\n",
       "  <thead>\n",
       "    <tr style=\"text-align: right;\">\n",
       "      <th></th>\n",
       "      <th>user_id</th>\n",
       "      <th>song_id</th>\n",
       "      <th>play_count</th>\n",
       "      <th>title</th>\n",
       "      <th>release</th>\n",
       "      <th>artist_name</th>\n",
       "      <th>year</th>\n",
       "    </tr>\n",
       "  </thead>\n",
       "  <tbody>\n",
       "    <tr>\n",
       "      <th>0</th>\n",
       "      <td>54961</td>\n",
       "      <td>17370</td>\n",
       "      <td>1</td>\n",
       "      <td>The Cove</td>\n",
       "      <td>Thicker Than Water</td>\n",
       "      <td>Jack Johnson</td>\n",
       "      <td>0</td>\n",
       "    </tr>\n",
       "    <tr>\n",
       "      <th>1</th>\n",
       "      <td>54961</td>\n",
       "      <td>45995</td>\n",
       "      <td>2</td>\n",
       "      <td>Entre Dos Aguas</td>\n",
       "      <td>Flamenco Para Niños</td>\n",
       "      <td>Paco De Lucia</td>\n",
       "      <td>1976</td>\n",
       "    </tr>\n",
       "    <tr>\n",
       "      <th>2</th>\n",
       "      <td>54961</td>\n",
       "      <td>82002</td>\n",
       "      <td>1</td>\n",
       "      <td>Stronger</td>\n",
       "      <td>Graduation</td>\n",
       "      <td>Kanye West</td>\n",
       "      <td>2007</td>\n",
       "    </tr>\n",
       "    <tr>\n",
       "      <th>3</th>\n",
       "      <td>54961</td>\n",
       "      <td>83689</td>\n",
       "      <td>1</td>\n",
       "      <td>Constellations</td>\n",
       "      <td>In Between Dreams</td>\n",
       "      <td>Jack Johnson</td>\n",
       "      <td>2005</td>\n",
       "    </tr>\n",
       "    <tr>\n",
       "      <th>4</th>\n",
       "      <td>54961</td>\n",
       "      <td>129375</td>\n",
       "      <td>1</td>\n",
       "      <td>Learn To Fly</td>\n",
       "      <td>There Is Nothing Left To Lose</td>\n",
       "      <td>Foo Fighters</td>\n",
       "      <td>1999</td>\n",
       "    </tr>\n",
       "    <tr>\n",
       "      <th>...</th>\n",
       "      <td>...</td>\n",
       "      <td>...</td>\n",
       "      <td>...</td>\n",
       "      <td>...</td>\n",
       "      <td>...</td>\n",
       "      <td>...</td>\n",
       "      <td>...</td>\n",
       "    </tr>\n",
       "    <tr>\n",
       "      <th>114</th>\n",
       "      <td>47087</td>\n",
       "      <td>105685</td>\n",
       "      <td>2</td>\n",
       "      <td>Life In Technicolor</td>\n",
       "      <td>Viva La Vida Or Death And All His Friends</td>\n",
       "      <td>Coldplay</td>\n",
       "      <td>2008</td>\n",
       "    </tr>\n",
       "    <tr>\n",
       "      <th>115</th>\n",
       "      <td>47087</td>\n",
       "      <td>122206</td>\n",
       "      <td>2</td>\n",
       "      <td>Clocks</td>\n",
       "      <td>A Rush Of Blood To The Head</td>\n",
       "      <td>Coldplay</td>\n",
       "      <td>2002</td>\n",
       "    </tr>\n",
       "    <tr>\n",
       "      <th>116</th>\n",
       "      <td>47087</td>\n",
       "      <td>208426</td>\n",
       "      <td>2</td>\n",
       "      <td>Strawberry Swing</td>\n",
       "      <td>Viva La Vida - Prospekt's March Edition</td>\n",
       "      <td>Coldplay</td>\n",
       "      <td>2008</td>\n",
       "    </tr>\n",
       "    <tr>\n",
       "      <th>117</th>\n",
       "      <td>47087</td>\n",
       "      <td>341214</td>\n",
       "      <td>4</td>\n",
       "      <td>Life In Technicolor ii</td>\n",
       "      <td>Viva La Vida - Prospekt's March Edition</td>\n",
       "      <td>Coldplay</td>\n",
       "      <td>2008</td>\n",
       "    </tr>\n",
       "    <tr>\n",
       "      <th>118</th>\n",
       "      <td>47087</td>\n",
       "      <td>434903</td>\n",
       "      <td>2</td>\n",
       "      <td>The Scientist</td>\n",
       "      <td>The Scientist</td>\n",
       "      <td>Coldplay</td>\n",
       "      <td>2002</td>\n",
       "    </tr>\n",
       "  </tbody>\n",
       "</table>\n",
       "<p>100 rows × 7 columns</p>\n",
       "</div>"
      ],
      "text/plain": [
       "     user_id  song_id  play_count                   title  \\\n",
       "0      54961    17370           1                The Cove   \n",
       "1      54961    45995           2         Entre Dos Aguas   \n",
       "2      54961    82002           1                Stronger   \n",
       "3      54961    83689           1          Constellations   \n",
       "4      54961   129375           1            Learn To Fly   \n",
       "..       ...      ...         ...                     ...   \n",
       "114    47087   105685           2     Life In Technicolor   \n",
       "115    47087   122206           2                  Clocks   \n",
       "116    47087   208426           2        Strawberry Swing   \n",
       "117    47087   341214           4  Life In Technicolor ii   \n",
       "118    47087   434903           2           The Scientist   \n",
       "\n",
       "                                       release    artist_name  year  \n",
       "0                           Thicker Than Water   Jack Johnson     0  \n",
       "1                          Flamenco Para Niños  Paco De Lucia  1976  \n",
       "2                                   Graduation     Kanye West  2007  \n",
       "3                            In Between Dreams   Jack Johnson  2005  \n",
       "4                There Is Nothing Left To Lose   Foo Fighters  1999  \n",
       "..                                         ...            ...   ...  \n",
       "114  Viva La Vida Or Death And All His Friends       Coldplay  2008  \n",
       "115                A Rush Of Blood To The Head       Coldplay  2002  \n",
       "116    Viva La Vida - Prospekt's March Edition       Coldplay  2008  \n",
       "117    Viva La Vida - Prospekt's March Edition       Coldplay  2008  \n",
       "118                              The Scientist       Coldplay  2002  \n",
       "\n",
       "[100 rows x 7 columns]"
      ]
     },
     "execution_count": 119,
     "metadata": {},
     "output_type": "execute_result"
    }
   ],
   "source": [
    "df_final.head(100)"
   ]
  },
  {
   "cell_type": "markdown",
   "metadata": {},
   "source": [
    "**Observations**\n",
    "- There are seven columns in the new merged and organized dataset. \n",
    "- There may be many users who have played a song only one time. \n",
    "- Some users played a song multiple times. "
   ]
  },
  {
   "cell_type": "code",
   "execution_count": 120,
   "metadata": {},
   "outputs": [
    {
     "data": {
      "text/html": [
       "<div>\n",
       "<style scoped>\n",
       "    .dataframe tbody tr th:only-of-type {\n",
       "        vertical-align: middle;\n",
       "    }\n",
       "\n",
       "    .dataframe tbody tr th {\n",
       "        vertical-align: top;\n",
       "    }\n",
       "\n",
       "    .dataframe thead th {\n",
       "        text-align: right;\n",
       "    }\n",
       "</style>\n",
       "<table border=\"1\" class=\"dataframe\">\n",
       "  <thead>\n",
       "    <tr style=\"text-align: right;\">\n",
       "      <th></th>\n",
       "      <th>user_id</th>\n",
       "      <th>song_id</th>\n",
       "      <th>play_count</th>\n",
       "      <th>title</th>\n",
       "      <th>release</th>\n",
       "      <th>artist_name</th>\n",
       "      <th>year</th>\n",
       "    </tr>\n",
       "  </thead>\n",
       "  <tbody>\n",
       "    <tr>\n",
       "      <th>0</th>\n",
       "      <td>54961</td>\n",
       "      <td>17370</td>\n",
       "      <td>1</td>\n",
       "      <td>The Cove</td>\n",
       "      <td>Thicker Than Water</td>\n",
       "      <td>Jack Johnson</td>\n",
       "      <td>0</td>\n",
       "    </tr>\n",
       "    <tr>\n",
       "      <th>1</th>\n",
       "      <td>54961</td>\n",
       "      <td>45995</td>\n",
       "      <td>2</td>\n",
       "      <td>Entre Dos Aguas</td>\n",
       "      <td>Flamenco Para Niños</td>\n",
       "      <td>Paco De Lucia</td>\n",
       "      <td>1976</td>\n",
       "    </tr>\n",
       "    <tr>\n",
       "      <th>2</th>\n",
       "      <td>54961</td>\n",
       "      <td>82002</td>\n",
       "      <td>1</td>\n",
       "      <td>Stronger</td>\n",
       "      <td>Graduation</td>\n",
       "      <td>Kanye West</td>\n",
       "      <td>2007</td>\n",
       "    </tr>\n",
       "    <tr>\n",
       "      <th>3</th>\n",
       "      <td>54961</td>\n",
       "      <td>83689</td>\n",
       "      <td>1</td>\n",
       "      <td>Constellations</td>\n",
       "      <td>In Between Dreams</td>\n",
       "      <td>Jack Johnson</td>\n",
       "      <td>2005</td>\n",
       "    </tr>\n",
       "    <tr>\n",
       "      <th>4</th>\n",
       "      <td>54961</td>\n",
       "      <td>129375</td>\n",
       "      <td>1</td>\n",
       "      <td>Learn To Fly</td>\n",
       "      <td>There Is Nothing Left To Lose</td>\n",
       "      <td>Foo Fighters</td>\n",
       "      <td>1999</td>\n",
       "    </tr>\n",
       "    <tr>\n",
       "      <th>...</th>\n",
       "      <td>...</td>\n",
       "      <td>...</td>\n",
       "      <td>...</td>\n",
       "      <td>...</td>\n",
       "      <td>...</td>\n",
       "      <td>...</td>\n",
       "      <td>...</td>\n",
       "    </tr>\n",
       "    <tr>\n",
       "      <th>1999994</th>\n",
       "      <td>64590</td>\n",
       "      <td>359346</td>\n",
       "      <td>4</td>\n",
       "      <td>Unwell (Album Version)</td>\n",
       "      <td>More Than You Think You Are</td>\n",
       "      <td>matchbox twenty</td>\n",
       "      <td>2003</td>\n",
       "    </tr>\n",
       "    <tr>\n",
       "      <th>1999995</th>\n",
       "      <td>64590</td>\n",
       "      <td>385009</td>\n",
       "      <td>2</td>\n",
       "      <td>Ignorance (Album Version)</td>\n",
       "      <td>Ignorance</td>\n",
       "      <td>Paramore</td>\n",
       "      <td>0</td>\n",
       "    </tr>\n",
       "    <tr>\n",
       "      <th>1999996</th>\n",
       "      <td>64590</td>\n",
       "      <td>392598</td>\n",
       "      <td>4</td>\n",
       "      <td>Two Is Better Than One</td>\n",
       "      <td>Love Drunk</td>\n",
       "      <td>Boys Like Girls featuring Taylor Swift</td>\n",
       "      <td>2009</td>\n",
       "    </tr>\n",
       "    <tr>\n",
       "      <th>1999997</th>\n",
       "      <td>64590</td>\n",
       "      <td>393702</td>\n",
       "      <td>3</td>\n",
       "      <td>What I've Done (Album Version)</td>\n",
       "      <td>What I've Done</td>\n",
       "      <td>Linkin Park</td>\n",
       "      <td>2007</td>\n",
       "    </tr>\n",
       "    <tr>\n",
       "      <th>1999998</th>\n",
       "      <td>64590</td>\n",
       "      <td>409426</td>\n",
       "      <td>1</td>\n",
       "      <td>Up</td>\n",
       "      <td>My Worlds</td>\n",
       "      <td>Justin Bieber</td>\n",
       "      <td>2010</td>\n",
       "    </tr>\n",
       "  </tbody>\n",
       "</table>\n",
       "<p>1575883 rows × 7 columns</p>\n",
       "</div>"
      ],
      "text/plain": [
       "         user_id  song_id  play_count                           title  \\\n",
       "0          54961    17370           1                        The Cove   \n",
       "1          54961    45995           2                 Entre Dos Aguas   \n",
       "2          54961    82002           1                        Stronger   \n",
       "3          54961    83689           1                  Constellations   \n",
       "4          54961   129375           1                    Learn To Fly   \n",
       "...          ...      ...         ...                             ...   \n",
       "1999994    64590   359346           4          Unwell (Album Version)   \n",
       "1999995    64590   385009           2       Ignorance (Album Version)   \n",
       "1999996    64590   392598           4          Two Is Better Than One   \n",
       "1999997    64590   393702           3  What I've Done (Album Version)   \n",
       "1999998    64590   409426           1                              Up   \n",
       "\n",
       "                               release  \\\n",
       "0                   Thicker Than Water   \n",
       "1                  Flamenco Para Niños   \n",
       "2                           Graduation   \n",
       "3                    In Between Dreams   \n",
       "4        There Is Nothing Left To Lose   \n",
       "...                                ...   \n",
       "1999994    More Than You Think You Are   \n",
       "1999995                      Ignorance   \n",
       "1999996                     Love Drunk   \n",
       "1999997                 What I've Done   \n",
       "1999998                      My Worlds   \n",
       "\n",
       "                                    artist_name  year  \n",
       "0                                  Jack Johnson     0  \n",
       "1                                 Paco De Lucia  1976  \n",
       "2                                    Kanye West  2007  \n",
       "3                                  Jack Johnson  2005  \n",
       "4                                  Foo Fighters  1999  \n",
       "...                                         ...   ...  \n",
       "1999994                         matchbox twenty  2003  \n",
       "1999995                                Paramore     0  \n",
       "1999996  Boys Like Girls featuring Taylor Swift  2009  \n",
       "1999997                             Linkin Park  2007  \n",
       "1999998                           Justin Bieber  2010  \n",
       "\n",
       "[1575883 rows x 7 columns]"
      ]
     },
     "execution_count": 120,
     "metadata": {},
     "output_type": "execute_result"
    }
   ],
   "source": [
    "# fill null values \n",
    "df_final.fillna(value=0)"
   ]
  },
  {
   "cell_type": "code",
   "execution_count": 121,
   "metadata": {},
   "outputs": [
    {
     "name": "stdout",
     "output_type": "stream",
     "text": [
      "<class 'pandas.core.frame.DataFrame'>\n",
      "Int64Index: 1575883 entries, 0 to 1999998\n",
      "Data columns (total 7 columns):\n",
      " #   Column       Non-Null Count    Dtype \n",
      "---  ------       --------------    ----- \n",
      " 0   user_id      1575883 non-null  int64 \n",
      " 1   song_id      1575883 non-null  int64 \n",
      " 2   play_count   1575883 non-null  int64 \n",
      " 3   title        1575883 non-null  object\n",
      " 4   release      1575883 non-null  object\n",
      " 5   artist_name  1575883 non-null  object\n",
      " 6   year         1575883 non-null  int64 \n",
      "dtypes: int64(4), object(3)\n",
      "memory usage: 96.2+ MB\n"
     ]
    }
   ],
   "source": [
    "df_final.info()"
   ]
  },
  {
   "cell_type": "markdown",
   "metadata": {},
   "source": [
    "- The df_final dataset is very large and has 1,575,883 observations.\n",
    "- It is difficult computationally build a model using this dataset at that size.\n",
    "- The dataset should be somewhat reduced and normalized. "
   ]
  },
  {
   "cell_type": "code",
   "execution_count": 122,
   "metadata": {},
   "outputs": [
    {
     "data": {
      "image/png": "[encoded data removed]",
      "text/plain": [
       "<Figure size 432x288 with 1 Axes>"
      ]
     },
     "metadata": {
      "needs_background": "light"
     },
     "output_type": "display_data"
    }
   ],
   "source": [
    "# histogram for play_count in log scale\n",
    "df_final.fillna(value=0)\n",
    "play_count_histogram = sns.distplot(df_final.play_count, kde=False, rug=False, bins=20)\n",
    "play_count_histogram.set_yscale('log')"
   ]
  },
  {
   "cell_type": "markdown",
   "metadata": {},
   "source": [
    "**Observations**\n",
    "- There are lots of single users who have only played a song once. \n",
    "- The data also has some users who have played a song over 2000 times, and this seems odd. \n",
    "- The data is right skewed, suggesting that some values are driving the mean up. "
   ]
  },
  {
   "cell_type": "markdown",
   "metadata": {},
   "source": [
    "##### **Exploratory Data Analysis**"
   ]
  },
  {
   "cell_type": "markdown",
   "metadata": {},
   "source": [
    "**Shape of the Data**"
   ]
  },
  {
   "cell_type": "code",
   "execution_count": 123,
   "metadata": {},
   "outputs": [
    {
     "data": {
      "text/plain": [
       "user_id         int64\n",
       "song_id         int64\n",
       "play_count      int64\n",
       "title          object\n",
       "release        object\n",
       "artist_name    object\n",
       "year            int64\n",
       "dtype: object"
      ]
     },
     "execution_count": 123,
     "metadata": {},
     "output_type": "execute_result"
    }
   ],
   "source": [
    "# check the data types \n",
    "df_final.dtypes"
   ]
  },
  {
   "cell_type": "code",
   "execution_count": 124,
   "metadata": {},
   "outputs": [
    {
     "data": {
      "text/plain": [
       "user_id        75579\n",
       "song_id         5229\n",
       "play_count       282\n",
       "title           5082\n",
       "release         3044\n",
       "artist_name     1970\n",
       "year              57\n",
       "dtype: int64"
      ]
     },
     "execution_count": 124,
     "metadata": {},
     "output_type": "execute_result"
    }
   ],
   "source": [
    "# number of unique values in the df_final\n",
    "df_final.nunique()"
   ]
  },
  {
   "cell_type": "markdown",
   "metadata": {},
   "source": [
    "**Observations**\n",
    "- There are a lot of unique values in the df_final dataset. \n",
    "- Look into the specifics of the values that are unique."
   ]
  },
  {
   "cell_type": "markdown",
   "metadata": {},
   "source": [
    "**Is there a song that has been interacted with more than once by the same user?**"
   ]
  },
  {
   "cell_type": "code",
   "execution_count": 125,
   "metadata": {},
   "outputs": [
    {
     "data": {
      "text/html": [
       "<div>\n",
       "<style scoped>\n",
       "    .dataframe tbody tr th:only-of-type {\n",
       "        vertical-align: middle;\n",
       "    }\n",
       "\n",
       "    .dataframe tbody tr th {\n",
       "        vertical-align: top;\n",
       "    }\n",
       "\n",
       "    .dataframe thead th {\n",
       "        text-align: right;\n",
       "    }\n",
       "</style>\n",
       "<table border=\"1\" class=\"dataframe\">\n",
       "  <thead>\n",
       "    <tr style=\"text-align: right;\">\n",
       "      <th></th>\n",
       "      <th></th>\n",
       "      <th>play_count</th>\n",
       "      <th>year</th>\n",
       "    </tr>\n",
       "    <tr>\n",
       "      <th>user_id</th>\n",
       "      <th>song_id</th>\n",
       "      <th></th>\n",
       "      <th></th>\n",
       "    </tr>\n",
       "  </thead>\n",
       "  <tbody>\n",
       "    <tr>\n",
       "      <th rowspan=\"4\" valign=\"top\">0</th>\n",
       "      <th>392231</th>\n",
       "      <td>1</td>\n",
       "      <td>2003</td>\n",
       "    </tr>\n",
       "    <tr>\n",
       "      <th>541321</th>\n",
       "      <td>3</td>\n",
       "      <td>0</td>\n",
       "    </tr>\n",
       "    <tr>\n",
       "      <th>843090</th>\n",
       "      <td>1</td>\n",
       "      <td>2003</td>\n",
       "    </tr>\n",
       "    <tr>\n",
       "      <th>889862</th>\n",
       "      <td>3</td>\n",
       "      <td>0</td>\n",
       "    </tr>\n",
       "    <tr>\n",
       "      <th>1</th>\n",
       "      <th>275060</th>\n",
       "      <td>1</td>\n",
       "      <td>1984</td>\n",
       "    </tr>\n",
       "    <tr>\n",
       "      <th>...</th>\n",
       "      <th>...</th>\n",
       "      <td>...</td>\n",
       "      <td>...</td>\n",
       "    </tr>\n",
       "    <tr>\n",
       "      <th rowspan=\"5\" valign=\"top\">76352</th>\n",
       "      <th>792989</th>\n",
       "      <td>1</td>\n",
       "      <td>2005</td>\n",
       "    </tr>\n",
       "    <tr>\n",
       "      <th>846781</th>\n",
       "      <td>1</td>\n",
       "      <td>2005</td>\n",
       "    </tr>\n",
       "    <tr>\n",
       "      <th>850320</th>\n",
       "      <td>1</td>\n",
       "      <td>2005</td>\n",
       "    </tr>\n",
       "    <tr>\n",
       "      <th>866899</th>\n",
       "      <td>1</td>\n",
       "      <td>2005</td>\n",
       "    </tr>\n",
       "    <tr>\n",
       "      <th>981573</th>\n",
       "      <td>1</td>\n",
       "      <td>2001</td>\n",
       "    </tr>\n",
       "  </tbody>\n",
       "</table>\n",
       "<p>1575883 rows × 2 columns</p>\n",
       "</div>"
      ],
      "text/plain": [
       "                 play_count  year\n",
       "user_id song_id                  \n",
       "0       392231            1  2003\n",
       "        541321            3     0\n",
       "        843090            1  2003\n",
       "        889862            3     0\n",
       "1       275060            1  1984\n",
       "...                     ...   ...\n",
       "76352   792989            1  2005\n",
       "        846781            1  2005\n",
       "        850320            1  2005\n",
       "        866899            1  2005\n",
       "        981573            1  2001\n",
       "\n",
       "[1575883 rows x 2 columns]"
      ]
     },
     "execution_count": 125,
     "metadata": {},
     "output_type": "execute_result"
    }
   ],
   "source": [
    "df_final.groupby(['user_id', 'song_id']).sum()"
   ]
  },
  {
   "cell_type": "code",
   "execution_count": 126,
   "metadata": {},
   "outputs": [
    {
     "data": {
      "text/plain": [
       "1575883"
      ]
     },
     "execution_count": 126,
     "metadata": {},
     "output_type": "execute_result"
    }
   ],
   "source": [
    "df_final.groupby(['user_id', 'song_id']).count()['play_count'].sum()"
   ]
  },
  {
   "cell_type": "markdown",
   "metadata": {},
   "source": [
    "**Oberservations**\n",
    "- The sum of songs associated with a user_id is equal to the total number of observations. \n",
    "- This implies that there are only interactions between a pair of songs and a single user. "
   ]
  },
  {
   "cell_type": "code",
   "execution_count": 127,
   "metadata": {},
   "outputs": [
    {
     "data": {
      "text/plain": [
       "241964    8277\n",
       "35140     7032\n",
       "38957     6949\n",
       "67669     6412\n",
       "751776    6145\n",
       "          ... \n",
       "851645     120\n",
       "63568      120\n",
       "925413     120\n",
       "294490     120\n",
       "153817     120\n",
       "Name: song_id, Length: 5229, dtype: int64"
      ]
     },
     "execution_count": 127,
     "metadata": {},
     "output_type": "execute_result"
    }
   ],
   "source": [
    "# the most listened to song\n",
    "df_final['song_id'].value_counts()"
   ]
  },
  {
   "cell_type": "markdown",
   "metadata": {},
   "source": [
    "**Observations** \n",
    "- User with the id = 241964 has the highest count of song at ~8277. "
   ]
  },
  {
   "cell_type": "code",
   "execution_count": 128,
   "metadata": {},
   "outputs": [
    {
     "data": {
      "text/plain": [
       "75579"
      ]
     },
     "execution_count": 128,
     "metadata": {},
     "output_type": "execute_result"
    }
   ],
   "source": [
    "df_final['user_id'].nunique()"
   ]
  },
  {
   "cell_type": "code",
   "execution_count": 129,
   "metadata": {},
   "outputs": [
    {
     "data": {
      "text/plain": [
       "5229"
      ]
     },
     "execution_count": 129,
     "metadata": {},
     "output_type": "execute_result"
    }
   ],
   "source": [
    "df_final['song_id'].nunique()"
   ]
  },
  {
   "cell_type": "markdown",
   "metadata": {},
   "source": [
    "**Observations**\n",
    "- The song with song_id 241964 has been interacted with the most at 8277 times.\n",
    "- There is a possibility that 75579 * 5229 = 395202591 interactions in the dataset. \n",
    "- Yet, we only have 1575883 entries, which might suggest that there are different users who interacted with a single song.\n",
    "- It is noteworthy that multiple interactions for one song from various users is not a succinct indicator of popularity. \n",
    "- Just because a song received multiple interactions, does not mean that it is the song that should be recommended to users: there are many factors to consider. \n",
    "- A recommendation system that "
   ]
  },
  {
   "cell_type": "markdown",
   "metadata": {},
   "source": [
    "**Check for missing values**"
   ]
  },
  {
   "cell_type": "code",
   "execution_count": 130,
   "metadata": {},
   "outputs": [
    {
     "data": {
      "text/plain": [
       "user_id        0\n",
       "song_id        0\n",
       "play_count     0\n",
       "title          0\n",
       "release        0\n",
       "artist_name    0\n",
       "year           0\n",
       "dtype: int64"
      ]
     },
     "execution_count": 130,
     "metadata": {},
     "output_type": "execute_result"
    }
   ],
   "source": [
    "df_final.isnull().sum()"
   ]
  },
  {
   "cell_type": "markdown",
   "metadata": {},
   "source": [
    "**Summary Statistics**"
   ]
  },
  {
   "cell_type": "code",
   "execution_count": 131,
   "metadata": {},
   "outputs": [
    {
     "data": {
      "text/plain": [
       "count    1.575883e+06\n",
       "mean     3.109813e+00\n",
       "std      6.770442e+00\n",
       "min      1.000000e+00\n",
       "25%      1.000000e+00\n",
       "50%      1.000000e+00\n",
       "75%      3.000000e+00\n",
       "max      2.213000e+03\n",
       "Name: play_count, dtype: float64"
      ]
     },
     "execution_count": 131,
     "metadata": {},
     "output_type": "execute_result"
    }
   ],
   "source": [
    "# summary statistics of 'play_count' variable \n",
    "df_final['play_count'].describe()"
   ]
  },
  {
   "cell_type": "code",
   "execution_count": 132,
   "metadata": {},
   "outputs": [
    {
     "data": {
      "image/png": "[encoded data removed]",
      "text/plain": [
       "<Figure size 1440x1440 with 1 Axes>"
      ]
     },
     "metadata": {
      "needs_background": "light"
     },
     "output_type": "display_data"
    }
   ],
   "source": [
    "# create the bar plot and provide observations\n",
    "# given a most liked or most disliked product\n",
    "\n",
    "plt.figure(figsize = (20,20))\n",
    "df_final[df_final['song_id'] == 241964]['play_count'].value_counts().plot(kind='bar')\n",
    "plt.xlabel('play_count')\n",
    "plt.ylabel('users')\n",
    "plt.show()"
   ]
  },
  {
   "cell_type": "markdown",
   "metadata": {},
   "source": [
    "**Observations** \n",
    "- There are ~3400 users who have listened to a song only 1 time. \n",
    "- There are ~ 1500 users who listened to a song 2 times. \n",
    "- The data is significantly right skewed, suggesting that there are a few data points that are driving up the mean. \n",
    "- From the daata graph, users' listen counts can go up to 161 times. "
   ]
  },
  {
   "cell_type": "markdown",
   "metadata": {},
   "source": [
    "Songs played in a year"
   ]
  },
  {
   "cell_type": "code",
   "execution_count": 335,
   "metadata": {},
   "outputs": [
    {
     "data": {
      "text/html": [
       "<div>\n",
       "<style scoped>\n",
       "    .dataframe tbody tr th:only-of-type {\n",
       "        vertical-align: middle;\n",
       "    }\n",
       "\n",
       "    .dataframe tbody tr th {\n",
       "        vertical-align: top;\n",
       "    }\n",
       "\n",
       "    .dataframe thead th {\n",
       "        text-align: right;\n",
       "    }\n",
       "</style>\n",
       "<table border=\"1\" class=\"dataframe\">\n",
       "  <thead>\n",
       "    <tr style=\"text-align: right;\">\n",
       "      <th></th>\n",
       "      <th>play_count</th>\n",
       "    </tr>\n",
       "    <tr>\n",
       "      <th>year</th>\n",
       "      <th></th>\n",
       "    </tr>\n",
       "  </thead>\n",
       "  <tbody>\n",
       "    <tr>\n",
       "      <th>2006</th>\n",
       "      <td>93695</td>\n",
       "    </tr>\n",
       "    <tr>\n",
       "      <th>2007</th>\n",
       "      <td>129689</td>\n",
       "    </tr>\n",
       "    <tr>\n",
       "      <th>2008</th>\n",
       "      <td>140010</td>\n",
       "    </tr>\n",
       "    <tr>\n",
       "      <th>2009</th>\n",
       "      <td>150485</td>\n",
       "    </tr>\n",
       "    <tr>\n",
       "      <th>2010</th>\n",
       "      <td>56084</td>\n",
       "    </tr>\n",
       "  </tbody>\n",
       "</table>\n",
       "</div>"
      ],
      "text/plain": [
       "      play_count\n",
       "year            \n",
       "2006       93695\n",
       "2007      129689\n",
       "2008      140010\n",
       "2009      150485\n",
       "2010       56084"
      ]
     },
     "execution_count": 335,
     "metadata": {},
     "output_type": "execute_result"
    }
   ],
   "source": [
    "count_songs = df_final.groupby('year').count()['play_count']\n",
    "count = pd.DataFrame(count_songs)\n",
    "count.drop(count.index[0], inplace=True)\n",
    "count.tail()"
   ]
  },
  {
   "cell_type": "markdown",
   "metadata": {},
   "source": [
    "**Observations**\n",
    "- The year 2009\thad a vast ~146513 play counts. \n",
    "- This is followed by the year 2008 with ~135803 play counts. "
   ]
  },
  {
   "cell_type": "code",
   "execution_count": 133,
   "metadata": {},
   "outputs": [
    {
     "data": {
      "text/plain": [
       "Text(0.5, 1.0, 'Percent of songs played a given year')"
      ]
     },
     "execution_count": 133,
     "metadata": {},
     "output_type": "execute_result"
    },
    {
     "data": {
      "image/png": "[encoded data removed]",
      "text/plain": [
       "<Figure size 936x504 with 1 Axes>"
      ]
     },
     "metadata": {
      "needs_background": "light"
     },
     "output_type": "display_data"
    }
   ],
   "source": [
    "# line graph displaying play_count given each year by mean \n",
    "mean_df = df_final.groupby(['year']).mean()\n",
    "\n",
    "listen_count_trend = mean_df[['play_count']].plot.line(figsize=(13,7))\n",
    "listen_count_trend.set_ylabel('Mean of play count')\n",
    "listen_count_trend.set_title('Percent of songs played a given year')"
   ]
  },
  {
   "cell_type": "markdown",
   "metadata": {},
   "source": [
    "**Observatinos**\n",
    "- The graph suggests that many users interacted with song listens during ~1995-2010 years. \n",
    "- There is a vast number of users listening to music around the 1995 mark and another similarly vast amount of users listening to music around the 2010 mark. "
   ]
  },
  {
   "cell_type": "code",
   "execution_count": 337,
   "metadata": {},
   "outputs": [
    {
     "data": {
      "image/png": "[encoded data removed]",
      "text/plain": [
       "<Figure size 2160x720 with 1 Axes>"
      ]
     },
     "metadata": {
      "needs_background": "light"
     },
     "output_type": "display_data"
    }
   ],
   "source": [
    "plt.figure(figsize=(30,10))\n",
    "sns.barplot(x = count.index,\n",
    "            y = 'play_count',\n",
    "            data = count,\n",
    "            estimator = np.median)\n",
    "plt.ylabel('number of titles played') \n",
    "# Show the plot\n",
    "plt.show()"
   ]
  },
  {
   "cell_type": "markdown",
   "metadata": {},
   "source": [
    "**Observations**\n",
    "\n",
    "- Interestingly, initial assumption of 2010 being the highest play count of song is incorrect."
   ]
  },
  {
   "cell_type": "code",
   "execution_count": 134,
   "metadata": {},
   "outputs": [
    {
     "data": {
      "text/plain": [
       "2010    56084\n",
       "Name: year, dtype: int64"
      ]
     },
     "execution_count": 134,
     "metadata": {},
     "output_type": "execute_result"
    }
   ],
   "source": [
    "# filter data to show the most recent releases\n",
    "this_year = df_final.loc[(df_final['year']==2010)]\n",
    "\n",
    "# check if there are songs from the year 2010\n",
    "this_year['year'].value_counts()"
   ]
  },
  {
   "cell_type": "markdown",
   "metadata": {},
   "source": [
    "**Observations** \n",
    "- Explicitly, there were ~56084 users listening to songs in our dataset during the 2010 years. "
   ]
  },
  {
   "cell_type": "markdown",
   "metadata": {},
   "source": [
    "**Checking the number of unqiue users in the dataset**"
   ]
  },
  {
   "cell_type": "code",
   "execution_count": 135,
   "metadata": {},
   "outputs": [
    {
     "name": "stdout",
     "output_type": "stream",
     "text": [
      "Number of unique USERS in the Raw data =  75579\n",
      "Number of unique SONGS in Raw data =  5229\n"
     ]
    }
   ],
   "source": [
    "# number of unique users in the dataset \n",
    "print('Number of unique USERS in the Raw data = ', df_final['user_id'].nunique())\n",
    "print('Number of unique SONGS in Raw data = ', df_final['song_id'].nunique())"
   ]
  },
  {
   "cell_type": "markdown",
   "metadata": {},
   "source": [
    "**Observations**\n",
    "- There are a lot of unique values in our dataset. "
   ]
  },
  {
   "cell_type": "markdown",
   "metadata": {},
   "source": [
    "**Users with an appropriate number of song listen counts**\n"
   ]
  },
  {
   "cell_type": "code",
   "execution_count": 136,
   "metadata": {},
   "outputs": [
    {
     "data": {
      "text/plain": [
       "user_id\n",
       "75144    537\n",
       "32542    518\n",
       "61472    446\n",
       "10807    435\n",
       "31704    427\n",
       "23297    424\n",
       "23790    406\n",
       "48273    401\n",
       "6480     391\n",
       "49507    389\n",
       "dtype: int64"
      ]
     },
     "execution_count": 136,
     "metadata": {},
     "output_type": "execute_result"
    }
   ],
   "source": [
    "# top 10 users based on listen count of song(s)\n",
    "most_listened = df_final.groupby('user_id').size().sort_values(ascending=False)[:10]\n",
    "most_listened"
   ]
  },
  {
   "cell_type": "markdown",
   "metadata": {},
   "source": [
    "**Observations**\n",
    "- The top ten users with the highest counts listened to a song are: [75144, 32542, 61472, 10807, 31704, 23297, 23790, 48273,  6480, 49507]"
   ]
  },
  {
   "cell_type": "markdown",
   "metadata": {},
   "source": [
    "##### **Data preparation**"
   ]
  },
  {
   "cell_type": "code",
   "execution_count": 137,
   "metadata": {},
   "outputs": [
    {
     "name": "stdout",
     "output_type": "stream",
     "text": [
      "The number of observations in the final data = 1575883\n",
      "Number of unique USERS in the final data =  75579\n",
      "Number of unique SONGS in the final data =  5229\n",
      "Number of COUNTS LISTENED in the final data =  <bound method NDFrame._add_numeric_operations.<locals>.sum of 0          1\n",
      "1          2\n",
      "2          1\n",
      "3          1\n",
      "4          1\n",
      "          ..\n",
      "1999994    4\n",
      "1999995    2\n",
      "1999996    4\n",
      "1999997    3\n",
      "1999998    1\n",
      "Name: play_count, Length: 1575883, dtype: int64>\n"
     ]
    }
   ],
   "source": [
    "# check the number of unique USERS and SONGS in the final data and provide observations\n",
    "\n",
    "print('The number of observations in the final data =', len(df_final))\n",
    "print('Number of unique USERS in the final data = ', df_final['user_id'].nunique())\n",
    "print('Number of unique SONGS in the final data = ', df_final['song_id'].nunique())\n",
    "print('Number of COUNTS LISTENED in the final data = ', df_final['play_count'].sum)"
   ]
  },
  {
   "cell_type": "markdown",
   "metadata": {},
   "source": [
    "**Observations**\n",
    "- The number of observations in the final data = 1575883\n",
    "- Number of unique USERS in the final data =  75579\n",
    "- Number of unique SONGS in the final data =  5229"
   ]
  },
  {
   "cell_type": "markdown",
   "metadata": {},
   "source": [
    "##### **Data Normalization**"
   ]
  },
  {
   "cell_type": "code",
   "execution_count": 44,
   "metadata": {},
   "outputs": [
    {
     "data": {
      "text/html": [
       "<div>\n",
       "<style scoped>\n",
       "    .dataframe tbody tr th:only-of-type {\n",
       "        vertical-align: middle;\n",
       "    }\n",
       "\n",
       "    .dataframe tbody tr th {\n",
       "        vertical-align: top;\n",
       "    }\n",
       "\n",
       "    .dataframe thead th {\n",
       "        text-align: right;\n",
       "    }\n",
       "</style>\n",
       "<table border=\"1\" class=\"dataframe\">\n",
       "  <thead>\n",
       "    <tr style=\"text-align: right;\">\n",
       "      <th></th>\n",
       "      <th>user_id</th>\n",
       "      <th>song_id</th>\n",
       "      <th>play_count</th>\n",
       "      <th>title</th>\n",
       "      <th>release</th>\n",
       "      <th>artist_name</th>\n",
       "      <th>year</th>\n",
       "    </tr>\n",
       "  </thead>\n",
       "  <tbody>\n",
       "    <tr>\n",
       "      <th>0</th>\n",
       "      <td>54961</td>\n",
       "      <td>17370</td>\n",
       "      <td>-0.360085</td>\n",
       "      <td>The Cove</td>\n",
       "      <td>Thicker Than Water</td>\n",
       "      <td>Jack Johnson</td>\n",
       "      <td>0</td>\n",
       "    </tr>\n",
       "    <tr>\n",
       "      <th>1</th>\n",
       "      <td>54961</td>\n",
       "      <td>45995</td>\n",
       "      <td>0.240056</td>\n",
       "      <td>Entre Dos Aguas</td>\n",
       "      <td>Flamenco Para Niños</td>\n",
       "      <td>Paco De Lucia</td>\n",
       "      <td>1976</td>\n",
       "    </tr>\n",
       "    <tr>\n",
       "      <th>2</th>\n",
       "      <td>54961</td>\n",
       "      <td>82002</td>\n",
       "      <td>-0.360085</td>\n",
       "      <td>Stronger</td>\n",
       "      <td>Graduation</td>\n",
       "      <td>Kanye West</td>\n",
       "      <td>2007</td>\n",
       "    </tr>\n",
       "    <tr>\n",
       "      <th>3</th>\n",
       "      <td>54961</td>\n",
       "      <td>83689</td>\n",
       "      <td>-0.360085</td>\n",
       "      <td>Constellations</td>\n",
       "      <td>In Between Dreams</td>\n",
       "      <td>Jack Johnson</td>\n",
       "      <td>2005</td>\n",
       "    </tr>\n",
       "    <tr>\n",
       "      <th>4</th>\n",
       "      <td>54961</td>\n",
       "      <td>129375</td>\n",
       "      <td>-0.360085</td>\n",
       "      <td>Learn To Fly</td>\n",
       "      <td>There Is Nothing Left To Lose</td>\n",
       "      <td>Foo Fighters</td>\n",
       "      <td>1999</td>\n",
       "    </tr>\n",
       "  </tbody>\n",
       "</table>\n",
       "</div>"
      ],
      "text/plain": [
       "   user_id  song_id  play_count            title  \\\n",
       "0    54961    17370   -0.360085         The Cove   \n",
       "1    54961    45995    0.240056  Entre Dos Aguas   \n",
       "2    54961    82002   -0.360085         Stronger   \n",
       "3    54961    83689   -0.360085   Constellations   \n",
       "4    54961   129375   -0.360085     Learn To Fly   \n",
       "\n",
       "                         release    artist_name  year  \n",
       "0             Thicker Than Water   Jack Johnson     0  \n",
       "1            Flamenco Para Niños  Paco De Lucia  1976  \n",
       "2                     Graduation     Kanye West  2007  \n",
       "3              In Between Dreams   Jack Johnson  2005  \n",
       "4  There Is Nothing Left To Lose   Foo Fighters  1999  "
      ]
     },
     "execution_count": 44,
     "metadata": {},
     "output_type": "execute_result"
    }
   ],
   "source": [
    "zscore = lambda x: (x-x.mean())/x.std()\n",
    "the_norm_zscore = df_final.groupby('user_id').transform(zscore)\n",
    "df_final.play_count = the_norm_zscore.play_count\n",
    "\n",
    "df_final.head()"
   ]
  },
  {
   "cell_type": "code",
   "execution_count": 45,
   "metadata": {},
   "outputs": [
    {
     "data": {
      "text/html": [
       "<div>\n",
       "<style scoped>\n",
       "    .dataframe tbody tr th:only-of-type {\n",
       "        vertical-align: middle;\n",
       "    }\n",
       "\n",
       "    .dataframe tbody tr th {\n",
       "        vertical-align: top;\n",
       "    }\n",
       "\n",
       "    .dataframe thead th {\n",
       "        text-align: right;\n",
       "    }\n",
       "</style>\n",
       "<table border=\"1\" class=\"dataframe\">\n",
       "  <thead>\n",
       "    <tr style=\"text-align: right;\">\n",
       "      <th></th>\n",
       "      <th>user_id</th>\n",
       "      <th>song_id</th>\n",
       "      <th>play_count</th>\n",
       "      <th>title</th>\n",
       "      <th>release</th>\n",
       "      <th>artist_name</th>\n",
       "      <th>year</th>\n",
       "    </tr>\n",
       "  </thead>\n",
       "  <tbody>\n",
       "    <tr>\n",
       "      <th>0</th>\n",
       "      <td>54961</td>\n",
       "      <td>17370</td>\n",
       "      <td>0.000000</td>\n",
       "      <td>The Cove</td>\n",
       "      <td>Thicker Than Water</td>\n",
       "      <td>Jack Johnson</td>\n",
       "      <td>0</td>\n",
       "    </tr>\n",
       "    <tr>\n",
       "      <th>1</th>\n",
       "      <td>54961</td>\n",
       "      <td>45995</td>\n",
       "      <td>0.142857</td>\n",
       "      <td>Entre Dos Aguas</td>\n",
       "      <td>Flamenco Para Niños</td>\n",
       "      <td>Paco De Lucia</td>\n",
       "      <td>1976</td>\n",
       "    </tr>\n",
       "    <tr>\n",
       "      <th>2</th>\n",
       "      <td>54961</td>\n",
       "      <td>82002</td>\n",
       "      <td>0.000000</td>\n",
       "      <td>Stronger</td>\n",
       "      <td>Graduation</td>\n",
       "      <td>Kanye West</td>\n",
       "      <td>2007</td>\n",
       "    </tr>\n",
       "    <tr>\n",
       "      <th>3</th>\n",
       "      <td>54961</td>\n",
       "      <td>83689</td>\n",
       "      <td>0.000000</td>\n",
       "      <td>Constellations</td>\n",
       "      <td>In Between Dreams</td>\n",
       "      <td>Jack Johnson</td>\n",
       "      <td>2005</td>\n",
       "    </tr>\n",
       "    <tr>\n",
       "      <th>4</th>\n",
       "      <td>54961</td>\n",
       "      <td>129375</td>\n",
       "      <td>0.000000</td>\n",
       "      <td>Learn To Fly</td>\n",
       "      <td>There Is Nothing Left To Lose</td>\n",
       "      <td>Foo Fighters</td>\n",
       "      <td>1999</td>\n",
       "    </tr>\n",
       "  </tbody>\n",
       "</table>\n",
       "</div>"
      ],
      "text/plain": [
       "   user_id  song_id  play_count            title  \\\n",
       "0    54961    17370    0.000000         The Cove   \n",
       "1    54961    45995    0.142857  Entre Dos Aguas   \n",
       "2    54961    82002    0.000000         Stronger   \n",
       "3    54961    83689    0.000000   Constellations   \n",
       "4    54961   129375    0.000000     Learn To Fly   \n",
       "\n",
       "                         release    artist_name  year  \n",
       "0             Thicker Than Water   Jack Johnson     0  \n",
       "1            Flamenco Para Niños  Paco De Lucia  1976  \n",
       "2                     Graduation     Kanye West  2007  \n",
       "3              In Between Dreams   Jack Johnson  2005  \n",
       "4  There Is Nothing Left To Lose   Foo Fighters  1999  "
      ]
     },
     "execution_count": 45,
     "metadata": {},
     "output_type": "execute_result"
    }
   ],
   "source": [
    "min_max = lambda x: (x - x.min()) / (x.max() - x.min())\n",
    "the_norm_min_max = df_final.groupby('user_id').transform(min_max)\n",
    "df_final.play_count = the_norm_min_max.play_count \n",
    "\n",
    "df_final.head()"
   ]
  },
  {
   "cell_type": "code",
   "execution_count": 46,
   "metadata": {},
   "outputs": [
    {
     "data": {
      "text/html": [
       "<div>\n",
       "<style scoped>\n",
       "    .dataframe tbody tr th:only-of-type {\n",
       "        vertical-align: middle;\n",
       "    }\n",
       "\n",
       "    .dataframe tbody tr th {\n",
       "        vertical-align: top;\n",
       "    }\n",
       "\n",
       "    .dataframe thead th {\n",
       "        text-align: right;\n",
       "    }\n",
       "</style>\n",
       "<table border=\"1\" class=\"dataframe\">\n",
       "  <thead>\n",
       "    <tr style=\"text-align: right;\">\n",
       "      <th></th>\n",
       "      <th>user_id</th>\n",
       "      <th>song_id</th>\n",
       "      <th>play_count</th>\n",
       "      <th>title</th>\n",
       "      <th>release</th>\n",
       "      <th>artist_name</th>\n",
       "      <th>year</th>\n",
       "    </tr>\n",
       "  </thead>\n",
       "  <tbody>\n",
       "    <tr>\n",
       "      <th>0</th>\n",
       "      <td>54961</td>\n",
       "      <td>17370</td>\n",
       "      <td>0.000000</td>\n",
       "      <td>The Cove</td>\n",
       "      <td>Thicker Than Water</td>\n",
       "      <td>Jack Johnson</td>\n",
       "      <td>0</td>\n",
       "    </tr>\n",
       "    <tr>\n",
       "      <th>1</th>\n",
       "      <td>54961</td>\n",
       "      <td>45995</td>\n",
       "      <td>0.142857</td>\n",
       "      <td>Entre Dos Aguas</td>\n",
       "      <td>Flamenco Para Niños</td>\n",
       "      <td>Paco De Lucia</td>\n",
       "      <td>1976</td>\n",
       "    </tr>\n",
       "    <tr>\n",
       "      <th>2</th>\n",
       "      <td>54961</td>\n",
       "      <td>82002</td>\n",
       "      <td>0.000000</td>\n",
       "      <td>Stronger</td>\n",
       "      <td>Graduation</td>\n",
       "      <td>Kanye West</td>\n",
       "      <td>2007</td>\n",
       "    </tr>\n",
       "    <tr>\n",
       "      <th>3</th>\n",
       "      <td>54961</td>\n",
       "      <td>83689</td>\n",
       "      <td>0.000000</td>\n",
       "      <td>Constellations</td>\n",
       "      <td>In Between Dreams</td>\n",
       "      <td>Jack Johnson</td>\n",
       "      <td>2005</td>\n",
       "    </tr>\n",
       "    <tr>\n",
       "      <th>4</th>\n",
       "      <td>54961</td>\n",
       "      <td>129375</td>\n",
       "      <td>0.000000</td>\n",
       "      <td>Learn To Fly</td>\n",
       "      <td>There Is Nothing Left To Lose</td>\n",
       "      <td>Foo Fighters</td>\n",
       "      <td>1999</td>\n",
       "    </tr>\n",
       "    <tr>\n",
       "      <th>...</th>\n",
       "      <td>...</td>\n",
       "      <td>...</td>\n",
       "      <td>...</td>\n",
       "      <td>...</td>\n",
       "      <td>...</td>\n",
       "      <td>...</td>\n",
       "      <td>...</td>\n",
       "    </tr>\n",
       "    <tr>\n",
       "      <th>1999994</th>\n",
       "      <td>64590</td>\n",
       "      <td>359346</td>\n",
       "      <td>0.375000</td>\n",
       "      <td>Unwell (Album Version)</td>\n",
       "      <td>More Than You Think You Are</td>\n",
       "      <td>matchbox twenty</td>\n",
       "      <td>2003</td>\n",
       "    </tr>\n",
       "    <tr>\n",
       "      <th>1999995</th>\n",
       "      <td>64590</td>\n",
       "      <td>385009</td>\n",
       "      <td>0.125000</td>\n",
       "      <td>Ignorance (Album Version)</td>\n",
       "      <td>Ignorance</td>\n",
       "      <td>Paramore</td>\n",
       "      <td>0</td>\n",
       "    </tr>\n",
       "    <tr>\n",
       "      <th>1999996</th>\n",
       "      <td>64590</td>\n",
       "      <td>392598</td>\n",
       "      <td>0.375000</td>\n",
       "      <td>Two Is Better Than One</td>\n",
       "      <td>Love Drunk</td>\n",
       "      <td>Boys Like Girls featuring Taylor Swift</td>\n",
       "      <td>2009</td>\n",
       "    </tr>\n",
       "    <tr>\n",
       "      <th>1999997</th>\n",
       "      <td>64590</td>\n",
       "      <td>393702</td>\n",
       "      <td>0.250000</td>\n",
       "      <td>What I've Done (Album Version)</td>\n",
       "      <td>What I've Done</td>\n",
       "      <td>Linkin Park</td>\n",
       "      <td>2007</td>\n",
       "    </tr>\n",
       "    <tr>\n",
       "      <th>1999998</th>\n",
       "      <td>64590</td>\n",
       "      <td>409426</td>\n",
       "      <td>0.000000</td>\n",
       "      <td>Up</td>\n",
       "      <td>My Worlds</td>\n",
       "      <td>Justin Bieber</td>\n",
       "      <td>2010</td>\n",
       "    </tr>\n",
       "  </tbody>\n",
       "</table>\n",
       "<p>1575883 rows × 7 columns</p>\n",
       "</div>"
      ],
      "text/plain": [
       "         user_id  song_id  play_count                           title  \\\n",
       "0          54961    17370    0.000000                        The Cove   \n",
       "1          54961    45995    0.142857                 Entre Dos Aguas   \n",
       "2          54961    82002    0.000000                        Stronger   \n",
       "3          54961    83689    0.000000                  Constellations   \n",
       "4          54961   129375    0.000000                    Learn To Fly   \n",
       "...          ...      ...         ...                             ...   \n",
       "1999994    64590   359346    0.375000          Unwell (Album Version)   \n",
       "1999995    64590   385009    0.125000       Ignorance (Album Version)   \n",
       "1999996    64590   392598    0.375000          Two Is Better Than One   \n",
       "1999997    64590   393702    0.250000  What I've Done (Album Version)   \n",
       "1999998    64590   409426    0.000000                              Up   \n",
       "\n",
       "                               release  \\\n",
       "0                   Thicker Than Water   \n",
       "1                  Flamenco Para Niños   \n",
       "2                           Graduation   \n",
       "3                    In Between Dreams   \n",
       "4        There Is Nothing Left To Lose   \n",
       "...                                ...   \n",
       "1999994    More Than You Think You Are   \n",
       "1999995                      Ignorance   \n",
       "1999996                     Love Drunk   \n",
       "1999997                 What I've Done   \n",
       "1999998                      My Worlds   \n",
       "\n",
       "                                    artist_name  year  \n",
       "0                                  Jack Johnson     0  \n",
       "1                                 Paco De Lucia  1976  \n",
       "2                                    Kanye West  2007  \n",
       "3                                  Jack Johnson  2005  \n",
       "4                                  Foo Fighters  1999  \n",
       "...                                         ...   ...  \n",
       "1999994                         matchbox twenty  2003  \n",
       "1999995                                Paramore     0  \n",
       "1999996  Boys Like Girls featuring Taylor Swift  2009  \n",
       "1999997                             Linkin Park  2007  \n",
       "1999998                           Justin Bieber  2010  \n",
       "\n",
       "[1575883 rows x 7 columns]"
      ]
     },
     "execution_count": 46,
     "metadata": {},
     "output_type": "execute_result"
    }
   ],
   "source": [
    "df_final.fillna(value=0)"
   ]
  },
  {
   "cell_type": "markdown",
   "metadata": {},
   "source": [
    "##### **Word2vec Recommendation System**\n"
   ]
  },
  {
   "cell_type": "markdown",
   "metadata": {},
   "source": [
    "**Data Preparation**"
   ]
  },
  {
   "cell_type": "code",
   "execution_count": 47,
   "metadata": {},
   "outputs": [],
   "source": [
    "# transfrom song_id to string types\n",
    "df_final['song_id']= df_final['song_id'].astype(str)"
   ]
  },
  {
   "cell_type": "code",
   "execution_count": 48,
   "metadata": {},
   "outputs": [
    {
     "data": {
      "text/plain": [
       "75579"
      ]
     },
     "execution_count": 48,
     "metadata": {},
     "output_type": "execute_result"
    }
   ],
   "source": [
    "# check the number of unique song listeners in the dataset\n",
    "users = df_final['user_id'].unique().tolist()\n",
    "len(users)"
   ]
  },
  {
   "cell_type": "code",
   "execution_count": 49,
   "metadata": {},
   "outputs": [],
   "source": [
    "# set 90% of the users as a sample of the dataset for validation\n",
    "\n",
    "# shuffle user_id\n",
    "random.shuffle(users)\n",
    "\n",
    "# set aside 90% of the user_id\n",
    "user_train = [users[i] for i in range(round(0.9*len(users)))]\n",
    "\n",
    "# split df_final into train and test sets \n",
    "train_df_final = df_final[df_final['user_id'].isin(user_train)]\n",
    "test_df_final = df_final[~df_final['user_id'].isin(user_train)]"
   ]
  },
  {
   "cell_type": "code",
   "execution_count": 50,
   "metadata": {},
   "outputs": [
    {
     "name": "stderr",
     "output_type": "stream",
     "text": [
      "100%|██████████| 68021/68021 [04:07<00:00, 275.12it/s]\n"
     ]
    }
   ],
   "source": [
    "# create sequence of play_count made by user_id in the dataset for both train and test sets\n",
    "\n",
    "# list for song play_count training set\n",
    "play_count_train = []\n",
    "\n",
    "# populate the list with song_id\n",
    "for i in tqdm(user_train): \n",
    "    temporary = train_df_final[train_df_final['user_id'] == i]['song_id'].tolist()\n",
    "    play_count_train.append(temporary)"
   ]
  },
  {
   "cell_type": "code",
   "execution_count": 51,
   "metadata": {},
   "outputs": [
    {
     "data": {
      "text/plain": [
       "68021"
      ]
     },
     "execution_count": 51,
     "metadata": {},
     "output_type": "execute_result"
    }
   ],
   "source": [
    "len(play_count_train)"
   ]
  },
  {
   "cell_type": "code",
   "execution_count": 52,
   "metadata": {},
   "outputs": [
    {
     "name": "stderr",
     "output_type": "stream",
     "text": [
      "100%|██████████| 7558/7558 [00:11<00:00, 664.77it/s]\n"
     ]
    }
   ],
   "source": [
    "# list for song play_count testing set\n",
    "play_count_test = []\n",
    "\n",
    "# populate the list with song_id\n",
    "for i in tqdm(test_df_final['user_id'].unique()):\n",
    "    temporary = test_df_final[test_df_final[\"user_id\"] == i][\"song_id\"].tolist()\n",
    "    play_count_test.append(temporary)"
   ]
  },
  {
   "cell_type": "code",
   "execution_count": 53,
   "metadata": {},
   "outputs": [
    {
     "data": {
      "text/plain": [
       "7558"
      ]
     },
     "execution_count": 53,
     "metadata": {},
     "output_type": "execute_result"
    }
   ],
   "source": [
    "len(play_count_test)"
   ]
  },
  {
   "cell_type": "code",
   "execution_count": 54,
   "metadata": {},
   "outputs": [
    {
     "data": {
      "text/plain": [
       "(14025427, 14150090)"
      ]
     },
     "execution_count": 54,
     "metadata": {},
     "output_type": "execute_result"
    }
   ],
   "source": [
    "# train word2vec model\n",
    "\n",
    "train_word2vec_model = Word2Vec(window=10, \n",
    "                                sg=1, \n",
    "                                hs=0,\n",
    "                                negative=10, \n",
    "                                alpha=0.03, \n",
    "                                min_alpha=0.0007,\n",
    "                                seed=14) \n",
    "\n",
    "train_word2vec_model.build_vocab(play_count_train,progress_per=200)\n",
    "\n",
    "train_word2vec_model.train(play_count_train, \n",
    "                            total_examples=train_word2vec_model.corpus_count, \n",
    "                            epochs=10,\n",
    "                            report_delay=10)\n"
   ]
  },
  {
   "cell_type": "code",
   "execution_count": 55,
   "metadata": {},
   "outputs": [],
   "source": [
    "# use init_sims() to make the model memory efficient\n",
    "train_word2vec_model.init_sims(replace=True)"
   ]
  },
  {
   "cell_type": "code",
   "execution_count": 56,
   "metadata": {},
   "outputs": [
    {
     "name": "stdout",
     "output_type": "stream",
     "text": [
      "Word2Vec(vocab=5229, size=100, alpha=0.03)\n"
     ]
    }
   ],
   "source": [
    "# summarize the model \n",
    "print(train_word2vec_model)"
   ]
  },
  {
   "cell_type": "markdown",
   "metadata": {},
   "source": [
    "**Observations** \n",
    "- The model has 5229 unique words with a vector size of 100. \n",
    "- The words need to be extracted and stored. "
   ]
  },
  {
   "cell_type": "code",
   "execution_count": 57,
   "metadata": {},
   "outputs": [
    {
     "data": {
      "text/plain": [
       "(5229, 100)"
      ]
     },
     "execution_count": 57,
     "metadata": {},
     "output_type": "execute_result"
    }
   ],
   "source": [
    "# take the vectors and store them\n",
    "words = train_word2vec_model[train_word2vec_model.wv.vocab]\n",
    "words\n",
    "\n",
    "words.shape"
   ]
  },
  {
   "cell_type": "code",
   "execution_count": 58,
   "metadata": {},
   "outputs": [
    {
     "data": {
      "text/plain": [
       "PCA(n_components=2)"
      ]
     },
     "execution_count": 58,
     "metadata": {},
     "output_type": "execute_result"
    }
   ],
   "source": [
    "# fit a 2d PCA model to the vectors\n",
    "from sklearn.decomposition import PCA\n",
    "pca = PCA(n_components=2)\n",
    "pca"
   ]
  },
  {
   "cell_type": "code",
   "execution_count": 59,
   "metadata": {},
   "outputs": [],
   "source": [
    "results = pca.fit_transform(words)"
   ]
  },
  {
   "cell_type": "markdown",
   "metadata": {},
   "source": [
    "##### **Map the Embeddings**"
   ]
  },
  {
   "cell_type": "markdown",
   "metadata": {},
   "source": [
    "**Dimensional reduction: reduce the dimensions of the song_id embeddings\""
   ]
  },
  {
   "cell_type": "code",
   "execution_count": 60,
   "metadata": {},
   "outputs": [
    {
     "data": {
      "text/plain": [
       "<matplotlib.collections.PathCollection at 0x13e97ed00>"
      ]
     },
     "execution_count": 60,
     "metadata": {},
     "output_type": "execute_result"
    },
    {
     "data": {
      "image/png": "[encoded data removed]",
      "text/plain": [
       "<Figure size 576x504 with 1 Axes>"
      ]
     },
     "metadata": {
      "needs_background": "light"
     },
     "output_type": "display_data"
    }
   ],
   "source": [
    "# reduce the dimensions of the song embeddings from 100 to 2\n",
    "embedded_cluster = umap.UMAP(n_neighbors=30, \n",
    "                            min_dist=0.0,\n",
    "                            n_components=2, \n",
    "                            random_state=42).fit_transform(words)\n",
    "\n",
    "plt.figure(figsize=(8,7))\n",
    "plt.scatter(embedded_cluster[:, 0], embedded_cluster[:, 1], s=3, cmap='Spectral')"
   ]
  },
  {
   "cell_type": "markdown",
   "metadata": {},
   "source": [
    "**Observations**\n",
    "- The points on the graph are a single song. \n",
    "- The embedding clusters on the graph are groups of similar songs. "
   ]
  },
  {
   "cell_type": "code",
   "execution_count": 61,
   "metadata": {},
   "outputs": [
    {
     "data": {
      "image/png": "[encoded data removed]",
      "text/plain": [
       "<Figure size 3600x3600 with 1 Axes>"
      ]
     },
     "metadata": {
      "needs_background": "light"
     },
     "output_type": "display_data"
    }
   ],
   "source": [
    "# graph songs on a scatter plot \n",
    "from matplotlib import pyplot\n",
    "from random import sample\n",
    "\n",
    "pyplot.figure(figsize=(50,50))\n",
    "pyplot.scatter(results[:, 0], results[:, 1])\n",
    "words = list(train_word2vec_model.wv.vocab)\n",
    "sample_words = sample(words, 40)\n",
    "for i, word in enumerate(sample_words):\n",
    "\tpyplot.annotate(word, xy=(results[i, 0], results[i, 1]))\n",
    "pyplot.show()"
   ]
  },
  {
   "cell_type": "markdown",
   "metadata": {},
   "source": [
    "**Observations** \n",
    "- The scatter plot is nonlinear, has zero slope and is weak (in association). \n",
    "- Correlations for songs are nonlinear. \n",
    "- Outliers are predominantly present at the top of the graph. \n",
    "- There are some outliers also at the bottom of the graph. \n",
    "- The points are widely spread apart in the middle, which indicates there is high variability in the data around the center. \n",
    "- On the left side and right sides of the graph, the observations are clustered around many, single values, which indicates that the variability spread on the left and right sides is smaller for the song correlations.\n",
    "- Since there is such spread in the graph, the weaker the relationship among the songs in the middle of the graph. \n",
    "- For the left and right sides of the graph, the spread is smaller, indicating a stronger relationship among songs. \n"
   ]
  },
  {
   "cell_type": "markdown",
   "metadata": {},
   "source": [
    "##### Word2vec Recommending songs\n"
   ]
  },
  {
   "cell_type": "code",
   "execution_count": 62,
   "metadata": {},
   "outputs": [],
   "source": [
    "# create a song id to map the songs' titles \n",
    "songs = train_df_final[['song_id', 'title']]"
   ]
  },
  {
   "cell_type": "code",
   "execution_count": 63,
   "metadata": {},
   "outputs": [
    {
     "data": {
      "text/html": [
       "<div>\n",
       "<style scoped>\n",
       "    .dataframe tbody tr th:only-of-type {\n",
       "        vertical-align: middle;\n",
       "    }\n",
       "\n",
       "    .dataframe tbody tr th {\n",
       "        vertical-align: top;\n",
       "    }\n",
       "\n",
       "    .dataframe thead th {\n",
       "        text-align: right;\n",
       "    }\n",
       "</style>\n",
       "<table border=\"1\" class=\"dataframe\">\n",
       "  <thead>\n",
       "    <tr style=\"text-align: right;\">\n",
       "      <th></th>\n",
       "      <th>user_id</th>\n",
       "      <th>song_id</th>\n",
       "      <th>play_count</th>\n",
       "      <th>title</th>\n",
       "      <th>release</th>\n",
       "      <th>artist_name</th>\n",
       "      <th>year</th>\n",
       "    </tr>\n",
       "  </thead>\n",
       "  <tbody>\n",
       "    <tr>\n",
       "      <th>0</th>\n",
       "      <td>54961</td>\n",
       "      <td>17370</td>\n",
       "      <td>0.000000</td>\n",
       "      <td>The Cove</td>\n",
       "      <td>Thicker Than Water</td>\n",
       "      <td>Jack Johnson</td>\n",
       "      <td>0</td>\n",
       "    </tr>\n",
       "    <tr>\n",
       "      <th>1</th>\n",
       "      <td>54961</td>\n",
       "      <td>45995</td>\n",
       "      <td>0.142857</td>\n",
       "      <td>Entre Dos Aguas</td>\n",
       "      <td>Flamenco Para Niños</td>\n",
       "      <td>Paco De Lucia</td>\n",
       "      <td>1976</td>\n",
       "    </tr>\n",
       "    <tr>\n",
       "      <th>2</th>\n",
       "      <td>54961</td>\n",
       "      <td>82002</td>\n",
       "      <td>0.000000</td>\n",
       "      <td>Stronger</td>\n",
       "      <td>Graduation</td>\n",
       "      <td>Kanye West</td>\n",
       "      <td>2007</td>\n",
       "    </tr>\n",
       "    <tr>\n",
       "      <th>3</th>\n",
       "      <td>54961</td>\n",
       "      <td>83689</td>\n",
       "      <td>0.000000</td>\n",
       "      <td>Constellations</td>\n",
       "      <td>In Between Dreams</td>\n",
       "      <td>Jack Johnson</td>\n",
       "      <td>2005</td>\n",
       "    </tr>\n",
       "    <tr>\n",
       "      <th>4</th>\n",
       "      <td>54961</td>\n",
       "      <td>129375</td>\n",
       "      <td>0.000000</td>\n",
       "      <td>Learn To Fly</td>\n",
       "      <td>There Is Nothing Left To Lose</td>\n",
       "      <td>Foo Fighters</td>\n",
       "      <td>1999</td>\n",
       "    </tr>\n",
       "  </tbody>\n",
       "</table>\n",
       "</div>"
      ],
      "text/plain": [
       "   user_id song_id  play_count            title  \\\n",
       "0    54961   17370    0.000000         The Cove   \n",
       "1    54961   45995    0.142857  Entre Dos Aguas   \n",
       "2    54961   82002    0.000000         Stronger   \n",
       "3    54961   83689    0.000000   Constellations   \n",
       "4    54961  129375    0.000000     Learn To Fly   \n",
       "\n",
       "                         release    artist_name  year  \n",
       "0             Thicker Than Water   Jack Johnson     0  \n",
       "1            Flamenco Para Niños  Paco De Lucia  1976  \n",
       "2                     Graduation     Kanye West  2007  \n",
       "3              In Between Dreams   Jack Johnson  2005  \n",
       "4  There Is Nothing Left To Lose   Foo Fighters  1999  "
      ]
     },
     "execution_count": 63,
     "metadata": {},
     "output_type": "execute_result"
    }
   ],
   "source": [
    "train_df_final.head()"
   ]
  },
  {
   "cell_type": "code",
   "execution_count": 64,
   "metadata": {},
   "outputs": [],
   "source": [
    "# drop duplicates on song_id\n",
    "songs.drop_duplicates(inplace=True, subset='song_id', keep=\"last\")"
   ]
  },
  {
   "cell_type": "code",
   "execution_count": 333,
   "metadata": {},
   "outputs": [],
   "source": [
    "# group songs by their id and title and store into a dictionary \n",
    "song_dictionary = songs.groupby('song_id')['title'].apply(list).to_dict()"
   ]
  },
  {
   "cell_type": "code",
   "execution_count": 66,
   "metadata": {},
   "outputs": [
    {
     "data": {
      "text/html": [
       "<div>\n",
       "<style scoped>\n",
       "    .dataframe tbody tr th:only-of-type {\n",
       "        vertical-align: middle;\n",
       "    }\n",
       "\n",
       "    .dataframe tbody tr th {\n",
       "        vertical-align: top;\n",
       "    }\n",
       "\n",
       "    .dataframe thead th {\n",
       "        text-align: right;\n",
       "    }\n",
       "</style>\n",
       "<table border=\"1\" class=\"dataframe\">\n",
       "  <thead>\n",
       "    <tr style=\"text-align: right;\">\n",
       "      <th></th>\n",
       "      <th>song_id</th>\n",
       "      <th>title</th>\n",
       "      <th>release</th>\n",
       "      <th>artist_name</th>\n",
       "      <th>year</th>\n",
       "    </tr>\n",
       "  </thead>\n",
       "  <tbody>\n",
       "    <tr>\n",
       "      <th>0</th>\n",
       "      <td>664054</td>\n",
       "      <td>Silent Night</td>\n",
       "      <td>Monster Ballads X-Mas</td>\n",
       "      <td>Faster Pussy cat</td>\n",
       "      <td>2003</td>\n",
       "    </tr>\n",
       "    <tr>\n",
       "      <th>1</th>\n",
       "      <td>834264</td>\n",
       "      <td>Tanssi vaan</td>\n",
       "      <td>Karkuteillä</td>\n",
       "      <td>Karkkiautomaatti</td>\n",
       "      <td>1995</td>\n",
       "    </tr>\n",
       "    <tr>\n",
       "      <th>2</th>\n",
       "      <td>286654</td>\n",
       "      <td>No One Could Ever</td>\n",
       "      <td>Butter</td>\n",
       "      <td>Hudson Mohawke</td>\n",
       "      <td>2006</td>\n",
       "    </tr>\n",
       "    <tr>\n",
       "      <th>3</th>\n",
       "      <td>66717</td>\n",
       "      <td>Si Vos Querés</td>\n",
       "      <td>De Culo</td>\n",
       "      <td>Yerba Brava</td>\n",
       "      <td>2003</td>\n",
       "    </tr>\n",
       "    <tr>\n",
       "      <th>4</th>\n",
       "      <td>324820</td>\n",
       "      <td>Tangle Of Aspens</td>\n",
       "      <td>Rene Ablaze Presents Winter Sessions</td>\n",
       "      <td>Der Mystic</td>\n",
       "      <td>0</td>\n",
       "    </tr>\n",
       "  </tbody>\n",
       "</table>\n",
       "</div>"
      ],
      "text/plain": [
       "   song_id              title                               release  \\\n",
       "0   664054       Silent Night                 Monster Ballads X-Mas   \n",
       "1   834264        Tanssi vaan                           Karkuteillä   \n",
       "2   286654  No One Could Ever                                Butter   \n",
       "3    66717      Si Vos Querés                               De Culo   \n",
       "4   324820   Tangle Of Aspens  Rene Ablaze Presents Winter Sessions   \n",
       "\n",
       "        artist_name  year  \n",
       "0  Faster Pussy cat  2003  \n",
       "1  Karkkiautomaatti  1995  \n",
       "2    Hudson Mohawke  2006  \n",
       "3       Yerba Brava  2003  \n",
       "4        Der Mystic     0  "
      ]
     },
     "execution_count": 66,
     "metadata": {},
     "output_type": "execute_result"
    }
   ],
   "source": [
    "song_df.head()"
   ]
  },
  {
   "cell_type": "code",
   "execution_count": 67,
   "metadata": {},
   "outputs": [
    {
     "data": {
      "text/plain": [
       "['Whoomp! There It Is']"
      ]
     },
     "execution_count": 67,
     "metadata": {},
     "output_type": "execute_result"
    }
   ],
   "source": [
    "song_dictionary['100511']"
   ]
  },
  {
   "cell_type": "code",
   "execution_count": 68,
   "metadata": {},
   "outputs": [],
   "source": [
    "# function that inputs song vectors and returns 10 similar songs\n",
    "def similar_songs(vctr, n = 10): \n",
    "    most_similar = train_word2vec_model.similar_by_vector(vctr, topn=n+1)[1:]\n",
    "    updated_most_similar = []\n",
    "    for similar in most_similar: \n",
    "        song_pairs = (song_dictionary[similar[0]][0], similar[1])\n",
    "        updated_most_similar.append(song_pairs)\n",
    "    return updated_most_similar"
   ]
  },
  {
   "cell_type": "code",
   "execution_count": 69,
   "metadata": {},
   "outputs": [
    {
     "data": {
      "text/plain": [
       "[('Ice Ice Baby (Radio Edit)', 0.7445834875106812),\n",
       " ('Decades Of Despair', 0.7296344041824341),\n",
       " (\"My Lovin' (You're Never Gonna Get It) (LP Version)\", 0.7189461588859558),\n",
       " ('MMMBop', 0.7093039751052856),\n",
       " ('Lovefool', 0.708886981010437),\n",
       " (\"Breakfast At Tiffany's\", 0.7068742513656616),\n",
       " ('Killing Me Softly With His Song', 0.7049561738967896),\n",
       " ('Stay', 0.691421627998352),\n",
       " ('Bust A Move', 0.6861682534217834),\n",
       " ('Jack & Diane', 0.6833891868591309)]"
      ]
     },
     "execution_count": 69,
     "metadata": {},
     "output_type": "execute_result"
    }
   ],
   "source": [
    "similar_songs(train_word2vec_model['100511'])"
   ]
  },
  {
   "cell_type": "markdown",
   "metadata": {},
   "source": [
    "**Observations**\n",
    "- The song that was most similar by ~76.5% is Ice Ice Baby.\n",
    "- The songs are recommended from various different years 1990-2008. The release date/year does not seem to affect the recommender that the song is more or less modern. \n",
    "- Song recommendations appear to be top hits for the artists' who wrote them and involve concepts of extreme emotion: bliss, failing relationships, depression/sadness, forgiveness. \n",
    "- It is evident that there are groups of recommended songs based on their percentage of similarity. \n",
    "    * Songs with concepts of futility of relationships/sadness related to romantic relationships: 'Para Hacerme Perdonar (En Vivo Teatro Metropolitan)', 0.7175484895706177), ('Lovefool', 0.7157837152481079), 'Blue (Da Ba Dee)', 0.7192554473876953). \n",
    "    * Songs with concepts of love for a woman/foregiveness/broken relationships for a woman(s): \"My Lovin' (You're Never Gonna Get It) (LP Version)\", 0.706565260887146), 'Your Woman', 0.7055498361587524)\n",
    "    * Songs with concpets of depression/sadness/death/futility of life:  'Killing Me Softly With His Song', 0.6861705183982849), 'MMMBop', 0.6831271648406982), 'Decades Of Despair', 0.6998589038848877). \n",
    "- The Word2vec model seems to take two analogies and mirror them into an association. \n",
    "    * Depression/Death by depression : Blue (Da Ba Dee)  - Killing Me Softly With His Song = Decades of Despair. \n"
   ]
  },
  {
   "cell_type": "markdown",
   "metadata": {},
   "source": [
    "**Song breakdowns**\n",
    "- In the 1990s, \"Ice Ice Baby\" was the very first single by a rapper to top the American Billboard charts. Ice says that he wrote the lyrics in 30 minutes, and they the are based in fact. He told Entertainment Weekly in 2016: \"The song tells you the story. It's me, with my top down, in my 5.0 Mustang, cruising down A1A Beachfront Avenue. It's a weekend experience that turned into an amazing song. It's timeless. I still love singing it, and it never gets old.\"\n",
    "- \"Breakfast at Tiffany's\" is a song by American alternative rock band Deep Blue Something. The song was the band's only hit, peaking at number five on the US Billboard Hot 100. The song is a humorous and optimistic look at a failing relationship. One partner focuses on how different the two people are and how they aren't going to last as a couple.\n",
    "- \"Blue (Da Ba Dee)\" is the group's most popular single, reaching number one in 17 countries, charting at number two in Italy, and peaking at number six on the US Billboard Hot 100 in January 2000. Different colors have represented different emotions over time but the color blue has been attributed to the feeling of sadness which makes this song possibly about depression.\n",
    "- 'Para Hacerme Perdonar (En Vivo Teatro Metropolitan)' is the fifth album and first live album by Mexican singer-songwriter Ely Guerra . The album was recorded live at the Teatro Metropólitan in Mexico City during a presentation in 2006 and was released on sale on February 17, 2007. It appears to be a song about an emotional plea for forgiveness from a lover. \n",
    "- \"Lovefool\" was the song that propelled the Cardigans to international stardom. Nina Persson penned the lyrics for this song, while guitarist Peter Svensson wrote the music. She told STIM (The Swedish Performing Rights Society): \"I do find that the biggest hits are the ones that are the easiest to write.\"\n",
    "- \"MMBop\", \"What that song talks about is, you've got to hold on to the things that really matter. MMMBop represents a frame of time or the futility of life. Things are going to be gone, whether it's your age and your youth, or maybe the money you have, and all that's going to be left are the people you've nurtured and have really built to be your backbone and your support system.\""
   ]
  },
  {
   "cell_type": "code",
   "execution_count": 70,
   "metadata": {},
   "outputs": [],
   "source": [
    "# function that takes the average of all song vectors and returns similar songs\n",
    "def average_of_vectors(songs): \n",
    "    song_vector = []\n",
    "    for song_item in songs: \n",
    "        try:\n",
    "            song_vector.append(train_word2vec_model[song_item])\n",
    "        except KeyError: \n",
    "            continue\n",
    "    return np.mean(song_vector, axis=0)"
   ]
  },
  {
   "cell_type": "code",
   "execution_count": 71,
   "metadata": {},
   "outputs": [
    {
     "data": {
      "text/plain": [
       "12"
      ]
     },
     "execution_count": 71,
     "metadata": {},
     "output_type": "execute_result"
    }
   ],
   "source": [
    "# length of the list of songs listened to by a user\n",
    "len(play_count_test[0])"
   ]
  },
  {
   "cell_type": "markdown",
   "metadata": {},
   "source": [
    "**Observations** \n",
    "- The average number of songs that a user listens to from the dataframe is 12. "
   ]
  },
  {
   "cell_type": "code",
   "execution_count": 72,
   "metadata": {},
   "outputs": [
    {
     "data": {
      "text/plain": [
       "(100,)"
      ]
     },
     "execution_count": 72,
     "metadata": {},
     "output_type": "execute_result"
    }
   ],
   "source": [
    "# the original vector_size is 100\n",
    "average_of_vectors(play_count_test[0]).shape"
   ]
  },
  {
   "cell_type": "markdown",
   "metadata": {},
   "source": [
    "**Observations**\n",
    "- The vector_size and average of all vectors is equal to 100. This indicates that the model is correctly applying the vector sizing."
   ]
  },
  {
   "cell_type": "code",
   "execution_count": 73,
   "metadata": {},
   "outputs": [
    {
     "data": {
      "text/plain": [
       "[('Crack A Bottle', 0.7387005090713501),\n",
       " ('The Real Slim Shady', 0.7338780164718628),\n",
       " (\"My Dad's Gone Crazy\", 0.7296184301376343),\n",
       " ('Whatcha Say', 0.721392035484314),\n",
       " ('Superman', 0.7148323059082031),\n",
       " ('Mockingbird', 0.7141843438148499),\n",
       " ('Just Lose It', 0.7130401134490967),\n",
       " ('Drop It Low', 0.7044399976730347),\n",
       " ('All I Do Is Win (feat. T-Pain_ Ludacris_ Snoop Dogg & Rick Ross)',\n",
       "  0.6887338757514954),\n",
       " ('Say What You Say', 0.68509441614151)]"
      ]
     },
     "execution_count": 73,
     "metadata": {},
     "output_type": "execute_result"
    }
   ],
   "source": [
    "# most similar songs based on the average of vectors\n",
    "similar_songs(average_of_vectors(play_count_test[0]))"
   ]
  },
  {
   "cell_type": "code",
   "execution_count": 74,
   "metadata": {},
   "outputs": [
    {
     "data": {
      "text/plain": [
       "[('Just Lose It', 0.7692992687225342),\n",
       " ('Whatcha Say', 0.7340867519378662),\n",
       " ('The Real Slim Shady', 0.7279930114746094),\n",
       " ('Drop It Low', 0.7166177034378052),\n",
       " ('16 Candles', 0.7138705849647522),\n",
       " ('All I Do Is Win (feat. T-Pain_ Ludacris_ Snoop Dogg & Rick Ross)',\n",
       "  0.7005053758621216),\n",
       " ('Crack A Bottle', 0.700504720211029),\n",
       " ('Rock Star', 0.6900161504745483),\n",
       " ('Toxic', 0.6831427812576294),\n",
       " (\"Nothin' On You [feat. Bruno Mars] (Album Version)\", 0.6802244186401367)]"
      ]
     },
     "execution_count": 74,
     "metadata": {},
     "output_type": "execute_result"
    }
   ],
   "source": [
    "# last ten similar songs listened to by a user \n",
    "similar_songs(average_of_vectors(play_count_test[0][-10:]))"
   ]
  },
  {
   "cell_type": "markdown",
   "metadata": {},
   "source": [
    "**Observations**\n",
    "- Last 10 songs and the 10 most similar songs are the same when using this training recommender for average of vectors model.\n",
    "- The recommended songs involve less thematic grouping. It seems, the songs recommended, are more widely ranging from rap to indietronica. \n",
    "- 'Streets On Lock', received an ~87.74% similarity rating among user songs. It's a rap and with heavy beats involving\n",
    "- 'What They Found' is an indietronica and received ~79.43% in similarity. By the same artist, 'Hypnopaedia', received ~79.29% similarity recommendation. \n",
    "- It indicates that the word2vec model needs a lot more training and a lot more data. "
   ]
  },
  {
   "cell_type": "markdown",
   "metadata": {},
   "source": [
    "### **Item-Based Collaborative Filter**"
   ]
  },
  {
   "cell_type": "markdown",
   "metadata": {},
   "source": [
    "Building an item based collaborative filtering reccommender using SciKitLearn's NearestNeighbors class. The approach is to create list of each user's songs and use other user's data to generate reccommendatinos for the first user. "
   ]
  },
  {
   "cell_type": "code",
   "execution_count": 166,
   "metadata": {},
   "outputs": [],
   "source": [
    "from scipy import sparse\n",
    "from sklearn.neighbors import NearestNeighbors"
   ]
  },
  {
   "cell_type": "code",
   "execution_count": 254,
   "metadata": {},
   "outputs": [
    {
     "data": {
      "text/plain": [
       "array([[ 54961,  17370],\n",
       "       [ 54961,  45995],\n",
       "       [ 54961,  82002],\n",
       "       ...,\n",
       "       [ 64590, 392598],\n",
       "       [ 64590, 393702],\n",
       "       [ 64590, 409426]])"
      ]
     },
     "execution_count": 254,
     "metadata": {},
     "output_type": "execute_result"
    }
   ],
   "source": [
    "# create a matrix of the users' played songs, ignoring the play count\n",
    "users_songs = df_final[['user_id', 'song_id']]\n",
    "users_songs_matrix = users_songs.to_numpy()\n",
    "users_songs_matrix"
   ]
  },
  {
   "cell_type": "code",
   "execution_count": 255,
   "metadata": {},
   "outputs": [],
   "source": [
    "# returns the transpose of the matrix\n",
    "keys, values = users_songs_matrix.T\n",
    "\n",
    "# used later when retrieving the songs from the reccomendatinos\n",
    "unique_songs = df_final.song_id.unique()\n",
    "\n",
    "# Creating a new numpy matrix A which will have rows of users and columns of songs\n",
    "# The entries will be a 1 if the user listened to this song, 0 otherwise\n",
    "rows, row_idx = np.unique(keys, return_inverse=True)\n",
    "cols, col_idx = np.unique(values, return_inverse=True)\n",
    "\n",
    "A = np.zeros((len(rows), len(cols)), dtype=np.int)\n",
    "A[row_idx, col_idx] = 1"
   ]
  },
  {
   "cell_type": "code",
   "execution_count": 256,
   "metadata": {},
   "outputs": [
    {
     "data": {
      "text/plain": [
       "4"
      ]
     },
     "execution_count": 256,
     "metadata": {},
     "output_type": "execute_result"
    }
   ],
   "source": [
    "# how many unique songs the user at index 0 listened to\n",
    "A[0].sum()"
   ]
  },
  {
   "cell_type": "code",
   "execution_count": 332,
   "metadata": {},
   "outputs": [],
   "source": [
    "# the total number of non-zero entries in the matrix, should equal the number of rows in the user_song pairings matrix\n",
    "sum_matrix_a = A.sum()\n",
    "assert sum_matrix_a == len(users_songs_matrix)"
   ]
  },
  {
   "cell_type": "code",
   "execution_count": 320,
   "metadata": {},
   "outputs": [
    {
     "name": "stdout",
     "output_type": "stream",
     "text": [
      "Matrix A density: 0.0039875320554262255\n"
     ]
    }
   ],
   "source": [
    "# create a sparse matrix from the full matrix\n",
    "# the original matrix is mostly empty\n",
    "size_of_matrix = len(rows)*len(cols)\n",
    "density = sum_matrix_a / size_of_matrix\n",
    "print(\"Matrix A density: {}\".format(density))\n",
    "\n",
    "# the same calculations below this can be completed but the sparse matrix is a compacted form, it doesn't contain the zeros, only the ones\n",
    "csr_sample = sparse.csr_matrix(A)\n"
   ]
  },
  {
   "cell_type": "code",
   "execution_count": 315,
   "metadata": {},
   "outputs": [
    {
     "name": "stdout",
     "output_type": "stream",
     "text": [
      "Size of original matrix (bytes): 3161620856\n",
      "Size of sparse matrix (bytes): 48\n"
     ]
    }
   ],
   "source": [
    "import sys\n",
    "\n",
    "print(\"Size of original matrix (bytes): {}\".format(sys.getsizeof(A)))\n",
    "print(\"Size of sparse matrix (bytes): {}\".format(sys.getsizeof(csr_sample)))"
   ]
  },
  {
   "cell_type": "code",
   "execution_count": 259,
   "metadata": {},
   "outputs": [
    {
     "data": {
      "text/plain": [
       "NearestNeighbors(algorithm='brute', metric='cosine', n_jobs=-1, n_neighbors=4)"
      ]
     },
     "execution_count": 259,
     "metadata": {},
     "output_type": "execute_result"
    }
   ],
   "source": [
    "# fit a scikit liearn NearestNeighbors model based on users that also listened to this song, predicting songs that they listed to\n",
    "knn = NearestNeighbors(metric='cosine', algorithm='brute', n_neighbors=11, n_jobs=-1)\n",
    "knn.fit(csr_sample)"
   ]
  },
  {
   "cell_type": "code",
   "execution_count": 330,
   "metadata": {},
   "outputs": [
    {
     "name": "stdout",
     "output_type": "stream",
     "text": [
      "[538595, 941905, 78831, 553599, 326718, 816989, 335268, 242056, 546282, 100511, 181663]\n",
      "      song_id             title      release artist_name  year\n",
      "4718   538595  Windmill Wedding  No Way Down  Air France  2008\n"
     ]
    },
    {
     "data": {
      "text/html": [
       "<div>\n",
       "<style scoped>\n",
       "    .dataframe tbody tr th:only-of-type {\n",
       "        vertical-align: middle;\n",
       "    }\n",
       "\n",
       "    .dataframe tbody tr th {\n",
       "        vertical-align: top;\n",
       "    }\n",
       "\n",
       "    .dataframe thead th {\n",
       "        text-align: right;\n",
       "    }\n",
       "</style>\n",
       "<table border=\"1\" class=\"dataframe\">\n",
       "  <thead>\n",
       "    <tr style=\"text-align: right;\">\n",
       "      <th></th>\n",
       "      <th>song_id</th>\n",
       "      <th>title</th>\n",
       "      <th>release</th>\n",
       "      <th>artist_name</th>\n",
       "      <th>year</th>\n",
       "    </tr>\n",
       "  </thead>\n",
       "  <tbody>\n",
       "    <tr>\n",
       "      <th>95</th>\n",
       "      <td>181663</td>\n",
       "      <td>Horn Concerto No. 4 in E flat K495: II. Romanc...</td>\n",
       "      <td>Mozart - Eine kleine Nachtmusik</td>\n",
       "      <td>Barry Tuckwell/Academy of St Martin-in-the-Fie...</td>\n",
       "      <td>0</td>\n",
       "    </tr>\n",
       "    <tr>\n",
       "      <th>205</th>\n",
       "      <td>78831</td>\n",
       "      <td>Monkey Man</td>\n",
       "      <td>You Know I'm No Good</td>\n",
       "      <td>Amy Winehouse</td>\n",
       "      <td>2007</td>\n",
       "    </tr>\n",
       "    <tr>\n",
       "      <th>3080</th>\n",
       "      <td>553599</td>\n",
       "      <td>Lithium</td>\n",
       "      <td>Nevermind</td>\n",
       "      <td>Nirvana</td>\n",
       "      <td>1996</td>\n",
       "    </tr>\n",
       "    <tr>\n",
       "      <th>4947</th>\n",
       "      <td>335268</td>\n",
       "      <td>Break My Body</td>\n",
       "      <td>Demos</td>\n",
       "      <td>Pixies</td>\n",
       "      <td>1987</td>\n",
       "    </tr>\n",
       "    <tr>\n",
       "      <th>6794</th>\n",
       "      <td>326718</td>\n",
       "      <td>Jerry Was A Race Car Driver</td>\n",
       "      <td>Sailing The Seas Of Cheese</td>\n",
       "      <td>Primus</td>\n",
       "      <td>1991</td>\n",
       "    </tr>\n",
       "    <tr>\n",
       "      <th>7457</th>\n",
       "      <td>816989</td>\n",
       "      <td>Bold As Love</td>\n",
       "      <td>Continuum</td>\n",
       "      <td>John Mayer</td>\n",
       "      <td>0</td>\n",
       "    </tr>\n",
       "    <tr>\n",
       "      <th>11337</th>\n",
       "      <td>242056</td>\n",
       "      <td>Y solo se me ocurre amarte (Unplugged)</td>\n",
       "      <td>Grandes exitos 1991-2004</td>\n",
       "      <td>Alejandro Sanz</td>\n",
       "      <td>0</td>\n",
       "    </tr>\n",
       "    <tr>\n",
       "      <th>17657</th>\n",
       "      <td>546282</td>\n",
       "      <td>Comatose (Comes Alive Version)</td>\n",
       "      <td>Comatose Comes Alive [Deluxe]</td>\n",
       "      <td>Skillet</td>\n",
       "      <td>0</td>\n",
       "    </tr>\n",
       "    <tr>\n",
       "      <th>27880</th>\n",
       "      <td>941905</td>\n",
       "      <td>Posters</td>\n",
       "      <td>Brushfire Fairytales</td>\n",
       "      <td>Jack Johnson</td>\n",
       "      <td>2000</td>\n",
       "    </tr>\n",
       "    <tr>\n",
       "      <th>34030</th>\n",
       "      <td>100511</td>\n",
       "      <td>Whoomp! There It Is</td>\n",
       "      <td>Push It!</td>\n",
       "      <td>Tag Team</td>\n",
       "      <td>1994</td>\n",
       "    </tr>\n",
       "  </tbody>\n",
       "</table>\n",
       "</div>"
      ],
      "text/plain": [
       "       song_id                                              title  \\\n",
       "95      181663  Horn Concerto No. 4 in E flat K495: II. Romanc...   \n",
       "205      78831                                         Monkey Man   \n",
       "3080    553599                                            Lithium   \n",
       "4947    335268                                      Break My Body   \n",
       "6794    326718                        Jerry Was A Race Car Driver   \n",
       "7457    816989                                       Bold As Love   \n",
       "11337   242056             Y solo se me ocurre amarte (Unplugged)   \n",
       "17657   546282                     Comatose (Comes Alive Version)   \n",
       "27880   941905                                            Posters   \n",
       "34030   100511                                Whoomp! There It Is   \n",
       "\n",
       "                               release  \\\n",
       "95     Mozart - Eine kleine Nachtmusik   \n",
       "205               You Know I'm No Good   \n",
       "3080                         Nevermind   \n",
       "4947                             Demos   \n",
       "6794        Sailing The Seas Of Cheese   \n",
       "7457                         Continuum   \n",
       "11337         Grandes exitos 1991-2004   \n",
       "17657    Comatose Comes Alive [Deluxe]   \n",
       "27880             Brushfire Fairytales   \n",
       "34030                         Push It!   \n",
       "\n",
       "                                             artist_name  year  \n",
       "95     Barry Tuckwell/Academy of St Martin-in-the-Fie...     0  \n",
       "205                                        Amy Winehouse  2007  \n",
       "3080                                             Nirvana  1996  \n",
       "4947                                              Pixies  1987  \n",
       "6794                                              Primus  1991  \n",
       "7457                                          John Mayer     0  \n",
       "11337                                     Alejandro Sanz     0  \n",
       "17657                                            Skillet     0  \n",
       "27880                                       Jack Johnson  2000  \n",
       "34030                                           Tag Team  1994  "
      ]
     },
     "execution_count": 330,
     "metadata": {},
     "output_type": "execute_result"
    }
   ],
   "source": [
    "# reccommend 10 similar songs from song \n",
    "chosen_song_id = 538595\n",
    "song_index = np.where(users_songs_matrix == chosen_song_id)[0][0]\n",
    "\n",
    "# get the distances and indicies from the trained model\n",
    "distances , indices = knn.kneighbors(csr_sample[song_index],n_neighbors=11)\n",
    "# using only the indicies, flatten to make easier to work with\n",
    "indices = indices.flatten()\n",
    "# lookup the original song_id from the users_songs_matrix\n",
    "song_indicies = [users_songs_matrix[index][1] for index in indices]\n",
    "print(song_indicies)\n",
    "# display the information about the closest songs in the nearest neighbors model\n",
    "print(df_final.loc[df_final['song_id'].isin(song_indicies[:1]), ['song_id', 'title', 'release', 'artist_name', 'year']].drop_duplicates(['song_id']))\n",
    "df_final.loc[df_final['song_id'].isin(song_indicies[1:]), ['song_id', 'title', 'release', 'artist_name', 'year']].drop_duplicates(['song_id'])"
   ]
  },
  {
   "cell_type": "markdown",
   "metadata": {},
   "source": [
    "### **Simple Recommender**\n"
   ]
  },
  {
   "cell_type": "code",
   "execution_count": 76,
   "metadata": {},
   "outputs": [
    {
     "data": {
      "text/html": [
       "<div>\n",
       "<style scoped>\n",
       "    .dataframe tbody tr th:only-of-type {\n",
       "        vertical-align: middle;\n",
       "    }\n",
       "\n",
       "    .dataframe tbody tr th {\n",
       "        vertical-align: top;\n",
       "    }\n",
       "\n",
       "    .dataframe thead th {\n",
       "        text-align: right;\n",
       "    }\n",
       "</style>\n",
       "<table border=\"1\" class=\"dataframe\">\n",
       "  <thead>\n",
       "    <tr style=\"text-align: right;\">\n",
       "      <th></th>\n",
       "      <th>title</th>\n",
       "      <th>play_count</th>\n",
       "      <th>percentage</th>\n",
       "    </tr>\n",
       "  </thead>\n",
       "  <tbody>\n",
       "    <tr>\n",
       "      <th>3636</th>\n",
       "      <td>Sehr kosmisch</td>\n",
       "      <td>8056</td>\n",
       "      <td>0.527471</td>\n",
       "    </tr>\n",
       "    <tr>\n",
       "      <th>4636</th>\n",
       "      <td>Undo</td>\n",
       "      <td>6869</td>\n",
       "      <td>0.449751</td>\n",
       "    </tr>\n",
       "    <tr>\n",
       "      <th>1022</th>\n",
       "      <td>Dog Days Are Over (Radio Edit)</td>\n",
       "      <td>6748</td>\n",
       "      <td>0.441829</td>\n",
       "    </tr>\n",
       "    <tr>\n",
       "      <th>5050</th>\n",
       "      <td>You're The One</td>\n",
       "      <td>6586</td>\n",
       "      <td>0.431222</td>\n",
       "    </tr>\n",
       "    <tr>\n",
       "      <th>3456</th>\n",
       "      <td>Revelry</td>\n",
       "      <td>6005</td>\n",
       "      <td>0.393180</td>\n",
       "    </tr>\n",
       "    <tr>\n",
       "      <th>...</th>\n",
       "      <td>...</td>\n",
       "      <td>...</td>\n",
       "      <td>...</td>\n",
       "    </tr>\n",
       "    <tr>\n",
       "      <th>4930</th>\n",
       "      <td>Wire To Wire</td>\n",
       "      <td>111</td>\n",
       "      <td>0.007268</td>\n",
       "    </tr>\n",
       "    <tr>\n",
       "      <th>2541</th>\n",
       "      <td>Love Like Honey (amended album version)</td>\n",
       "      <td>110</td>\n",
       "      <td>0.007202</td>\n",
       "    </tr>\n",
       "    <tr>\n",
       "      <th>3305</th>\n",
       "      <td>Porchrail</td>\n",
       "      <td>110</td>\n",
       "      <td>0.007202</td>\n",
       "    </tr>\n",
       "    <tr>\n",
       "      <th>4865</th>\n",
       "      <td>Where Corn Don't Grow</td>\n",
       "      <td>110</td>\n",
       "      <td>0.007202</td>\n",
       "    </tr>\n",
       "    <tr>\n",
       "      <th>1917</th>\n",
       "      <td>I Like It</td>\n",
       "      <td>108</td>\n",
       "      <td>0.007071</td>\n",
       "    </tr>\n",
       "  </tbody>\n",
       "</table>\n",
       "<p>5082 rows × 3 columns</p>\n",
       "</div>"
      ],
      "text/plain": [
       "                                        title  play_count  percentage\n",
       "3636                            Sehr kosmisch        8056    0.527471\n",
       "4636                                     Undo        6869    0.449751\n",
       "1022           Dog Days Are Over (Radio Edit)        6748    0.441829\n",
       "5050                           You're The One        6586    0.431222\n",
       "3456                                  Revelry        6005    0.393180\n",
       "...                                       ...         ...         ...\n",
       "4930                             Wire To Wire         111    0.007268\n",
       "2541  Love Like Honey (amended album version)         110    0.007202\n",
       "3305                                Porchrail         110    0.007202\n",
       "4865                    Where Corn Don't Grow         110    0.007202\n",
       "1917                                I Like It         108    0.007071\n",
       "\n",
       "[5082 rows x 3 columns]"
      ]
     },
     "metadata": {},
     "output_type": "display_data"
    }
   ],
   "source": [
    "from IPython.display import display\n",
    "# function that groups songs by title and play_count with percentage of song counts listened\n",
    "def group_songs_by_play_count():\n",
    "    grouped_songs_df = df_final.groupby(['title']).agg({'play_count': 'count'}).reset_index()\n",
    "    grouped_songs_sum = grouped_songs_df['play_count'].sum()\n",
    "    grouped_songs_df['percentage'] = grouped_songs_df['play_count'].div(grouped_songs_sum)*100\n",
    "    final_grouped_songs_df = grouped_songs_df.sort_values(['play_count', 'title'], ascending = [0,1])\n",
    "    display(final_grouped_songs_df)\n",
    "group_songs_by_play_count()"
   ]
  },
  {
   "cell_type": "markdown",
   "metadata": {},
   "source": [
    "**Observations** \n",
    "- The top 5 songs that had a high percentage of play counts: Sehr kosmisch, Undo, Dog Days Are Over (Radio Edit), You're The One, Revelry\n",
    "- It will be interesting to see if these songs are recommended again using a different recommender system. \n",
    "- The Word2vec and Collaborative recommenders did not recommend any of the titles above. "
   ]
  },
  {
   "cell_type": "code",
   "execution_count": 77,
   "metadata": {},
   "outputs": [],
   "source": [
    "# calculate the average play_count for each song \n",
    "average_rating = df_final.groupby('song_id').mean()['play_count']"
   ]
  },
  {
   "cell_type": "code",
   "execution_count": 78,
   "metadata": {},
   "outputs": [],
   "source": [
    "# calculate the count of play_count for each song\n",
    "count_rating = df_final.groupby('song_id').count()['play_count']"
   ]
  },
  {
   "cell_type": "code",
   "execution_count": 79,
   "metadata": {},
   "outputs": [],
   "source": [
    "# create a dataframe with calculated average and count of play_count\n",
    "final_rating = pd.DataFrame({'avg_play_count':average_rating, 'play_count':count_rating})"
   ]
  },
  {
   "cell_type": "code",
   "execution_count": 80,
   "metadata": {},
   "outputs": [],
   "source": [
    "# sort the dataframe by average of play_count in the descending order\n",
    "final_rating = final_rating.sort_values(by='avg_play_count', ascending=False) "
   ]
  },
  {
   "cell_type": "code",
   "execution_count": 81,
   "metadata": {},
   "outputs": [
    {
     "data": {
      "text/html": [
       "<div>\n",
       "<style scoped>\n",
       "    .dataframe tbody tr th:only-of-type {\n",
       "        vertical-align: middle;\n",
       "    }\n",
       "\n",
       "    .dataframe tbody tr th {\n",
       "        vertical-align: top;\n",
       "    }\n",
       "\n",
       "    .dataframe thead th {\n",
       "        text-align: right;\n",
       "    }\n",
       "</style>\n",
       "<table border=\"1\" class=\"dataframe\">\n",
       "  <thead>\n",
       "    <tr style=\"text-align: right;\">\n",
       "      <th></th>\n",
       "      <th>avg_play_count</th>\n",
       "      <th>play_count</th>\n",
       "    </tr>\n",
       "    <tr>\n",
       "      <th>song_id</th>\n",
       "      <th></th>\n",
       "      <th></th>\n",
       "    </tr>\n",
       "  </thead>\n",
       "  <tbody>\n",
       "    <tr>\n",
       "      <th>3743</th>\n",
       "      <td>0.534310</td>\n",
       "      <td>156</td>\n",
       "    </tr>\n",
       "    <tr>\n",
       "      <th>284055</th>\n",
       "      <td>0.516810</td>\n",
       "      <td>134</td>\n",
       "    </tr>\n",
       "    <tr>\n",
       "      <th>842729</th>\n",
       "      <td>0.505630</td>\n",
       "      <td>224</td>\n",
       "    </tr>\n",
       "    <tr>\n",
       "      <th>406335</th>\n",
       "      <td>0.499071</td>\n",
       "      <td>257</td>\n",
       "    </tr>\n",
       "    <tr>\n",
       "      <th>851645</th>\n",
       "      <td>0.467486</td>\n",
       "      <td>120</td>\n",
       "    </tr>\n",
       "    <tr>\n",
       "      <th>249495</th>\n",
       "      <td>0.449645</td>\n",
       "      <td>125</td>\n",
       "    </tr>\n",
       "    <tr>\n",
       "      <th>257781</th>\n",
       "      <td>0.449088</td>\n",
       "      <td>160</td>\n",
       "    </tr>\n",
       "    <tr>\n",
       "      <th>694054</th>\n",
       "      <td>0.430271</td>\n",
       "      <td>198</td>\n",
       "    </tr>\n",
       "    <tr>\n",
       "      <th>371053</th>\n",
       "      <td>0.400183</td>\n",
       "      <td>124</td>\n",
       "    </tr>\n",
       "    <tr>\n",
       "      <th>918304</th>\n",
       "      <td>0.398794</td>\n",
       "      <td>144</td>\n",
       "    </tr>\n",
       "    <tr>\n",
       "      <th>784840</th>\n",
       "      <td>0.393243</td>\n",
       "      <td>293</td>\n",
       "    </tr>\n",
       "    <tr>\n",
       "      <th>568563</th>\n",
       "      <td>0.389441</td>\n",
       "      <td>134</td>\n",
       "    </tr>\n",
       "    <tr>\n",
       "      <th>985375</th>\n",
       "      <td>0.388753</td>\n",
       "      <td>124</td>\n",
       "    </tr>\n",
       "    <tr>\n",
       "      <th>538682</th>\n",
       "      <td>0.386194</td>\n",
       "      <td>423</td>\n",
       "    </tr>\n",
       "    <tr>\n",
       "      <th>815165</th>\n",
       "      <td>0.385262</td>\n",
       "      <td>157</td>\n",
       "    </tr>\n",
       "    <tr>\n",
       "      <th>548237</th>\n",
       "      <td>0.377793</td>\n",
       "      <td>204</td>\n",
       "    </tr>\n",
       "    <tr>\n",
       "      <th>822414</th>\n",
       "      <td>0.375876</td>\n",
       "      <td>206</td>\n",
       "    </tr>\n",
       "    <tr>\n",
       "      <th>952771</th>\n",
       "      <td>0.375463</td>\n",
       "      <td>122</td>\n",
       "    </tr>\n",
       "    <tr>\n",
       "      <th>896198</th>\n",
       "      <td>0.375221</td>\n",
       "      <td>124</td>\n",
       "    </tr>\n",
       "    <tr>\n",
       "      <th>637316</th>\n",
       "      <td>0.374643</td>\n",
       "      <td>434</td>\n",
       "    </tr>\n",
       "  </tbody>\n",
       "</table>\n",
       "</div>"
      ],
      "text/plain": [
       "         avg_play_count  play_count\n",
       "song_id                            \n",
       "3743           0.534310         156\n",
       "284055         0.516810         134\n",
       "842729         0.505630         224\n",
       "406335         0.499071         257\n",
       "851645         0.467486         120\n",
       "249495         0.449645         125\n",
       "257781         0.449088         160\n",
       "694054         0.430271         198\n",
       "371053         0.400183         124\n",
       "918304         0.398794         144\n",
       "784840         0.393243         293\n",
       "568563         0.389441         134\n",
       "985375         0.388753         124\n",
       "538682         0.386194         423\n",
       "815165         0.385262         157\n",
       "548237         0.377793         204\n",
       "822414         0.375876         206\n",
       "952771         0.375463         122\n",
       "896198         0.375221         124\n",
       "637316         0.374643         434"
      ]
     },
     "execution_count": 81,
     "metadata": {},
     "output_type": "execute_result"
    }
   ],
   "source": [
    "final_rating.head(20)"
   ]
  },
  {
   "cell_type": "code",
   "execution_count": 82,
   "metadata": {},
   "outputs": [],
   "source": [
    "# define a function to get the top n songs based on highest average play count and minimum count listens\n",
    "def top_n_products(final_rating, n, min_interaction=50):\n",
    "    # find songs with minimum number of play counts\n",
    "    recommendations = final_rating[final_rating['play_count'] > min_interaction]\n",
    "    # sort values w.r.t average play count \n",
    "    recommendations = recommendations.sort_values(by='avg_play_count', ascending=False)\n",
    "\n",
    "    return recommendations.index[:n]"
   ]
  },
  {
   "cell_type": "code",
   "execution_count": 83,
   "metadata": {},
   "outputs": [
    {
     "data": {
      "text/plain": [
       "['3743',\n",
       " '284055',\n",
       " '842729',\n",
       " '406335',\n",
       " '851645',\n",
       " '249495',\n",
       " '257781',\n",
       " '694054',\n",
       " '371053',\n",
       " '918304']"
      ]
     },
     "execution_count": 83,
     "metadata": {},
     "output_type": "execute_result"
    }
   ],
   "source": [
    "# recommend top 10 songs with 50 minimum interactions based on play counts popularity\n",
    "list(top_n_products(final_rating, 10, min_interaction=50))"
   ]
  },
  {
   "cell_type": "code",
   "execution_count": 84,
   "metadata": {},
   "outputs": [
    {
     "data": {
      "text/plain": [
       "['3743',\n",
       " '284055',\n",
       " '842729',\n",
       " '406335',\n",
       " '851645',\n",
       " '249495',\n",
       " '257781',\n",
       " '694054',\n",
       " '371053',\n",
       " '918304']"
      ]
     },
     "execution_count": 84,
     "metadata": {},
     "output_type": "execute_result"
    }
   ],
   "source": [
    "# recommend top 10 songs with 100 minimum interactions based on play counts popularity\n",
    "list(top_n_products(final_rating, 10, min_interaction=100))"
   ]
  },
  {
   "cell_type": "markdown",
   "metadata": {},
   "source": [
    "**Observations**\n",
    "- The majority of the song_id are the same between both recommendations. \n",
    "- The songs that are not the same for both recommendations are : 791443, 624743, 538682, 851645\n",
    "- The songs that are the same : 3743, 217352, 985375, 406335, 918304, 22807, 284055, 249495"
   ]
  },
  {
   "cell_type": "markdown",
   "metadata": {},
   "source": [
    "**Building a baseline user user similarity based recommendation system\n",
    "This is a similarity-based recommendation systems using cosine similarity and using KNN to find similar users which are the nearest neighbor to the given user.**"
   ]
  },
  {
   "cell_type": "markdown",
   "metadata": {},
   "source": [
    "#### **ADDITIONAL THOUGHTS**\n",
    "**Rank-Based Recommendation System**\n",
    "**To build the rank-based recommendation system, take the average of all the listen counts provided to each user and then rank them based on their average listen count**\n",
    "\n"
   ]
  },
  {
   "cell_type": "code",
   "execution_count": 85,
   "metadata": {},
   "outputs": [],
   "source": [
    "# calculate average listen counts\n",
    "average_listen_counts = df_final.groupby('user_id').mean()['play_count']\n",
    "\n",
    "# calculate the count of listens \n",
    "count_of_listen = df_final.groupby('user_id').count()['play_count']\n",
    "\n",
    "# make a dataframe with the count and average of listens for a user\n",
    "final_listen_df = pd.DataFrame({'avg_listen_counts':average_listen_counts, 'listen_count': count_of_listen})\n",
    "\n",
    "#df_final['user_id'].drop_duplicates().sort_values()"
   ]
  },
  {
   "cell_type": "code",
   "execution_count": 86,
   "metadata": {},
   "outputs": [],
   "source": [
    "m = df_final.groupby('user_id').quantile(0.90)['play_count']"
   ]
  },
  {
   "cell_type": "code",
   "execution_count": 87,
   "metadata": {},
   "outputs": [
    {
     "data": {
      "text/html": [
       "<div>\n",
       "<style scoped>\n",
       "    .dataframe tbody tr th:only-of-type {\n",
       "        vertical-align: middle;\n",
       "    }\n",
       "\n",
       "    .dataframe tbody tr th {\n",
       "        vertical-align: top;\n",
       "    }\n",
       "\n",
       "    .dataframe thead th {\n",
       "        text-align: right;\n",
       "    }\n",
       "</style>\n",
       "<table border=\"1\" class=\"dataframe\">\n",
       "  <thead>\n",
       "    <tr style=\"text-align: right;\">\n",
       "      <th></th>\n",
       "      <th>avg_listen_counts</th>\n",
       "      <th>listen_count</th>\n",
       "    </tr>\n",
       "    <tr>\n",
       "      <th>user_id</th>\n",
       "      <th></th>\n",
       "      <th></th>\n",
       "    </tr>\n",
       "  </thead>\n",
       "  <tbody>\n",
       "    <tr>\n",
       "      <th>0</th>\n",
       "      <td>0.500000</td>\n",
       "      <td>4</td>\n",
       "    </tr>\n",
       "    <tr>\n",
       "      <th>1</th>\n",
       "      <td>NaN</td>\n",
       "      <td>0</td>\n",
       "    </tr>\n",
       "    <tr>\n",
       "      <th>2</th>\n",
       "      <td>0.312500</td>\n",
       "      <td>8</td>\n",
       "    </tr>\n",
       "    <tr>\n",
       "      <th>3</th>\n",
       "      <td>0.450000</td>\n",
       "      <td>8</td>\n",
       "    </tr>\n",
       "    <tr>\n",
       "      <th>4</th>\n",
       "      <td>NaN</td>\n",
       "      <td>0</td>\n",
       "    </tr>\n",
       "    <tr>\n",
       "      <th>...</th>\n",
       "      <td>...</td>\n",
       "      <td>...</td>\n",
       "    </tr>\n",
       "    <tr>\n",
       "      <th>95</th>\n",
       "      <td>0.166667</td>\n",
       "      <td>6</td>\n",
       "    </tr>\n",
       "    <tr>\n",
       "      <th>96</th>\n",
       "      <td>0.172932</td>\n",
       "      <td>19</td>\n",
       "    </tr>\n",
       "    <tr>\n",
       "      <th>97</th>\n",
       "      <td>0.140523</td>\n",
       "      <td>34</td>\n",
       "    </tr>\n",
       "    <tr>\n",
       "      <th>98</th>\n",
       "      <td>NaN</td>\n",
       "      <td>0</td>\n",
       "    </tr>\n",
       "    <tr>\n",
       "      <th>99</th>\n",
       "      <td>0.177083</td>\n",
       "      <td>12</td>\n",
       "    </tr>\n",
       "  </tbody>\n",
       "</table>\n",
       "<p>100 rows × 2 columns</p>\n",
       "</div>"
      ],
      "text/plain": [
       "         avg_listen_counts  listen_count\n",
       "user_id                                 \n",
       "0                 0.500000             4\n",
       "1                      NaN             0\n",
       "2                 0.312500             8\n",
       "3                 0.450000             8\n",
       "4                      NaN             0\n",
       "...                    ...           ...\n",
       "95                0.166667             6\n",
       "96                0.172932            19\n",
       "97                0.140523            34\n",
       "98                     NaN             0\n",
       "99                0.177083            12\n",
       "\n",
       "[100 rows x 2 columns]"
      ]
     },
     "execution_count": 87,
     "metadata": {},
     "output_type": "execute_result"
    }
   ],
   "source": [
    "final_listen_df.head(100)"
   ]
  },
  {
   "cell_type": "code",
   "execution_count": 88,
   "metadata": {},
   "outputs": [],
   "source": [
    "# function for top n users for a recommendation based on average ratings of restaurant\n",
    "def top_n_user(df_final, n, min_interaction=50): \n",
    "    \n",
    "    # find users with minimum number of interactions\n",
    "    recommendations = df_final[df_final['listen_count'] > min_interaction]\n",
    "    \n",
    "    # sort values w.r.t average listen counts \n",
    "    recommendations = recommendations.sort_values(by='avg_listen_counts', ascending=False)\n",
    "    \n",
    "    return recommendations.index[:n]"
   ]
  },
  {
   "cell_type": "markdown",
   "metadata": {},
   "source": [
    "**Recommending top 5 songs with 50 minimum interacitons based on play count(s)**"
   ]
  },
  {
   "cell_type": "code",
   "execution_count": 89,
   "metadata": {},
   "outputs": [
    {
     "data": {
      "text/plain": [
       "[74442, 64859, 22737, 72504, 49639]"
      ]
     },
     "execution_count": 89,
     "metadata": {},
     "output_type": "execute_result"
    }
   ],
   "source": [
    "list(top_n_user(final_listen_df, 5, 50))"
   ]
  },
  {
   "cell_type": "markdown",
   "metadata": {},
   "source": [
    "**Observations**\n",
    "- For the top n users with a minimum interaction of 50 listens the songs that were recommended: [74442, 64859, 22737, 72504, 49639]"
   ]
  },
  {
   "cell_type": "markdown",
   "metadata": {},
   "source": [
    "**Recommending top 5 songs with 100 minimum interacitons based on play count(s)**"
   ]
  },
  {
   "cell_type": "code",
   "execution_count": 90,
   "metadata": {},
   "outputs": [
    {
     "data": {
      "text/plain": [
       "[36992, 8092, 70362, 30502, 33493]"
      ]
     },
     "execution_count": 90,
     "metadata": {},
     "output_type": "execute_result"
    }
   ],
   "source": [
    "list(top_n_user(final_listen_df, 5, 100))"
   ]
  },
  {
   "cell_type": "markdown",
   "metadata": {},
   "source": [
    "**Observations**\n",
    "- For the top n users with a minimum interaction of 100 listens the songs that were recommended: [[36992, 8092, 70362, 30502, 33493]\n",
    "- The song_id have declined. "
   ]
  },
  {
   "cell_type": "markdown",
   "metadata": {},
   "source": [
    "##### **Data Reduction**"
   ]
  },
  {
   "cell_type": "code",
   "execution_count": 91,
   "metadata": {
    "id": "7GGH9TW0_9uX"
   },
   "outputs": [
    {
     "name": "stdout",
     "output_type": "stream",
     "text": [
      "[54961, 39877, 56522, 40874, 45012, 22570, 66678, 47087, 46575, 54498, 6958, 63855, 27018, 59353, 20639, 70730, 55837, 6647, 50286, 56576, 3204, 38632, 19147, 74048, 48241, 19194, 13178, 42347, 57055, 5416, 49549, 44537, 12898, 58003, 18808, 43278, 70892, 73298, 9415, 21487, 76143, 63872, 359, 24533, 20082, 43942, 34420, 60317, 53867, 12635, 33130, 68660, 45949, 35629, 49202, 54615, 49608, 38327, 45988, 70816, 75935, 34234, 3540, 18971, 7798, 49235, 72300, 65206, 22784, 41940, 17679, 58071, 384, 47801, 29430, 7952, 54091, 72841, 9670, 37560, 69683, 6937, 54439, 35957, 19076, 44618, 2282, 38800, 26436, 54164, 6285, 30346, 25492, 44689, 15550, 14046, 47803, 70178, 25651, 70000, 52925, 44648, 22447, 6872, 42650, 37000, 24267, 53923, 56544, 21274, 40553, 39887, 27881, 68345, 58076, 19568, 6888, 4351, 70647, 17831, 40583, 64176, 40543, 46525, 17192, 49395, 55758, 37086, 68099, 42302, 24524, 28077, 68048, 41638, 7320, 75095, 57655, 69800, 4383, 10723, 66723, 12383, 39814, 10374, 69499, 56100, 35178, 25875, 1957, 69331, 11205, 6962, 67308, 1106, 54985, 66587, 70769, 37218, 73336, 14733, 24905, 21914, 21022, 5364, 76260, 31007, 31739, 54038, 10626, 16375, 5480, 45100, 41920, 8074, 70127, 49462, 46974, 67544, 52602, 7580, 13742, 44630, 23039, 15529, 74957, 65917, 29269, 42736, 38260, 51929, 21723, 45910, 58637, 20336, 44165, 62889, 46036, 57842, 19069, 68752]\n"
     ]
    }
   ],
   "source": [
    "# get the column containing the users\n",
    "users = merged_df.user_id\n",
    "# create a dictionary from users to their number of songs\n",
    "ratings_count = dict()\n",
    "\n",
    "# function to filter the data for users who have listened to a good count of songs\n",
    "def sufficient_count_of_songs(): \n",
    "    for user in users:\n",
    "    # if there already exists a user, just add 1 to the rating count\n",
    "        if user in ratings_count:\n",
    "            ratings_count[user] += 1\n",
    "    # otherwise, set the rating count to 1\n",
    "        else:\n",
    "            ratings_count[user] = 1 \n",
    "    some_ratings_count = list(ratings_count)[:200]\n",
    "    print(some_ratings_count)\n",
    "sufficient_count_of_songs()"
   ]
  },
  {
   "cell_type": "markdown",
   "metadata": {},
   "source": []
  }
 ],
 "metadata": {
  "colab": {
   "collapsed_sections": [],
   "name": "Reference_Notebook_Milestone_1_Recommendation_Systems.ipynb",
   "provenance": []
  },
  "kernelspec": {
   "display_name": "Python 3",
   "language": "python",
   "name": "python3"
  },
  "language_info": {
   "codemirror_mode": {
    "name": "ipython",
    "version": 3
   },
   "file_extension": ".py",
   "mimetype": "text/x-python",
   "name": "python",
   "nbconvert_exporter": "python",
   "pygments_lexer": "ipython3",
   "version": "3.9.9"
  }
 },
 "nbformat": 4,
 "nbformat_minor": 1
}
