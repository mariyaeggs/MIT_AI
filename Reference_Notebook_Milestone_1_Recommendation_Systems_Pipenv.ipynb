{
 "cells": [
  {
   "cell_type": "markdown",
   "metadata": {
    "id": "DyAjEw4OHmDb"
   },
   "source": [
    "# **Music Recommendation System**\n",
    "**REPO VERSION**"
   ]
  },
  {
   "cell_type": "markdown",
   "metadata": {
    "id": "Km5ozaHFh_cU"
   },
   "source": [
    "# **Milestone 1**"
   ]
  },
  {
   "cell_type": "code",
   "execution_count": null,
   "metadata": {},
   "outputs": [],
   "source": []
  },
  {
   "cell_type": "markdown",
   "metadata": {
    "id": "BVUiyhYTHS1t"
   },
   "source": [
    "## **Problem Definition**\n",
    "\n",
    "**The context** - Why is this problem important to solve?<br>\n",
    "**The objectives** - What is the intended goal?<br>\n",
    "**The key questions** - What are the key questions that need to be answered?<br>\n",
    "**The problem formulation** - What is it that we are trying to solve using data science?\n",
    "\n",
    "\n",
    "## **Data Dictionary**\n",
    "\n",
    "The core data is the Taste Profile Subset released by The Echo Nest as part of the Million Song Dataset. There are two files in this dataset. One contains the details about the song id, titles, release, artist name and the year of release. Second file contains the user id, song id and the play count of users.\n",
    "\n",
    "song_data\n",
    "\n",
    "song_id - A unique id given to every song\n",
    "\n",
    "title - Title of the song\n",
    "\n",
    "Release - Name of the released album\n",
    "\n",
    "Artist_name - Name of the artist \n",
    "\n",
    "year - Year of release\n",
    "\n",
    "count_data\n",
    "\n",
    "user _id - A unique id given to the user\n",
    "\n",
    "song_id - A unique id given to the song\n",
    "\n",
    "play_count - Number of times the song was played\n",
    "\n",
    "## **Data Source**\n",
    "http://millionsongdataset.com/"
   ]
  },
  {
   "cell_type": "markdown",
   "metadata": {
    "id": "entENKtxK-g-"
   },
   "source": [
    "## **Important Notes**\n",
    "\n",
    "- This notebook can be considered a guide to refer to while solving the problem. The evaluation will be as per the Rubric shared for each Milestone. Unlike previous courses, it does not follow the pattern of the graded questions in different sections. This notebook would give you a direction on what steps need to be taken in order to get a viable solution to the problem. Please note that this is just one way of doing this. There can be other 'creative' ways to solve the problem and we urge you to feel free and explore them as an 'optional' exercise. \n",
    "\n",
    "- In the notebook, there are markdown cells called - Observations and Insights. It is a good practice to provide observations and extract insights from the outputs.\n",
    "\n",
    "- The naming convention for different variables can vary. Please consider the code provided in this notebook as a sample code.\n",
    "\n",
    "- All the outputs in the notebook are just for reference and can be different if you follow a different approach.\n",
    "\n",
    "- There are sections called **Think About It** in the notebook that will help you get a better understanding of the reasoning behind a particular technique/step. Interested learners can take alternative approaches if they want to explore different techniques. "
   ]
  },
  {
   "cell_type": "markdown",
   "metadata": {
    "id": "NRJtXkTrHxMQ"
   },
   "source": [
    "##### **Importing Libraries**"
   ]
  },
  {
   "cell_type": "code",
   "execution_count": 2,
   "metadata": {
    "id": "6SRzOPXI2Efn"
   },
   "outputs": [],
   "source": [
    "# mount the drive\n",
    "#from google.colab import drive\n",
    "#drive.mount('/content/drive')"
   ]
  },
  {
   "cell_type": "code",
   "execution_count": 19,
   "metadata": {
    "id": "R4YvKrpzId3K"
   },
   "outputs": [],
   "source": [
    "import warnings # ignore the warning given as output of the code\n",
    "warnings.filterwarnings('ignore')\n",
    "\n",
    "import numpy as np # libraries of python for numeric and dataframe computations\n",
    "import pandas as pd\n",
    "\n",
    "import matplotlib.pyplot as plt # library for data visualization\n",
    "\n",
    "import seaborn as sns # advanced library for data visualization\n",
    "\n",
    "from sklearn.metrics.pairwise import cosine_similarity # compute the cosine similarity between two vectors\n",
    "from collections import defaultdict # dictionary output that does not raise a key error\n",
    "\n",
    "from sklearn.metrics import mean_squared_error # performance metrics in sklearn\n",
    "\n",
    "from sklearn import preprocessing # for embedding encrypted data"
   ]
  },
  {
   "cell_type": "markdown",
   "metadata": {},
   "source": [
    "##### **Loading Dataset**"
   ]
  },
  {
   "cell_type": "code",
   "execution_count": 20,
   "metadata": {
    "id": "si6ulhIYImck"
   },
   "outputs": [],
   "source": [
    "# import the datasets\n",
    "count_df = pd.read_csv('/Users/student/Downloads/count_data.csv')\n",
    "song_df = pd.read_csv('/Users/student/Downloads/song_data.csv')"
   ]
  },
  {
   "cell_type": "code",
   "execution_count": 21,
   "metadata": {},
   "outputs": [],
   "source": [
    "# copy data to another dataframe\n",
    "count_df_copy = count_df.copy(deep=True)\n",
    "song_df_copy = song_df.copy(deep=True)"
   ]
  },
  {
   "cell_type": "code",
   "execution_count": 22,
   "metadata": {},
   "outputs": [
    {
     "data": {
      "text/html": [
       "<div>\n",
       "<style scoped>\n",
       "    .dataframe tbody tr th:only-of-type {\n",
       "        vertical-align: middle;\n",
       "    }\n",
       "\n",
       "    .dataframe tbody tr th {\n",
       "        vertical-align: top;\n",
       "    }\n",
       "\n",
       "    .dataframe thead th {\n",
       "        text-align: right;\n",
       "    }\n",
       "</style>\n",
       "<table border=\"1\" class=\"dataframe\">\n",
       "  <thead>\n",
       "    <tr style=\"text-align: right;\">\n",
       "      <th></th>\n",
       "      <th>song_id</th>\n",
       "      <th>title</th>\n",
       "      <th>release</th>\n",
       "      <th>artist_name</th>\n",
       "      <th>year</th>\n",
       "    </tr>\n",
       "  </thead>\n",
       "  <tbody>\n",
       "    <tr>\n",
       "      <th>0</th>\n",
       "      <td>SOQMMHC12AB0180CB8</td>\n",
       "      <td>Silent Night</td>\n",
       "      <td>Monster Ballads X-Mas</td>\n",
       "      <td>Faster Pussy cat</td>\n",
       "      <td>2003</td>\n",
       "    </tr>\n",
       "    <tr>\n",
       "      <th>1</th>\n",
       "      <td>SOVFVAK12A8C1350D9</td>\n",
       "      <td>Tanssi vaan</td>\n",
       "      <td>Karkuteillä</td>\n",
       "      <td>Karkkiautomaatti</td>\n",
       "      <td>1995</td>\n",
       "    </tr>\n",
       "    <tr>\n",
       "      <th>2</th>\n",
       "      <td>SOGTUKN12AB017F4F1</td>\n",
       "      <td>No One Could Ever</td>\n",
       "      <td>Butter</td>\n",
       "      <td>Hudson Mohawke</td>\n",
       "      <td>2006</td>\n",
       "    </tr>\n",
       "    <tr>\n",
       "      <th>3</th>\n",
       "      <td>SOBNYVR12A8C13558C</td>\n",
       "      <td>Si Vos Querés</td>\n",
       "      <td>De Culo</td>\n",
       "      <td>Yerba Brava</td>\n",
       "      <td>2003</td>\n",
       "    </tr>\n",
       "    <tr>\n",
       "      <th>4</th>\n",
       "      <td>SOHSBXH12A8C13B0DF</td>\n",
       "      <td>Tangle Of Aspens</td>\n",
       "      <td>Rene Ablaze Presents Winter Sessions</td>\n",
       "      <td>Der Mystic</td>\n",
       "      <td>0</td>\n",
       "    </tr>\n",
       "  </tbody>\n",
       "</table>\n",
       "</div>"
      ],
      "text/plain": [
       "              song_id              title  \\\n",
       "0  SOQMMHC12AB0180CB8       Silent Night   \n",
       "1  SOVFVAK12A8C1350D9        Tanssi vaan   \n",
       "2  SOGTUKN12AB017F4F1  No One Could Ever   \n",
       "3  SOBNYVR12A8C13558C      Si Vos Querés   \n",
       "4  SOHSBXH12A8C13B0DF   Tangle Of Aspens   \n",
       "\n",
       "                                release       artist_name  year  \n",
       "0                 Monster Ballads X-Mas  Faster Pussy cat  2003  \n",
       "1                           Karkuteillä  Karkkiautomaatti  1995  \n",
       "2                                Butter    Hudson Mohawke  2006  \n",
       "3                               De Culo       Yerba Brava  2003  \n",
       "4  Rene Ablaze Presents Winter Sessions        Der Mystic     0  "
      ]
     },
     "execution_count": 22,
     "metadata": {},
     "output_type": "execute_result"
    }
   ],
   "source": [
    "song_df.head()"
   ]
  },
  {
   "cell_type": "code",
   "execution_count": 6,
   "metadata": {},
   "outputs": [
    {
     "data": {
      "text/html": [
       "<div>\n",
       "<style scoped>\n",
       "    .dataframe tbody tr th:only-of-type {\n",
       "        vertical-align: middle;\n",
       "    }\n",
       "\n",
       "    .dataframe tbody tr th {\n",
       "        vertical-align: top;\n",
       "    }\n",
       "\n",
       "    .dataframe thead th {\n",
       "        text-align: right;\n",
       "    }\n",
       "</style>\n",
       "<table border=\"1\" class=\"dataframe\">\n",
       "  <thead>\n",
       "    <tr style=\"text-align: right;\">\n",
       "      <th></th>\n",
       "      <th>Unnamed: 0</th>\n",
       "      <th>user_id</th>\n",
       "      <th>song_id</th>\n",
       "      <th>play_count</th>\n",
       "    </tr>\n",
       "  </thead>\n",
       "  <tbody>\n",
       "    <tr>\n",
       "      <th>0</th>\n",
       "      <td>0</td>\n",
       "      <td>b80344d063b5ccb3212f76538f3d9e43d87dca9e</td>\n",
       "      <td>SOAKIMP12A8C130995</td>\n",
       "      <td>1</td>\n",
       "    </tr>\n",
       "    <tr>\n",
       "      <th>1</th>\n",
       "      <td>1</td>\n",
       "      <td>b80344d063b5ccb3212f76538f3d9e43d87dca9e</td>\n",
       "      <td>SOBBMDR12A8C13253B</td>\n",
       "      <td>2</td>\n",
       "    </tr>\n",
       "    <tr>\n",
       "      <th>2</th>\n",
       "      <td>2</td>\n",
       "      <td>b80344d063b5ccb3212f76538f3d9e43d87dca9e</td>\n",
       "      <td>SOBXHDL12A81C204C0</td>\n",
       "      <td>1</td>\n",
       "    </tr>\n",
       "    <tr>\n",
       "      <th>3</th>\n",
       "      <td>3</td>\n",
       "      <td>b80344d063b5ccb3212f76538f3d9e43d87dca9e</td>\n",
       "      <td>SOBYHAJ12A6701BF1D</td>\n",
       "      <td>1</td>\n",
       "    </tr>\n",
       "    <tr>\n",
       "      <th>4</th>\n",
       "      <td>4</td>\n",
       "      <td>b80344d063b5ccb3212f76538f3d9e43d87dca9e</td>\n",
       "      <td>SODACBL12A8C13C273</td>\n",
       "      <td>1</td>\n",
       "    </tr>\n",
       "  </tbody>\n",
       "</table>\n",
       "</div>"
      ],
      "text/plain": [
       "   Unnamed: 0                                   user_id             song_id  \\\n",
       "0           0  b80344d063b5ccb3212f76538f3d9e43d87dca9e  SOAKIMP12A8C130995   \n",
       "1           1  b80344d063b5ccb3212f76538f3d9e43d87dca9e  SOBBMDR12A8C13253B   \n",
       "2           2  b80344d063b5ccb3212f76538f3d9e43d87dca9e  SOBXHDL12A81C204C0   \n",
       "3           3  b80344d063b5ccb3212f76538f3d9e43d87dca9e  SOBYHAJ12A6701BF1D   \n",
       "4           4  b80344d063b5ccb3212f76538f3d9e43d87dca9e  SODACBL12A8C13C273   \n",
       "\n",
       "   play_count  \n",
       "0           1  \n",
       "1           2  \n",
       "2           1  \n",
       "3           1  \n",
       "4           1  "
      ]
     },
     "execution_count": 6,
     "metadata": {},
     "output_type": "execute_result"
    }
   ],
   "source": [
    "count_df.head()"
   ]
  },
  {
   "cell_type": "code",
   "execution_count": 23,
   "metadata": {},
   "outputs": [],
   "source": [
    "# drop the column 'Unnamed: 0'  \n",
    "count_df.drop(['Unnamed: 0'], \n",
    "                axis = 1, \n",
    "                inplace = True)\n"
   ]
  },
  {
   "cell_type": "code",
   "execution_count": 25,
   "metadata": {},
   "outputs": [
    {
     "data": {
      "text/html": [
       "<div>\n",
       "<style scoped>\n",
       "    .dataframe tbody tr th:only-of-type {\n",
       "        vertical-align: middle;\n",
       "    }\n",
       "\n",
       "    .dataframe tbody tr th {\n",
       "        vertical-align: top;\n",
       "    }\n",
       "\n",
       "    .dataframe thead th {\n",
       "        text-align: right;\n",
       "    }\n",
       "</style>\n",
       "<table border=\"1\" class=\"dataframe\">\n",
       "  <thead>\n",
       "    <tr style=\"text-align: right;\">\n",
       "      <th></th>\n",
       "      <th>user_id</th>\n",
       "      <th>song_id</th>\n",
       "      <th>play_count</th>\n",
       "    </tr>\n",
       "  </thead>\n",
       "  <tbody>\n",
       "    <tr>\n",
       "      <th>0</th>\n",
       "      <td>b80344d063b5ccb3212f76538f3d9e43d87dca9e</td>\n",
       "      <td>SOAKIMP12A8C130995</td>\n",
       "      <td>1</td>\n",
       "    </tr>\n",
       "    <tr>\n",
       "      <th>1</th>\n",
       "      <td>b80344d063b5ccb3212f76538f3d9e43d87dca9e</td>\n",
       "      <td>SOBBMDR12A8C13253B</td>\n",
       "      <td>2</td>\n",
       "    </tr>\n",
       "    <tr>\n",
       "      <th>2</th>\n",
       "      <td>b80344d063b5ccb3212f76538f3d9e43d87dca9e</td>\n",
       "      <td>SOBXHDL12A81C204C0</td>\n",
       "      <td>1</td>\n",
       "    </tr>\n",
       "    <tr>\n",
       "      <th>3</th>\n",
       "      <td>b80344d063b5ccb3212f76538f3d9e43d87dca9e</td>\n",
       "      <td>SOBYHAJ12A6701BF1D</td>\n",
       "      <td>1</td>\n",
       "    </tr>\n",
       "    <tr>\n",
       "      <th>4</th>\n",
       "      <td>b80344d063b5ccb3212f76538f3d9e43d87dca9e</td>\n",
       "      <td>SODACBL12A8C13C273</td>\n",
       "      <td>1</td>\n",
       "    </tr>\n",
       "  </tbody>\n",
       "</table>\n",
       "</div>"
      ],
      "text/plain": [
       "                                    user_id             song_id  play_count\n",
       "0  b80344d063b5ccb3212f76538f3d9e43d87dca9e  SOAKIMP12A8C130995           1\n",
       "1  b80344d063b5ccb3212f76538f3d9e43d87dca9e  SOBBMDR12A8C13253B           2\n",
       "2  b80344d063b5ccb3212f76538f3d9e43d87dca9e  SOBXHDL12A81C204C0           1\n",
       "3  b80344d063b5ccb3212f76538f3d9e43d87dca9e  SOBYHAJ12A6701BF1D           1\n",
       "4  b80344d063b5ccb3212f76538f3d9e43d87dca9e  SODACBL12A8C13C273           1"
      ]
     },
     "execution_count": 25,
     "metadata": {},
     "output_type": "execute_result"
    }
   ],
   "source": [
    "count_df.head()"
   ]
  },
  {
   "cell_type": "code",
   "execution_count": 26,
   "metadata": {},
   "outputs": [],
   "source": [
    "# fill null values in song_df with fillna()\n",
    "song_df = song_df.fillna(value=0)"
   ]
  },
  {
   "cell_type": "code",
   "execution_count": 27,
   "metadata": {},
   "outputs": [],
   "source": [
    "# apply label encoding for \"song_id\"\n",
    "encoded_song_id =  preprocessing.LabelEncoder()\n",
    "encoded_song_id.fit(song_df.song_id)\n",
    "song_df.song_id = encoded_song_id.transform(song_df.song_id)\n",
    "count_df.song_id = encoded_song_id.transform(count_df.song_id)\n",
    "\n",
    "# apply label encoding for \"user_id\"\n",
    "encoded_user_id =  preprocessing.LabelEncoder()\n",
    "count_df.user_id = encoded_user_id.fit_transform(count_df.user_id)\n"
   ]
  },
  {
   "cell_type": "code",
   "execution_count": 36,
   "metadata": {},
   "outputs": [],
   "source": [
    "# left merge the count_df and song_df data on \"song_id\". Drop duplicates from song_df data simultaneously.\n",
    "\n",
    "merged_df = count_df.merge(song_df.drop_duplicates(['song_id']), \n",
    "                            how='left', \n",
    "                            on='song_id')"
   ]
  },
  {
   "cell_type": "code",
   "execution_count": 101,
   "metadata": {},
   "outputs": [
    {
     "data": {
      "text/html": [
       "<div>\n",
       "<style scoped>\n",
       "    .dataframe tbody tr th:only-of-type {\n",
       "        vertical-align: middle;\n",
       "    }\n",
       "\n",
       "    .dataframe tbody tr th {\n",
       "        vertical-align: top;\n",
       "    }\n",
       "\n",
       "    .dataframe thead th {\n",
       "        text-align: right;\n",
       "    }\n",
       "</style>\n",
       "<table border=\"1\" class=\"dataframe\">\n",
       "  <thead>\n",
       "    <tr style=\"text-align: right;\">\n",
       "      <th></th>\n",
       "      <th>user_id</th>\n",
       "      <th>song_id</th>\n",
       "      <th>play_count</th>\n",
       "      <th>title</th>\n",
       "      <th>release</th>\n",
       "      <th>artist_name</th>\n",
       "      <th>year</th>\n",
       "    </tr>\n",
       "  </thead>\n",
       "  <tbody>\n",
       "    <tr>\n",
       "      <th>0</th>\n",
       "      <td>54961</td>\n",
       "      <td>17370</td>\n",
       "      <td>1</td>\n",
       "      <td>The Cove</td>\n",
       "      <td>Thicker Than Water</td>\n",
       "      <td>Jack Johnson</td>\n",
       "      <td>0</td>\n",
       "    </tr>\n",
       "    <tr>\n",
       "      <th>1</th>\n",
       "      <td>54961</td>\n",
       "      <td>45995</td>\n",
       "      <td>2</td>\n",
       "      <td>Entre Dos Aguas</td>\n",
       "      <td>Flamenco Para Niños</td>\n",
       "      <td>Paco De Lucia</td>\n",
       "      <td>1976</td>\n",
       "    </tr>\n",
       "    <tr>\n",
       "      <th>2</th>\n",
       "      <td>54961</td>\n",
       "      <td>82002</td>\n",
       "      <td>1</td>\n",
       "      <td>Stronger</td>\n",
       "      <td>Graduation</td>\n",
       "      <td>Kanye West</td>\n",
       "      <td>2007</td>\n",
       "    </tr>\n",
       "    <tr>\n",
       "      <th>3</th>\n",
       "      <td>54961</td>\n",
       "      <td>83689</td>\n",
       "      <td>1</td>\n",
       "      <td>Constellations</td>\n",
       "      <td>In Between Dreams</td>\n",
       "      <td>Jack Johnson</td>\n",
       "      <td>2005</td>\n",
       "    </tr>\n",
       "    <tr>\n",
       "      <th>4</th>\n",
       "      <td>54961</td>\n",
       "      <td>129375</td>\n",
       "      <td>1</td>\n",
       "      <td>Learn To Fly</td>\n",
       "      <td>There Is Nothing Left To Lose</td>\n",
       "      <td>Foo Fighters</td>\n",
       "      <td>1999</td>\n",
       "    </tr>\n",
       "  </tbody>\n",
       "</table>\n",
       "</div>"
      ],
      "text/plain": [
       "   user_id  song_id  play_count            title  \\\n",
       "0    54961    17370           1         The Cove   \n",
       "1    54961    45995           2  Entre Dos Aguas   \n",
       "2    54961    82002           1         Stronger   \n",
       "3    54961    83689           1   Constellations   \n",
       "4    54961   129375           1     Learn To Fly   \n",
       "\n",
       "                         release    artist_name  year  \n",
       "0             Thicker Than Water   Jack Johnson     0  \n",
       "1            Flamenco Para Niños  Paco De Lucia  1976  \n",
       "2                     Graduation     Kanye West  2007  \n",
       "3              In Between Dreams   Jack Johnson  2005  \n",
       "4  There Is Nothing Left To Lose   Foo Fighters  1999  "
      ]
     },
     "execution_count": 101,
     "metadata": {},
     "output_type": "execute_result"
    }
   ],
   "source": [
    "merged_df.head()"
   ]
  },
  {
   "cell_type": "code",
   "execution_count": 41,
   "metadata": {},
   "outputs": [
    {
     "data": {
      "text/html": [
       "<div>\n",
       "<style scoped>\n",
       "    .dataframe tbody tr th:only-of-type {\n",
       "        vertical-align: middle;\n",
       "    }\n",
       "\n",
       "    .dataframe tbody tr th {\n",
       "        vertical-align: top;\n",
       "    }\n",
       "\n",
       "    .dataframe thead th {\n",
       "        text-align: right;\n",
       "    }\n",
       "</style>\n",
       "<table border=\"1\" class=\"dataframe\">\n",
       "  <thead>\n",
       "    <tr style=\"text-align: right;\">\n",
       "      <th></th>\n",
       "      <th>user_id</th>\n",
       "      <th>song_id</th>\n",
       "      <th>play_count</th>\n",
       "      <th>title</th>\n",
       "      <th>release</th>\n",
       "      <th>artist_name</th>\n",
       "      <th>year</th>\n",
       "    </tr>\n",
       "  </thead>\n",
       "  <tbody>\n",
       "    <tr>\n",
       "      <th>count</th>\n",
       "      <td>2.000000e+06</td>\n",
       "      <td>2.000000e+06</td>\n",
       "      <td>2.000000e+06</td>\n",
       "      <td>2000000</td>\n",
       "      <td>2000000</td>\n",
       "      <td>2000000</td>\n",
       "      <td>2.000000e+06</td>\n",
       "    </tr>\n",
       "    <tr>\n",
       "      <th>unique</th>\n",
       "      <td>NaN</td>\n",
       "      <td>NaN</td>\n",
       "      <td>NaN</td>\n",
       "      <td>9567</td>\n",
       "      <td>5388</td>\n",
       "      <td>3375</td>\n",
       "      <td>NaN</td>\n",
       "    </tr>\n",
       "    <tr>\n",
       "      <th>top</th>\n",
       "      <td>NaN</td>\n",
       "      <td>NaN</td>\n",
       "      <td>NaN</td>\n",
       "      <td>Sehr kosmisch</td>\n",
       "      <td>Greatest Hits</td>\n",
       "      <td>Coldplay</td>\n",
       "      <td>NaN</td>\n",
       "    </tr>\n",
       "    <tr>\n",
       "      <th>freq</th>\n",
       "      <td>NaN</td>\n",
       "      <td>NaN</td>\n",
       "      <td>NaN</td>\n",
       "      <td>8277</td>\n",
       "      <td>15692</td>\n",
       "      <td>29422</td>\n",
       "      <td>NaN</td>\n",
       "    </tr>\n",
       "    <tr>\n",
       "      <th>mean</th>\n",
       "      <td>3.813599e+04</td>\n",
       "      <td>5.097695e+05</td>\n",
       "      <td>3.045485e+00</td>\n",
       "      <td>NaN</td>\n",
       "      <td>NaN</td>\n",
       "      <td>NaN</td>\n",
       "      <td>1.628645e+03</td>\n",
       "    </tr>\n",
       "    <tr>\n",
       "      <th>std</th>\n",
       "      <td>2.204443e+04</td>\n",
       "      <td>2.863777e+05</td>\n",
       "      <td>6.579720e+00</td>\n",
       "      <td>NaN</td>\n",
       "      <td>NaN</td>\n",
       "      <td>NaN</td>\n",
       "      <td>7.787283e+02</td>\n",
       "    </tr>\n",
       "    <tr>\n",
       "      <th>min</th>\n",
       "      <td>0.000000e+00</td>\n",
       "      <td>1.900000e+01</td>\n",
       "      <td>1.000000e+00</td>\n",
       "      <td>NaN</td>\n",
       "      <td>NaN</td>\n",
       "      <td>NaN</td>\n",
       "      <td>0.000000e+00</td>\n",
       "    </tr>\n",
       "    <tr>\n",
       "      <th>25%</th>\n",
       "      <td>1.911200e+04</td>\n",
       "      <td>2.622680e+05</td>\n",
       "      <td>1.000000e+00</td>\n",
       "      <td>NaN</td>\n",
       "      <td>NaN</td>\n",
       "      <td>NaN</td>\n",
       "      <td>1.984000e+03</td>\n",
       "    </tr>\n",
       "    <tr>\n",
       "      <th>50%</th>\n",
       "      <td>3.794900e+04</td>\n",
       "      <td>5.232100e+05</td>\n",
       "      <td>1.000000e+00</td>\n",
       "      <td>NaN</td>\n",
       "      <td>NaN</td>\n",
       "      <td>NaN</td>\n",
       "      <td>2.002000e+03</td>\n",
       "    </tr>\n",
       "    <tr>\n",
       "      <th>75%</th>\n",
       "      <td>5.713500e+04</td>\n",
       "      <td>7.603520e+05</td>\n",
       "      <td>3.000000e+00</td>\n",
       "      <td>NaN</td>\n",
       "      <td>NaN</td>\n",
       "      <td>NaN</td>\n",
       "      <td>2.007000e+03</td>\n",
       "    </tr>\n",
       "    <tr>\n",
       "      <th>max</th>\n",
       "      <td>7.635200e+04</td>\n",
       "      <td>9.990360e+05</td>\n",
       "      <td>2.213000e+03</td>\n",
       "      <td>NaN</td>\n",
       "      <td>NaN</td>\n",
       "      <td>NaN</td>\n",
       "      <td>2.010000e+03</td>\n",
       "    </tr>\n",
       "  </tbody>\n",
       "</table>\n",
       "</div>"
      ],
      "text/plain": [
       "             user_id       song_id    play_count          title  \\\n",
       "count   2.000000e+06  2.000000e+06  2.000000e+06        2000000   \n",
       "unique           NaN           NaN           NaN           9567   \n",
       "top              NaN           NaN           NaN  Sehr kosmisch   \n",
       "freq             NaN           NaN           NaN           8277   \n",
       "mean    3.813599e+04  5.097695e+05  3.045485e+00            NaN   \n",
       "std     2.204443e+04  2.863777e+05  6.579720e+00            NaN   \n",
       "min     0.000000e+00  1.900000e+01  1.000000e+00            NaN   \n",
       "25%     1.911200e+04  2.622680e+05  1.000000e+00            NaN   \n",
       "50%     3.794900e+04  5.232100e+05  1.000000e+00            NaN   \n",
       "75%     5.713500e+04  7.603520e+05  3.000000e+00            NaN   \n",
       "max     7.635200e+04  9.990360e+05  2.213000e+03            NaN   \n",
       "\n",
       "              release artist_name          year  \n",
       "count         2000000     2000000  2.000000e+06  \n",
       "unique           5388        3375           NaN  \n",
       "top     Greatest Hits    Coldplay           NaN  \n",
       "freq            15692       29422           NaN  \n",
       "mean              NaN         NaN  1.628645e+03  \n",
       "std               NaN         NaN  7.787283e+02  \n",
       "min               NaN         NaN  0.000000e+00  \n",
       "25%               NaN         NaN  1.984000e+03  \n",
       "50%               NaN         NaN  2.002000e+03  \n",
       "75%               NaN         NaN  2.007000e+03  \n",
       "max               NaN         NaN  2.010000e+03  "
      ]
     },
     "execution_count": 41,
     "metadata": {},
     "output_type": "execute_result"
    }
   ],
   "source": [
    "merged_df.describe(include = [np.int, np.object_])"
   ]
  },
  {
   "cell_type": "code",
   "execution_count": 100,
   "metadata": {},
   "outputs": [
    {
     "data": {
      "text/html": [
       "<div>\n",
       "<style scoped>\n",
       "    .dataframe tbody tr th:only-of-type {\n",
       "        vertical-align: middle;\n",
       "    }\n",
       "\n",
       "    .dataframe tbody tr th {\n",
       "        vertical-align: top;\n",
       "    }\n",
       "\n",
       "    .dataframe thead th {\n",
       "        text-align: right;\n",
       "    }\n",
       "</style>\n",
       "<table border=\"1\" class=\"dataframe\">\n",
       "  <thead>\n",
       "    <tr style=\"text-align: right;\">\n",
       "      <th></th>\n",
       "      <th>song_id</th>\n",
       "      <th>title</th>\n",
       "      <th>release</th>\n",
       "      <th>artist_name</th>\n",
       "      <th>year</th>\n",
       "    </tr>\n",
       "  </thead>\n",
       "  <tbody>\n",
       "    <tr>\n",
       "      <th>0</th>\n",
       "      <td>664054</td>\n",
       "      <td>Silent Night</td>\n",
       "      <td>Monster Ballads X-Mas</td>\n",
       "      <td>Faster Pussy cat</td>\n",
       "      <td>2003</td>\n",
       "    </tr>\n",
       "    <tr>\n",
       "      <th>1</th>\n",
       "      <td>834264</td>\n",
       "      <td>Tanssi vaan</td>\n",
       "      <td>Karkuteillä</td>\n",
       "      <td>Karkkiautomaatti</td>\n",
       "      <td>1995</td>\n",
       "    </tr>\n",
       "    <tr>\n",
       "      <th>2</th>\n",
       "      <td>286654</td>\n",
       "      <td>No One Could Ever</td>\n",
       "      <td>Butter</td>\n",
       "      <td>Hudson Mohawke</td>\n",
       "      <td>2006</td>\n",
       "    </tr>\n",
       "    <tr>\n",
       "      <th>3</th>\n",
       "      <td>66717</td>\n",
       "      <td>Si Vos Querés</td>\n",
       "      <td>De Culo</td>\n",
       "      <td>Yerba Brava</td>\n",
       "      <td>2003</td>\n",
       "    </tr>\n",
       "    <tr>\n",
       "      <th>4</th>\n",
       "      <td>324820</td>\n",
       "      <td>Tangle Of Aspens</td>\n",
       "      <td>Rene Ablaze Presents Winter Sessions</td>\n",
       "      <td>Der Mystic</td>\n",
       "      <td>0</td>\n",
       "    </tr>\n",
       "    <tr>\n",
       "      <th>...</th>\n",
       "      <td>...</td>\n",
       "      <td>...</td>\n",
       "      <td>...</td>\n",
       "      <td>...</td>\n",
       "      <td>...</td>\n",
       "    </tr>\n",
       "    <tr>\n",
       "      <th>999995</th>\n",
       "      <td>787007</td>\n",
       "      <td>O Samba Da Vida</td>\n",
       "      <td>Pacha V.I.P.</td>\n",
       "      <td>Kiko Navarro</td>\n",
       "      <td>0</td>\n",
       "    </tr>\n",
       "    <tr>\n",
       "      <th>999996</th>\n",
       "      <td>919087</td>\n",
       "      <td>Jago Chhadeo</td>\n",
       "      <td>Naale Baba Lassi Pee Gya</td>\n",
       "      <td>Kuldeep Manak</td>\n",
       "      <td>0</td>\n",
       "    </tr>\n",
       "    <tr>\n",
       "      <th>999997</th>\n",
       "      <td>318719</td>\n",
       "      <td>Novemba</td>\n",
       "      <td>Dub_Connected: electronic music</td>\n",
       "      <td>Gabriel Le Mar</td>\n",
       "      <td>0</td>\n",
       "    </tr>\n",
       "    <tr>\n",
       "      <th>999998</th>\n",
       "      <td>491369</td>\n",
       "      <td>Faraday</td>\n",
       "      <td>The Trance Collection Vol. 2</td>\n",
       "      <td>Elude</td>\n",
       "      <td>0</td>\n",
       "    </tr>\n",
       "    <tr>\n",
       "      <th>999999</th>\n",
       "      <td>893047</td>\n",
       "      <td>Fernweh feat. Sektion Kuchikäschtli</td>\n",
       "      <td>So Oder So</td>\n",
       "      <td>Texta</td>\n",
       "      <td>2004</td>\n",
       "    </tr>\n",
       "  </tbody>\n",
       "</table>\n",
       "<p>1000000 rows × 5 columns</p>\n",
       "</div>"
      ],
      "text/plain": [
       "        song_id                                title  \\\n",
       "0        664054                         Silent Night   \n",
       "1        834264                          Tanssi vaan   \n",
       "2        286654                    No One Could Ever   \n",
       "3         66717                        Si Vos Querés   \n",
       "4        324820                     Tangle Of Aspens   \n",
       "...         ...                                  ...   \n",
       "999995   787007                      O Samba Da Vida   \n",
       "999996   919087                         Jago Chhadeo   \n",
       "999997   318719                              Novemba   \n",
       "999998   491369                              Faraday   \n",
       "999999   893047  Fernweh feat. Sektion Kuchikäschtli   \n",
       "\n",
       "                                     release       artist_name  year  \n",
       "0                      Monster Ballads X-Mas  Faster Pussy cat  2003  \n",
       "1                                Karkuteillä  Karkkiautomaatti  1995  \n",
       "2                                     Butter    Hudson Mohawke  2006  \n",
       "3                                    De Culo       Yerba Brava  2003  \n",
       "4       Rene Ablaze Presents Winter Sessions        Der Mystic     0  \n",
       "...                                      ...               ...   ...  \n",
       "999995                          Pacha V.I.P.      Kiko Navarro     0  \n",
       "999996              Naale Baba Lassi Pee Gya     Kuldeep Manak     0  \n",
       "999997       Dub_Connected: electronic music    Gabriel Le Mar     0  \n",
       "999998          The Trance Collection Vol. 2             Elude     0  \n",
       "999999                            So Oder So             Texta  2004  \n",
       "\n",
       "[1000000 rows x 5 columns]"
      ]
     },
     "execution_count": 100,
     "metadata": {},
     "output_type": "execute_result"
    }
   ],
   "source": [
    "song_df.fillna(value=0)"
   ]
  },
  {
   "cell_type": "code",
   "execution_count": 43,
   "metadata": {},
   "outputs": [],
   "source": [
    "# get the column containing the users \n",
    "users = merged_df.user_id \n",
    "# create dictionary from users to their number of ratings\n",
    "user_ratings_count = dict()\n",
    "for user in users:\n",
    "    # if there is alreay a user, just add 1 to the rating\n",
    "    if user in user_ratings_count:\n",
    "        user_ratings_count[user] +=1\n",
    "        # otherwise set the rating count to 1\n",
    "    else:\n",
    "        user_ratings_count[user] = 1\n"
   ]
  },
  {
   "cell_type": "code",
   "execution_count": 44,
   "metadata": {},
   "outputs": [],
   "source": [
    "# set a threshold of users' listen counts to at least 90 songs \n",
    "RATINGS_CUTOFF = 90\n",
    "remove_users = []\n",
    "def ratings_cutoff():\n",
    "    for user, num_ratings in user_ratings_count.items():\n",
    "        if num_ratings < RATINGS_CUTOFF:\n",
    "            remove_users.append(user)\n",
    "    df_final = merged_df.loc[~merged_df.user_id.isin(remove_users)]"
   ]
  },
  {
   "cell_type": "code",
   "execution_count": 46,
   "metadata": {},
   "outputs": [],
   "source": [
    "# get the column containing the users\n",
    "users = merged_df.song_id\n",
    "# create a dictionary from users to their number of songs\n",
    "song_ratings_count = dict()\n",
    "for user in users:\n",
    "    # if we already have the user, just add 1 to their rating count\n",
    "    if user in song_ratings_count:\n",
    "        song_ratings_count[user] += 1\n",
    "    # otherwise, set their rating count to 1\n",
    "    else:\n",
    "        song_ratings_count[user] = 1    "
   ]
  },
  {
   "cell_type": "code",
   "execution_count": 47,
   "metadata": {},
   "outputs": [],
   "source": [
    "# set a threshold of users' listen counts to at least 120 songs \n",
    "RATINGS_CUTOFF = 120\n",
    "remove_users = []\n",
    "for user, num_ratings in song_ratings_count.items():\n",
    "    if num_ratings < RATINGS_CUTOFF:\n",
    "        remove_users.append(user)\n",
    "df_final= merged_df.loc[~merged_df.song_id.isin(remove_users)]\n"
   ]
  },
  {
   "cell_type": "code",
   "execution_count": 49,
   "metadata": {},
   "outputs": [
    {
     "data": {
      "text/html": [
       "<div>\n",
       "<style scoped>\n",
       "    .dataframe tbody tr th:only-of-type {\n",
       "        vertical-align: middle;\n",
       "    }\n",
       "\n",
       "    .dataframe tbody tr th {\n",
       "        vertical-align: top;\n",
       "    }\n",
       "\n",
       "    .dataframe thead th {\n",
       "        text-align: right;\n",
       "    }\n",
       "</style>\n",
       "<table border=\"1\" class=\"dataframe\">\n",
       "  <thead>\n",
       "    <tr style=\"text-align: right;\">\n",
       "      <th></th>\n",
       "      <th>user_id</th>\n",
       "      <th>song_id</th>\n",
       "      <th>play_count</th>\n",
       "      <th>title</th>\n",
       "      <th>release</th>\n",
       "      <th>artist_name</th>\n",
       "      <th>year</th>\n",
       "    </tr>\n",
       "  </thead>\n",
       "  <tbody>\n",
       "    <tr>\n",
       "      <th>0</th>\n",
       "      <td>54961</td>\n",
       "      <td>17370</td>\n",
       "      <td>1</td>\n",
       "      <td>The Cove</td>\n",
       "      <td>Thicker Than Water</td>\n",
       "      <td>Jack Johnson</td>\n",
       "      <td>0</td>\n",
       "    </tr>\n",
       "    <tr>\n",
       "      <th>1</th>\n",
       "      <td>54961</td>\n",
       "      <td>45995</td>\n",
       "      <td>2</td>\n",
       "      <td>Entre Dos Aguas</td>\n",
       "      <td>Flamenco Para Niños</td>\n",
       "      <td>Paco De Lucia</td>\n",
       "      <td>1976</td>\n",
       "    </tr>\n",
       "    <tr>\n",
       "      <th>2</th>\n",
       "      <td>54961</td>\n",
       "      <td>82002</td>\n",
       "      <td>1</td>\n",
       "      <td>Stronger</td>\n",
       "      <td>Graduation</td>\n",
       "      <td>Kanye West</td>\n",
       "      <td>2007</td>\n",
       "    </tr>\n",
       "    <tr>\n",
       "      <th>3</th>\n",
       "      <td>54961</td>\n",
       "      <td>83689</td>\n",
       "      <td>1</td>\n",
       "      <td>Constellations</td>\n",
       "      <td>In Between Dreams</td>\n",
       "      <td>Jack Johnson</td>\n",
       "      <td>2005</td>\n",
       "    </tr>\n",
       "    <tr>\n",
       "      <th>4</th>\n",
       "      <td>54961</td>\n",
       "      <td>129375</td>\n",
       "      <td>1</td>\n",
       "      <td>Learn To Fly</td>\n",
       "      <td>There Is Nothing Left To Lose</td>\n",
       "      <td>Foo Fighters</td>\n",
       "      <td>1999</td>\n",
       "    </tr>\n",
       "    <tr>\n",
       "      <th>...</th>\n",
       "      <td>...</td>\n",
       "      <td>...</td>\n",
       "      <td>...</td>\n",
       "      <td>...</td>\n",
       "      <td>...</td>\n",
       "      <td>...</td>\n",
       "      <td>...</td>\n",
       "    </tr>\n",
       "    <tr>\n",
       "      <th>114</th>\n",
       "      <td>47087</td>\n",
       "      <td>105685</td>\n",
       "      <td>2</td>\n",
       "      <td>Life In Technicolor</td>\n",
       "      <td>Viva La Vida Or Death And All His Friends</td>\n",
       "      <td>Coldplay</td>\n",
       "      <td>2008</td>\n",
       "    </tr>\n",
       "    <tr>\n",
       "      <th>115</th>\n",
       "      <td>47087</td>\n",
       "      <td>122206</td>\n",
       "      <td>2</td>\n",
       "      <td>Clocks</td>\n",
       "      <td>A Rush Of Blood To The Head</td>\n",
       "      <td>Coldplay</td>\n",
       "      <td>2002</td>\n",
       "    </tr>\n",
       "    <tr>\n",
       "      <th>116</th>\n",
       "      <td>47087</td>\n",
       "      <td>208426</td>\n",
       "      <td>2</td>\n",
       "      <td>Strawberry Swing</td>\n",
       "      <td>Viva La Vida - Prospekt's March Edition</td>\n",
       "      <td>Coldplay</td>\n",
       "      <td>2008</td>\n",
       "    </tr>\n",
       "    <tr>\n",
       "      <th>117</th>\n",
       "      <td>47087</td>\n",
       "      <td>341214</td>\n",
       "      <td>4</td>\n",
       "      <td>Life In Technicolor ii</td>\n",
       "      <td>Viva La Vida - Prospekt's March Edition</td>\n",
       "      <td>Coldplay</td>\n",
       "      <td>2008</td>\n",
       "    </tr>\n",
       "    <tr>\n",
       "      <th>118</th>\n",
       "      <td>47087</td>\n",
       "      <td>434903</td>\n",
       "      <td>2</td>\n",
       "      <td>The Scientist</td>\n",
       "      <td>The Scientist</td>\n",
       "      <td>Coldplay</td>\n",
       "      <td>2002</td>\n",
       "    </tr>\n",
       "  </tbody>\n",
       "</table>\n",
       "<p>100 rows × 7 columns</p>\n",
       "</div>"
      ],
      "text/plain": [
       "     user_id  song_id  play_count                   title  \\\n",
       "0      54961    17370           1                The Cove   \n",
       "1      54961    45995           2         Entre Dos Aguas   \n",
       "2      54961    82002           1                Stronger   \n",
       "3      54961    83689           1          Constellations   \n",
       "4      54961   129375           1            Learn To Fly   \n",
       "..       ...      ...         ...                     ...   \n",
       "114    47087   105685           2     Life In Technicolor   \n",
       "115    47087   122206           2                  Clocks   \n",
       "116    47087   208426           2        Strawberry Swing   \n",
       "117    47087   341214           4  Life In Technicolor ii   \n",
       "118    47087   434903           2           The Scientist   \n",
       "\n",
       "                                       release    artist_name  year  \n",
       "0                           Thicker Than Water   Jack Johnson     0  \n",
       "1                          Flamenco Para Niños  Paco De Lucia  1976  \n",
       "2                                   Graduation     Kanye West  2007  \n",
       "3                            In Between Dreams   Jack Johnson  2005  \n",
       "4                There Is Nothing Left To Lose   Foo Fighters  1999  \n",
       "..                                         ...            ...   ...  \n",
       "114  Viva La Vida Or Death And All His Friends       Coldplay  2008  \n",
       "115                A Rush Of Blood To The Head       Coldplay  2002  \n",
       "116    Viva La Vida - Prospekt's March Edition       Coldplay  2008  \n",
       "117    Viva La Vida - Prospekt's March Edition       Coldplay  2008  \n",
       "118                              The Scientist       Coldplay  2002  \n",
       "\n",
       "[100 rows x 7 columns]"
      ]
     },
     "execution_count": 49,
     "metadata": {},
     "output_type": "execute_result"
    }
   ],
   "source": [
    "df_final.head(100)"
   ]
  },
  {
   "cell_type": "code",
   "execution_count": 50,
   "metadata": {},
   "outputs": [],
   "source": [
    "# drop records with play_count greater than(>) 5\n",
    "\n",
    "value_counts = df_final['play_count'].value_counts()\n",
    "\n",
    "# select the values where the count is greater than 5 or equal to \n",
    "to_remove = value_counts[value_counts >= 3].index\n",
    "\n",
    "# save rows where the play_count column is not in to_remove\n",
    "df_final = df_final[~df_final['play_count'].isin(to_remove)]\n",
    "\n"
   ]
  },
  {
   "cell_type": "code",
   "execution_count": 87,
   "metadata": {},
   "outputs": [
    {
     "data": {
      "text/html": [
       "<div>\n",
       "<style scoped>\n",
       "    .dataframe tbody tr th:only-of-type {\n",
       "        vertical-align: middle;\n",
       "    }\n",
       "\n",
       "    .dataframe tbody tr th {\n",
       "        vertical-align: top;\n",
       "    }\n",
       "\n",
       "    .dataframe thead th {\n",
       "        text-align: right;\n",
       "    }\n",
       "</style>\n",
       "<table border=\"1\" class=\"dataframe\">\n",
       "  <thead>\n",
       "    <tr style=\"text-align: right;\">\n",
       "      <th></th>\n",
       "      <th>user_id</th>\n",
       "      <th>song_id</th>\n",
       "      <th>play_count</th>\n",
       "      <th>title</th>\n",
       "      <th>release</th>\n",
       "      <th>artist_name</th>\n",
       "      <th>year</th>\n",
       "    </tr>\n",
       "  </thead>\n",
       "  <tbody>\n",
       "    <tr>\n",
       "      <th>7520</th>\n",
       "      <td>70354</td>\n",
       "      <td>678944</td>\n",
       "      <td>247</td>\n",
       "      <td>Waiting For A Dream</td>\n",
       "      <td>Want</td>\n",
       "      <td>Rufus Wainwright</td>\n",
       "      <td>2004</td>\n",
       "    </tr>\n",
       "    <tr>\n",
       "      <th>31179</th>\n",
       "      <td>56007</td>\n",
       "      <td>987044</td>\n",
       "      <td>796</td>\n",
       "      <td>Paradise &amp; Dreams</td>\n",
       "      <td>Skydivin'</td>\n",
       "      <td>Darren Styles</td>\n",
       "      <td>0</td>\n",
       "    </tr>\n",
       "    <tr>\n",
       "      <th>31649</th>\n",
       "      <td>55164</td>\n",
       "      <td>496094</td>\n",
       "      <td>330</td>\n",
       "      <td>Bodies</td>\n",
       "      <td>Sinner</td>\n",
       "      <td>Drowning Pool</td>\n",
       "      <td>2001</td>\n",
       "    </tr>\n",
       "    <tr>\n",
       "      <th>55156</th>\n",
       "      <td>49268</td>\n",
       "      <td>466021</td>\n",
       "      <td>311</td>\n",
       "      <td>Reelin' In The Years</td>\n",
       "      <td>The Definitive Collection</td>\n",
       "      <td>Steely Dan</td>\n",
       "      <td>1972</td>\n",
       "    </tr>\n",
       "    <tr>\n",
       "      <th>57115</th>\n",
       "      <td>56207</td>\n",
       "      <td>326891</td>\n",
       "      <td>189</td>\n",
       "      <td>Catch You Baby (Steve Pitron &amp; Max Sanna Radio...</td>\n",
       "      <td>Catch You Baby</td>\n",
       "      <td>Lonnie Gordon</td>\n",
       "      <td>0</td>\n",
       "    </tr>\n",
       "    <tr>\n",
       "      <th>...</th>\n",
       "      <td>...</td>\n",
       "      <td>...</td>\n",
       "      <td>...</td>\n",
       "      <td>...</td>\n",
       "      <td>...</td>\n",
       "      <td>...</td>\n",
       "      <td>...</td>\n",
       "    </tr>\n",
       "    <tr>\n",
       "      <th>1644896</th>\n",
       "      <td>33537</td>\n",
       "      <td>285630</td>\n",
       "      <td>305</td>\n",
       "      <td>A-Punk (Album)</td>\n",
       "      <td>Vampire Weekend</td>\n",
       "      <td>Vampire Weekend</td>\n",
       "      <td>2007</td>\n",
       "    </tr>\n",
       "    <tr>\n",
       "      <th>1644901</th>\n",
       "      <td>33537</td>\n",
       "      <td>381578</td>\n",
       "      <td>553</td>\n",
       "      <td>Fast Car (LP Version)</td>\n",
       "      <td>Tracy Chapman</td>\n",
       "      <td>Tracy Chapman</td>\n",
       "      <td>1988</td>\n",
       "    </tr>\n",
       "    <tr>\n",
       "      <th>1644907</th>\n",
       "      <td>33537</td>\n",
       "      <td>585645</td>\n",
       "      <td>274</td>\n",
       "      <td>Here Without You</td>\n",
       "      <td>Here Without You</td>\n",
       "      <td>3 Doors Down</td>\n",
       "      <td>2002</td>\n",
       "    </tr>\n",
       "    <tr>\n",
       "      <th>1644909</th>\n",
       "      <td>33537</td>\n",
       "      <td>633924</td>\n",
       "      <td>676</td>\n",
       "      <td>I'm On A Boat</td>\n",
       "      <td>Incredibad</td>\n",
       "      <td>The Lonely Island / T-Pain</td>\n",
       "      <td>2009</td>\n",
       "    </tr>\n",
       "    <tr>\n",
       "      <th>1649684</th>\n",
       "      <td>23989</td>\n",
       "      <td>269329</td>\n",
       "      <td>232</td>\n",
       "      <td>Why Don't We Just Dance</td>\n",
       "      <td>Haywire</td>\n",
       "      <td>Josh Turner</td>\n",
       "      <td>0</td>\n",
       "    </tr>\n",
       "  </tbody>\n",
       "</table>\n",
       "<p>100 rows × 7 columns</p>\n",
       "</div>"
      ],
      "text/plain": [
       "         user_id  song_id  play_count  \\\n",
       "7520       70354   678944         247   \n",
       "31179      56007   987044         796   \n",
       "31649      55164   496094         330   \n",
       "55156      49268   466021         311   \n",
       "57115      56207   326891         189   \n",
       "...          ...      ...         ...   \n",
       "1644896    33537   285630         305   \n",
       "1644901    33537   381578         553   \n",
       "1644907    33537   585645         274   \n",
       "1644909    33537   633924         676   \n",
       "1649684    23989   269329         232   \n",
       "\n",
       "                                                     title  \\\n",
       "7520                                   Waiting For A Dream   \n",
       "31179                                    Paradise & Dreams   \n",
       "31649                                               Bodies   \n",
       "55156                                 Reelin' In The Years   \n",
       "57115    Catch You Baby (Steve Pitron & Max Sanna Radio...   \n",
       "...                                                    ...   \n",
       "1644896                                     A-Punk (Album)   \n",
       "1644901                              Fast Car (LP Version)   \n",
       "1644907                                   Here Without You   \n",
       "1644909                                      I'm On A Boat   \n",
       "1649684                            Why Don't We Just Dance   \n",
       "\n",
       "                           release                 artist_name  year  \n",
       "7520                          Want            Rufus Wainwright  2004  \n",
       "31179                    Skydivin'               Darren Styles     0  \n",
       "31649                       Sinner               Drowning Pool  2001  \n",
       "55156    The Definitive Collection                  Steely Dan  1972  \n",
       "57115               Catch You Baby               Lonnie Gordon     0  \n",
       "...                            ...                         ...   ...  \n",
       "1644896            Vampire Weekend             Vampire Weekend  2007  \n",
       "1644901              Tracy Chapman               Tracy Chapman  1988  \n",
       "1644907           Here Without You                3 Doors Down  2002  \n",
       "1644909                 Incredibad  The Lonely Island / T-Pain  2009  \n",
       "1649684                    Haywire                 Josh Turner     0  \n",
       "\n",
       "[100 rows x 7 columns]"
      ]
     },
     "execution_count": 87,
     "metadata": {},
     "output_type": "execute_result"
    }
   ],
   "source": [
    "\n",
    "df_final.head(100)"
   ]
  },
  {
   "cell_type": "code",
   "execution_count": 122,
   "metadata": {},
   "outputs": [
    {
     "data": {
      "image/png": "[encoded data removed]",
      "text/plain": [
       "<Figure size 432x288 with 1 Axes>"
      ]
     },
     "metadata": {
      "needs_background": "light"
     },
     "output_type": "display_data"
    }
   ],
   "source": [
    "# histogram for play_count in log scale\n",
    "df_final.fillna(value=0)\n",
    "play_count_histogram = sns.distplot(df_final.play_count, kde=False, rug=False, bins=20)\n",
    "play_count_histogram.set_yscale('log')"
   ]
  },
  {
   "cell_type": "markdown",
   "metadata": {},
   "source": [
    "**Observations**\n",
    "- The user_id and song_id are unique values. \n",
    "- Some users played a song more than once (i.e. 2x, 5x)."
   ]
  },
  {
   "cell_type": "markdown",
   "metadata": {},
   "source": [
    "##### **Exploratory Data Analysis**"
   ]
  },
  {
   "cell_type": "markdown",
   "metadata": {},
   "source": [
    "**Shape of the Data**"
   ]
  },
  {
   "cell_type": "code",
   "execution_count": 123,
   "metadata": {},
   "outputs": [
    {
     "name": "stdout",
     "output_type": "stream",
     "text": [
      "<class 'pandas.core.frame.DataFrame'>\n",
      "Int64Index: 124 entries, 7520 to 1991617\n",
      "Data columns (total 7 columns):\n",
      " #   Column       Non-Null Count  Dtype \n",
      "---  ------       --------------  ----- \n",
      " 0   user_id      124 non-null    int64 \n",
      " 1   song_id      124 non-null    int64 \n",
      " 2   play_count   124 non-null    int64 \n",
      " 3   title        124 non-null    object\n",
      " 4   release      124 non-null    object\n",
      " 5   artist_name  124 non-null    object\n",
      " 6   year         124 non-null    int64 \n",
      "dtypes: int64(4), object(3)\n",
      "memory usage: 11.8+ KB\n"
     ]
    }
   ],
   "source": [
    "df_final.info()"
   ]
  },
  {
   "cell_type": "code",
   "execution_count": 124,
   "metadata": {},
   "outputs": [
    {
     "data": {
      "text/plain": [
       "user_id         int64\n",
       "song_id         int64\n",
       "play_count      int64\n",
       "title          object\n",
       "release        object\n",
       "artist_name    object\n",
       "year            int64\n",
       "dtype: object"
      ]
     },
     "execution_count": 124,
     "metadata": {},
     "output_type": "execute_result"
    }
   ],
   "source": [
    "# check the data types \n",
    "df_final.dtypes"
   ]
  },
  {
   "cell_type": "code",
   "execution_count": 127,
   "metadata": {},
   "outputs": [
    {
     "data": {
      "text/plain": [
       "user_id        105\n",
       "song_id        106\n",
       "play_count      97\n",
       "title          106\n",
       "release        105\n",
       "artist_name    101\n",
       "year            30\n",
       "dtype: int64"
      ]
     },
     "execution_count": 127,
     "metadata": {},
     "output_type": "execute_result"
    }
   ],
   "source": [
    "# number of unique values in the df_final\n",
    "df_final.nunique()"
   ]
  },
  {
   "cell_type": "code",
   "execution_count": 128,
   "metadata": {},
   "outputs": [
    {
     "data": {
      "text/plain": [
       "124"
      ]
     },
     "execution_count": 128,
     "metadata": {},
     "output_type": "execute_result"
    }
   ],
   "source": [
    "df_final.groupby(['user_id', 'song_id']).count()['play_count'].sum()"
   ]
  },
  {
   "cell_type": "markdown",
   "metadata": {},
   "source": [
    "**Observations**\n",
    "- There are a lot of unique values in the count_df dataset. \n",
    "- Look into the specifics of the values that are unique. \n",
    "- The count_df dataset is very large and has 2,000,000 observations.\n",
    "- It is difficult computationally to build a model using this dataset and the dataset should be initially reduced. "
   ]
  },
  {
   "cell_type": "code",
   "execution_count": 138,
   "metadata": {},
   "outputs": [
    {
     "data": {
      "text/plain": [
       "67669     6\n",
       "35140     3\n",
       "751776    3\n",
       "197555    2\n",
       "466200    2\n",
       "         ..\n",
       "364210    1\n",
       "392598    1\n",
       "348083    1\n",
       "838298    1\n",
       "968105    1\n",
       "Name: song_id, Length: 106, dtype: int64"
      ]
     },
     "execution_count": 138,
     "metadata": {},
     "output_type": "execute_result"
    }
   ],
   "source": [
    "# the most listened to song\n",
    "df_final['song_id'].value_counts()"
   ]
  },
  {
   "cell_type": "markdown",
   "metadata": {},
   "source": [
    "**Check for missing values**"
   ]
  },
  {
   "cell_type": "code",
   "execution_count": 132,
   "metadata": {},
   "outputs": [
    {
     "data": {
      "text/plain": [
       "user_id        0\n",
       "song_id        0\n",
       "play_count     0\n",
       "title          0\n",
       "release        0\n",
       "artist_name    0\n",
       "year           0\n",
       "dtype: int64"
      ]
     },
     "execution_count": 132,
     "metadata": {},
     "output_type": "execute_result"
    }
   ],
   "source": [
    "df_final.isnull().sum()"
   ]
  },
  {
   "cell_type": "markdown",
   "metadata": {},
   "source": [
    "**Summary Statistics**"
   ]
  },
  {
   "cell_type": "code",
   "execution_count": 133,
   "metadata": {},
   "outputs": [
    {
     "data": {
      "text/plain": [
       "count     124.000000\n",
       "mean      312.629032\n",
       "std       219.984607\n",
       "min       142.000000\n",
       "25%       204.000000\n",
       "50%       260.500000\n",
       "75%       333.000000\n",
       "max      2213.000000\n",
       "Name: play_count, dtype: float64"
      ]
     },
     "execution_count": 133,
     "metadata": {},
     "output_type": "execute_result"
    }
   ],
   "source": [
    "# summary statistics of 'play_count' variable \n",
    "df_final['play_count'].describe()"
   ]
  },
  {
   "cell_type": "code",
   "execution_count": 152,
   "metadata": {},
   "outputs": [
    {
     "data": {
      "text/plain": [
       "Text(0.5, 1.0, 'Percent of songs played a given year')"
      ]
     },
     "execution_count": 152,
     "metadata": {},
     "output_type": "execute_result"
    },
    {
     "data": {
      "image/png": "[encoded data removed]",
      "text/plain": [
       "<Figure size 936x504 with 1 Axes>"
      ]
     },
     "metadata": {
      "needs_background": "light"
     },
     "output_type": "display_data"
    }
   ],
   "source": [
    "# line graph displaying play_count given each year by mean \n",
    "mean_df = df_final.groupby(['year']).mean()\n",
    "\n",
    "listen_count_trend = mean_df[['play_count']].plot.line(figsize=(13,7))\n",
    "listen_count_trend.set_ylabel('Mean of play count')\n",
    "listen_count_trend.set_title('Percent of songs played a given year')"
   ]
  },
  {
   "cell_type": "code",
   "execution_count": 164,
   "metadata": {},
   "outputs": [
    {
     "data": {
      "text/plain": [
       "2010    3\n",
       "Name: year, dtype: int64"
      ]
     },
     "execution_count": 164,
     "metadata": {},
     "output_type": "execute_result"
    }
   ],
   "source": [
    "# filter data to show the most recent releases\n",
    "this_year = df_final.loc[(df_final['year']==2010)]\n",
    "\n",
    "# check if there are songs from the year 2010\n",
    "this_year['year'].value_counts()"
   ]
  },
  {
   "cell_type": "markdown",
   "metadata": {},
   "source": [
    "**Checking the number of unqiue users in the dataset**"
   ]
  },
  {
   "cell_type": "code",
   "execution_count": 166,
   "metadata": {},
   "outputs": [
    {
     "name": "stdout",
     "output_type": "stream",
     "text": [
      "Number of unique USERS in the Raw data =  105\n",
      "Number of unique SONGS in Raw data =  106\n"
     ]
    }
   ],
   "source": [
    "# number of unique users in the dataset \n",
    "print('Number of unique USERS in the Raw data = ', df_final['user_id'].nunique())\n",
    "print('Number of unique SONGS in Raw data = ', df_final['song_id'].nunique())"
   ]
  },
  {
   "cell_type": "markdown",
   "metadata": {},
   "source": [
    "**Users with an appropriate number of song listen counts**\n"
   ]
  },
  {
   "cell_type": "code",
   "execution_count": 167,
   "metadata": {},
   "outputs": [
    {
     "data": {
      "text/plain": [
       "user_id\n",
       "33537    4\n",
       "16838    2\n",
       "69642    2\n",
       "28243    2\n",
       "57914    2\n",
       "21005    2\n",
       "20806    2\n",
       "57486    2\n",
       "66461    2\n",
       "57320    2\n",
       "dtype: int64"
      ]
     },
     "execution_count": 167,
     "metadata": {},
     "output_type": "execute_result"
    }
   ],
   "source": [
    "# top 10 users based on listen count of song(s)\n",
    "most_listened = df_final.groupby('user_id').size().sort_values(ascending=False)[:10]\n",
    "most_listened"
   ]
  },
  {
   "cell_type": "markdown",
   "metadata": {},
   "source": [
    "##### **Data preparation**"
   ]
  },
  {
   "cell_type": "code",
   "execution_count": 170,
   "metadata": {},
   "outputs": [
    {
     "name": "stdout",
     "output_type": "stream",
     "text": [
      "The number of observations in the final data = 124\n",
      "Number of unique USERS in the final data =  105\n",
      "Number of unique PRODUCTS in the final data =  106\n",
      "Number of COUNTS LISTENED in the final data =  <bound method NDFrame._add_numeric_operations.<locals>.sum of 7520       247\n",
      "31179      796\n",
      "31649      330\n",
      "55156      311\n",
      "57115      189\n",
      "          ... \n",
      "1894158    201\n",
      "1894551    297\n",
      "1917213    310\n",
      "1942162    453\n",
      "1991617    260\n",
      "Name: play_count, Length: 124, dtype: int64>\n"
     ]
    }
   ],
   "source": [
    "# check the number of unique USERS and SONGS in the final data and provide observations\n",
    "\n",
    "print('The number of observations in the final data =', len(df_final))\n",
    "print('Number of unique USERS in the final data = ', df_final['user_id'].nunique())\n",
    "print('Number of unique PRODUCTS in the final data = ', df_final['song_id'].nunique())\n",
    "print('Number of COUNTS LISTENED in the final data = ', df_final['play_count'].sum)"
   ]
  },
  {
   "cell_type": "markdown",
   "metadata": {},
   "source": [
    "##### **Rank Based Recommendation System**"
   ]
  },
  {
   "cell_type": "code",
   "execution_count": 171,
   "metadata": {},
   "outputs": [
    {
     "data": {
      "text/html": [
       "<div>\n",
       "<style scoped>\n",
       "    .dataframe tbody tr th:only-of-type {\n",
       "        vertical-align: middle;\n",
       "    }\n",
       "\n",
       "    .dataframe tbody tr th {\n",
       "        vertical-align: top;\n",
       "    }\n",
       "\n",
       "    .dataframe thead th {\n",
       "        text-align: right;\n",
       "    }\n",
       "</style>\n",
       "<table border=\"1\" class=\"dataframe\">\n",
       "  <thead>\n",
       "    <tr style=\"text-align: right;\">\n",
       "      <th></th>\n",
       "      <th>user_id</th>\n",
       "      <th>song_id</th>\n",
       "      <th>play_count</th>\n",
       "      <th>title</th>\n",
       "      <th>release</th>\n",
       "      <th>artist_name</th>\n",
       "      <th>year</th>\n",
       "    </tr>\n",
       "  </thead>\n",
       "  <tbody>\n",
       "    <tr>\n",
       "      <th>7520</th>\n",
       "      <td>70354</td>\n",
       "      <td>678944</td>\n",
       "      <td>247</td>\n",
       "      <td>Waiting For A Dream</td>\n",
       "      <td>Want</td>\n",
       "      <td>Rufus Wainwright</td>\n",
       "      <td>2004</td>\n",
       "    </tr>\n",
       "    <tr>\n",
       "      <th>31179</th>\n",
       "      <td>56007</td>\n",
       "      <td>987044</td>\n",
       "      <td>796</td>\n",
       "      <td>Paradise &amp; Dreams</td>\n",
       "      <td>Skydivin'</td>\n",
       "      <td>Darren Styles</td>\n",
       "      <td>0</td>\n",
       "    </tr>\n",
       "    <tr>\n",
       "      <th>31649</th>\n",
       "      <td>55164</td>\n",
       "      <td>496094</td>\n",
       "      <td>330</td>\n",
       "      <td>Bodies</td>\n",
       "      <td>Sinner</td>\n",
       "      <td>Drowning Pool</td>\n",
       "      <td>2001</td>\n",
       "    </tr>\n",
       "    <tr>\n",
       "      <th>55156</th>\n",
       "      <td>49268</td>\n",
       "      <td>466021</td>\n",
       "      <td>311</td>\n",
       "      <td>Reelin' In The Years</td>\n",
       "      <td>The Definitive Collection</td>\n",
       "      <td>Steely Dan</td>\n",
       "      <td>1972</td>\n",
       "    </tr>\n",
       "    <tr>\n",
       "      <th>57115</th>\n",
       "      <td>56207</td>\n",
       "      <td>326891</td>\n",
       "      <td>189</td>\n",
       "      <td>Catch You Baby (Steve Pitron &amp; Max Sanna Radio...</td>\n",
       "      <td>Catch You Baby</td>\n",
       "      <td>Lonnie Gordon</td>\n",
       "      <td>0</td>\n",
       "    </tr>\n",
       "  </tbody>\n",
       "</table>\n",
       "</div>"
      ],
      "text/plain": [
       "       user_id  song_id  play_count  \\\n",
       "7520     70354   678944         247   \n",
       "31179    56007   987044         796   \n",
       "31649    55164   496094         330   \n",
       "55156    49268   466021         311   \n",
       "57115    56207   326891         189   \n",
       "\n",
       "                                                   title  \\\n",
       "7520                                 Waiting For A Dream   \n",
       "31179                                  Paradise & Dreams   \n",
       "31649                                             Bodies   \n",
       "55156                               Reelin' In The Years   \n",
       "57115  Catch You Baby (Steve Pitron & Max Sanna Radio...   \n",
       "\n",
       "                         release       artist_name  year  \n",
       "7520                        Want  Rufus Wainwright  2004  \n",
       "31179                  Skydivin'     Darren Styles     0  \n",
       "31649                     Sinner     Drowning Pool  2001  \n",
       "55156  The Definitive Collection        Steely Dan  1972  \n",
       "57115             Catch You Baby     Lonnie Gordon     0  "
      ]
     },
     "execution_count": 171,
     "metadata": {},
     "output_type": "execute_result"
    }
   ],
   "source": [
    "df_final.head()"
   ]
  },
  {
   "cell_type": "code",
   "execution_count": 173,
   "metadata": {},
   "outputs": [
    {
     "data": {
      "text/html": [
       "<div>\n",
       "<style scoped>\n",
       "    .dataframe tbody tr th:only-of-type {\n",
       "        vertical-align: middle;\n",
       "    }\n",
       "\n",
       "    .dataframe tbody tr th {\n",
       "        vertical-align: top;\n",
       "    }\n",
       "\n",
       "    .dataframe thead th {\n",
       "        text-align: right;\n",
       "    }\n",
       "</style>\n",
       "<table border=\"1\" class=\"dataframe\">\n",
       "  <thead>\n",
       "    <tr style=\"text-align: right;\">\n",
       "      <th></th>\n",
       "      <th>avg_rating</th>\n",
       "      <th>list_count</th>\n",
       "    </tr>\n",
       "    <tr>\n",
       "      <th>song_id</th>\n",
       "      <th></th>\n",
       "      <th></th>\n",
       "    </tr>\n",
       "  </thead>\n",
       "  <tbody>\n",
       "    <tr>\n",
       "      <th>217352</th>\n",
       "      <td>2213.0</td>\n",
       "      <td>1</td>\n",
       "    </tr>\n",
       "    <tr>\n",
       "      <th>439403</th>\n",
       "      <td>879.0</td>\n",
       "      <td>1</td>\n",
       "    </tr>\n",
       "    <tr>\n",
       "      <th>987044</th>\n",
       "      <td>796.0</td>\n",
       "      <td>1</td>\n",
       "    </tr>\n",
       "    <tr>\n",
       "      <th>633924</th>\n",
       "      <td>676.0</td>\n",
       "      <td>1</td>\n",
       "    </tr>\n",
       "    <tr>\n",
       "      <th>403758</th>\n",
       "      <td>664.0</td>\n",
       "      <td>1</td>\n",
       "    </tr>\n",
       "  </tbody>\n",
       "</table>\n",
       "</div>"
      ],
      "text/plain": [
       "         avg_rating  list_count\n",
       "song_id                        \n",
       "217352       2213.0           1\n",
       "439403        879.0           1\n",
       "987044        796.0           1\n",
       "633924        676.0           1\n",
       "403758        664.0           1"
      ]
     },
     "execution_count": 173,
     "metadata": {},
     "output_type": "execute_result"
    }
   ],
   "source": [
    "# calculate the average listen count for each song \n",
    "average_count_listen = df_final.groupby('song_id').mean()['play_count']\n",
    "\n",
    "# calculate the count of listen for each song\n",
    "list_count_of_song = df_final.groupby('song_id').count()['play_count']\n",
    "\n",
    "# create a dataframe with calculated average and count of listens\n",
    "final_df = pd.DataFrame({'avg_rating':average_count_listen, 'list_count':list_count_of_song})\n",
    "\n",
    "# sort the dataframe by average of ratings in the descending order\n",
    "final_df = final_df.sort_values(by='avg_rating', ascending=False) \n",
    "\n",
    "final_df.head()\n"
   ]
  },
  {
   "cell_type": "markdown",
   "metadata": {},
   "source": [
    "**Observations**\n",
    "- There are many unique values in the song_df. \n",
    "- Dropping duplicates will help remedy the excess of unique values. \n",
    "- The song_df dataset is also quite large and has 999,056 observations. "
   ]
  },
  {
   "cell_type": "markdown",
   "metadata": {},
   "source": [
    "**Observations** \n",
    "- At most a song is listened to 3 times.\n",
    "- At the least a song is listened to 1x."
   ]
  },
  {
   "cell_type": "markdown",
   "metadata": {},
   "source": [
    "**Observations**\n",
    "* There are missing values in the 'year' feature.\n",
    "* There may be missing values in the consecutive feature (s). "
   ]
  },
  {
   "cell_type": "markdown",
   "metadata": {
    "id": "bvKb5FHcXzcN"
   },
   "source": [
    "### **Let us check the data types and and missing values of each column**"
   ]
  },
  {
   "cell_type": "markdown",
   "metadata": {},
   "source": [
    "**Observations**\n",
    "- There are 2000000 entries.\n",
    "- The data contains 4 columns.\n",
    "- The data types are int64(2), object(2). \n",
    "- The dataset count_df uses more memory ~61.0+ MB. "
   ]
  },
  {
   "cell_type": "markdown",
   "metadata": {
    "id": "Ze2TlWxpYadn"
   },
   "source": [
    "**Observations**\n",
    "- There are 1000000 entries. \n",
    "- The data contains 5 columns. \n",
    "- The data types are int64(1), object(4). \n",
    "- The dataset song_df uses less memory ~38.1 MB.\n"
   ]
  },
  {
   "cell_type": "code",
   "execution_count": 14,
   "metadata": {},
   "outputs": [
    {
     "data": {
      "text/plain": [
       "Unnamed: 0    0\n",
       "user_id       0\n",
       "song_id       0\n",
       "play_count    0\n",
       "dtype: int64"
      ]
     },
     "execution_count": 14,
     "metadata": {},
     "output_type": "execute_result"
    }
   ],
   "source": [
    "# check for nulls on count_df dataset \n",
    "count_df.isnull().sum()"
   ]
  },
  {
   "cell_type": "markdown",
   "metadata": {},
   "source": [
    "**Observations**\n",
    "- There are no nulls in count_df. "
   ]
  },
  {
   "cell_type": "code",
   "execution_count": 15,
   "metadata": {},
   "outputs": [
    {
     "data": {
      "text/plain": [
       "song_id         0\n",
       "title          15\n",
       "release         5\n",
       "artist_name     0\n",
       "year            0\n",
       "dtype: int64"
      ]
     },
     "execution_count": 15,
     "metadata": {},
     "output_type": "execute_result"
    }
   ],
   "source": [
    "# check for nulls on song_df dataset \n",
    "song_df.isnull().sum()"
   ]
  },
  {
   "cell_type": "markdown",
   "metadata": {},
   "source": [
    "**Observations**\n",
    "- There are 15 titles missing from the data. \n",
    "- There are 5 releases missing from the data. "
   ]
  },
  {
   "cell_type": "markdown",
   "metadata": {},
   "source": [
    "**Observations** \n",
    "- There are ~3498 songs that have been listened to ~4%-8% count. \n",
    "- There are ~9566 songs that do not have a significant listen count, at ~1% count. \n",
    "- The data contains users who have listened to very few songs and vice versa.\n",
    "- Might be necessary to filter the data so that it contains users who have listened to a sufficient count of songs. "
   ]
  },
  {
   "cell_type": "code",
   "execution_count": 91,
   "metadata": {},
   "outputs": [
    {
     "data": {
      "image/png": "[encoded data removed]",
      "text/plain": [
       "<Figure size 432x288 with 1 Axes>"
      ]
     },
     "metadata": {
      "needs_background": "light"
     },
     "output_type": "display_data"
    }
   ],
   "source": []
  },
  {
   "cell_type": "markdown",
   "metadata": {},
   "source": [
    "**Observations**\n",
    "- The data is right skewed, with a few large play_count values that are driving the mean upward. \n",
    "- The data should be normalized. "
   ]
  },
  {
   "cell_type": "code",
   "execution_count": 98,
   "metadata": {},
   "outputs": [
    {
     "data": {
      "text/html": [
       "<div>\n",
       "<style scoped>\n",
       "    .dataframe tbody tr th:only-of-type {\n",
       "        vertical-align: middle;\n",
       "    }\n",
       "\n",
       "    .dataframe tbody tr th {\n",
       "        vertical-align: top;\n",
       "    }\n",
       "\n",
       "    .dataframe thead th {\n",
       "        text-align: right;\n",
       "    }\n",
       "</style>\n",
       "<table border=\"1\" class=\"dataframe\">\n",
       "  <thead>\n",
       "    <tr style=\"text-align: right;\">\n",
       "      <th></th>\n",
       "      <th>user_id</th>\n",
       "      <th>song_id</th>\n",
       "      <th>play_count</th>\n",
       "      <th>title</th>\n",
       "      <th>release</th>\n",
       "      <th>artist_name</th>\n",
       "      <th>year</th>\n",
       "      <th>(play_count, count)</th>\n",
       "      <th>(play_count, mean)</th>\n",
       "    </tr>\n",
       "  </thead>\n",
       "  <tbody>\n",
       "    <tr>\n",
       "      <th>83</th>\n",
       "      <td>62305</td>\n",
       "      <td>217352</td>\n",
       "      <td>2213</td>\n",
       "      <td>Starshine</td>\n",
       "      <td>Gorillaz</td>\n",
       "      <td>Gorillaz</td>\n",
       "      <td>2000</td>\n",
       "      <td>148</td>\n",
       "      <td>16.891892</td>\n",
       "    </tr>\n",
       "    <tr>\n",
       "      <th>96</th>\n",
       "      <td>28243</td>\n",
       "      <td>439403</td>\n",
       "      <td>879</td>\n",
       "      <td>Call It Off (Album Version)</td>\n",
       "      <td>The Con</td>\n",
       "      <td>Tegan And Sara</td>\n",
       "      <td>2007</td>\n",
       "      <td>360</td>\n",
       "      <td>8.744444</td>\n",
       "    </tr>\n",
       "    <tr>\n",
       "      <th>1</th>\n",
       "      <td>56007</td>\n",
       "      <td>987044</td>\n",
       "      <td>796</td>\n",
       "      <td>Paradise &amp; Dreams</td>\n",
       "      <td>Skydivin'</td>\n",
       "      <td>Darren Styles</td>\n",
       "      <td>0</td>\n",
       "      <td>207</td>\n",
       "      <td>7.710145</td>\n",
       "    </tr>\n",
       "    <tr>\n",
       "      <th>16</th>\n",
       "      <td>57320</td>\n",
       "      <td>67669</td>\n",
       "      <td>683</td>\n",
       "      <td>You're The One</td>\n",
       "      <td>If There Was A Way</td>\n",
       "      <td>Dwight Yoakam</td>\n",
       "      <td>1990</td>\n",
       "      <td>6412</td>\n",
       "      <td>8.442920</td>\n",
       "    </tr>\n",
       "    <tr>\n",
       "      <th>100</th>\n",
       "      <td>33537</td>\n",
       "      <td>633924</td>\n",
       "      <td>676</td>\n",
       "      <td>I'm On A Boat</td>\n",
       "      <td>Incredibad</td>\n",
       "      <td>The Lonely Island / T-Pain</td>\n",
       "      <td>2009</td>\n",
       "      <td>1153</td>\n",
       "      <td>3.508239</td>\n",
       "    </tr>\n",
       "    <tr>\n",
       "      <th>...</th>\n",
       "      <td>...</td>\n",
       "      <td>...</td>\n",
       "      <td>...</td>\n",
       "      <td>...</td>\n",
       "      <td>...</td>\n",
       "      <td>...</td>\n",
       "      <td>...</td>\n",
       "      <td>...</td>\n",
       "      <td>...</td>\n",
       "    </tr>\n",
       "    <tr>\n",
       "      <th>80</th>\n",
       "      <td>67973</td>\n",
       "      <td>851645</td>\n",
       "      <td>162</td>\n",
       "      <td>In League With Satan</td>\n",
       "      <td>Works Of Carnage</td>\n",
       "      <td>Krisiun</td>\n",
       "      <td>2003</td>\n",
       "      <td>120</td>\n",
       "      <td>11.308333</td>\n",
       "    </tr>\n",
       "    <tr>\n",
       "      <th>45</th>\n",
       "      <td>63698</td>\n",
       "      <td>732287</td>\n",
       "      <td>151</td>\n",
       "      <td>All Right Now</td>\n",
       "      <td>Rock</td>\n",
       "      <td>Free</td>\n",
       "      <td>0</td>\n",
       "      <td>247</td>\n",
       "      <td>3.886640</td>\n",
       "    </tr>\n",
       "    <tr>\n",
       "      <th>64</th>\n",
       "      <td>27815</td>\n",
       "      <td>195711</td>\n",
       "      <td>151</td>\n",
       "      <td>Siguiendo La Luna</td>\n",
       "      <td>Chau</td>\n",
       "      <td>Los Fabulosos Cadillacs</td>\n",
       "      <td>1992</td>\n",
       "      <td>338</td>\n",
       "      <td>3.834320</td>\n",
       "    </tr>\n",
       "    <tr>\n",
       "      <th>94</th>\n",
       "      <td>66461</td>\n",
       "      <td>541812</td>\n",
       "      <td>142</td>\n",
       "      <td>Black And White</td>\n",
       "      <td>Best Of The IRS Years</td>\n",
       "      <td>The dB's</td>\n",
       "      <td>1981</td>\n",
       "      <td>192</td>\n",
       "      <td>6.015625</td>\n",
       "    </tr>\n",
       "    <tr>\n",
       "      <th>47</th>\n",
       "      <td>70446</td>\n",
       "      <td>348083</td>\n",
       "      <td>142</td>\n",
       "      <td>Message In A Bottle</td>\n",
       "      <td>The Police</td>\n",
       "      <td>The Police</td>\n",
       "      <td>1979</td>\n",
       "      <td>391</td>\n",
       "      <td>3.580563</td>\n",
       "    </tr>\n",
       "  </tbody>\n",
       "</table>\n",
       "<p>124 rows × 9 columns</p>\n",
       "</div>"
      ],
      "text/plain": [
       "     user_id  song_id  play_count                        title  \\\n",
       "83     62305   217352        2213                    Starshine   \n",
       "96     28243   439403         879  Call It Off (Album Version)   \n",
       "1      56007   987044         796            Paradise & Dreams   \n",
       "16     57320    67669         683               You're The One   \n",
       "100    33537   633924         676                I'm On A Boat   \n",
       "..       ...      ...         ...                          ...   \n",
       "80     67973   851645         162         In League With Satan   \n",
       "45     63698   732287         151                All Right Now   \n",
       "64     27815   195711         151            Siguiendo La Luna   \n",
       "94     66461   541812         142              Black And White   \n",
       "47     70446   348083         142          Message In A Bottle   \n",
       "\n",
       "                   release                 artist_name  year  \\\n",
       "83                Gorillaz                    Gorillaz  2000   \n",
       "96                 The Con              Tegan And Sara  2007   \n",
       "1                Skydivin'               Darren Styles     0   \n",
       "16      If There Was A Way               Dwight Yoakam  1990   \n",
       "100             Incredibad  The Lonely Island / T-Pain  2009   \n",
       "..                     ...                         ...   ...   \n",
       "80        Works Of Carnage                     Krisiun  2003   \n",
       "45                    Rock                        Free     0   \n",
       "64                    Chau     Los Fabulosos Cadillacs  1992   \n",
       "94   Best Of The IRS Years                    The dB's  1981   \n",
       "47              The Police                  The Police  1979   \n",
       "\n",
       "     (play_count, count)  (play_count, mean)  \n",
       "83                   148           16.891892  \n",
       "96                   360            8.744444  \n",
       "1                    207            7.710145  \n",
       "16                  6412            8.442920  \n",
       "100                 1153            3.508239  \n",
       "..                   ...                 ...  \n",
       "80                   120           11.308333  \n",
       "45                   247            3.886640  \n",
       "64                   338            3.834320  \n",
       "94                   192            6.015625  \n",
       "47                   391            3.580563  \n",
       "\n",
       "[124 rows x 9 columns]"
      ]
     },
     "execution_count": 98,
     "metadata": {},
     "output_type": "execute_result"
    }
   ],
   "source": []
  },
  {
   "cell_type": "code",
   "execution_count": null,
   "metadata": {},
   "outputs": [],
   "source": []
  },
  {
   "cell_type": "markdown",
   "metadata": {},
   "source": [
    "**Observations**\n",
    "- It appears that the maximum play_count is ~247.0 counts. \n",
    "- The minimal play_counts is 0. \n",
    "- There is a gap between the play_counts, which is visible in the right skewed histogram plot. \n",
    "- The data should be normalized. "
   ]
  },
  {
   "cell_type": "markdown",
   "metadata": {},
   "source": [
    "##### **Data Reduction**"
   ]
  },
  {
   "cell_type": "code",
   "execution_count": 22,
   "metadata": {
    "id": "7GGH9TW0_9uX"
   },
   "outputs": [
    {
     "name": "stdout",
     "output_type": "stream",
     "text": [
      "[1309, 938, 1350, 966, 1072, 533, 1583, 1126, 1110, 1292, 159, 1508, 645, 1428, 486, 1690, 1333, 147, 1198, 1352, 69, 912, 452, 1759, 1154, 454, 297, 1010, 1377, 118, 1187, 1057, 291, 435, 1033, 1697, 1747, 214, 510, 1819, 1509, 10, 585, 474, 1044, 817, 1439, 1271, 283, 790, 1638, 1097, 847, 1173, 1296, 1188, 902, 1099, 1694, 1814, 812, 74, 442, 178, 1174, 1730, 1546, 539, 993, 411, 1402, 11, 1141, 710, 182, 1281, 1737, 217, 886, 1656, 158, 1290, 852, 448, 1060, 50, 918, 637, 1284, 141, 729, 610, 1064, 350, 318, 1142, 1672, 616, 1666, 1251, 1062, 529, 153, 1015, 870, 580, 1274, 1351, 505, 960, 939, 672, 1630, 1403, 96, 1688, 414, 961, 1515, 958, 1109, 395, 1179, 1331, 875, 1625, 1008, 584, 677, 1622, 982, 169, 1782, 1391, 1661, 97, 239, 1584, 278, 936, 233, 1651, 1338, 837, 623, 44, 1648, 255, 161, 1601, 26, 1312, 1580, 1692, 877, 1749, 328, 598, 523, 496, 117, 1822, 754, 1279, 236, 368, 122, 1075, 992, 185, 1668, 1183, 1121, 1605, 1243, 173, 308, 1061, 548, 349, 1778, 1560, 704, 1021, 900, 1226, 515, 1095, 1412, 480, 1050, 1483, 1100, 1395, 447, 1640, 1457, 679, 1355, 1632]\n"
     ]
    }
   ],
   "source": [
    "# get the column containing the users\n",
    "users = merged_df.user_id\n",
    "# create a dictionary from users to their number of songs\n",
    "ratings_count = dict()\n",
    "\n",
    "# function to filter the data for users who have listened to a good count of songs\n",
    "def sufficient_count_of_songs(): \n",
    "    for user in users:\n",
    "    # if there already exists a user, just add 1 to the rating count\n",
    "        if user in ratings_count:\n",
    "            ratings_count[user] += 1\n",
    "    # otherwise, set the rating count to 1\n",
    "        else:\n",
    "            ratings_count[user] = 1 \n",
    "    some_ratings_count = list(ratings_count)[:200]\n",
    "    print(some_ratings_count)\n",
    "sufficient_count_of_songs()"
   ]
  },
  {
   "cell_type": "code",
   "execution_count": 45,
   "metadata": {
    "id": "-cc6mOK7_9uX"
   },
   "outputs": [],
   "source": []
  },
  {
   "cell_type": "code",
   "execution_count": 46,
   "metadata": {
    "id": "B5BS-Wk5_9uY"
   },
   "outputs": [],
   "source": []
  },
  {
   "cell_type": "code",
   "execution_count": 47,
   "metadata": {
    "id": "_nCtGwGO_9uY"
   },
   "outputs": [
    {
     "data": {
      "text/html": [
       "<div>\n",
       "<style scoped>\n",
       "    .dataframe tbody tr th:only-of-type {\n",
       "        vertical-align: middle;\n",
       "    }\n",
       "\n",
       "    .dataframe tbody tr th {\n",
       "        vertical-align: top;\n",
       "    }\n",
       "\n",
       "    .dataframe thead th {\n",
       "        text-align: right;\n",
       "    }\n",
       "</style>\n",
       "<table border=\"1\" class=\"dataframe\">\n",
       "  <thead>\n",
       "    <tr style=\"text-align: right;\">\n",
       "      <th></th>\n",
       "      <th>user_id</th>\n",
       "      <th>song_id</th>\n",
       "      <th>play_count</th>\n",
       "      <th>title</th>\n",
       "      <th>release</th>\n",
       "      <th>artist_name</th>\n",
       "      <th>year</th>\n",
       "    </tr>\n",
       "  </thead>\n",
       "  <tbody>\n",
       "  </tbody>\n",
       "</table>\n",
       "</div>"
      ],
      "text/plain": [
       "Empty DataFrame\n",
       "Columns: [user_id, song_id, play_count, title, release, artist_name, year]\n",
       "Index: []"
      ]
     },
     "execution_count": 47,
     "metadata": {},
     "output_type": "execute_result"
    }
   ],
   "source": []
  },
  {
   "cell_type": "code",
   "execution_count": 42,
   "metadata": {
    "id": "8qaKeoMcGpad"
   },
   "outputs": [],
   "source": []
  },
  {
   "cell_type": "code",
   "execution_count": 27,
   "metadata": {},
   "outputs": [
    {
     "data": {
      "text/html": [
       "<div>\n",
       "<style scoped>\n",
       "    .dataframe tbody tr th:only-of-type {\n",
       "        vertical-align: middle;\n",
       "    }\n",
       "\n",
       "    .dataframe tbody tr th {\n",
       "        vertical-align: top;\n",
       "    }\n",
       "\n",
       "    .dataframe thead th {\n",
       "        text-align: right;\n",
       "    }\n",
       "</style>\n",
       "<table border=\"1\" class=\"dataframe\">\n",
       "  <thead>\n",
       "    <tr style=\"text-align: right;\">\n",
       "      <th></th>\n",
       "      <th>title</th>\n",
       "      <th>play_count</th>\n",
       "      <th>percentage</th>\n",
       "    </tr>\n",
       "  </thead>\n",
       "  <tbody>\n",
       "    <tr>\n",
       "      <th>1085</th>\n",
       "      <td>Breathe</td>\n",
       "      <td>8</td>\n",
       "      <td>0.08</td>\n",
       "    </tr>\n",
       "    <tr>\n",
       "      <th>739</th>\n",
       "      <td>Beautiful</td>\n",
       "      <td>6</td>\n",
       "      <td>0.06</td>\n",
       "    </tr>\n",
       "    <tr>\n",
       "      <th>3381</th>\n",
       "      <td>Hold On</td>\n",
       "      <td>5</td>\n",
       "      <td>0.05</td>\n",
       "    </tr>\n",
       "    <tr>\n",
       "      <th>3498</th>\n",
       "      <td>Human</td>\n",
       "      <td>5</td>\n",
       "      <td>0.05</td>\n",
       "    </tr>\n",
       "    <tr>\n",
       "      <th>437</th>\n",
       "      <td>Angel</td>\n",
       "      <td>4</td>\n",
       "      <td>0.04</td>\n",
       "    </tr>\n",
       "    <tr>\n",
       "      <th>...</th>\n",
       "      <td>...</td>\n",
       "      <td>...</td>\n",
       "      <td>...</td>\n",
       "    </tr>\n",
       "    <tr>\n",
       "      <th>9562</th>\n",
       "      <td>the Love Song</td>\n",
       "      <td>1</td>\n",
       "      <td>0.01</td>\n",
       "    </tr>\n",
       "    <tr>\n",
       "      <th>9563</th>\n",
       "      <td>you were there with me</td>\n",
       "      <td>1</td>\n",
       "      <td>0.01</td>\n",
       "    </tr>\n",
       "    <tr>\n",
       "      <th>9564</th>\n",
       "      <td>¡Viva La Gloria! (Album Version)</td>\n",
       "      <td>1</td>\n",
       "      <td>0.01</td>\n",
       "    </tr>\n",
       "    <tr>\n",
       "      <th>9565</th>\n",
       "      <td>¿Lo Ves? [Piano Y Voz]</td>\n",
       "      <td>1</td>\n",
       "      <td>0.01</td>\n",
       "    </tr>\n",
       "    <tr>\n",
       "      <th>9566</th>\n",
       "      <td>Época</td>\n",
       "      <td>1</td>\n",
       "      <td>0.01</td>\n",
       "    </tr>\n",
       "  </tbody>\n",
       "</table>\n",
       "<p>9567 rows × 3 columns</p>\n",
       "</div>"
      ],
      "text/plain": [
       "                                 title  play_count  percentage\n",
       "1085                           Breathe           8        0.08\n",
       "739                          Beautiful           6        0.06\n",
       "3381                           Hold On           5        0.05\n",
       "3498                             Human           5        0.05\n",
       "437                              Angel           4        0.04\n",
       "...                                ...         ...         ...\n",
       "9562                     the Love Song           1        0.01\n",
       "9563            you were there with me           1        0.01\n",
       "9564  ¡Viva La Gloria! (Album Version)           1        0.01\n",
       "9565            ¿Lo Ves? [Piano Y Voz]           1        0.01\n",
       "9566                             Época           1        0.01\n",
       "\n",
       "[9567 rows x 3 columns]"
      ]
     },
     "metadata": {},
     "output_type": "display_data"
    }
   ],
   "source": [
    "from IPython.display import display\n",
    "# function that groups songs by title and play_count with percentage of song counts listened\n",
    "def group_songs_by_play_count():\n",
    "    grouped_songs_df = merged_df.groupby(['title']).agg({'play_count': 'count'}).reset_index()\n",
    "    grouped_songs_sum = grouped_songs_df['play_count'].sum()\n",
    "    grouped_songs_df['percentage'] = grouped_songs_df['play_count'].div(grouped_songs_sum)*100\n",
    "    final_grouped_songs_df = grouped_songs_df.sort_values(['play_count', 'title'], ascending = [0,1])\n",
    "    display(final_grouped_songs_df)\n",
    "group_songs_by_play_count()"
   ]
  },
  {
   "cell_type": "code",
   "execution_count": 28,
   "metadata": {
    "id": "aL1JZ00o5JtQ"
   },
   "outputs": [],
   "source": [
    "# Check the shape of the data\n"
   ]
  },
  {
   "cell_type": "markdown",
   "metadata": {
    "id": "uZcr1Eke2T9W"
   },
   "source": [
    "## **Exploratory Data Analysis**"
   ]
  },
  {
   "cell_type": "markdown",
   "metadata": {
    "id": "ByuHmvWDeBJI"
   },
   "source": [
    "### **Let's check the total number of unique users, songs, artists in the data**"
   ]
  },
  {
   "cell_type": "markdown",
   "metadata": {
    "id": "DE_gukSJ2T9W"
   },
   "source": [
    "# Total number of unique user id"
   ]
  },
  {
   "cell_type": "code",
   "execution_count": 29,
   "metadata": {
    "id": "n5E24_Ec2T9W"
   },
   "outputs": [],
   "source": [
    "# display total number of unique user_id\n"
   ]
  },
  {
   "cell_type": "markdown",
   "metadata": {
    "id": "wV3BOTdJII-t"
   },
   "source": [
    "Total number of unique song id"
   ]
  },
  {
   "cell_type": "code",
   "execution_count": 30,
   "metadata": {
    "id": "5SlpPkIE2T9W"
   },
   "outputs": [],
   "source": [
    "# display total number of unique song_id\n"
   ]
  },
  {
   "cell_type": "markdown",
   "metadata": {
    "id": "eGXPsCjXVpUW"
   },
   "source": [
    "Total number of unique artists"
   ]
  },
  {
   "cell_type": "code",
   "execution_count": 31,
   "metadata": {
    "id": "qSVUwb8h2T9X"
   },
   "outputs": [],
   "source": [
    "# display total number of unique artists\n"
   ]
  },
  {
   "cell_type": "markdown",
   "metadata": {
    "id": "bvk-YAo-eGGW"
   },
   "source": [
    "#### **Observations and Insights:__________**\n"
   ]
  },
  {
   "cell_type": "markdown",
   "metadata": {
    "id": "rLdIfv22ISBK"
   },
   "source": [
    "### **Let's find out about the most interacted songs and interacted users**"
   ]
  },
  {
   "cell_type": "markdown",
   "metadata": {
    "id": "W3DyN_8atsCx"
   },
   "source": [
    "Most interacted songs"
   ]
  },
  {
   "cell_type": "code",
   "execution_count": null,
   "metadata": {
    "id": "qWDrvIFF2T9X"
   },
   "outputs": [],
   "source": []
  },
  {
   "cell_type": "markdown",
   "metadata": {
    "id": "nnoXCc9zIV45"
   },
   "source": [
    "Most interacted users"
   ]
  },
  {
   "cell_type": "code",
   "execution_count": null,
   "metadata": {
    "id": "971EiBdf2T9X"
   },
   "outputs": [],
   "source": []
  },
  {
   "cell_type": "markdown",
   "metadata": {
    "id": "tPZRc1e-eyyO"
   },
   "source": [
    "#### **Observations and Insights:_______**\n"
   ]
  },
  {
   "cell_type": "markdown",
   "metadata": {
    "id": "joFF5zndX1Dk"
   },
   "source": [
    "Songs played in a year"
   ]
  },
  {
   "cell_type": "code",
   "execution_count": 32,
   "metadata": {
    "colab": {
     "base_uri": "https://localhost:8080/",
     "height": 238
    },
    "id": "bQp2iVMC2T9Y",
    "outputId": "673b31f5-b67d-4ba2-f253-ebec3a1162ff"
   },
   "outputs": [
    {
     "ename": "IndexError",
     "evalue": "index 0 is out of bounds for axis 0 with size 0",
     "output_type": "error",
     "traceback": [
      "\u001b[0;31m---------------------------------------------------------------------------\u001b[0m",
      "\u001b[0;31mIndexError\u001b[0m                                Traceback (most recent call last)",
      "\u001b[0;32m/var/folders/zb/6jslj21n4rl_r356rd2y6nn00000gn/T/ipykernel_12148/355206910.py\u001b[0m in \u001b[0;36m<module>\u001b[0;34m\u001b[0m\n\u001b[1;32m      1\u001b[0m \u001b[0mcount_songs\u001b[0m \u001b[0;34m=\u001b[0m \u001b[0mdf_final\u001b[0m\u001b[0;34m.\u001b[0m\u001b[0mgroupby\u001b[0m\u001b[0;34m(\u001b[0m\u001b[0;34m'year'\u001b[0m\u001b[0;34m)\u001b[0m\u001b[0;34m.\u001b[0m\u001b[0mcount\u001b[0m\u001b[0;34m(\u001b[0m\u001b[0;34m)\u001b[0m\u001b[0;34m[\u001b[0m\u001b[0;34m'title'\u001b[0m\u001b[0;34m]\u001b[0m\u001b[0;34m\u001b[0m\u001b[0;34m\u001b[0m\u001b[0m\n\u001b[1;32m      2\u001b[0m \u001b[0mcount\u001b[0m \u001b[0;34m=\u001b[0m \u001b[0mpd\u001b[0m\u001b[0;34m.\u001b[0m\u001b[0mDataFrame\u001b[0m\u001b[0;34m(\u001b[0m\u001b[0mcount_songs\u001b[0m\u001b[0;34m)\u001b[0m\u001b[0;34m\u001b[0m\u001b[0;34m\u001b[0m\u001b[0m\n\u001b[0;32m----> 3\u001b[0;31m \u001b[0mcount\u001b[0m\u001b[0;34m.\u001b[0m\u001b[0mdrop\u001b[0m\u001b[0;34m(\u001b[0m\u001b[0mcount\u001b[0m\u001b[0;34m.\u001b[0m\u001b[0mindex\u001b[0m\u001b[0;34m[\u001b[0m\u001b[0;36m0\u001b[0m\u001b[0;34m]\u001b[0m\u001b[0;34m,\u001b[0m \u001b[0minplace\u001b[0m\u001b[0;34m=\u001b[0m\u001b[0;32mTrue\u001b[0m\u001b[0;34m)\u001b[0m\u001b[0;34m\u001b[0m\u001b[0;34m\u001b[0m\u001b[0m\n\u001b[0m\u001b[1;32m      4\u001b[0m \u001b[0mcount\u001b[0m\u001b[0;34m.\u001b[0m\u001b[0mtail\u001b[0m\u001b[0;34m(\u001b[0m\u001b[0;34m)\u001b[0m\u001b[0;34m\u001b[0m\u001b[0;34m\u001b[0m\u001b[0m\n",
      "\u001b[0;32m~/.local/share/virtualenvs/mit_virtual_env-L7whBFbC/lib/python3.9/site-packages/pandas/core/indexes/base.py\u001b[0m in \u001b[0;36m__getitem__\u001b[0;34m(self, key)\u001b[0m\n\u001b[1;32m   4602\u001b[0m         \u001b[0;32mif\u001b[0m \u001b[0mis_scalar\u001b[0m\u001b[0;34m(\u001b[0m\u001b[0mkey\u001b[0m\u001b[0;34m)\u001b[0m\u001b[0;34m:\u001b[0m\u001b[0;34m\u001b[0m\u001b[0;34m\u001b[0m\u001b[0m\n\u001b[1;32m   4603\u001b[0m             \u001b[0mkey\u001b[0m \u001b[0;34m=\u001b[0m \u001b[0mcom\u001b[0m\u001b[0;34m.\u001b[0m\u001b[0mcast_scalar_indexer\u001b[0m\u001b[0;34m(\u001b[0m\u001b[0mkey\u001b[0m\u001b[0;34m,\u001b[0m \u001b[0mwarn_float\u001b[0m\u001b[0;34m=\u001b[0m\u001b[0;32mTrue\u001b[0m\u001b[0;34m)\u001b[0m\u001b[0;34m\u001b[0m\u001b[0;34m\u001b[0m\u001b[0m\n\u001b[0;32m-> 4604\u001b[0;31m             \u001b[0;32mreturn\u001b[0m \u001b[0mgetitem\u001b[0m\u001b[0;34m(\u001b[0m\u001b[0mkey\u001b[0m\u001b[0;34m)\u001b[0m\u001b[0;34m\u001b[0m\u001b[0;34m\u001b[0m\u001b[0m\n\u001b[0m\u001b[1;32m   4605\u001b[0m \u001b[0;34m\u001b[0m\u001b[0m\n\u001b[1;32m   4606\u001b[0m         \u001b[0;32mif\u001b[0m \u001b[0misinstance\u001b[0m\u001b[0;34m(\u001b[0m\u001b[0mkey\u001b[0m\u001b[0;34m,\u001b[0m \u001b[0mslice\u001b[0m\u001b[0;34m)\u001b[0m\u001b[0;34m:\u001b[0m\u001b[0;34m\u001b[0m\u001b[0;34m\u001b[0m\u001b[0m\n",
      "\u001b[0;31mIndexError\u001b[0m: index 0 is out of bounds for axis 0 with size 0"
     ]
    }
   ],
   "source": [
    "count_songs = df_final.groupby('year').count()['title']\n",
    "count = pd.DataFrame(count_songs)\n",
    "count.drop(count.index[0], inplace=True)\n",
    "count.tail()"
   ]
  },
  {
   "cell_type": "code",
   "execution_count": null,
   "metadata": {
    "colab": {
     "base_uri": "https://localhost:8080/",
     "height": 438
    },
    "id": "bZCkOiAB2T9Y",
    "outputId": "38f3e43c-1def-44e9-b174-e56fee56c48b"
   },
   "outputs": [],
   "source": [
    "plt.figure(figsize=(30,10))\n",
    "sns.barplot(x = count.index,\n",
    "            y = 'title',\n",
    "            data = count,\n",
    "            estimator = np.median)\n",
    "plt.ylabel('number of titles played') \n",
    "# Show the plot\n",
    "plt.show()"
   ]
  },
  {
   "cell_type": "markdown",
   "metadata": {
    "id": "VUcXc7ZYfaGl"
   },
   "source": [
    "**Observations**\n",
    "- There are 1000000 entries. \n",
    "- The data contains 5 columns. \n",
    "- The data types are int64(1), object(4). \n",
    "- The dataset song_df uses less memory ~38.1 MB."
   ]
  },
  {
   "cell_type": "markdown",
   "metadata": {
    "id": "RtAjyDMioHCp"
   },
   "source": [
    "**Think About It:** What other insights can be drawn using exploratory data analysis?"
   ]
  },
  {
   "cell_type": "markdown",
   "metadata": {
    "id": "uPq5Th7j5h9H"
   },
   "source": [
    "## **Proposed approach**\n",
    "**Potential techniques** - What different techniques should be explored?<br>\n",
    "**Overall solution design** - What is the potential solution design?<br>\n",
    "**Measures of success**- What are the key measures of success to compare different potential technqiues?<br>"
   ]
  }
 ],
 "metadata": {
  "colab": {
   "collapsed_sections": [],
   "name": "Reference_Notebook_Milestone_1_Recommendation_Systems.ipynb",
   "provenance": []
  },
  "kernelspec": {
   "display_name": "Python 3 (ipykernel)",
   "language": "python",
   "name": "python3"
  },
  "language_info": {
   "codemirror_mode": {
    "name": "ipython",
    "version": 3
   },
   "file_extension": ".py",
   "mimetype": "text/x-python",
   "name": "python",
   "nbconvert_exporter": "python",
   "pygments_lexer": "ipython3",
   "version": "3.9.9"
  }
 },
 "nbformat": 4,
 "nbformat_minor": 1
}
